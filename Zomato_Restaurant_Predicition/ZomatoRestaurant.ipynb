{
 "cells": [
  {
   "cell_type": "markdown",
   "metadata": {},
   "source": [
    "## 1. Importing all the libraries "
   ]
  },
  {
   "cell_type": "code",
   "execution_count": 110,
   "metadata": {},
   "outputs": [],
   "source": [
    "import pandas as pd\n",
    "import numpy as np\n",
    "import matplotlib.pyplot as plt\n",
    "import plotly.offline as py\n",
    "import seaborn as sns\n",
    "%matplotlib inline\n",
    "import pandas_profiling as pf"
   ]
  },
  {
   "cell_type": "code",
   "execution_count": 112,
   "metadata": {},
   "outputs": [],
   "source": [
    "from sklearn.model_selection import train_test_split\n",
    "from sklearn.linear_model import LinearRegression,Lasso\n",
    "from sklearn.linear_model import Ridge\n",
    "from sklearn.ensemble import RandomForestRegressor\n",
    "from sklearn.linear_model import LogisticRegression"
   ]
  },
  {
   "cell_type": "markdown",
   "metadata": {},
   "source": [
    "## 2. Loading the data\n",
    "data is already persent in our local system (download from uci dataset)"
   ]
  },
  {
   "cell_type": "code",
   "execution_count": 3,
   "metadata": {},
   "outputs": [],
   "source": [
    "df = pd.read_csv(\"zomato.csv\")"
   ]
  },
  {
   "cell_type": "code",
   "execution_count": 4,
   "metadata": {},
   "outputs": [
    {
     "data": {
      "text/html": [
       "<div>\n",
       "<style scoped>\n",
       "    .dataframe tbody tr th:only-of-type {\n",
       "        vertical-align: middle;\n",
       "    }\n",
       "\n",
       "    .dataframe tbody tr th {\n",
       "        vertical-align: top;\n",
       "    }\n",
       "\n",
       "    .dataframe thead th {\n",
       "        text-align: right;\n",
       "    }\n",
       "</style>\n",
       "<table border=\"1\" class=\"dataframe\">\n",
       "  <thead>\n",
       "    <tr style=\"text-align: right;\">\n",
       "      <th></th>\n",
       "      <th>url</th>\n",
       "      <th>address</th>\n",
       "      <th>name</th>\n",
       "      <th>online_order</th>\n",
       "      <th>book_table</th>\n",
       "      <th>rate</th>\n",
       "      <th>votes</th>\n",
       "      <th>phone</th>\n",
       "      <th>location</th>\n",
       "      <th>rest_type</th>\n",
       "      <th>dish_liked</th>\n",
       "      <th>cuisines</th>\n",
       "      <th>approx_cost(for two people)</th>\n",
       "      <th>reviews_list</th>\n",
       "      <th>menu_item</th>\n",
       "      <th>listed_in(type)</th>\n",
       "      <th>listed_in(city)</th>\n",
       "    </tr>\n",
       "  </thead>\n",
       "  <tbody>\n",
       "    <tr>\n",
       "      <th>0</th>\n",
       "      <td>https://www.zomato.com/bangalore/jalsa-banasha...</td>\n",
       "      <td>942, 21st Main Road, 2nd Stage, Banashankari, ...</td>\n",
       "      <td>Jalsa</td>\n",
       "      <td>Yes</td>\n",
       "      <td>Yes</td>\n",
       "      <td>4.1/5</td>\n",
       "      <td>775</td>\n",
       "      <td>080 42297555\\r\\n+91 9743772233</td>\n",
       "      <td>Banashankari</td>\n",
       "      <td>Casual Dining</td>\n",
       "      <td>Pasta, Lunch Buffet, Masala Papad, Paneer Laja...</td>\n",
       "      <td>North Indian, Mughlai, Chinese</td>\n",
       "      <td>800</td>\n",
       "      <td>[('Rated 4.0', 'RATED\\n  A beautiful place to ...</td>\n",
       "      <td>[]</td>\n",
       "      <td>Buffet</td>\n",
       "      <td>Banashankari</td>\n",
       "    </tr>\n",
       "    <tr>\n",
       "      <th>1</th>\n",
       "      <td>https://www.zomato.com/bangalore/spice-elephan...</td>\n",
       "      <td>2nd Floor, 80 Feet Road, Near Big Bazaar, 6th ...</td>\n",
       "      <td>Spice Elephant</td>\n",
       "      <td>Yes</td>\n",
       "      <td>No</td>\n",
       "      <td>4.1/5</td>\n",
       "      <td>787</td>\n",
       "      <td>080 41714161</td>\n",
       "      <td>Banashankari</td>\n",
       "      <td>Casual Dining</td>\n",
       "      <td>Momos, Lunch Buffet, Chocolate Nirvana, Thai G...</td>\n",
       "      <td>Chinese, North Indian, Thai</td>\n",
       "      <td>800</td>\n",
       "      <td>[('Rated 4.0', 'RATED\\n  Had been here for din...</td>\n",
       "      <td>[]</td>\n",
       "      <td>Buffet</td>\n",
       "      <td>Banashankari</td>\n",
       "    </tr>\n",
       "    <tr>\n",
       "      <th>2</th>\n",
       "      <td>https://www.zomato.com/SanchurroBangalore?cont...</td>\n",
       "      <td>1112, Next to KIMS Medical College, 17th Cross...</td>\n",
       "      <td>San Churro Cafe</td>\n",
       "      <td>Yes</td>\n",
       "      <td>No</td>\n",
       "      <td>3.8/5</td>\n",
       "      <td>918</td>\n",
       "      <td>+91 9663487993</td>\n",
       "      <td>Banashankari</td>\n",
       "      <td>Cafe, Casual Dining</td>\n",
       "      <td>Churros, Cannelloni, Minestrone Soup, Hot Choc...</td>\n",
       "      <td>Cafe, Mexican, Italian</td>\n",
       "      <td>800</td>\n",
       "      <td>[('Rated 3.0', \"RATED\\n  Ambience is not that ...</td>\n",
       "      <td>[]</td>\n",
       "      <td>Buffet</td>\n",
       "      <td>Banashankari</td>\n",
       "    </tr>\n",
       "    <tr>\n",
       "      <th>3</th>\n",
       "      <td>https://www.zomato.com/bangalore/addhuri-udupi...</td>\n",
       "      <td>1st Floor, Annakuteera, 3rd Stage, Banashankar...</td>\n",
       "      <td>Addhuri Udupi Bhojana</td>\n",
       "      <td>No</td>\n",
       "      <td>No</td>\n",
       "      <td>3.7/5</td>\n",
       "      <td>88</td>\n",
       "      <td>+91 9620009302</td>\n",
       "      <td>Banashankari</td>\n",
       "      <td>Quick Bites</td>\n",
       "      <td>Masala Dosa</td>\n",
       "      <td>South Indian, North Indian</td>\n",
       "      <td>300</td>\n",
       "      <td>[('Rated 4.0', \"RATED\\n  Great food and proper...</td>\n",
       "      <td>[]</td>\n",
       "      <td>Buffet</td>\n",
       "      <td>Banashankari</td>\n",
       "    </tr>\n",
       "    <tr>\n",
       "      <th>4</th>\n",
       "      <td>https://www.zomato.com/bangalore/grand-village...</td>\n",
       "      <td>10, 3rd Floor, Lakshmi Associates, Gandhi Baza...</td>\n",
       "      <td>Grand Village</td>\n",
       "      <td>No</td>\n",
       "      <td>No</td>\n",
       "      <td>3.8/5</td>\n",
       "      <td>166</td>\n",
       "      <td>+91 8026612447\\r\\n+91 9901210005</td>\n",
       "      <td>Basavanagudi</td>\n",
       "      <td>Casual Dining</td>\n",
       "      <td>Panipuri, Gol Gappe</td>\n",
       "      <td>North Indian, Rajasthani</td>\n",
       "      <td>600</td>\n",
       "      <td>[('Rated 4.0', 'RATED\\n  Very good restaurant ...</td>\n",
       "      <td>[]</td>\n",
       "      <td>Buffet</td>\n",
       "      <td>Banashankari</td>\n",
       "    </tr>\n",
       "    <tr>\n",
       "      <th>...</th>\n",
       "      <td>...</td>\n",
       "      <td>...</td>\n",
       "      <td>...</td>\n",
       "      <td>...</td>\n",
       "      <td>...</td>\n",
       "      <td>...</td>\n",
       "      <td>...</td>\n",
       "      <td>...</td>\n",
       "      <td>...</td>\n",
       "      <td>...</td>\n",
       "      <td>...</td>\n",
       "      <td>...</td>\n",
       "      <td>...</td>\n",
       "      <td>...</td>\n",
       "      <td>...</td>\n",
       "      <td>...</td>\n",
       "      <td>...</td>\n",
       "    </tr>\n",
       "    <tr>\n",
       "      <th>51712</th>\n",
       "      <td>https://www.zomato.com/bangalore/best-brews-fo...</td>\n",
       "      <td>Four Points by Sheraton Bengaluru, 43/3, White...</td>\n",
       "      <td>Best Brews - Four Points by Sheraton Bengaluru...</td>\n",
       "      <td>No</td>\n",
       "      <td>No</td>\n",
       "      <td>3.6 /5</td>\n",
       "      <td>27</td>\n",
       "      <td>080 40301477</td>\n",
       "      <td>Whitefield</td>\n",
       "      <td>Bar</td>\n",
       "      <td>NaN</td>\n",
       "      <td>Continental</td>\n",
       "      <td>1,500</td>\n",
       "      <td>[('Rated 5.0', \"RATED\\n  Food and service are ...</td>\n",
       "      <td>[]</td>\n",
       "      <td>Pubs and bars</td>\n",
       "      <td>Whitefield</td>\n",
       "    </tr>\n",
       "    <tr>\n",
       "      <th>51713</th>\n",
       "      <td>https://www.zomato.com/bangalore/vinod-bar-and...</td>\n",
       "      <td>Number 10, Garudachar Palya, Mahadevapura, Whi...</td>\n",
       "      <td>Vinod Bar And Restaurant</td>\n",
       "      <td>No</td>\n",
       "      <td>No</td>\n",
       "      <td>NaN</td>\n",
       "      <td>0</td>\n",
       "      <td>+91 8197675843</td>\n",
       "      <td>Whitefield</td>\n",
       "      <td>Bar</td>\n",
       "      <td>NaN</td>\n",
       "      <td>Finger Food</td>\n",
       "      <td>600</td>\n",
       "      <td>[]</td>\n",
       "      <td>[]</td>\n",
       "      <td>Pubs and bars</td>\n",
       "      <td>Whitefield</td>\n",
       "    </tr>\n",
       "    <tr>\n",
       "      <th>51714</th>\n",
       "      <td>https://www.zomato.com/bangalore/plunge-sherat...</td>\n",
       "      <td>Sheraton Grand Bengaluru Whitefield Hotel &amp; Co...</td>\n",
       "      <td>Plunge - Sheraton Grand Bengaluru Whitefield H...</td>\n",
       "      <td>No</td>\n",
       "      <td>No</td>\n",
       "      <td>NaN</td>\n",
       "      <td>0</td>\n",
       "      <td>NaN</td>\n",
       "      <td>Whitefield</td>\n",
       "      <td>Bar</td>\n",
       "      <td>NaN</td>\n",
       "      <td>Finger Food</td>\n",
       "      <td>2,000</td>\n",
       "      <td>[]</td>\n",
       "      <td>[]</td>\n",
       "      <td>Pubs and bars</td>\n",
       "      <td>Whitefield</td>\n",
       "    </tr>\n",
       "    <tr>\n",
       "      <th>51715</th>\n",
       "      <td>https://www.zomato.com/bangalore/chime-sherato...</td>\n",
       "      <td>Sheraton Grand Bengaluru Whitefield Hotel &amp; Co...</td>\n",
       "      <td>Chime - Sheraton Grand Bengaluru Whitefield Ho...</td>\n",
       "      <td>No</td>\n",
       "      <td>Yes</td>\n",
       "      <td>4.3 /5</td>\n",
       "      <td>236</td>\n",
       "      <td>080 49652769</td>\n",
       "      <td>ITPL Main Road, Whitefield</td>\n",
       "      <td>Bar</td>\n",
       "      <td>Cocktails, Pizza, Buttermilk</td>\n",
       "      <td>Finger Food</td>\n",
       "      <td>2,500</td>\n",
       "      <td>[('Rated 4.0', 'RATED\\n  Nice and friendly pla...</td>\n",
       "      <td>[]</td>\n",
       "      <td>Pubs and bars</td>\n",
       "      <td>Whitefield</td>\n",
       "    </tr>\n",
       "    <tr>\n",
       "      <th>51716</th>\n",
       "      <td>https://www.zomato.com/bangalore/the-nest-the-...</td>\n",
       "      <td>ITPL Main Road, KIADB Export Promotion Industr...</td>\n",
       "      <td>The Nest - The Den Bengaluru</td>\n",
       "      <td>No</td>\n",
       "      <td>No</td>\n",
       "      <td>3.4 /5</td>\n",
       "      <td>13</td>\n",
       "      <td>+91 8071117272</td>\n",
       "      <td>ITPL Main Road, Whitefield</td>\n",
       "      <td>Bar, Casual Dining</td>\n",
       "      <td>NaN</td>\n",
       "      <td>Finger Food, North Indian, Continental</td>\n",
       "      <td>1,500</td>\n",
       "      <td>[('Rated 5.0', 'RATED\\n  Great ambience , look...</td>\n",
       "      <td>[]</td>\n",
       "      <td>Pubs and bars</td>\n",
       "      <td>Whitefield</td>\n",
       "    </tr>\n",
       "  </tbody>\n",
       "</table>\n",
       "<p>51717 rows × 17 columns</p>\n",
       "</div>"
      ],
      "text/plain": [
       "                                                     url  \\\n",
       "0      https://www.zomato.com/bangalore/jalsa-banasha...   \n",
       "1      https://www.zomato.com/bangalore/spice-elephan...   \n",
       "2      https://www.zomato.com/SanchurroBangalore?cont...   \n",
       "3      https://www.zomato.com/bangalore/addhuri-udupi...   \n",
       "4      https://www.zomato.com/bangalore/grand-village...   \n",
       "...                                                  ...   \n",
       "51712  https://www.zomato.com/bangalore/best-brews-fo...   \n",
       "51713  https://www.zomato.com/bangalore/vinod-bar-and...   \n",
       "51714  https://www.zomato.com/bangalore/plunge-sherat...   \n",
       "51715  https://www.zomato.com/bangalore/chime-sherato...   \n",
       "51716  https://www.zomato.com/bangalore/the-nest-the-...   \n",
       "\n",
       "                                                 address  \\\n",
       "0      942, 21st Main Road, 2nd Stage, Banashankari, ...   \n",
       "1      2nd Floor, 80 Feet Road, Near Big Bazaar, 6th ...   \n",
       "2      1112, Next to KIMS Medical College, 17th Cross...   \n",
       "3      1st Floor, Annakuteera, 3rd Stage, Banashankar...   \n",
       "4      10, 3rd Floor, Lakshmi Associates, Gandhi Baza...   \n",
       "...                                                  ...   \n",
       "51712  Four Points by Sheraton Bengaluru, 43/3, White...   \n",
       "51713  Number 10, Garudachar Palya, Mahadevapura, Whi...   \n",
       "51714  Sheraton Grand Bengaluru Whitefield Hotel & Co...   \n",
       "51715  Sheraton Grand Bengaluru Whitefield Hotel & Co...   \n",
       "51716  ITPL Main Road, KIADB Export Promotion Industr...   \n",
       "\n",
       "                                                    name online_order  \\\n",
       "0                                                  Jalsa          Yes   \n",
       "1                                         Spice Elephant          Yes   \n",
       "2                                        San Churro Cafe          Yes   \n",
       "3                                  Addhuri Udupi Bhojana           No   \n",
       "4                                          Grand Village           No   \n",
       "...                                                  ...          ...   \n",
       "51712  Best Brews - Four Points by Sheraton Bengaluru...           No   \n",
       "51713                           Vinod Bar And Restaurant           No   \n",
       "51714  Plunge - Sheraton Grand Bengaluru Whitefield H...           No   \n",
       "51715  Chime - Sheraton Grand Bengaluru Whitefield Ho...           No   \n",
       "51716                       The Nest - The Den Bengaluru           No   \n",
       "\n",
       "      book_table    rate  votes                             phone  \\\n",
       "0            Yes   4.1/5    775    080 42297555\\r\\n+91 9743772233   \n",
       "1             No   4.1/5    787                      080 41714161   \n",
       "2             No   3.8/5    918                    +91 9663487993   \n",
       "3             No   3.7/5     88                    +91 9620009302   \n",
       "4             No   3.8/5    166  +91 8026612447\\r\\n+91 9901210005   \n",
       "...          ...     ...    ...                               ...   \n",
       "51712         No  3.6 /5     27                      080 40301477   \n",
       "51713         No     NaN      0                    +91 8197675843   \n",
       "51714         No     NaN      0                               NaN   \n",
       "51715        Yes  4.3 /5    236                      080 49652769   \n",
       "51716         No  3.4 /5     13                    +91 8071117272   \n",
       "\n",
       "                         location            rest_type  \\\n",
       "0                    Banashankari        Casual Dining   \n",
       "1                    Banashankari        Casual Dining   \n",
       "2                    Banashankari  Cafe, Casual Dining   \n",
       "3                    Banashankari          Quick Bites   \n",
       "4                    Basavanagudi        Casual Dining   \n",
       "...                           ...                  ...   \n",
       "51712                  Whitefield                  Bar   \n",
       "51713                  Whitefield                  Bar   \n",
       "51714                  Whitefield                  Bar   \n",
       "51715  ITPL Main Road, Whitefield                  Bar   \n",
       "51716  ITPL Main Road, Whitefield   Bar, Casual Dining   \n",
       "\n",
       "                                              dish_liked  \\\n",
       "0      Pasta, Lunch Buffet, Masala Papad, Paneer Laja...   \n",
       "1      Momos, Lunch Buffet, Chocolate Nirvana, Thai G...   \n",
       "2      Churros, Cannelloni, Minestrone Soup, Hot Choc...   \n",
       "3                                            Masala Dosa   \n",
       "4                                    Panipuri, Gol Gappe   \n",
       "...                                                  ...   \n",
       "51712                                                NaN   \n",
       "51713                                                NaN   \n",
       "51714                                                NaN   \n",
       "51715                       Cocktails, Pizza, Buttermilk   \n",
       "51716                                                NaN   \n",
       "\n",
       "                                     cuisines approx_cost(for two people)  \\\n",
       "0              North Indian, Mughlai, Chinese                         800   \n",
       "1                 Chinese, North Indian, Thai                         800   \n",
       "2                      Cafe, Mexican, Italian                         800   \n",
       "3                  South Indian, North Indian                         300   \n",
       "4                    North Indian, Rajasthani                         600   \n",
       "...                                       ...                         ...   \n",
       "51712                             Continental                       1,500   \n",
       "51713                             Finger Food                         600   \n",
       "51714                             Finger Food                       2,000   \n",
       "51715                             Finger Food                       2,500   \n",
       "51716  Finger Food, North Indian, Continental                       1,500   \n",
       "\n",
       "                                            reviews_list menu_item  \\\n",
       "0      [('Rated 4.0', 'RATED\\n  A beautiful place to ...        []   \n",
       "1      [('Rated 4.0', 'RATED\\n  Had been here for din...        []   \n",
       "2      [('Rated 3.0', \"RATED\\n  Ambience is not that ...        []   \n",
       "3      [('Rated 4.0', \"RATED\\n  Great food and proper...        []   \n",
       "4      [('Rated 4.0', 'RATED\\n  Very good restaurant ...        []   \n",
       "...                                                  ...       ...   \n",
       "51712  [('Rated 5.0', \"RATED\\n  Food and service are ...        []   \n",
       "51713                                                 []        []   \n",
       "51714                                                 []        []   \n",
       "51715  [('Rated 4.0', 'RATED\\n  Nice and friendly pla...        []   \n",
       "51716  [('Rated 5.0', 'RATED\\n  Great ambience , look...        []   \n",
       "\n",
       "      listed_in(type) listed_in(city)  \n",
       "0              Buffet    Banashankari  \n",
       "1              Buffet    Banashankari  \n",
       "2              Buffet    Banashankari  \n",
       "3              Buffet    Banashankari  \n",
       "4              Buffet    Banashankari  \n",
       "...               ...             ...  \n",
       "51712   Pubs and bars      Whitefield  \n",
       "51713   Pubs and bars      Whitefield  \n",
       "51714   Pubs and bars      Whitefield  \n",
       "51715   Pubs and bars      Whitefield  \n",
       "51716   Pubs and bars      Whitefield  \n",
       "\n",
       "[51717 rows x 17 columns]"
      ]
     },
     "execution_count": 4,
     "metadata": {},
     "output_type": "execute_result"
    }
   ],
   "source": [
    "df"
   ]
  },
  {
   "cell_type": "markdown",
   "metadata": {},
   "source": [
    "##  Exploratory Data Analysis (EDA)"
   ]
  },
  {
   "cell_type": "raw",
   "metadata": {},
   "source": [
    "\"\"\"we can also do EDA -- best and easy way is \"pandas_profiling\" to get an overall overview of the dataset\"\"\"\n",
    "\n",
    "pf.ProfileReport(df)"
   ]
  },
  {
   "cell_type": "markdown",
   "metadata": {},
   "source": [
    "#####  Manually "
   ]
  },
  {
   "cell_type": "code",
   "execution_count": 5,
   "metadata": {},
   "outputs": [
    {
     "data": {
      "text/plain": [
       "(51717, 17)"
      ]
     },
     "execution_count": 5,
     "metadata": {},
     "output_type": "execute_result"
    }
   ],
   "source": [
    "df.shape"
   ]
  },
  {
   "cell_type": "code",
   "execution_count": 6,
   "metadata": {},
   "outputs": [
    {
     "data": {
      "text/plain": [
       "url                            object\n",
       "address                        object\n",
       "name                           object\n",
       "online_order                   object\n",
       "book_table                     object\n",
       "rate                           object\n",
       "votes                           int64\n",
       "phone                          object\n",
       "location                       object\n",
       "rest_type                      object\n",
       "dish_liked                     object\n",
       "cuisines                       object\n",
       "approx_cost(for two people)    object\n",
       "reviews_list                   object\n",
       "menu_item                      object\n",
       "listed_in(type)                object\n",
       "listed_in(city)                object\n",
       "dtype: object"
      ]
     },
     "execution_count": 6,
     "metadata": {},
     "output_type": "execute_result"
    }
   ],
   "source": [
    "df.dtypes     # checking the data types"
   ]
  },
  {
   "cell_type": "code",
   "execution_count": 7,
   "metadata": {},
   "outputs": [
    {
     "name": "stdout",
     "output_type": "stream",
     "text": [
      "<class 'pandas.core.frame.DataFrame'>\n",
      "RangeIndex: 51717 entries, 0 to 51716\n",
      "Data columns (total 17 columns):\n",
      " #   Column                       Non-Null Count  Dtype \n",
      "---  ------                       --------------  ----- \n",
      " 0   url                          51717 non-null  object\n",
      " 1   address                      51717 non-null  object\n",
      " 2   name                         51717 non-null  object\n",
      " 3   online_order                 51717 non-null  object\n",
      " 4   book_table                   51717 non-null  object\n",
      " 5   rate                         43942 non-null  object\n",
      " 6   votes                        51717 non-null  int64 \n",
      " 7   phone                        50509 non-null  object\n",
      " 8   location                     51696 non-null  object\n",
      " 9   rest_type                    51490 non-null  object\n",
      " 10  dish_liked                   23639 non-null  object\n",
      " 11  cuisines                     51672 non-null  object\n",
      " 12  approx_cost(for two people)  51371 non-null  object\n",
      " 13  reviews_list                 51717 non-null  object\n",
      " 14  menu_item                    51717 non-null  object\n",
      " 15  listed_in(type)              51717 non-null  object\n",
      " 16  listed_in(city)              51717 non-null  object\n",
      "dtypes: int64(1), object(16)\n",
      "memory usage: 6.7+ MB\n"
     ]
    }
   ],
   "source": [
    "df.info()"
   ]
  },
  {
   "cell_type": "markdown",
   "metadata": {},
   "source": [
    "In given info we observe that some null value in dataset"
   ]
  },
  {
   "cell_type": "markdown",
   "metadata": {},
   "source": [
    "checking how many null values in each column`m"
   ]
  },
  {
   "cell_type": "code",
   "execution_count": 8,
   "metadata": {},
   "outputs": [
    {
     "data": {
      "text/plain": [
       "url                                0\n",
       "address                            0\n",
       "name                               0\n",
       "online_order                       0\n",
       "book_table                         0\n",
       "rate                            7775\n",
       "votes                              0\n",
       "phone                           1208\n",
       "location                          21\n",
       "rest_type                        227\n",
       "dish_liked                     28078\n",
       "cuisines                          45\n",
       "approx_cost(for two people)      346\n",
       "reviews_list                       0\n",
       "menu_item                          0\n",
       "listed_in(type)                    0\n",
       "listed_in(city)                    0\n",
       "dtype: int64"
      ]
     },
     "execution_count": 8,
     "metadata": {},
     "output_type": "execute_result"
    }
   ],
   "source": [
    "df.isnull().sum()"
   ]
  },
  {
   "cell_type": "markdown",
   "metadata": {},
   "source": [
    "### Droping the irrelevant Columns"
   ]
  },
  {
   "cell_type": "markdown",
   "metadata": {},
   "source": [
    "* pop and del\n",
    "* \"pop\" will return the deleted columns back\n",
    "* \"del\" delete the column permanently\n",
    "* drop (axis--0,1) 0- row and 1- col\n"
   ]
  },
  {
   "cell_type": "code",
   "execution_count": 9,
   "metadata": {},
   "outputs": [],
   "source": [
    "del df[\"url\"]\n",
    "del df [\"address\"]\n",
    "del df[\"phone\"]\n",
    "del df[\"reviews_list\"]\n",
    "del df[\"menu_item\"]\n",
    "# df.drop([\"url\"],axis=1, inplace= True)   # drop the col permanent"
   ]
  },
  {
   "cell_type": "code",
   "execution_count": 10,
   "metadata": {},
   "outputs": [
    {
     "data": {
      "text/html": [
       "<div>\n",
       "<style scoped>\n",
       "    .dataframe tbody tr th:only-of-type {\n",
       "        vertical-align: middle;\n",
       "    }\n",
       "\n",
       "    .dataframe tbody tr th {\n",
       "        vertical-align: top;\n",
       "    }\n",
       "\n",
       "    .dataframe thead th {\n",
       "        text-align: right;\n",
       "    }\n",
       "</style>\n",
       "<table border=\"1\" class=\"dataframe\">\n",
       "  <thead>\n",
       "    <tr style=\"text-align: right;\">\n",
       "      <th></th>\n",
       "      <th>name</th>\n",
       "      <th>online_order</th>\n",
       "      <th>book_table</th>\n",
       "      <th>rate</th>\n",
       "      <th>votes</th>\n",
       "      <th>location</th>\n",
       "      <th>rest_type</th>\n",
       "      <th>dish_liked</th>\n",
       "      <th>cuisines</th>\n",
       "      <th>approx_cost(for two people)</th>\n",
       "      <th>listed_in(type)</th>\n",
       "      <th>listed_in(city)</th>\n",
       "    </tr>\n",
       "  </thead>\n",
       "  <tbody>\n",
       "    <tr>\n",
       "      <th>0</th>\n",
       "      <td>Jalsa</td>\n",
       "      <td>Yes</td>\n",
       "      <td>Yes</td>\n",
       "      <td>4.1/5</td>\n",
       "      <td>775</td>\n",
       "      <td>Banashankari</td>\n",
       "      <td>Casual Dining</td>\n",
       "      <td>Pasta, Lunch Buffet, Masala Papad, Paneer Laja...</td>\n",
       "      <td>North Indian, Mughlai, Chinese</td>\n",
       "      <td>800</td>\n",
       "      <td>Buffet</td>\n",
       "      <td>Banashankari</td>\n",
       "    </tr>\n",
       "    <tr>\n",
       "      <th>1</th>\n",
       "      <td>Spice Elephant</td>\n",
       "      <td>Yes</td>\n",
       "      <td>No</td>\n",
       "      <td>4.1/5</td>\n",
       "      <td>787</td>\n",
       "      <td>Banashankari</td>\n",
       "      <td>Casual Dining</td>\n",
       "      <td>Momos, Lunch Buffet, Chocolate Nirvana, Thai G...</td>\n",
       "      <td>Chinese, North Indian, Thai</td>\n",
       "      <td>800</td>\n",
       "      <td>Buffet</td>\n",
       "      <td>Banashankari</td>\n",
       "    </tr>\n",
       "    <tr>\n",
       "      <th>2</th>\n",
       "      <td>San Churro Cafe</td>\n",
       "      <td>Yes</td>\n",
       "      <td>No</td>\n",
       "      <td>3.8/5</td>\n",
       "      <td>918</td>\n",
       "      <td>Banashankari</td>\n",
       "      <td>Cafe, Casual Dining</td>\n",
       "      <td>Churros, Cannelloni, Minestrone Soup, Hot Choc...</td>\n",
       "      <td>Cafe, Mexican, Italian</td>\n",
       "      <td>800</td>\n",
       "      <td>Buffet</td>\n",
       "      <td>Banashankari</td>\n",
       "    </tr>\n",
       "    <tr>\n",
       "      <th>3</th>\n",
       "      <td>Addhuri Udupi Bhojana</td>\n",
       "      <td>No</td>\n",
       "      <td>No</td>\n",
       "      <td>3.7/5</td>\n",
       "      <td>88</td>\n",
       "      <td>Banashankari</td>\n",
       "      <td>Quick Bites</td>\n",
       "      <td>Masala Dosa</td>\n",
       "      <td>South Indian, North Indian</td>\n",
       "      <td>300</td>\n",
       "      <td>Buffet</td>\n",
       "      <td>Banashankari</td>\n",
       "    </tr>\n",
       "    <tr>\n",
       "      <th>4</th>\n",
       "      <td>Grand Village</td>\n",
       "      <td>No</td>\n",
       "      <td>No</td>\n",
       "      <td>3.8/5</td>\n",
       "      <td>166</td>\n",
       "      <td>Basavanagudi</td>\n",
       "      <td>Casual Dining</td>\n",
       "      <td>Panipuri, Gol Gappe</td>\n",
       "      <td>North Indian, Rajasthani</td>\n",
       "      <td>600</td>\n",
       "      <td>Buffet</td>\n",
       "      <td>Banashankari</td>\n",
       "    </tr>\n",
       "  </tbody>\n",
       "</table>\n",
       "</div>"
      ],
      "text/plain": [
       "                    name online_order book_table   rate  votes      location  \\\n",
       "0                  Jalsa          Yes        Yes  4.1/5    775  Banashankari   \n",
       "1         Spice Elephant          Yes         No  4.1/5    787  Banashankari   \n",
       "2        San Churro Cafe          Yes         No  3.8/5    918  Banashankari   \n",
       "3  Addhuri Udupi Bhojana           No         No  3.7/5     88  Banashankari   \n",
       "4          Grand Village           No         No  3.8/5    166  Basavanagudi   \n",
       "\n",
       "             rest_type                                         dish_liked  \\\n",
       "0        Casual Dining  Pasta, Lunch Buffet, Masala Papad, Paneer Laja...   \n",
       "1        Casual Dining  Momos, Lunch Buffet, Chocolate Nirvana, Thai G...   \n",
       "2  Cafe, Casual Dining  Churros, Cannelloni, Minestrone Soup, Hot Choc...   \n",
       "3          Quick Bites                                        Masala Dosa   \n",
       "4        Casual Dining                                Panipuri, Gol Gappe   \n",
       "\n",
       "                         cuisines approx_cost(for two people) listed_in(type)  \\\n",
       "0  North Indian, Mughlai, Chinese                         800          Buffet   \n",
       "1     Chinese, North Indian, Thai                         800          Buffet   \n",
       "2          Cafe, Mexican, Italian                         800          Buffet   \n",
       "3      South Indian, North Indian                         300          Buffet   \n",
       "4        North Indian, Rajasthani                         600          Buffet   \n",
       "\n",
       "  listed_in(city)  \n",
       "0    Banashankari  \n",
       "1    Banashankari  \n",
       "2    Banashankari  \n",
       "3    Banashankari  \n",
       "4    Banashankari  "
      ]
     },
     "execution_count": 10,
     "metadata": {},
     "output_type": "execute_result"
    }
   ],
   "source": [
    "df.head()"
   ]
  },
  {
   "cell_type": "markdown",
   "metadata": {},
   "source": [
    "### Removing Duplicates value"
   ]
  },
  {
   "cell_type": "code",
   "execution_count": 11,
   "metadata": {},
   "outputs": [
    {
     "data": {
      "text/plain": [
       "108"
      ]
     },
     "execution_count": 11,
     "metadata": {},
     "output_type": "execute_result"
    }
   ],
   "source": [
    "df.duplicated().sum() "
   ]
  },
  {
   "cell_type": "markdown",
   "metadata": {},
   "source": [
    "In case duplicate generate due to remove of col ,\n",
    "so we can drop the duplicate value "
   ]
  },
  {
   "cell_type": "code",
   "execution_count": 12,
   "metadata": {},
   "outputs": [],
   "source": [
    "df.drop_duplicates(inplace=True)"
   ]
  },
  {
   "cell_type": "markdown",
   "metadata": {},
   "source": [
    "### Removing the null values"
   ]
  },
  {
   "cell_type": "code",
   "execution_count": 13,
   "metadata": {},
   "outputs": [
    {
     "data": {
      "text/plain": [
       "name                               0\n",
       "online_order                       0\n",
       "book_table                         0\n",
       "rate                            7755\n",
       "votes                              0\n",
       "location                          21\n",
       "rest_type                        227\n",
       "dish_liked                     28014\n",
       "cuisines                          45\n",
       "approx_cost(for two people)      344\n",
       "listed_in(type)                    0\n",
       "listed_in(city)                    0\n",
       "dtype: int64"
      ]
     },
     "execution_count": 13,
     "metadata": {},
     "output_type": "execute_result"
    }
   ],
   "source": [
    "# checking the tolal no. of null values\n",
    "df.isna().sum()"
   ]
  },
  {
   "cell_type": "code",
   "execution_count": 14,
   "metadata": {},
   "outputs": [
    {
     "data": {
      "text/plain": [
       "(51609, 12)"
      ]
     },
     "execution_count": 14,
     "metadata": {},
     "output_type": "execute_result"
    }
   ],
   "source": [
    "df.shape\n",
    "#df.shape[0]  no.of rows"
   ]
  },
  {
   "cell_type": "code",
   "execution_count": 15,
   "metadata": {},
   "outputs": [
    {
     "data": {
      "text/plain": [
       "name                            0.000000\n",
       "online_order                    0.000000\n",
       "book_table                      0.000000\n",
       "rate                           15.026449\n",
       "votes                           0.000000\n",
       "location                        0.040691\n",
       "rest_type                       0.439846\n",
       "dish_liked                     54.281230\n",
       "cuisines                        0.087194\n",
       "approx_cost(for two people)     0.666550\n",
       "listed_in(type)                 0.000000\n",
       "listed_in(city)                 0.000000\n",
       "dtype: float64"
      ]
     },
     "execution_count": 15,
     "metadata": {},
     "output_type": "execute_result"
    }
   ],
   "source": [
    "# in percentage view for each col\n",
    "(df.isna().sum()/df.shape[0])*100"
   ]
  },
  {
   "cell_type": "code",
   "execution_count": 16,
   "metadata": {},
   "outputs": [
    {
     "data": {
      "text/plain": [
       "name                           0\n",
       "online_order                   0\n",
       "book_table                     0\n",
       "rate                           0\n",
       "votes                          0\n",
       "location                       0\n",
       "rest_type                      0\n",
       "dish_liked                     0\n",
       "cuisines                       0\n",
       "approx_cost(for two people)    0\n",
       "listed_in(type)                0\n",
       "listed_in(city)                0\n",
       "dtype: int64"
      ]
     },
     "execution_count": 16,
     "metadata": {},
     "output_type": "execute_result"
    }
   ],
   "source": [
    "# Remove the NAN values from the dataset\n",
    "df.dropna(how = \"any\",inplace=True)\n",
    "df.isnull().sum()"
   ]
  },
  {
   "cell_type": "code",
   "execution_count": 17,
   "metadata": {},
   "outputs": [
    {
     "data": {
      "text/plain": [
       "name                           object\n",
       "online_order                   object\n",
       "book_table                     object\n",
       "rate                           object\n",
       "votes                           int64\n",
       "location                       object\n",
       "rest_type                      object\n",
       "dish_liked                     object\n",
       "cuisines                       object\n",
       "approx_cost(for two people)    object\n",
       "listed_in(type)                object\n",
       "listed_in(city)                object\n",
       "dtype: object"
      ]
     },
     "execution_count": 17,
     "metadata": {},
     "output_type": "execute_result"
    }
   ],
   "source": [
    "df.dtypes"
   ]
  },
  {
   "cell_type": "code",
   "execution_count": 18,
   "metadata": {},
   "outputs": [],
   "source": [
    "# [in case \"votes\"-- int64 we can change into int32 ] this help us to decrease size and space for better load of data\n",
    "df[\"votes\"] = df[\"votes\"].astype(\"int32\")"
   ]
  },
  {
   "cell_type": "code",
   "execution_count": 19,
   "metadata": {},
   "outputs": [
    {
     "name": "stdout",
     "output_type": "stream",
     "text": [
      "<class 'pandas.core.frame.DataFrame'>\n",
      "Int64Index: 23364 entries, 0 to 51715\n",
      "Data columns (total 12 columns):\n",
      " #   Column                       Non-Null Count  Dtype \n",
      "---  ------                       --------------  ----- \n",
      " 0   name                         23364 non-null  object\n",
      " 1   online_order                 23364 non-null  object\n",
      " 2   book_table                   23364 non-null  object\n",
      " 3   rate                         23364 non-null  object\n",
      " 4   votes                        23364 non-null  int32 \n",
      " 5   location                     23364 non-null  object\n",
      " 6   rest_type                    23364 non-null  object\n",
      " 7   dish_liked                   23364 non-null  object\n",
      " 8   cuisines                     23364 non-null  object\n",
      " 9   approx_cost(for two people)  23364 non-null  object\n",
      " 10  listed_in(type)              23364 non-null  object\n",
      " 11  listed_in(city)              23364 non-null  object\n",
      "dtypes: int32(1), object(11)\n",
      "memory usage: 2.2+ MB\n"
     ]
    }
   ],
   "source": [
    "df.info()"
   ]
  },
  {
   "cell_type": "markdown",
   "metadata": {},
   "source": [
    "* Dish_liked column has 27751 null values almost half of total rows\n",
    "* rate col has 7520 null values"
   ]
  },
  {
   "cell_type": "code",
   "execution_count": 20,
   "metadata": {},
   "outputs": [
    {
     "data": {
      "text/plain": [
       "0"
      ]
     },
     "execution_count": 20,
     "metadata": {},
     "output_type": "execute_result"
    }
   ],
   "source": [
    "df[\"rate\"].isnull().sum()"
   ]
  },
  {
   "cell_type": "markdown",
   "metadata": {},
   "source": [
    "### unique rating in rates columns"
   ]
  },
  {
   "cell_type": "code",
   "execution_count": 21,
   "metadata": {},
   "outputs": [
    {
     "data": {
      "text/plain": [
       "array(['4.1/5', '3.8/5', '3.7/5', '4.6/5', '4.0/5', '4.2/5', '3.9/5',\n",
       "       '3.0/5', '3.6/5', '2.8/5', '4.4/5', '3.1/5', '4.3/5', '2.6/5',\n",
       "       '3.3/5', '3.5/5', '3.8 /5', '3.2/5', '4.5/5', '2.5/5', '2.9/5',\n",
       "       '3.4/5', '2.7/5', '4.7/5', 'NEW', '2.4/5', '2.2/5', '2.3/5',\n",
       "       '4.8/5', '3.9 /5', '4.2 /5', '4.0 /5', '4.1 /5', '2.9 /5',\n",
       "       '2.7 /5', '2.5 /5', '2.6 /5', '4.5 /5', '4.3 /5', '3.7 /5',\n",
       "       '4.4 /5', '4.9/5', '2.1/5', '2.0/5', '1.8/5', '3.4 /5', '3.6 /5',\n",
       "       '3.3 /5', '4.6 /5', '4.9 /5', '3.2 /5', '3.0 /5', '2.8 /5',\n",
       "       '3.5 /5', '3.1 /5', '4.8 /5', '2.3 /5', '4.7 /5', '2.4 /5',\n",
       "       '2.1 /5', '2.2 /5', '2.0 /5', '1.8 /5'], dtype=object)"
      ]
     },
     "execution_count": 21,
     "metadata": {},
     "output_type": "execute_result"
    }
   ],
   "source": [
    "df[\"rate\"].unique()"
   ]
  },
  {
   "cell_type": "markdown",
   "metadata": {},
   "source": [
    "In case it contain \"NEW\" ,  \"/5\"format and nan value"
   ]
  },
  {
   "cell_type": "code",
   "execution_count": 22,
   "metadata": {},
   "outputs": [],
   "source": [
    "df = df.loc[df.rate != \"NEW\"]    # in case we can rid or remove the row \"new\""
   ]
  },
  {
   "cell_type": "code",
   "execution_count": 23,
   "metadata": {},
   "outputs": [
    {
     "data": {
      "text/plain": [
       "array(['4.1/5', '3.8/5', '3.7/5', '4.6/5', '4.0/5', '4.2/5', '3.9/5',\n",
       "       '3.0/5', '3.6/5', '2.8/5', '4.4/5', '3.1/5', '4.3/5', '2.6/5',\n",
       "       '3.3/5', '3.5/5', '3.8 /5', '3.2/5', '4.5/5', '2.5/5', '2.9/5',\n",
       "       '3.4/5', '2.7/5', '4.7/5', '2.4/5', '2.2/5', '2.3/5', '4.8/5',\n",
       "       '3.9 /5', '4.2 /5', '4.0 /5', '4.1 /5', '2.9 /5', '2.7 /5',\n",
       "       '2.5 /5', '2.6 /5', '4.5 /5', '4.3 /5', '3.7 /5', '4.4 /5',\n",
       "       '4.9/5', '2.1/5', '2.0/5', '1.8/5', '3.4 /5', '3.6 /5', '3.3 /5',\n",
       "       '4.6 /5', '4.9 /5', '3.2 /5', '3.0 /5', '2.8 /5', '3.5 /5',\n",
       "       '3.1 /5', '4.8 /5', '2.3 /5', '4.7 /5', '2.4 /5', '2.1 /5',\n",
       "       '2.2 /5', '2.0 /5', '1.8 /5'], dtype=object)"
      ]
     },
     "execution_count": 23,
     "metadata": {},
     "output_type": "execute_result"
    }
   ],
   "source": [
    "df[\"rate\"].unique()"
   ]
  },
  {
   "cell_type": "code",
   "execution_count": 24,
   "metadata": {},
   "outputs": [
    {
     "name": "stderr",
     "output_type": "stream",
     "text": [
      "/home/arcgate/anaconda3/lib/python3.6/site-packages/ipykernel_launcher.py:4: SettingWithCopyWarning:\n",
      "\n",
      "\n",
      "A value is trying to be set on a copy of a slice from a DataFrame.\n",
      "Try using .loc[row_indexer,col_indexer] = value instead\n",
      "\n",
      "See the caveats in the documentation: https://pandas.pydata.org/pandas-docs/stable/user_guide/indexing.html#returning-a-view-versus-a-copy\n",
      "\n"
     ]
    }
   ],
   "source": [
    "# remove the \"/5\" from rate\n",
    "\n",
    "#df[\"rate\"] = df[\"rate\"].apply(lambda x:x.replace('/5',''))\n",
    "df['rate'] = df['rate'].apply(lambda x: str(x).replace('/5',''))"
   ]
  },
  {
   "cell_type": "code",
   "execution_count": 25,
   "metadata": {},
   "outputs": [
    {
     "data": {
      "text/plain": [
       "array(['4.1', '3.8', '3.7', '4.6', '4.0', '4.2', '3.9', '3.0', '3.6',\n",
       "       '2.8', '4.4', '3.1', '4.3', '2.6', '3.3', '3.5', '3.8 ', '3.2',\n",
       "       '4.5', '2.5', '2.9', '3.4', '2.7', '4.7', '2.4', '2.2', '2.3',\n",
       "       '4.8', '3.9 ', '4.2 ', '4.0 ', '4.1 ', '2.9 ', '2.7 ', '2.5 ',\n",
       "       '2.6 ', '4.5 ', '4.3 ', '3.7 ', '4.4 ', '4.9', '2.1', '2.0', '1.8',\n",
       "       '3.4 ', '3.6 ', '3.3 ', '4.6 ', '4.9 ', '3.2 ', '3.0 ', '2.8 ',\n",
       "       '3.5 ', '3.1 ', '4.8 ', '2.3 ', '4.7 ', '2.4 ', '2.1 ', '2.2 ',\n",
       "       '2.0 ', '1.8 '], dtype=object)"
      ]
     },
     "execution_count": 25,
     "metadata": {},
     "output_type": "execute_result"
    }
   ],
   "source": [
    "df[\"rate\"].unique()"
   ]
  },
  {
   "cell_type": "markdown",
   "metadata": {},
   "source": [
    "######  This all process can be done when we not remove the null value before\n",
    "* df[df['rate']=='-'][\"rate\"]\n",
    "* df[\"rate\"].isnull().sum()\n",
    "* df[\"rate\"] = df[\"rate\"].str.replace(\" \",\"\")\n",
    "* df[\"rate\"] = df[\"rate\"].str.replace(\"-\",\"NAN\")\n",
    "* df[\"rate\"]\n",
    "* df['rate']=df['rate'].fillna('NaN')  # fillna -> fill the null value --> \"NAN\""
   ]
  },
  {
   "cell_type": "code",
   "execution_count": 26,
   "metadata": {},
   "outputs": [
    {
     "data": {
      "text/plain": [
       "array(['Banashankari', 'Bannerghatta Road', 'Basavanagudi', 'Bellandur',\n",
       "       'Brigade Road', 'Brookefield', 'BTM', 'Church Street',\n",
       "       'Electronic City', 'Frazer Town', 'HSR', 'Indiranagar',\n",
       "       'Jayanagar', 'JP Nagar', 'Kalyan Nagar', 'Kammanahalli',\n",
       "       'Koramangala 4th Block', 'Koramangala 5th Block',\n",
       "       'Koramangala 6th Block', 'Koramangala 7th Block', 'Lavelle Road',\n",
       "       'Malleshwaram', 'Marathahalli', 'MG Road', 'New BEL Road',\n",
       "       'Old Airport Road', 'Rajajinagar', 'Residency Road',\n",
       "       'Sarjapur Road', 'Whitefield'], dtype=object)"
      ]
     },
     "execution_count": 26,
     "metadata": {},
     "output_type": "execute_result"
    }
   ],
   "source": [
    "df['listed_in(city)'].unique()"
   ]
  },
  {
   "cell_type": "code",
   "execution_count": 27,
   "metadata": {},
   "outputs": [
    {
     "data": {
      "text/plain": [
       "array(['Banashankari', 'Basavanagudi', 'Jayanagar', 'Kumaraswamy Layout',\n",
       "       'Rajarajeshwari Nagar', 'Mysore Road', 'Uttarahalli',\n",
       "       'South Bangalore', 'Vijay Nagar', 'Bannerghatta Road', 'JP Nagar',\n",
       "       'BTM', 'Wilson Garden', 'Koramangala 5th Block', 'Shanti Nagar',\n",
       "       'Richmond Road', 'City Market', 'Bellandur', 'Sarjapur Road',\n",
       "       'Marathahalli', 'HSR', 'Old Airport Road', 'Indiranagar',\n",
       "       'Koramangala 1st Block', 'East Bangalore', 'MG Road',\n",
       "       'Brigade Road', 'Lavelle Road', 'Church Street', 'Ulsoor',\n",
       "       'Residency Road', 'Shivajinagar', 'Infantry Road',\n",
       "       'St. Marks Road', 'Cunningham Road', 'Race Course Road', 'Domlur',\n",
       "       'Koramangala 8th Block', 'Frazer Town', 'Ejipura', 'Vasanth Nagar',\n",
       "       'Jeevan Bhima Nagar', 'Old Madras Road', 'Commercial Street',\n",
       "       'Koramangala 6th Block', 'Majestic', 'Langford Town',\n",
       "       'Koramangala 7th Block', 'Brookefield', 'Whitefield',\n",
       "       'ITPL Main Road, Whitefield', 'Varthur Main Road, Whitefield',\n",
       "       'Koramangala 2nd Block', 'Koramangala 3rd Block',\n",
       "       'Koramangala 4th Block', 'Koramangala', 'Bommanahalli',\n",
       "       'Hosur Road', 'Seshadripuram', 'Electronic City', 'Banaswadi',\n",
       "       'North Bangalore', 'RT Nagar', 'Kammanahalli', 'Hennur',\n",
       "       'HBR Layout', 'Kalyan Nagar', 'Thippasandra', 'CV Raman Nagar',\n",
       "       'Kaggadasapura', 'Kanakapura Road', 'Nagawara', 'Rammurthy Nagar',\n",
       "       'Sankey Road', 'Central Bangalore', 'Malleshwaram',\n",
       "       'Sadashiv Nagar', 'Basaveshwara Nagar', 'Rajajinagar',\n",
       "       'New BEL Road', 'West Bangalore', 'Yeshwantpur', 'Sanjay Nagar',\n",
       "       'Sahakara Nagar', 'Jalahalli', 'Yelahanka', 'Magadi Road',\n",
       "       'KR Puram'], dtype=object)"
      ]
     },
     "execution_count": 27,
     "metadata": {},
     "output_type": "execute_result"
    }
   ],
   "source": [
    "df['location'].unique()"
   ]
  },
  {
   "cell_type": "markdown",
   "metadata": {},
   "source": [
    "##### As we see that \"location\" columns has more Sublocation and city columns have a better location so we drop 'location' columns"
   ]
  },
  {
   "cell_type": "code",
   "execution_count": 28,
   "metadata": {},
   "outputs": [],
   "source": [
    "del df[\"location\"]"
   ]
  },
  {
   "cell_type": "code",
   "execution_count": 29,
   "metadata": {},
   "outputs": [
    {
     "data": {
      "text/html": [
       "<div>\n",
       "<style scoped>\n",
       "    .dataframe tbody tr th:only-of-type {\n",
       "        vertical-align: middle;\n",
       "    }\n",
       "\n",
       "    .dataframe tbody tr th {\n",
       "        vertical-align: top;\n",
       "    }\n",
       "\n",
       "    .dataframe thead th {\n",
       "        text-align: right;\n",
       "    }\n",
       "</style>\n",
       "<table border=\"1\" class=\"dataframe\">\n",
       "  <thead>\n",
       "    <tr style=\"text-align: right;\">\n",
       "      <th></th>\n",
       "      <th>name</th>\n",
       "      <th>online_order</th>\n",
       "      <th>book_table</th>\n",
       "      <th>rate</th>\n",
       "      <th>votes</th>\n",
       "      <th>rest_type</th>\n",
       "      <th>dish_liked</th>\n",
       "      <th>cuisines</th>\n",
       "      <th>approx_cost(for two people)</th>\n",
       "      <th>listed_in(type)</th>\n",
       "      <th>listed_in(city)</th>\n",
       "    </tr>\n",
       "  </thead>\n",
       "  <tbody>\n",
       "    <tr>\n",
       "      <th>0</th>\n",
       "      <td>Jalsa</td>\n",
       "      <td>Yes</td>\n",
       "      <td>Yes</td>\n",
       "      <td>4.1</td>\n",
       "      <td>775</td>\n",
       "      <td>Casual Dining</td>\n",
       "      <td>Pasta, Lunch Buffet, Masala Papad, Paneer Laja...</td>\n",
       "      <td>North Indian, Mughlai, Chinese</td>\n",
       "      <td>800</td>\n",
       "      <td>Buffet</td>\n",
       "      <td>Banashankari</td>\n",
       "    </tr>\n",
       "    <tr>\n",
       "      <th>1</th>\n",
       "      <td>Spice Elephant</td>\n",
       "      <td>Yes</td>\n",
       "      <td>No</td>\n",
       "      <td>4.1</td>\n",
       "      <td>787</td>\n",
       "      <td>Casual Dining</td>\n",
       "      <td>Momos, Lunch Buffet, Chocolate Nirvana, Thai G...</td>\n",
       "      <td>Chinese, North Indian, Thai</td>\n",
       "      <td>800</td>\n",
       "      <td>Buffet</td>\n",
       "      <td>Banashankari</td>\n",
       "    </tr>\n",
       "    <tr>\n",
       "      <th>2</th>\n",
       "      <td>San Churro Cafe</td>\n",
       "      <td>Yes</td>\n",
       "      <td>No</td>\n",
       "      <td>3.8</td>\n",
       "      <td>918</td>\n",
       "      <td>Cafe, Casual Dining</td>\n",
       "      <td>Churros, Cannelloni, Minestrone Soup, Hot Choc...</td>\n",
       "      <td>Cafe, Mexican, Italian</td>\n",
       "      <td>800</td>\n",
       "      <td>Buffet</td>\n",
       "      <td>Banashankari</td>\n",
       "    </tr>\n",
       "    <tr>\n",
       "      <th>3</th>\n",
       "      <td>Addhuri Udupi Bhojana</td>\n",
       "      <td>No</td>\n",
       "      <td>No</td>\n",
       "      <td>3.7</td>\n",
       "      <td>88</td>\n",
       "      <td>Quick Bites</td>\n",
       "      <td>Masala Dosa</td>\n",
       "      <td>South Indian, North Indian</td>\n",
       "      <td>300</td>\n",
       "      <td>Buffet</td>\n",
       "      <td>Banashankari</td>\n",
       "    </tr>\n",
       "    <tr>\n",
       "      <th>4</th>\n",
       "      <td>Grand Village</td>\n",
       "      <td>No</td>\n",
       "      <td>No</td>\n",
       "      <td>3.8</td>\n",
       "      <td>166</td>\n",
       "      <td>Casual Dining</td>\n",
       "      <td>Panipuri, Gol Gappe</td>\n",
       "      <td>North Indian, Rajasthani</td>\n",
       "      <td>600</td>\n",
       "      <td>Buffet</td>\n",
       "      <td>Banashankari</td>\n",
       "    </tr>\n",
       "  </tbody>\n",
       "</table>\n",
       "</div>"
      ],
      "text/plain": [
       "                    name online_order book_table rate  votes  \\\n",
       "0                  Jalsa          Yes        Yes  4.1    775   \n",
       "1         Spice Elephant          Yes         No  4.1    787   \n",
       "2        San Churro Cafe          Yes         No  3.8    918   \n",
       "3  Addhuri Udupi Bhojana           No         No  3.7     88   \n",
       "4          Grand Village           No         No  3.8    166   \n",
       "\n",
       "             rest_type                                         dish_liked  \\\n",
       "0        Casual Dining  Pasta, Lunch Buffet, Masala Papad, Paneer Laja...   \n",
       "1        Casual Dining  Momos, Lunch Buffet, Chocolate Nirvana, Thai G...   \n",
       "2  Cafe, Casual Dining  Churros, Cannelloni, Minestrone Soup, Hot Choc...   \n",
       "3          Quick Bites                                        Masala Dosa   \n",
       "4        Casual Dining                                Panipuri, Gol Gappe   \n",
       "\n",
       "                         cuisines approx_cost(for two people) listed_in(type)  \\\n",
       "0  North Indian, Mughlai, Chinese                         800          Buffet   \n",
       "1     Chinese, North Indian, Thai                         800          Buffet   \n",
       "2          Cafe, Mexican, Italian                         800          Buffet   \n",
       "3      South Indian, North Indian                         300          Buffet   \n",
       "4        North Indian, Rajasthani                         600          Buffet   \n",
       "\n",
       "  listed_in(city)  \n",
       "0    Banashankari  \n",
       "1    Banashankari  \n",
       "2    Banashankari  \n",
       "3    Banashankari  \n",
       "4    Banashankari  "
      ]
     },
     "execution_count": 29,
     "metadata": {},
     "output_type": "execute_result"
    }
   ],
   "source": [
    "df.head()"
   ]
  },
  {
   "cell_type": "markdown",
   "metadata": {},
   "source": [
    "## Renaming columns appropriately"
   ]
  },
  {
   "cell_type": "code",
   "execution_count": 30,
   "metadata": {},
   "outputs": [
    {
     "data": {
      "text/html": [
       "<div>\n",
       "<style scoped>\n",
       "    .dataframe tbody tr th:only-of-type {\n",
       "        vertical-align: middle;\n",
       "    }\n",
       "\n",
       "    .dataframe tbody tr th {\n",
       "        vertical-align: top;\n",
       "    }\n",
       "\n",
       "    .dataframe thead th {\n",
       "        text-align: right;\n",
       "    }\n",
       "</style>\n",
       "<table border=\"1\" class=\"dataframe\">\n",
       "  <thead>\n",
       "    <tr style=\"text-align: right;\">\n",
       "      <th></th>\n",
       "      <th>name</th>\n",
       "      <th>online_order</th>\n",
       "      <th>book_table</th>\n",
       "      <th>rate</th>\n",
       "      <th>votes</th>\n",
       "      <th>rest_type</th>\n",
       "      <th>dish_liked</th>\n",
       "      <th>cuisines</th>\n",
       "      <th>approx_cost(for two people)</th>\n",
       "      <th>listed_in(type)</th>\n",
       "      <th>listed_in(city)</th>\n",
       "    </tr>\n",
       "  </thead>\n",
       "  <tbody>\n",
       "    <tr>\n",
       "      <th>0</th>\n",
       "      <td>Jalsa</td>\n",
       "      <td>Yes</td>\n",
       "      <td>Yes</td>\n",
       "      <td>4.1</td>\n",
       "      <td>775</td>\n",
       "      <td>Casual Dining</td>\n",
       "      <td>Pasta, Lunch Buffet, Masala Papad, Paneer Laja...</td>\n",
       "      <td>North Indian, Mughlai, Chinese</td>\n",
       "      <td>800</td>\n",
       "      <td>Buffet</td>\n",
       "      <td>Banashankari</td>\n",
       "    </tr>\n",
       "    <tr>\n",
       "      <th>1</th>\n",
       "      <td>Spice Elephant</td>\n",
       "      <td>Yes</td>\n",
       "      <td>No</td>\n",
       "      <td>4.1</td>\n",
       "      <td>787</td>\n",
       "      <td>Casual Dining</td>\n",
       "      <td>Momos, Lunch Buffet, Chocolate Nirvana, Thai G...</td>\n",
       "      <td>Chinese, North Indian, Thai</td>\n",
       "      <td>800</td>\n",
       "      <td>Buffet</td>\n",
       "      <td>Banashankari</td>\n",
       "    </tr>\n",
       "    <tr>\n",
       "      <th>2</th>\n",
       "      <td>San Churro Cafe</td>\n",
       "      <td>Yes</td>\n",
       "      <td>No</td>\n",
       "      <td>3.8</td>\n",
       "      <td>918</td>\n",
       "      <td>Cafe, Casual Dining</td>\n",
       "      <td>Churros, Cannelloni, Minestrone Soup, Hot Choc...</td>\n",
       "      <td>Cafe, Mexican, Italian</td>\n",
       "      <td>800</td>\n",
       "      <td>Buffet</td>\n",
       "      <td>Banashankari</td>\n",
       "    </tr>\n",
       "    <tr>\n",
       "      <th>3</th>\n",
       "      <td>Addhuri Udupi Bhojana</td>\n",
       "      <td>No</td>\n",
       "      <td>No</td>\n",
       "      <td>3.7</td>\n",
       "      <td>88</td>\n",
       "      <td>Quick Bites</td>\n",
       "      <td>Masala Dosa</td>\n",
       "      <td>South Indian, North Indian</td>\n",
       "      <td>300</td>\n",
       "      <td>Buffet</td>\n",
       "      <td>Banashankari</td>\n",
       "    </tr>\n",
       "    <tr>\n",
       "      <th>4</th>\n",
       "      <td>Grand Village</td>\n",
       "      <td>No</td>\n",
       "      <td>No</td>\n",
       "      <td>3.8</td>\n",
       "      <td>166</td>\n",
       "      <td>Casual Dining</td>\n",
       "      <td>Panipuri, Gol Gappe</td>\n",
       "      <td>North Indian, Rajasthani</td>\n",
       "      <td>600</td>\n",
       "      <td>Buffet</td>\n",
       "      <td>Banashankari</td>\n",
       "    </tr>\n",
       "    <tr>\n",
       "      <th>...</th>\n",
       "      <td>...</td>\n",
       "      <td>...</td>\n",
       "      <td>...</td>\n",
       "      <td>...</td>\n",
       "      <td>...</td>\n",
       "      <td>...</td>\n",
       "      <td>...</td>\n",
       "      <td>...</td>\n",
       "      <td>...</td>\n",
       "      <td>...</td>\n",
       "      <td>...</td>\n",
       "    </tr>\n",
       "    <tr>\n",
       "      <th>51705</th>\n",
       "      <td>Izakaya Gastro Pub</td>\n",
       "      <td>Yes</td>\n",
       "      <td>Yes</td>\n",
       "      <td>3.8</td>\n",
       "      <td>128</td>\n",
       "      <td>Bar, Casual Dining</td>\n",
       "      <td>Beer, Chicken Guntur, Paneer Tikka, Fish, Nood...</td>\n",
       "      <td>North Indian, Continental, Mediterranean</td>\n",
       "      <td>1,200</td>\n",
       "      <td>Pubs and bars</td>\n",
       "      <td>Whitefield</td>\n",
       "    </tr>\n",
       "    <tr>\n",
       "      <th>51707</th>\n",
       "      <td>M Bar - Bengaluru Marriott Hotel Whitefield</td>\n",
       "      <td>No</td>\n",
       "      <td>No</td>\n",
       "      <td>3.9</td>\n",
       "      <td>77</td>\n",
       "      <td>Fine Dining, Bar</td>\n",
       "      <td>Rooftop Ambience</td>\n",
       "      <td>Finger Food</td>\n",
       "      <td>2,000</td>\n",
       "      <td>Pubs and bars</td>\n",
       "      <td>Whitefield</td>\n",
       "    </tr>\n",
       "    <tr>\n",
       "      <th>51708</th>\n",
       "      <td>Keys Cafe - Keys Hotel</td>\n",
       "      <td>No</td>\n",
       "      <td>No</td>\n",
       "      <td>2.8</td>\n",
       "      <td>161</td>\n",
       "      <td>Casual Dining, Bar</td>\n",
       "      <td>Salads, Coffee, Breakfast Buffet, Halwa, Chick...</td>\n",
       "      <td>Chinese, Continental, North Indian</td>\n",
       "      <td>1,200</td>\n",
       "      <td>Pubs and bars</td>\n",
       "      <td>Whitefield</td>\n",
       "    </tr>\n",
       "    <tr>\n",
       "      <th>51711</th>\n",
       "      <td>Bhagini</td>\n",
       "      <td>No</td>\n",
       "      <td>No</td>\n",
       "      <td>2.5</td>\n",
       "      <td>81</td>\n",
       "      <td>Casual Dining, Bar</td>\n",
       "      <td>Biryani, Andhra Meal</td>\n",
       "      <td>Andhra, South Indian, Chinese, North Indian</td>\n",
       "      <td>800</td>\n",
       "      <td>Pubs and bars</td>\n",
       "      <td>Whitefield</td>\n",
       "    </tr>\n",
       "    <tr>\n",
       "      <th>51715</th>\n",
       "      <td>Chime - Sheraton Grand Bengaluru Whitefield Ho...</td>\n",
       "      <td>No</td>\n",
       "      <td>Yes</td>\n",
       "      <td>4.3</td>\n",
       "      <td>236</td>\n",
       "      <td>Bar</td>\n",
       "      <td>Cocktails, Pizza, Buttermilk</td>\n",
       "      <td>Finger Food</td>\n",
       "      <td>2,500</td>\n",
       "      <td>Pubs and bars</td>\n",
       "      <td>Whitefield</td>\n",
       "    </tr>\n",
       "  </tbody>\n",
       "</table>\n",
       "<p>23218 rows × 11 columns</p>\n",
       "</div>"
      ],
      "text/plain": [
       "                                                    name online_order  \\\n",
       "0                                                  Jalsa          Yes   \n",
       "1                                         Spice Elephant          Yes   \n",
       "2                                        San Churro Cafe          Yes   \n",
       "3                                  Addhuri Udupi Bhojana           No   \n",
       "4                                          Grand Village           No   \n",
       "...                                                  ...          ...   \n",
       "51705                                 Izakaya Gastro Pub          Yes   \n",
       "51707        M Bar - Bengaluru Marriott Hotel Whitefield           No   \n",
       "51708                             Keys Cafe - Keys Hotel           No   \n",
       "51711                                            Bhagini           No   \n",
       "51715  Chime - Sheraton Grand Bengaluru Whitefield Ho...           No   \n",
       "\n",
       "      book_table  rate  votes            rest_type  \\\n",
       "0            Yes   4.1    775        Casual Dining   \n",
       "1             No   4.1    787        Casual Dining   \n",
       "2             No   3.8    918  Cafe, Casual Dining   \n",
       "3             No   3.7     88          Quick Bites   \n",
       "4             No   3.8    166        Casual Dining   \n",
       "...          ...   ...    ...                  ...   \n",
       "51705        Yes  3.8     128   Bar, Casual Dining   \n",
       "51707         No  3.9      77     Fine Dining, Bar   \n",
       "51708         No  2.8     161   Casual Dining, Bar   \n",
       "51711         No  2.5      81   Casual Dining, Bar   \n",
       "51715        Yes  4.3     236                  Bar   \n",
       "\n",
       "                                              dish_liked  \\\n",
       "0      Pasta, Lunch Buffet, Masala Papad, Paneer Laja...   \n",
       "1      Momos, Lunch Buffet, Chocolate Nirvana, Thai G...   \n",
       "2      Churros, Cannelloni, Minestrone Soup, Hot Choc...   \n",
       "3                                            Masala Dosa   \n",
       "4                                    Panipuri, Gol Gappe   \n",
       "...                                                  ...   \n",
       "51705  Beer, Chicken Guntur, Paneer Tikka, Fish, Nood...   \n",
       "51707                                   Rooftop Ambience   \n",
       "51708  Salads, Coffee, Breakfast Buffet, Halwa, Chick...   \n",
       "51711                               Biryani, Andhra Meal   \n",
       "51715                       Cocktails, Pizza, Buttermilk   \n",
       "\n",
       "                                          cuisines  \\\n",
       "0                   North Indian, Mughlai, Chinese   \n",
       "1                      Chinese, North Indian, Thai   \n",
       "2                           Cafe, Mexican, Italian   \n",
       "3                       South Indian, North Indian   \n",
       "4                         North Indian, Rajasthani   \n",
       "...                                            ...   \n",
       "51705     North Indian, Continental, Mediterranean   \n",
       "51707                                  Finger Food   \n",
       "51708           Chinese, Continental, North Indian   \n",
       "51711  Andhra, South Indian, Chinese, North Indian   \n",
       "51715                                  Finger Food   \n",
       "\n",
       "      approx_cost(for two people) listed_in(type) listed_in(city)  \n",
       "0                             800          Buffet    Banashankari  \n",
       "1                             800          Buffet    Banashankari  \n",
       "2                             800          Buffet    Banashankari  \n",
       "3                             300          Buffet    Banashankari  \n",
       "4                             600          Buffet    Banashankari  \n",
       "...                           ...             ...             ...  \n",
       "51705                       1,200   Pubs and bars      Whitefield  \n",
       "51707                       2,000   Pubs and bars      Whitefield  \n",
       "51708                       1,200   Pubs and bars      Whitefield  \n",
       "51711                         800   Pubs and bars      Whitefield  \n",
       "51715                       2,500   Pubs and bars      Whitefield  \n",
       "\n",
       "[23218 rows x 11 columns]"
      ]
     },
     "execution_count": 30,
     "metadata": {},
     "output_type": "execute_result"
    }
   ],
   "source": [
    "df"
   ]
  },
  {
   "cell_type": "code",
   "execution_count": 31,
   "metadata": {},
   "outputs": [
    {
     "name": "stderr",
     "output_type": "stream",
     "text": [
      "/home/arcgate/anaconda3/lib/python3.6/site-packages/pandas/core/frame.py:4308: SettingWithCopyWarning:\n",
      "\n",
      "\n",
      "A value is trying to be set on a copy of a slice from a DataFrame\n",
      "\n",
      "See the caveats in the documentation: https://pandas.pydata.org/pandas-docs/stable/user_guide/indexing.html#returning-a-view-versus-a-copy\n",
      "\n"
     ]
    }
   ],
   "source": [
    "df.rename(columns={\"approx_cost(for two people)\":\"cost\",'listed_in(type)':'Meal_type',\"listed_in(city)\":\"city\"},inplace=True)"
   ]
  },
  {
   "cell_type": "code",
   "execution_count": 32,
   "metadata": {},
   "outputs": [
    {
     "data": {
      "text/plain": [
       "Index(['name', 'online_order', 'book_table', 'rate', 'votes', 'rest_type',\n",
       "       'dish_liked', 'cuisines', 'cost', 'Meal_type', 'city'],\n",
       "      dtype='object')"
      ]
     },
     "execution_count": 32,
     "metadata": {},
     "output_type": "execute_result"
    }
   ],
   "source": [
    "df.columns"
   ]
  },
  {
   "cell_type": "markdown",
   "metadata": {},
   "source": [
    "### Data Visualization"
   ]
  },
  {
   "cell_type": "markdown",
   "metadata": {},
   "source": [
    "##### Most famous restaurants chain in Bangaluru top 25"
   ]
  },
  {
   "cell_type": "code",
   "execution_count": 33,
   "metadata": {},
   "outputs": [],
   "source": [
    "top = df[\"name\"].value_counts()[:25]"
   ]
  },
  {
   "cell_type": "code",
   "execution_count": 34,
   "metadata": {},
   "outputs": [
    {
     "data": {
      "text/plain": [
       "Index(['Onesta', 'Empire Restaurant', 'KFC', 'McDonald's', 'Pizza Hut',\n",
       "       'Domino's Pizza', 'Faasos', 'Smally's Resto Cafe', 'Burger King',\n",
       "       'Corner House Ice Cream', 'Polar Bear', 'Smoor', 'Mani's Dum Biryani',\n",
       "       'Pizza Stop', 'Mainland China', 'Chung Wah', 'Subway', 'Hammered',\n",
       "       'Lakeview Milkbar', 'eat.fit', 'Truffles', 'Beijing Bites',\n",
       "       'Leon Grill', 'Petoo', 'Krispy Kreme'],\n",
       "      dtype='object')"
      ]
     },
     "execution_count": 34,
     "metadata": {},
     "output_type": "execute_result"
    }
   ],
   "source": [
    "top.index"
   ]
  },
  {
   "cell_type": "code",
   "execution_count": 35,
   "metadata": {},
   "outputs": [
    {
     "data": {
      "image/png": "[encoded data removed]",
      "text/plain": [
       "<Figure size 1440x1440 with 1 Axes>"
      ]
     },
     "metadata": {},
     "output_type": "display_data"
    }
   ],
   "source": [
    "plt.figure(figsize=(20,20))\n",
    "sns.barplot(x= top, y = top.index, palette=\"deep\")\n",
    "plt.title(\"Most famous restaurants chain [top 25]\")\n",
    "plt.xlabel(\"Number of outlets\")\n",
    "plt.show()"
   ]
  },
  {
   "cell_type": "markdown",
   "metadata": {},
   "source": [
    "This graph show that this top brand has more than 40 outlet "
   ]
  },
  {
   "cell_type": "markdown",
   "metadata": {},
   "source": [
    "##### Number of restaurants that take online orders"
   ]
  },
  {
   "cell_type": "code",
   "execution_count": 36,
   "metadata": {},
   "outputs": [
    {
     "data": {
      "text/plain": [
       "Text(0.5, 0, 'Online_Orders')"
      ]
     },
     "execution_count": 36,
     "metadata": {},
     "output_type": "execute_result"
    },
    {
     "data": {
      "image/png": "[encoded data removed]",
      "text/plain": [
       "<Figure size 720x720 with 1 Axes>"
      ]
     },
     "metadata": {},
     "output_type": "display_data"
    }
   ],
   "source": [
    "plt.figure(figsize=(10,10))\n",
    "sns.countplot(df[\"online_order\"])\n",
    "plt.title(\"Number of restaurants that take online_order\",fontsize = 15,loc = 'center',color = \"purple\")\n",
    "plt.ylabel(\"Count\", fontsize = 15)\n",
    "plt.xlabel(\"Online_Orders\", fontsize = 15)"
   ]
  },
  {
   "cell_type": "markdown",
   "metadata": {},
   "source": [
    "##### Number of restaurants that have the option to book tabel"
   ]
  },
  {
   "cell_type": "code",
   "execution_count": 37,
   "metadata": {},
   "outputs": [
    {
     "data": {
      "text/plain": [
       "Text(0.5, 0, 'Booking_Tabel')"
      ]
     },
     "execution_count": 37,
     "metadata": {},
     "output_type": "execute_result"
    },
    {
     "data": {
      "image/png": "[encoded data removed]",
      "text/plain": [
       "<Figure size 720x720 with 1 Axes>"
      ]
     },
     "metadata": {},
     "output_type": "display_data"
    }
   ],
   "source": [
    "plt.figure(figsize=(10,10))\n",
    "sns.countplot(df[\"book_table\"])\n",
    "plt.title(\"Number of restaurants that option to book tabel\",fontsize = 15,loc = 'center',color = \"purple\")\n",
    "plt.ylabel(\"Count\", fontsize = 15)\n",
    "plt.xlabel(\"Booking_Tabel\", fontsize = 15)"
   ]
  },
  {
   "cell_type": "markdown",
   "metadata": {},
   "source": [
    "##### Number of restaurants with meal type"
   ]
  },
  {
   "cell_type": "code",
   "execution_count": 38,
   "metadata": {},
   "outputs": [
    {
     "data": {
      "text/html": [
       "<div>\n",
       "<style scoped>\n",
       "    .dataframe tbody tr th:only-of-type {\n",
       "        vertical-align: middle;\n",
       "    }\n",
       "\n",
       "    .dataframe tbody tr th {\n",
       "        vertical-align: top;\n",
       "    }\n",
       "\n",
       "    .dataframe thead th {\n",
       "        text-align: right;\n",
       "    }\n",
       "</style>\n",
       "<table border=\"1\" class=\"dataframe\">\n",
       "  <thead>\n",
       "    <tr style=\"text-align: right;\">\n",
       "      <th></th>\n",
       "      <th>name</th>\n",
       "      <th>online_order</th>\n",
       "      <th>book_table</th>\n",
       "      <th>rate</th>\n",
       "      <th>votes</th>\n",
       "      <th>rest_type</th>\n",
       "      <th>dish_liked</th>\n",
       "      <th>cuisines</th>\n",
       "      <th>cost</th>\n",
       "      <th>Meal_type</th>\n",
       "      <th>city</th>\n",
       "    </tr>\n",
       "  </thead>\n",
       "  <tbody>\n",
       "    <tr>\n",
       "      <th>0</th>\n",
       "      <td>Jalsa</td>\n",
       "      <td>Yes</td>\n",
       "      <td>Yes</td>\n",
       "      <td>4.1</td>\n",
       "      <td>775</td>\n",
       "      <td>Casual Dining</td>\n",
       "      <td>Pasta, Lunch Buffet, Masala Papad, Paneer Laja...</td>\n",
       "      <td>North Indian, Mughlai, Chinese</td>\n",
       "      <td>800</td>\n",
       "      <td>Buffet</td>\n",
       "      <td>Banashankari</td>\n",
       "    </tr>\n",
       "    <tr>\n",
       "      <th>1</th>\n",
       "      <td>Spice Elephant</td>\n",
       "      <td>Yes</td>\n",
       "      <td>No</td>\n",
       "      <td>4.1</td>\n",
       "      <td>787</td>\n",
       "      <td>Casual Dining</td>\n",
       "      <td>Momos, Lunch Buffet, Chocolate Nirvana, Thai G...</td>\n",
       "      <td>Chinese, North Indian, Thai</td>\n",
       "      <td>800</td>\n",
       "      <td>Buffet</td>\n",
       "      <td>Banashankari</td>\n",
       "    </tr>\n",
       "    <tr>\n",
       "      <th>2</th>\n",
       "      <td>San Churro Cafe</td>\n",
       "      <td>Yes</td>\n",
       "      <td>No</td>\n",
       "      <td>3.8</td>\n",
       "      <td>918</td>\n",
       "      <td>Cafe, Casual Dining</td>\n",
       "      <td>Churros, Cannelloni, Minestrone Soup, Hot Choc...</td>\n",
       "      <td>Cafe, Mexican, Italian</td>\n",
       "      <td>800</td>\n",
       "      <td>Buffet</td>\n",
       "      <td>Banashankari</td>\n",
       "    </tr>\n",
       "    <tr>\n",
       "      <th>3</th>\n",
       "      <td>Addhuri Udupi Bhojana</td>\n",
       "      <td>No</td>\n",
       "      <td>No</td>\n",
       "      <td>3.7</td>\n",
       "      <td>88</td>\n",
       "      <td>Quick Bites</td>\n",
       "      <td>Masala Dosa</td>\n",
       "      <td>South Indian, North Indian</td>\n",
       "      <td>300</td>\n",
       "      <td>Buffet</td>\n",
       "      <td>Banashankari</td>\n",
       "    </tr>\n",
       "    <tr>\n",
       "      <th>4</th>\n",
       "      <td>Grand Village</td>\n",
       "      <td>No</td>\n",
       "      <td>No</td>\n",
       "      <td>3.8</td>\n",
       "      <td>166</td>\n",
       "      <td>Casual Dining</td>\n",
       "      <td>Panipuri, Gol Gappe</td>\n",
       "      <td>North Indian, Rajasthani</td>\n",
       "      <td>600</td>\n",
       "      <td>Buffet</td>\n",
       "      <td>Banashankari</td>\n",
       "    </tr>\n",
       "    <tr>\n",
       "      <th>...</th>\n",
       "      <td>...</td>\n",
       "      <td>...</td>\n",
       "      <td>...</td>\n",
       "      <td>...</td>\n",
       "      <td>...</td>\n",
       "      <td>...</td>\n",
       "      <td>...</td>\n",
       "      <td>...</td>\n",
       "      <td>...</td>\n",
       "      <td>...</td>\n",
       "      <td>...</td>\n",
       "    </tr>\n",
       "    <tr>\n",
       "      <th>51705</th>\n",
       "      <td>Izakaya Gastro Pub</td>\n",
       "      <td>Yes</td>\n",
       "      <td>Yes</td>\n",
       "      <td>3.8</td>\n",
       "      <td>128</td>\n",
       "      <td>Bar, Casual Dining</td>\n",
       "      <td>Beer, Chicken Guntur, Paneer Tikka, Fish, Nood...</td>\n",
       "      <td>North Indian, Continental, Mediterranean</td>\n",
       "      <td>1,200</td>\n",
       "      <td>Pubs and bars</td>\n",
       "      <td>Whitefield</td>\n",
       "    </tr>\n",
       "    <tr>\n",
       "      <th>51707</th>\n",
       "      <td>M Bar - Bengaluru Marriott Hotel Whitefield</td>\n",
       "      <td>No</td>\n",
       "      <td>No</td>\n",
       "      <td>3.9</td>\n",
       "      <td>77</td>\n",
       "      <td>Fine Dining, Bar</td>\n",
       "      <td>Rooftop Ambience</td>\n",
       "      <td>Finger Food</td>\n",
       "      <td>2,000</td>\n",
       "      <td>Pubs and bars</td>\n",
       "      <td>Whitefield</td>\n",
       "    </tr>\n",
       "    <tr>\n",
       "      <th>51708</th>\n",
       "      <td>Keys Cafe - Keys Hotel</td>\n",
       "      <td>No</td>\n",
       "      <td>No</td>\n",
       "      <td>2.8</td>\n",
       "      <td>161</td>\n",
       "      <td>Casual Dining, Bar</td>\n",
       "      <td>Salads, Coffee, Breakfast Buffet, Halwa, Chick...</td>\n",
       "      <td>Chinese, Continental, North Indian</td>\n",
       "      <td>1,200</td>\n",
       "      <td>Pubs and bars</td>\n",
       "      <td>Whitefield</td>\n",
       "    </tr>\n",
       "    <tr>\n",
       "      <th>51711</th>\n",
       "      <td>Bhagini</td>\n",
       "      <td>No</td>\n",
       "      <td>No</td>\n",
       "      <td>2.5</td>\n",
       "      <td>81</td>\n",
       "      <td>Casual Dining, Bar</td>\n",
       "      <td>Biryani, Andhra Meal</td>\n",
       "      <td>Andhra, South Indian, Chinese, North Indian</td>\n",
       "      <td>800</td>\n",
       "      <td>Pubs and bars</td>\n",
       "      <td>Whitefield</td>\n",
       "    </tr>\n",
       "    <tr>\n",
       "      <th>51715</th>\n",
       "      <td>Chime - Sheraton Grand Bengaluru Whitefield Ho...</td>\n",
       "      <td>No</td>\n",
       "      <td>Yes</td>\n",
       "      <td>4.3</td>\n",
       "      <td>236</td>\n",
       "      <td>Bar</td>\n",
       "      <td>Cocktails, Pizza, Buttermilk</td>\n",
       "      <td>Finger Food</td>\n",
       "      <td>2,500</td>\n",
       "      <td>Pubs and bars</td>\n",
       "      <td>Whitefield</td>\n",
       "    </tr>\n",
       "  </tbody>\n",
       "</table>\n",
       "<p>23218 rows × 11 columns</p>\n",
       "</div>"
      ],
      "text/plain": [
       "                                                    name online_order  \\\n",
       "0                                                  Jalsa          Yes   \n",
       "1                                         Spice Elephant          Yes   \n",
       "2                                        San Churro Cafe          Yes   \n",
       "3                                  Addhuri Udupi Bhojana           No   \n",
       "4                                          Grand Village           No   \n",
       "...                                                  ...          ...   \n",
       "51705                                 Izakaya Gastro Pub          Yes   \n",
       "51707        M Bar - Bengaluru Marriott Hotel Whitefield           No   \n",
       "51708                             Keys Cafe - Keys Hotel           No   \n",
       "51711                                            Bhagini           No   \n",
       "51715  Chime - Sheraton Grand Bengaluru Whitefield Ho...           No   \n",
       "\n",
       "      book_table  rate  votes            rest_type  \\\n",
       "0            Yes   4.1    775        Casual Dining   \n",
       "1             No   4.1    787        Casual Dining   \n",
       "2             No   3.8    918  Cafe, Casual Dining   \n",
       "3             No   3.7     88          Quick Bites   \n",
       "4             No   3.8    166        Casual Dining   \n",
       "...          ...   ...    ...                  ...   \n",
       "51705        Yes  3.8     128   Bar, Casual Dining   \n",
       "51707         No  3.9      77     Fine Dining, Bar   \n",
       "51708         No  2.8     161   Casual Dining, Bar   \n",
       "51711         No  2.5      81   Casual Dining, Bar   \n",
       "51715        Yes  4.3     236                  Bar   \n",
       "\n",
       "                                              dish_liked  \\\n",
       "0      Pasta, Lunch Buffet, Masala Papad, Paneer Laja...   \n",
       "1      Momos, Lunch Buffet, Chocolate Nirvana, Thai G...   \n",
       "2      Churros, Cannelloni, Minestrone Soup, Hot Choc...   \n",
       "3                                            Masala Dosa   \n",
       "4                                    Panipuri, Gol Gappe   \n",
       "...                                                  ...   \n",
       "51705  Beer, Chicken Guntur, Paneer Tikka, Fish, Nood...   \n",
       "51707                                   Rooftop Ambience   \n",
       "51708  Salads, Coffee, Breakfast Buffet, Halwa, Chick...   \n",
       "51711                               Biryani, Andhra Meal   \n",
       "51715                       Cocktails, Pizza, Buttermilk   \n",
       "\n",
       "                                          cuisines   cost      Meal_type  \\\n",
       "0                   North Indian, Mughlai, Chinese    800         Buffet   \n",
       "1                      Chinese, North Indian, Thai    800         Buffet   \n",
       "2                           Cafe, Mexican, Italian    800         Buffet   \n",
       "3                       South Indian, North Indian    300         Buffet   \n",
       "4                         North Indian, Rajasthani    600         Buffet   \n",
       "...                                            ...    ...            ...   \n",
       "51705     North Indian, Continental, Mediterranean  1,200  Pubs and bars   \n",
       "51707                                  Finger Food  2,000  Pubs and bars   \n",
       "51708           Chinese, Continental, North Indian  1,200  Pubs and bars   \n",
       "51711  Andhra, South Indian, Chinese, North Indian    800  Pubs and bars   \n",
       "51715                                  Finger Food  2,500  Pubs and bars   \n",
       "\n",
       "               city  \n",
       "0      Banashankari  \n",
       "1      Banashankari  \n",
       "2      Banashankari  \n",
       "3      Banashankari  \n",
       "4      Banashankari  \n",
       "...             ...  \n",
       "51705    Whitefield  \n",
       "51707    Whitefield  \n",
       "51708    Whitefield  \n",
       "51711    Whitefield  \n",
       "51715    Whitefield  \n",
       "\n",
       "[23218 rows x 11 columns]"
      ]
     },
     "execution_count": 38,
     "metadata": {},
     "output_type": "execute_result"
    }
   ],
   "source": [
    "df"
   ]
  },
  {
   "cell_type": "code",
   "execution_count": 39,
   "metadata": {},
   "outputs": [
    {
     "data": {
      "image/png": "[encoded data removed]",
      "text/plain": [
       "<Figure size 720x720 with 1 Axes>"
      ]
     },
     "metadata": {},
     "output_type": "display_data"
    }
   ],
   "source": [
    "plt.figure(figsize = (10,10))\n",
    "ax = df['Meal_type'].value_counts()\n",
    "#labels = df[\"Meal_type\"].value_counts().index\n",
    "#plt.pie(ax,labels=labels, autopct = \"%.2f\")\n",
    "ax.plot(kind=\"pie\",autopct = \"%.2f\")\n",
    "plt.title(\"Number of restaurants according to meal type\", fontsize = 20, color = \"purple\")\n",
    "plt.legend()\n",
    "plt.show()"
   ]
  },
  {
   "cell_type": "code",
   "execution_count": 40,
   "metadata": {},
   "outputs": [
    {
     "data": {
      "text/plain": [
       "Delivery              10641\n",
       "Dine-out               8002\n",
       "Desserts               1364\n",
       "Cafes                  1066\n",
       "Drinks & nightlife      872\n",
       "Buffet                  752\n",
       "Pubs and bars           521\n",
       "Name: Meal_type, dtype: int64"
      ]
     },
     "execution_count": 40,
     "metadata": {},
     "output_type": "execute_result"
    }
   ],
   "source": [
    "df[\"Meal_type\"].value_counts()"
   ]
  },
  {
   "cell_type": "markdown",
   "metadata": {},
   "source": [
    "##### No. of Restaurants in each area of the banglore"
   ]
  },
  {
   "cell_type": "code",
   "execution_count": 41,
   "metadata": {
    "scrolled": true
   },
   "outputs": [
    {
     "data": {
      "text/plain": [
       "<matplotlib.legend.Legend at 0x7fa8d8e0cf28>"
      ]
     },
     "execution_count": 41,
     "metadata": {},
     "output_type": "execute_result"
    },
    {
     "data": {
      "image/png": "[encoded data removed]",
      "text/plain": [
       "<Figure size 1440x1440 with 1 Axes>"
      ]
     },
     "metadata": {},
     "output_type": "display_data"
    }
   ],
   "source": [
    "plt.figure(figsize=(20,20))\n",
    "ax = df[\"city\"].value_counts()\n",
    "\n",
    "ax.plot(kind = \"pie\",fontsize = 10, autopct = \"%.2f\")\n",
    "plt.legend()"
   ]
  },
  {
   "cell_type": "markdown",
   "metadata": {},
   "source": [
    "##### Max. Number of Restaurants in  of banglore : Top 10"
   ]
  },
  {
   "cell_type": "code",
   "execution_count": 42,
   "metadata": {},
   "outputs": [
    {
     "data": {
      "image/png": "[encoded data removed]",
      "text/plain": [
       "<Figure size 1440x1440 with 1 Axes>"
      ]
     },
     "metadata": {},
     "output_type": "display_data"
    }
   ],
   "source": [
    "plt.figure(figsize=(20,20))\n",
    "ax = df[\"city\"].value_counts()[:10]\n",
    "labels = df[\"city\"].value_counts()[:10].index\n",
    "plt.pie(ax, labels=labels,autopct = \"%.2f\")\n",
    "plt.legend()\n",
    "plt.show()"
   ]
  },
  {
   "cell_type": "markdown",
   "metadata": {},
   "source": [
    "In this we observe that ---> In \"BTM\" location have most of restaurants"
   ]
  },
  {
   "cell_type": "code",
   "execution_count": 43,
   "metadata": {},
   "outputs": [
    {
     "data": {
      "text/plain": [
       "<matplotlib.axes._subplots.AxesSubplot at 0x7fa8d8dfd0b8>"
      ]
     },
     "execution_count": 43,
     "metadata": {},
     "output_type": "execute_result"
    },
    {
     "data": {
      "image/png": "[encoded data removed]",
      "text/plain": [
       "<Figure size 1080x1080 with 1 Axes>"
      ]
     },
     "metadata": {},
     "output_type": "display_data"
    }
   ],
   "source": [
    "plt.figure(figsize=(15,15))\n",
    "ax = df[\"city\"].value_counts()[:10]\n",
    "ax.plot(kind=\"bar\")"
   ]
  },
  {
   "cell_type": "markdown",
   "metadata": {},
   "source": [
    "####  Type of Restaurant in City"
   ]
  },
  {
   "cell_type": "code",
   "execution_count": 44,
   "metadata": {},
   "outputs": [
    {
     "data": {
      "text/plain": [
       "<matplotlib.axes._subplots.AxesSubplot at 0x7fa8db5e2a20>"
      ]
     },
     "execution_count": 44,
     "metadata": {},
     "output_type": "execute_result"
    },
    {
     "data": {
      "image/png": "[encoded data removed]",
      "text/plain": [
       "<Figure size 720x720 with 1 Axes>"
      ]
     },
     "metadata": {},
     "output_type": "display_data"
    }
   ],
   "source": [
    "plt.figure(figsize=(10,10))\n",
    "ax = df[\"rest_type\"].value_counts()[:10]\n",
    "ax.plot(kind=\"bar\")\n"
   ]
  },
  {
   "cell_type": "markdown",
   "metadata": {},
   "source": [
    "Restaurant that have same type more than 500 "
   ]
  },
  {
   "cell_type": "code",
   "execution_count": 45,
   "metadata": {},
   "outputs": [
    {
     "data": {
      "text/plain": [
       "<matplotlib.axes._subplots.AxesSubplot at 0x7fa8db4743c8>"
      ]
     },
     "execution_count": 45,
     "metadata": {},
     "output_type": "execute_result"
    },
    {
     "data": {
      "image/png": "[encoded data removed]",
      "text/plain": [
       "<Figure size 1080x1080 with 1 Axes>"
      ]
     },
     "metadata": {},
     "output_type": "display_data"
    }
   ],
   "source": [
    "a=df[\"rest_type\"].value_counts()\n",
    "b=a[a>500]  \n",
    "plt.figure(figsize=(15,15))\n",
    "b.plot(kind=\"pie\",autopct=\"%.2f\")"
   ]
  },
  {
   "cell_type": "code",
   "execution_count": 46,
   "metadata": {},
   "outputs": [
    {
     "data": {
      "text/plain": [
       "Casual Dining         7320\n",
       "Quick Bites           5248\n",
       "Cafe                  2372\n",
       "Dessert Parlor        1081\n",
       "Casual Dining, Bar     980\n",
       "Delivery               704\n",
       "Name: rest_type, dtype: int64"
      ]
     },
     "execution_count": 46,
     "metadata": {},
     "output_type": "execute_result"
    }
   ],
   "source": [
    "a[a>500]"
   ]
  },
  {
   "cell_type": "markdown",
   "metadata": {},
   "source": [
    "#### Avg Cost For Two Person ---> In case we observe what most of people prefer\n",
    "In case data in \"Object\" type so convert data into the integer format and then we can perform the sort function so we can easy to find out ."
   ]
  },
  {
   "cell_type": "code",
   "execution_count": 47,
   "metadata": {},
   "outputs": [
    {
     "data": {
      "text/plain": [
       "name            object\n",
       "online_order    object\n",
       "book_table      object\n",
       "rate            object\n",
       "votes            int32\n",
       "rest_type       object\n",
       "dish_liked      object\n",
       "cuisines        object\n",
       "cost            object\n",
       "Meal_type       object\n",
       "city            object\n",
       "dtype: object"
      ]
     },
     "execution_count": 47,
     "metadata": {},
     "output_type": "execute_result"
    }
   ],
   "source": [
    "df.dtypes"
   ]
  },
  {
   "cell_type": "code",
   "execution_count": 48,
   "metadata": {},
   "outputs": [
    {
     "name": "stderr",
     "output_type": "stream",
     "text": [
      "/home/arcgate/anaconda3/lib/python3.6/site-packages/ipykernel_launcher.py:1: SettingWithCopyWarning:\n",
      "\n",
      "\n",
      "A value is trying to be set on a copy of a slice from a DataFrame.\n",
      "Try using .loc[row_indexer,col_indexer] = value instead\n",
      "\n",
      "See the caveats in the documentation: https://pandas.pydata.org/pandas-docs/stable/user_guide/indexing.html#returning-a-view-versus-a-copy\n",
      "\n"
     ]
    }
   ],
   "source": [
    "df['cost'] = df['cost'].apply(lambda x: str(x).replace(',',''))"
   ]
  },
  {
   "cell_type": "code",
   "execution_count": 49,
   "metadata": {},
   "outputs": [
    {
     "data": {
      "text/plain": [
       "0         800\n",
       "1         800\n",
       "2         800\n",
       "3         300\n",
       "4         600\n",
       "         ... \n",
       "51705    1200\n",
       "51707    2000\n",
       "51708    1200\n",
       "51711     800\n",
       "51715    2500\n",
       "Name: cost, Length: 23218, dtype: object"
      ]
     },
     "execution_count": 49,
     "metadata": {},
     "output_type": "execute_result"
    }
   ],
   "source": [
    "df[\"cost\"]"
   ]
  },
  {
   "cell_type": "code",
   "execution_count": 50,
   "metadata": {
    "scrolled": true
   },
   "outputs": [
    {
     "name": "stderr",
     "output_type": "stream",
     "text": [
      "/home/arcgate/anaconda3/lib/python3.6/site-packages/ipykernel_launcher.py:1: SettingWithCopyWarning:\n",
      "\n",
      "\n",
      "A value is trying to be set on a copy of a slice from a DataFrame.\n",
      "Try using .loc[row_indexer,col_indexer] = value instead\n",
      "\n",
      "See the caveats in the documentation: https://pandas.pydata.org/pandas-docs/stable/user_guide/indexing.html#returning-a-view-versus-a-copy\n",
      "\n"
     ]
    }
   ],
   "source": [
    "df[\"cost\"] = df[\"cost\"].astype(\"int32\")"
   ]
  },
  {
   "cell_type": "code",
   "execution_count": 51,
   "metadata": {},
   "outputs": [
    {
     "data": {
      "text/plain": [
       "name            object\n",
       "online_order    object\n",
       "book_table      object\n",
       "rate            object\n",
       "votes            int32\n",
       "rest_type       object\n",
       "dish_liked      object\n",
       "cuisines        object\n",
       "cost             int32\n",
       "Meal_type       object\n",
       "city            object\n",
       "dtype: object"
      ]
     },
     "execution_count": 51,
     "metadata": {},
     "output_type": "execute_result"
    }
   ],
   "source": [
    "df.dtypes"
   ]
  },
  {
   "cell_type": "code",
   "execution_count": 52,
   "metadata": {},
   "outputs": [],
   "source": [
    "s = df[\"cost\"].sort_values()"
   ]
  },
  {
   "cell_type": "code",
   "execution_count": 53,
   "metadata": {},
   "outputs": [
    {
     "data": {
      "text/plain": [
       "400     2477\n",
       "500     2320\n",
       "600     2167\n",
       "300     1687\n",
       "800     1646\n",
       "1000    1217\n",
       "700     1201\n",
       "1200     901\n",
       "200      869\n",
       "1500     836\n",
       "450      719\n",
       "250      696\n",
       "750      651\n",
       "650      644\n",
       "350      553\n",
       "900      523\n",
       "1300     494\n",
       "1100     449\n",
       "1400     445\n",
       "550      439\n",
       "150      370\n",
       "2000     296\n",
       "1600     235\n",
       "1700     228\n",
       "1800     193\n",
       "3000     159\n",
       "2500     142\n",
       "850      122\n",
       "100      120\n",
       "2100      60\n",
       "1900      57\n",
       "950       47\n",
       "2200      39\n",
       "2800      31\n",
       "3500      25\n",
       "4000      24\n",
       "2400      22\n",
       "1350      18\n",
       "180       17\n",
       "3400      13\n",
       "230       10\n",
       "40         8\n",
       "1250       8\n",
       "1650       6\n",
       "1450       5\n",
       "4100       4\n",
       "2600       4\n",
       "1050       4\n",
       "330        4\n",
       "6000       2\n",
       "120        2\n",
       "4500       2\n",
       "3200       2\n",
       "2700       2\n",
       "2300       1\n",
       "5000       1\n",
       "3700       1\n",
       "Name: cost, dtype: int64"
      ]
     },
     "execution_count": 53,
     "metadata": {},
     "output_type": "execute_result"
    }
   ],
   "source": [
    "a = df[\"cost\"].value_counts()\n",
    "a.sort_values(axis=\"index\",ascending=False)"
   ]
  },
  {
   "cell_type": "code",
   "execution_count": 54,
   "metadata": {},
   "outputs": [
    {
     "data": {
      "text/plain": [
       "<matplotlib.legend.Legend at 0x7fa8d99b7b38>"
      ]
     },
     "execution_count": 54,
     "metadata": {},
     "output_type": "execute_result"
    },
    {
     "data": {
      "image/png": "[encoded data removed]",
      "text/plain": [
       "<Figure size 1080x1080 with 1 Axes>"
      ]
     },
     "metadata": {},
     "output_type": "display_data"
    }
   ],
   "source": [
    "plt.figure(figsize=(15,15))\n",
    "ax = a\n",
    "ax.plot(kind=\"bar\")\n",
    "plt.legend()"
   ]
  },
  {
   "cell_type": "markdown",
   "metadata": {},
   "source": [
    "### Rating Distribution"
   ]
  },
  {
   "cell_type": "code",
   "execution_count": 55,
   "metadata": {},
   "outputs": [
    {
     "data": {
      "text/plain": [
       "<matplotlib.axes._subplots.AxesSubplot at 0x7fa8db4ec748>"
      ]
     },
     "execution_count": 55,
     "metadata": {},
     "output_type": "execute_result"
    },
    {
     "data": {
      "image/png": "[encoded data removed]",
      "text/plain": [
       "<Figure size 720x720 with 1 Axes>"
      ]
     },
     "metadata": {},
     "output_type": "display_data"
    }
   ],
   "source": [
    "# How rating are distributed\n",
    "plt.figure(figsize=(10,10))\n",
    "sns.distplot(df[\"rate\"],bins=20)"
   ]
  },
  {
   "cell_type": "markdown",
   "metadata": {},
   "source": [
    "#### Observation:\n",
    "Most of the ratings are within 3.5 and 4.5"
   ]
  },
  {
   "cell_type": "markdown",
   "metadata": {},
   "source": [
    "#### Counting the rating as b/w \"1 and 2\",\"2 and 3\",\"3 and 4\",and \"5\""
   ]
  },
  {
   "cell_type": "code",
   "execution_count": 56,
   "metadata": {},
   "outputs": [
    {
     "data": {
      "text/plain": [
       "array(['4.1', '3.8', '3.7', '4.6', '4.0', '4.2', '3.9', '3.0', '3.6',\n",
       "       '2.8', '4.4', '3.1', '4.3', '2.6', '3.3', '3.5', '3.8 ', '3.2',\n",
       "       '4.5', '2.5', '2.9', '3.4', '2.7', '4.7', '2.4', '2.2', '2.3',\n",
       "       '4.8', '3.9 ', '4.2 ', '4.0 ', '4.1 ', '2.9 ', '2.7 ', '2.5 ',\n",
       "       '2.6 ', '4.5 ', '4.3 ', '3.7 ', '4.4 ', '4.9', '2.1', '2.0', '1.8',\n",
       "       '3.4 ', '3.6 ', '3.3 ', '4.6 ', '4.9 ', '3.2 ', '3.0 ', '2.8 ',\n",
       "       '3.5 ', '3.1 ', '4.8 ', '2.3 ', '4.7 ', '2.4 ', '2.1 ', '2.2 ',\n",
       "       '2.0 ', '1.8 '], dtype=object)"
      ]
     },
     "execution_count": 56,
     "metadata": {},
     "output_type": "execute_result"
    }
   ],
   "source": [
    "df[\"rate\"].unique()"
   ]
  },
  {
   "cell_type": "code",
   "execution_count": 57,
   "metadata": {},
   "outputs": [
    {
     "name": "stdout",
     "output_type": "stream",
     "text": [
      "The min Rating:  1.8\n",
      "The max Rating:  4.9 \n"
     ]
    }
   ],
   "source": [
    "print(\"The min Rating: \",df['rate'].min())\n",
    "print(\"The max Rating: \",df[\"rate\"].max())"
   ]
  },
  {
   "cell_type": "code",
   "execution_count": 58,
   "metadata": {},
   "outputs": [
    {
     "data": {
      "text/plain": [
       "name            object\n",
       "online_order    object\n",
       "book_table      object\n",
       "rate            object\n",
       "votes            int32\n",
       "rest_type       object\n",
       "dish_liked      object\n",
       "cuisines        object\n",
       "cost             int32\n",
       "Meal_type       object\n",
       "city            object\n",
       "dtype: object"
      ]
     },
     "execution_count": 58,
     "metadata": {},
     "output_type": "execute_result"
    }
   ],
   "source": [
    "df.dtypes"
   ]
  },
  {
   "cell_type": "code",
   "execution_count": 59,
   "metadata": {},
   "outputs": [
    {
     "name": "stderr",
     "output_type": "stream",
     "text": [
      "/home/arcgate/anaconda3/lib/python3.6/site-packages/ipykernel_launcher.py:2: SettingWithCopyWarning:\n",
      "\n",
      "\n",
      "A value is trying to be set on a copy of a slice from a DataFrame.\n",
      "Try using .loc[row_indexer,col_indexer] = value instead\n",
      "\n",
      "See the caveats in the documentation: https://pandas.pydata.org/pandas-docs/stable/user_guide/indexing.html#returning-a-view-versus-a-copy\n",
      "\n"
     ]
    }
   ],
   "source": [
    "# in case rate in \"object\" types --> Change into \"float\" type\n",
    "df[\"rate\"] = df[\"rate\"].astype(\"float\")"
   ]
  },
  {
   "cell_type": "code",
   "execution_count": 60,
   "metadata": {},
   "outputs": [
    {
     "data": {
      "text/plain": [
       "name             object\n",
       "online_order     object\n",
       "book_table       object\n",
       "rate            float64\n",
       "votes             int32\n",
       "rest_type        object\n",
       "dish_liked       object\n",
       "cuisines         object\n",
       "cost              int32\n",
       "Meal_type        object\n",
       "city             object\n",
       "dtype: object"
      ]
     },
     "execution_count": 60,
     "metadata": {},
     "output_type": "execute_result"
    }
   ],
   "source": [
    "df.dtypes"
   ]
  },
  {
   "cell_type": "code",
   "execution_count": 61,
   "metadata": {},
   "outputs": [
    {
     "data": {
      "text/plain": [
       "9860"
      ]
     },
     "execution_count": 61,
     "metadata": {},
     "output_type": "execute_result"
    }
   ],
   "source": [
    "((df[\"rate\"]>3) & (df[\"rate\"]<4)).sum()    "
   ]
  },
  {
   "cell_type": "markdown",
   "metadata": {},
   "source": [
    "Plotting the Counts with the help of pie chart"
   ]
  },
  {
   "cell_type": "code",
   "execution_count": 62,
   "metadata": {},
   "outputs": [
    {
     "data": {
      "text/plain": [
       "[5, 1178, 10151, 8984]"
      ]
     },
     "execution_count": 62,
     "metadata": {},
     "output_type": "execute_result"
    }
   ],
   "source": [
    "slices = [((df[\"rate\"]>=1) & (df[\"rate\"]<2)).sum(),\n",
    "         ((df[\"rate\"]>=2) & (df[\"rate\"]<3)).sum(),\n",
    "         ((df[\"rate\"]>=3) & (df[\"rate\"]<4)).sum(),\n",
    "         (df[\"rate\"]>4).sum()\n",
    "         ]\n",
    "slices"
   ]
  },
  {
   "cell_type": "code",
   "execution_count": 63,
   "metadata": {},
   "outputs": [
    {
     "data": {
      "text/plain": [
       "Text(0.5, 1.0, 'Percentage of Restaurants acc. to their Rating')"
      ]
     },
     "execution_count": 63,
     "metadata": {},
     "output_type": "execute_result"
    },
    {
     "data": {
      "image/png": "[encoded data removed]",
      "text/plain": [
       "<Figure size 1080x1080 with 1 Axes>"
      ]
     },
     "metadata": {},
     "output_type": "display_data"
    }
   ],
   "source": [
    "plt.figure(figsize=(15,15))\n",
    "labels = [\"b/w 1&2\",\"b/w 2&3\",\"b/w 3&4\",\">4\"]\n",
    "plt.pie(slices,labels=labels,autopct = \"%0.2f%%\",labeldistance=1.2,pctdistance=.55)\n",
    "plt.legend()\n",
    "plt.title(\"Percentage of Restaurants acc. to their Rating\",fontsize = 20, color = \"purple\")"
   ]
  },
  {
   "cell_type": "markdown",
   "metadata": {},
   "source": [
    "### Most Liked Dishes\n"
   ]
  },
  {
   "cell_type": "code",
   "execution_count": 64,
   "metadata": {},
   "outputs": [
    {
     "data": {
      "text/plain": [
       "0        Pasta, Lunch Buffet, Masala Papad, Paneer Laja...\n",
       "1        Momos, Lunch Buffet, Chocolate Nirvana, Thai G...\n",
       "2        Churros, Cannelloni, Minestrone Soup, Hot Choc...\n",
       "3                                              Masala Dosa\n",
       "4                                      Panipuri, Gol Gappe\n",
       "                               ...                        \n",
       "51705    Beer, Chicken Guntur, Paneer Tikka, Fish, Nood...\n",
       "51707                                     Rooftop Ambience\n",
       "51708    Salads, Coffee, Breakfast Buffet, Halwa, Chick...\n",
       "51711                                 Biryani, Andhra Meal\n",
       "51715                         Cocktails, Pizza, Buttermilk\n",
       "Name: dish_liked, Length: 23218, dtype: object"
      ]
     },
     "execution_count": 64,
     "metadata": {},
     "output_type": "execute_result"
    }
   ],
   "source": [
    "df[\"dish_liked\"]"
   ]
  },
  {
   "cell_type": "code",
   "execution_count": 65,
   "metadata": {},
   "outputs": [
    {
     "data": {
      "text/plain": [
       "(23218, 11)"
      ]
     },
     "execution_count": 65,
     "metadata": {},
     "output_type": "execute_result"
    }
   ],
   "source": [
    "df.shape"
   ]
  },
  {
   "cell_type": "markdown",
   "metadata": {},
   "source": [
    "#### idea\n",
    "* In this case we Store all the [dish_liked] element in the \"empty_list\" and then we count no. of time it occurs,\n",
    "* this show the popularity of the each_dish"
   ]
  },
  {
   "cell_type": "code",
   "execution_count": 66,
   "metadata": {},
   "outputs": [
    {
     "data": {
      "text/plain": [
       "(23218, 11)"
      ]
     },
     "execution_count": 66,
     "metadata": {},
     "output_type": "execute_result"
    }
   ],
   "source": [
    "# \"re\" ----> regular expression (use for the splitting words)\n",
    "\n",
    "import re\n",
    "df.shape"
   ]
  },
  {
   "cell_type": "code",
   "execution_count": 67,
   "metadata": {},
   "outputs": [],
   "source": [
    "df.index = range(df.shape[0])\n",
    "likes = []\n",
    "for i in range(df.shape[0]):\n",
    "    array_split = re.split(\",\",df['dish_liked'][i])\n",
    "    for iteam in array_split:\n",
    "        likes.append(iteam)"
   ]
  },
  {
   "cell_type": "code",
   "execution_count": 68,
   "metadata": {},
   "outputs": [
    {
     "data": {
      "text/plain": [
       "['Pasta',\n",
       " ' Lunch Buffet',\n",
       " ' Masala Papad',\n",
       " ' Paneer Lajawab',\n",
       " ' Tomato Shorba',\n",
       " ' Dum Biryani',\n",
       " ' Sweet Corn Soup',\n",
       " 'Momos',\n",
       " ' Lunch Buffet',\n",
       " ' Chocolate Nirvana',\n",
       " ' Thai Green Curry',\n",
       " ' Paneer Tikka',\n",
       " ' Dum Biryani',\n",
       " ' Chicken Biryani',\n",
       " 'Churros',\n",
       " ' Cannelloni',\n",
       " ' Minestrone Soup',\n",
       " ' Hot Chocolate',\n",
       " ' Pink Sauce Pasta',\n",
       " ' Salsa',\n",
       " ' Veg Supreme Pizza',\n",
       " 'Masala Dosa',\n",
       " 'Panipuri',\n",
       " ' Gol Gappe',\n",
       " 'Onion Rings',\n",
       " ' Pasta',\n",
       " ' Kadhai Paneer',\n",
       " ' Salads',\n",
       " ' Salad',\n",
       " ' Roti',\n",
       " ' Jeera Rice',\n",
       " 'Farmhouse Pizza',\n",
       " ' Chocolate Banana',\n",
       " ' Virgin Mojito',\n",
       " ' Pasta',\n",
       " ' Paneer Tikka',\n",
       " ' Lime Soda',\n",
       " ' Prawn Pizza',\n",
       " 'Pizza',\n",
       " ' Mocktails',\n",
       " ' Coffee',\n",
       " ' Nachos',\n",
       " ' Salad',\n",
       " ' Pasta',\n",
       " ' Sandwiches',\n",
       " 'Waffles',\n",
       " ' Pasta',\n",
       " ' Coleslaw Sandwich',\n",
       " ' Choco Waffle',\n",
       " ' Tacos',\n",
       " ' Momos',\n",
       " ' Cheese Nachos',\n",
       " 'Waffles',\n",
       " ' Pasta',\n",
       " ' Crispy Chicken',\n",
       " ' Honey Chilli Chicken',\n",
       " ' Sandwich',\n",
       " ' Coffee',\n",
       " ' Crepe',\n",
       " 'Mocktails',\n",
       " ' Peri Fries',\n",
       " ' Lasagne',\n",
       " ' Pizza',\n",
       " ' Chicken Bbq Wings',\n",
       " ' Virgin Mojito',\n",
       " ' Nachos',\n",
       " 'Coffee',\n",
       " ' Spaghetti',\n",
       " ' Pancakes',\n",
       " ' Nachos',\n",
       " ' Pasta',\n",
       " ' Sandwich',\n",
       " ' Garlic Bread',\n",
       " 'Sandwich',\n",
       " ' Omelette',\n",
       " ' Ice Tea',\n",
       " ' Virgin Mojito',\n",
       " ' Hot Chocolate',\n",
       " ' Pasta Arrabiata',\n",
       " ' Hazelnut Cappuccino',\n",
       " 'Churros',\n",
       " ' Cannelloni',\n",
       " ' Minestrone Soup',\n",
       " ' Hot Chocolate',\n",
       " ' Pink Sauce Pasta',\n",
       " ' Salsa',\n",
       " ' Veg Supreme Pizza',\n",
       " 'Garlic Bread',\n",
       " ' Burgers',\n",
       " ' Sandwiches',\n",
       " ' Pizza',\n",
       " ' Hot Chocolate Fudge',\n",
       " ' Waffles',\n",
       " ' Potato Wedges',\n",
       " 'Momos',\n",
       " ' Mushroom Bruschettas',\n",
       " ' Jalapeno Cheeseballs',\n",
       " ' Pasta',\n",
       " ' Red Velvet Shake',\n",
       " ' Red Velvet Milkshake',\n",
       " ' Maggi',\n",
       " 'Pasta',\n",
       " ' Gelato',\n",
       " ' Garlic Bread',\n",
       " ' Mojito',\n",
       " ' Nachos',\n",
       " ' Paneer Pizza',\n",
       " ' Mocktails',\n",
       " 'Cheese Maggi',\n",
       " ' Peri Peri Fries',\n",
       " ' Pasta Arrabiata',\n",
       " 'Burgers',\n",
       " ' Caramel Milkshake',\n",
       " ' Iced Coffee',\n",
       " ' Iced Tea',\n",
       " 'Pizza',\n",
       " ' Garlic Bread',\n",
       " 'Pasta',\n",
       " ' Iced Tea',\n",
       " 'Paratha',\n",
       " ' Sandwich',\n",
       " ' Chilli Idli',\n",
       " ' Noodles',\n",
       " ' Sandwiches',\n",
       " ' Lime Soda',\n",
       " 'Pizza',\n",
       " ' Fries',\n",
       " ' Anjeer Ice Cream',\n",
       " ' Sandwiches',\n",
       " ' Gelato',\n",
       " ' Burgers',\n",
       " ' Kesar Badam',\n",
       " 'Burgers',\n",
       " ' Lassi',\n",
       " ' Chicken Grill',\n",
       " ' Naan',\n",
       " ' Momos',\n",
       " ' Chicken Burger',\n",
       " ' Biryani',\n",
       " 'Paneer Tikka',\n",
       " ' Garlic Bread',\n",
       " ' Thin Crust Pizza',\n",
       " ' Falafel',\n",
       " ' Veggie Pizza',\n",
       " 'Rolls',\n",
       " ' Veggie Wrap',\n",
       " ' Chocolate Fantasy',\n",
       " ' Rice Bowls',\n",
       " ' Chicken Rice',\n",
       " ' Paneer Makhanwala',\n",
       " ' Chicken Tikka Wrap',\n",
       " 'Raita',\n",
       " ' Gulab Jamun',\n",
       " ' Paneer Biryani',\n",
       " ' Vegetable Biryani',\n",
       " ' Gosht Dum Biryani',\n",
       " ' Chicken Biryani',\n",
       " ' Murgh Biryani',\n",
       " 'Noodles',\n",
       " ' Momos',\n",
       " ' Veg Manchow Soup',\n",
       " ' Kung Pao Chicken',\n",
       " ' Chicken Lollipop',\n",
       " ' Chop Suey',\n",
       " ' Dragon Chicken',\n",
       " 'Chicken Tikka Masala',\n",
       " ' Mutton Keema Dosa',\n",
       " ' Mutton Biryani',\n",
       " ' Raan Biryani',\n",
       " ' Brain Fry',\n",
       " ' Chicken Grill',\n",
       " ' Ghee Rice',\n",
       " 'Dabeli',\n",
       " ' Faluda',\n",
       " ' Masala Poori',\n",
       " ' Sandwiches',\n",
       " ' Tokri Chaat',\n",
       " ' Pav Bhaji',\n",
       " ' Dahipuri',\n",
       " 'Burgers',\n",
       " ' Fries',\n",
       " ' Hot Chocolate',\n",
       " 'Pane Pizza',\n",
       " ' Lava Cake',\n",
       " ' Pasta',\n",
       " ' Stuffed Garlic Bread',\n",
       " ' Chocolava Cake',\n",
       " ' Tacos',\n",
       " 'Farmhouse Pizza',\n",
       " ' Chocolate Banana',\n",
       " ' Virgin Mojito',\n",
       " ' Pasta',\n",
       " ' Paneer Tikka',\n",
       " ' Lime Soda',\n",
       " ' Prawn Pizza',\n",
       " 'Prompt Service',\n",
       " 'Biryani',\n",
       " 'Butter Chicken',\n",
       " ' Noodles',\n",
       " ' Thali',\n",
       " ' Biryani',\n",
       " 'Momos',\n",
       " ' Dragon Chicken',\n",
       " ' Hakka Noodles',\n",
       " ' Chowmein',\n",
       " ' Chop Suey',\n",
       " ' Chilli Garlic Noodles',\n",
       " ' Garlic Rice',\n",
       " 'Paratha',\n",
       " ' Pasta',\n",
       " 'Hot Chocolate Fudge',\n",
       " ' Vanilla Ice Cream',\n",
       " ' Fudge Cake',\n",
       " ' Chocolate Mousse',\n",
       " 'Prawn Biryani',\n",
       " ' Dragon Chicken',\n",
       " ' Chicken Boneless Biryani',\n",
       " ' Afghani Biryani',\n",
       " ' Mughlai Biryani',\n",
       " ' Paneer Tikka Biryani',\n",
       " ' Gongura Biryani',\n",
       " 'Pasta',\n",
       " ' Momos',\n",
       " ' Rolls',\n",
       " ' Chicken Roll',\n",
       " ' Chilli Chicken',\n",
       " ' Paneer Roll',\n",
       " ' Spaghetti',\n",
       " 'Salads',\n",
       " ' Sandwiches',\n",
       " ' Salad',\n",
       " ' Thai Rice',\n",
       " ' Pasta',\n",
       " ' Noodles',\n",
       " ' Pizza',\n",
       " 'Sushi',\n",
       " ' Noodles',\n",
       " ' Wine',\n",
       " ' Khau Suey',\n",
       " ' Mocktails',\n",
       " ' Yakisoba',\n",
       " ' Spring Roll',\n",
       " 'Pasta',\n",
       " ' Pepper Pizza',\n",
       " ' Paneer Pizza',\n",
       " ' Peppy Paneer',\n",
       " ' Nachos',\n",
       " ' Supreme Pizza',\n",
       " ' Manchow Soup',\n",
       " 'Sea Food',\n",
       " ' Crab Meat',\n",
       " ' Crab Soup',\n",
       " ' Fish Curry',\n",
       " ' Chicken Cafreal',\n",
       " ' Butter Naan',\n",
       " ' Butter Chicken',\n",
       " 'Salads',\n",
       " ' Panneer Butter Masala',\n",
       " ' Rabri',\n",
       " ' Gajar Ka Halwa',\n",
       " ' Manchow Soup',\n",
       " ' Aam Panna',\n",
       " ' Tomato Basil Soup',\n",
       " 'Grape Juice',\n",
       " ' Chicken Grill',\n",
       " ' Chicken Tikka Roll',\n",
       " ' Shawarma Roll',\n",
       " ' Chicken Shawarama',\n",
       " ' Biryani Combo',\n",
       " ' Rolls',\n",
       " 'Beer',\n",
       " ' Wedges',\n",
       " ' Pizza',\n",
       " ' Nachos',\n",
       " ' Salads',\n",
       " ' Papaya Salad',\n",
       " ' Buffalo Wings',\n",
       " 'Vegetable Biryani',\n",
       " ' Ginger Chicken',\n",
       " ' Chicken Biryani',\n",
       " ' Donne Biryani',\n",
       " ' Chicken Kebab',\n",
       " ' Egg Bhurji',\n",
       " ' Dum Biryani',\n",
       " 'Rolls',\n",
       " ' Momos',\n",
       " ' Fries',\n",
       " ' Veggie Roll',\n",
       " ' Chicken Kebab Roll',\n",
       " ' Paneer Roll',\n",
       " ' Cheese Roll',\n",
       " 'Benne Dosa',\n",
       " ' Mirchi Bajji',\n",
       " ' Filter Coffee',\n",
       " ' Poha',\n",
       " ' Tea',\n",
       " ' Butter Dosa',\n",
       " ' Crispy Dosa',\n",
       " 'Masala Dosa',\n",
       " 'Berryblast',\n",
       " ' Waffles',\n",
       " ' Cheesecake',\n",
       " ' Salted Caramel',\n",
       " 'Chicken Boneless Biryani',\n",
       " ' Hyderabadi Biryani',\n",
       " ' Paneer Biryani',\n",
       " ' Tandoori Chicken',\n",
       " ' Vegetable Biryani',\n",
       " ' Chicken Kebab',\n",
       " ' Raita',\n",
       " 'Biryani',\n",
       " ' Chicken Guntur',\n",
       " ' Thali',\n",
       " ' Buttermilk',\n",
       " ' Manchurian',\n",
       " 'Chilli Chicken',\n",
       " 'Panipuri',\n",
       " ' Chaat',\n",
       " ' Noodles',\n",
       " ' Dahi Bhalle',\n",
       " 'Hot Chocolate Fudge',\n",
       " 'Rooftop Ambience',\n",
       " 'Coffee',\n",
       " ' Tea',\n",
       " ' Kesari Bath',\n",
       " ' Open Dosa',\n",
       " ' Vada',\n",
       " ' Idli',\n",
       " ' Bread Dosa',\n",
       " 'Cup Cake',\n",
       " ' Chocolate Cake',\n",
       " 'Masala Dosa',\n",
       " ' Tirupathi Pongal',\n",
       " ' Filter Coffee',\n",
       " ' Vada',\n",
       " ' Kharabath',\n",
       " ' Kali Dosa',\n",
       " ' Rava Idli',\n",
       " 'Panner Tikka',\n",
       " ' Kulfi',\n",
       " ' Coffee',\n",
       " ' Pav Bhaji',\n",
       " ' Carrot Halwa',\n",
       " ' Fried Rice',\n",
       " ' Set Dosa',\n",
       " 'Paneer Tikka',\n",
       " ' Dal Kichadi',\n",
       " ' French Fries',\n",
       " 'Filter Coffee',\n",
       " ' Masala Dosa',\n",
       " ' Idli',\n",
       " ' Vada',\n",
       " 'Rolls',\n",
       " ' Shawarma',\n",
       " ' Butter Chicken',\n",
       " ' Mutton Biryani',\n",
       " ' Lahori Chicken',\n",
       " ' Chicken Roll',\n",
       " ' Grape Juice',\n",
       " 'Rolls',\n",
       " ' Paratha',\n",
       " ' Chicken Biryani',\n",
       " 'Paratha',\n",
       " ' Mughlai Chicken',\n",
       " ' Masala Lemonade',\n",
       " ' Butter Chicken',\n",
       " ' Rajma',\n",
       " ' Sandwich',\n",
       " ' Salad',\n",
       " 'Burgers',\n",
       " ' French Fries',\n",
       " 'Rolls',\n",
       " ' Ice Cream Roll',\n",
       " ' Paan Ice Cream',\n",
       " ' Coffee',\n",
       " ' Vanilla Ice Cream',\n",
       " ' Chocolate Icecreams',\n",
       " ' Mississippi Mudpie',\n",
       " 'Kadhai Paneer',\n",
       " ' Ghee Rice',\n",
       " ' Chicken Grill',\n",
       " ' Shawarma',\n",
       " ' Paratha',\n",
       " ' Biryani',\n",
       " ' Butter Chicken',\n",
       " 'Chicken Biryani',\n",
       " ' Rolls',\n",
       " 'Roast Pork',\n",
       " ' Tai Pai Chicken',\n",
       " ' Beer',\n",
       " ' Sweet Corn Chicken Soup',\n",
       " ' Masala Peanuts',\n",
       " ' Chinese Chop Suey',\n",
       " ' Chicken Lollipop',\n",
       " 'Pizza',\n",
       " ' Nachos',\n",
       " ' Garlic Maggi',\n",
       " ' Burgers',\n",
       " ' Cheese Maggi',\n",
       " ' Bruschetta Bites',\n",
       " ' Sandwich',\n",
       " 'Noodles',\n",
       " ' Laksa Soup',\n",
       " ' Coffee',\n",
       " ' Veg Fritters',\n",
       " ' Vegetarian',\n",
       " ' Babycorn Manchurian',\n",
       " ' Mango Salad',\n",
       " 'Lassi',\n",
       " 'Coffee',\n",
       " ' Chaat',\n",
       " 'Pizza',\n",
       " ' Nachos',\n",
       " ' Salads',\n",
       " ' Peri Peri Fries',\n",
       " ' Brownie',\n",
       " ' Pasta Alfredo',\n",
       " ' Spaghetti',\n",
       " 'Chicken Grill',\n",
       " ' Biryani',\n",
       " ' Roti',\n",
       " ' Chicken Masala',\n",
       " 'Chaat',\n",
       " ' Pav Bhaji',\n",
       " ' Dabeli',\n",
       " ' Vada Pav',\n",
       " ' Tawa Pulav',\n",
       " ' Panipuri',\n",
       " ' Malpua',\n",
       " 'Pizza',\n",
       " ' Burgers',\n",
       " 'Burgers',\n",
       " ' Panneer Butter Masala',\n",
       " ' Pasta',\n",
       " ' Hot Dog',\n",
       " ' Fries',\n",
       " ' Cheesy Pizza',\n",
       " ' Potato Wedges',\n",
       " 'Sandwiches',\n",
       " ' Thick Shakes',\n",
       " ' Paan Shake',\n",
       " ' Brownie Bomb',\n",
       " ' Fries',\n",
       " ' Spinach Corn Sandwich',\n",
       " ' Paneer Peri Peri',\n",
       " 'Pizza',\n",
       " ' Pasta',\n",
       " ' Spinach Salsa',\n",
       " ' Garlic Bread',\n",
       " ' Lasagne',\n",
       " ' Bruschettas',\n",
       " ' Chocolate Bomb',\n",
       " 'Friendly Staff',\n",
       " 'Biryani',\n",
       " 'Paratha',\n",
       " ' Vada Pav',\n",
       " ' Chaat',\n",
       " ' Pav Bhaji',\n",
       " ' Panipuri',\n",
       " ' Masala Poori',\n",
       " ' Dhokla',\n",
       " 'Whole Meat Shawarma',\n",
       " ' Fries',\n",
       " 'Panneer Butter Masala',\n",
       " ' Lassi',\n",
       " ' Paratha',\n",
       " ' Jeera Rice',\n",
       " ' Paneer Parantha',\n",
       " ' Bhindi Fry',\n",
       " ' Veg Kolhapuri',\n",
       " 'Waffles',\n",
       " ' Pasta',\n",
       " ' Crispy Chicken',\n",
       " ' Honey Chilli Chicken',\n",
       " ' Sandwich',\n",
       " ' Coffee',\n",
       " ' Crepe',\n",
       " 'Masala Papad',\n",
       " ' Paneer Satay',\n",
       " ' Vegetable Biryani',\n",
       " ' Panneer Butter Masala',\n",
       " ' Tomato Soup',\n",
       " ' Manchow Soup',\n",
       " ' Roti',\n",
       " 'Shawarma',\n",
       " ' Biryani',\n",
       " ' Bbq Chicken',\n",
       " ' Chicken Grill',\n",
       " ' Raita',\n",
       " 'Jowar Roti',\n",
       " ' Buttermilk',\n",
       " ' Sabudana Vada',\n",
       " ' Thali',\n",
       " ' Mirchi Bajji',\n",
       " ' Brinjal Curry',\n",
       " 'Burgers',\n",
       " ' Caramel Milkshake',\n",
       " ' Iced Coffee',\n",
       " ' Iced Tea',\n",
       " 'Supreme Pizza',\n",
       " ' Potato Wedges',\n",
       " ' Masala Lemonade',\n",
       " ' Tandoori Paneer',\n",
       " ' Exotic Garlic Bread',\n",
       " 'Neer Dosa',\n",
       " ' Sea Food',\n",
       " ' Ghee Rice',\n",
       " ' Marwai Sukka',\n",
       " ' Egg Biryani',\n",
       " ' Kori Roti',\n",
       " ' Thai Fish',\n",
       " 'White Pasta',\n",
       " ' Noodles',\n",
       " ' Babycorn Manchurian',\n",
       " ' Pizza',\n",
       " ' Veg Momos',\n",
       " ' Fry Momos',\n",
       " ' Tawa Pulav',\n",
       " 'Masala Dosa',\n",
       " ' Sandwiches',\n",
       " ' Coffee',\n",
       " ' Onion Dosa',\n",
       " ' Rava Dosa',\n",
       " ' Chaat',\n",
       " ' Sandwich',\n",
       " 'French Fries',\n",
       " ' Burgers',\n",
       " 'Paratha',\n",
       " ' Boondi Raita',\n",
       " ' Roti',\n",
       " ' Kulfi',\n",
       " ' Panneer Butter Masala',\n",
       " ' Sweet Lassi',\n",
       " ' Dal Tadka',\n",
       " 'Veg Momos',\n",
       " ' Brownie Chocolate',\n",
       " ' Palak Chaat',\n",
       " ' Mutton Biryani',\n",
       " ' Dahipuri',\n",
       " ' Fish',\n",
       " ' Sea Food',\n",
       " 'Noodles',\n",
       " ' Pasta',\n",
       " ' Schezwan Momos',\n",
       " ' Chicken Momo',\n",
       " ' Teriyaki Chicken',\n",
       " ' Thukpa',\n",
       " ' Fries',\n",
       " 'Spring Roll',\n",
       " ' Manchow Soup',\n",
       " ' Babycorn Manchurian',\n",
       " ' Mint Cooler',\n",
       " ' Roti',\n",
       " ' Panneer Butter Masala',\n",
       " 'Biryani',\n",
       " 'Pho',\n",
       " ' Papaya Salad',\n",
       " ' Coffee',\n",
       " ' Veg Momos',\n",
       " ' Rolls',\n",
       " 'Waffles',\n",
       " ' Pasta',\n",
       " ' Coleslaw Sandwich',\n",
       " ' Choco Waffle',\n",
       " ' Tacos',\n",
       " ' Momos',\n",
       " ' Cheese Nachos',\n",
       " 'Pizza',\n",
       " ' Pasta',\n",
       " ' Salads',\n",
       " ' Calamari',\n",
       " ' Ravioli',\n",
       " ' Pumpkin Soup',\n",
       " ' Wine',\n",
       " 'Nachos',\n",
       " ' Cup Cake',\n",
       " ' Hot Chocolate Fudge',\n",
       " ' Salsa',\n",
       " ' Cheesy Garlic Bread',\n",
       " ' Waffles',\n",
       " ' Tiramisu',\n",
       " 'Lime Soda',\n",
       " ' Manchow Soup',\n",
       " ' Biryani',\n",
       " ' Lemon Chicken',\n",
       " ' Tomato Soup',\n",
       " ' Butter Naan',\n",
       " ' Chilli Chicken',\n",
       " 'Murgh Ghee Roast',\n",
       " ' Fish Fry',\n",
       " ' Ghee Roast Paneer',\n",
       " ' Neer Dosa',\n",
       " ' Appam',\n",
       " ' Sea Food',\n",
       " ' Chicken Sukha',\n",
       " 'Ragi Mudde',\n",
       " ' Lemon Chicken',\n",
       " ' Chilli Chicken',\n",
       " ' Chicken Curry',\n",
       " ' Mutton Chops',\n",
       " ' Mutton Biryani',\n",
       " 'Pasta',\n",
       " ' Potato Fries',\n",
       " ' Potato Wedges',\n",
       " ' Hot Chocolate',\n",
       " ' Chaat',\n",
       " ' Filter Coffee',\n",
       " ' Americano',\n",
       " 'Sweet Lassi',\n",
       " ' Gulab Jamun',\n",
       " ' Palak Paneer Paratha',\n",
       " ' Paneer Parantha',\n",
       " 'Pizza',\n",
       " ' White Sauce Pasta',\n",
       " ' Masala Garlic Bread',\n",
       " 'Burgers',\n",
       " ' Fries',\n",
       " ' Mojito',\n",
       " ' Chicken Burger',\n",
       " 'Paratha',\n",
       " ' Sandwich',\n",
       " ' Chilli Idli',\n",
       " ' Noodles',\n",
       " ' Sandwiches',\n",
       " ' Lime Soda',\n",
       " 'Chicken Biryani',\n",
       " ' Mutton Biryani',\n",
       " ' Egg Biryani',\n",
       " ' Chicken Fry',\n",
       " ' Mutton Fry',\n",
       " 'Chaat',\n",
       " ' Brownie',\n",
       " ' Onion Rings',\n",
       " ' Tomato Soup',\n",
       " ' Paneer Manchurian',\n",
       " ' Thali',\n",
       " ' Faluda',\n",
       " 'Sandwiches',\n",
       " ' Chocolate Sandwich',\n",
       " ' Chaat',\n",
       " ' Veg Cheese Sandwich',\n",
       " ' Chilli Cheese',\n",
       " ' Corn Sandwich',\n",
       " 'Prawn Biryani',\n",
       " ' Andhra Meal',\n",
       " ' Veg Thali',\n",
       " ' Fry Piece Biryani',\n",
       " ' Gongura Chicken',\n",
       " ' Paratha',\n",
       " 'Veggie Delight',\n",
       " ' Paneer Tikka',\n",
       " ' Salad',\n",
       " 'Faluda',\n",
       " ' Brownie',\n",
       " ' Sandwich',\n",
       " ' Kulfi',\n",
       " ' Fruit Salad',\n",
       " ' Sweet Lassi',\n",
       " ' Chocolate Fudge',\n",
       " 'Pav Bhaji',\n",
       " ' Masala Dosa',\n",
       " ' Idli Vada',\n",
       " ' Filter Coffee',\n",
       " ' Pongal',\n",
       " ' Curd Rice',\n",
       " ' Kesari Bath',\n",
       " 'Roti',\n",
       " ' Masala Dosa',\n",
       " 'Onion Rings',\n",
       " ' Pasta',\n",
       " ' Kadhai Paneer',\n",
       " ' Salads',\n",
       " ' Salad',\n",
       " ' Roti',\n",
       " ' Jeera Rice',\n",
       " 'Masala Papad',\n",
       " ' Paneer Satay',\n",
       " ' Paneer Hyderabadi',\n",
       " ' Butter Naan',\n",
       " ' Roti',\n",
       " 'Stuffed Mushroom',\n",
       " ' Chicken Biryani',\n",
       " ' Jal-jeera',\n",
       " 'Filter Coffee',\n",
       " ' Tea',\n",
       " ' Hot Coffee',\n",
       " ' Hatti Samosa',\n",
       " 'Masala Dosa',\n",
       " 'Badam Milk',\n",
       " ' Potato Twister',\n",
       " ' Pav Bhaji',\n",
       " ' Panipuri',\n",
       " ' Tikki Chaat',\n",
       " ' Cheese Cutlet',\n",
       " 'Pasta',\n",
       " ' Iced Tea',\n",
       " 'Roti',\n",
       " ' Butter Kulcha',\n",
       " ' Fried Rice',\n",
       " ' Tomato Soup',\n",
       " ' Curd Rice',\n",
       " ' Lunch Buffet',\n",
       " ' Paneer Tikka',\n",
       " 'Chicken Biryani',\n",
       " 'Chicken Biryani',\n",
       " ' Ragi Mudde',\n",
       " ' Mutton Chops',\n",
       " 'Masala Dosa',\n",
       " ' Coffee',\n",
       " 'Cocktails',\n",
       " ' Paneer Tikka',\n",
       " ' Rasmalai',\n",
       " ' Rabri',\n",
       " ' Masala Papad',\n",
       " ' Vegetable Biryani',\n",
       " ' Chicken Curry',\n",
       " 'Garlic Bread',\n",
       " ' Burgers',\n",
       " ' Sandwiches',\n",
       " ' Pizza',\n",
       " ' Hot Chocolate Fudge',\n",
       " ' Waffles',\n",
       " ' Potato Wedges',\n",
       " 'Veggie Pizza',\n",
       " ' Garlic Bread',\n",
       " ' Lava Cake',\n",
       " ' Chocolava',\n",
       " ' Spicy Paneer',\n",
       " 'Kharabath',\n",
       " ' Crispy Vada',\n",
       " ' Filter Coffee',\n",
       " ' Idli Vada',\n",
       " ' Idli Chutney',\n",
       " ' Kesari Bath',\n",
       " ' Gulab Jamun',\n",
       " 'Noodles',\n",
       " ' Veg Momos',\n",
       " ' Chowmein',\n",
       " ' Schezwan Fried Rice',\n",
       " ' Clear Soup',\n",
       " ' Sweet Corn Soup',\n",
       " ' Chicken Wings',\n",
       " 'Veg Thali',\n",
       " ' Matka Kulfi',\n",
       " ' Pongal',\n",
       " ' Buttermilk',\n",
       " ' Vada',\n",
       " ' Ragi Mudde',\n",
       " ' Curd Rice',\n",
       " 'Coffee',\n",
       " ' Sandwich',\n",
       " ' Hot Chocolate',\n",
       " ' Ice Tea',\n",
       " ' Sandwiches',\n",
       " ' Chicken Lasagne',\n",
       " ' Pizza',\n",
       " 'Jowar Roti',\n",
       " ' Buttermilk',\n",
       " ' Jolada Rotti',\n",
       " ' Brinjal Curry',\n",
       " ' Coffee',\n",
       " ' Pongal',\n",
       " ' Vegetable Biryani',\n",
       " 'Pizza',\n",
       " ' Garlic Bread',\n",
       " 'Sweet Pongal',\n",
       " ' Mini Idlis',\n",
       " ' Filter Coffee',\n",
       " ' Open Masala Dosa',\n",
       " ' Pakoda',\n",
       " ' Vada',\n",
       " ' Raagi Dosa',\n",
       " 'Paratha',\n",
       " ' Coffee',\n",
       " ' Halwa',\n",
       " ' Lassi',\n",
       " 'Vegetable Biryani',\n",
       " ' Pineapple Rasam',\n",
       " ' Cheese Garlic Naan',\n",
       " ' Potato Cheese Ball',\n",
       " ' Bamboo Chicken Biryani',\n",
       " ' Chicken Skewer',\n",
       " ' Fish',\n",
       " 'Malai Kofta',\n",
       " ' Sandwich',\n",
       " ' Naan',\n",
       " 'Momos',\n",
       " ' Lunch Buffet',\n",
       " ' Chocolate Nirvana',\n",
       " ' Thai Green Curry',\n",
       " ' Paneer Tikka',\n",
       " ' Dum Biryani',\n",
       " ' Chicken Biryani',\n",
       " 'Coffee',\n",
       " ' Masala Dosa',\n",
       " 'Sea Food',\n",
       " ' Neer Dosa',\n",
       " ' Anjal Masala Fry',\n",
       " ' Coconut Pudding',\n",
       " ' Chicken Biryani',\n",
       " ' Roti',\n",
       " ' Fish Curry',\n",
       " 'Tandoori Chicken',\n",
       " ' Rolls',\n",
       " 'Pasta',\n",
       " ' Nachos',\n",
       " ' Jalapeno Poppers',\n",
       " ' Burrito Bowl',\n",
       " ' Ferrero Rocher Shake',\n",
       " ' Falafal Sandwich',\n",
       " ' Banana Waffles',\n",
       " 'Pizza',\n",
       " ' Mocktails',\n",
       " ' Coffee',\n",
       " ' Nachos',\n",
       " ' Salad',\n",
       " ' Pasta',\n",
       " ' Sandwiches',\n",
       " 'Aloo Paratha',\n",
       " 'Rava Dosa',\n",
       " 'Momos',\n",
       " ' Mushroom Bruschettas',\n",
       " ' Jalapeno Cheeseballs',\n",
       " ' Pasta',\n",
       " ' Red Velvet Shake',\n",
       " ' Red Velvet Milkshake',\n",
       " ' Maggi',\n",
       " 'Pesto Pizza',\n",
       " 'Sandwiches',\n",
       " ' Noodles',\n",
       " ' Sandwich',\n",
       " 'Lasagne',\n",
       " ' Steak',\n",
       " ' Masala Quesadilla',\n",
       " ' Garlic Bread',\n",
       " 'Breakfast Buffet',\n",
       " ' Kulcha',\n",
       " ' Almond Soup',\n",
       " ' Lunch Buffet',\n",
       " ' Roti',\n",
       " ' Mocktails',\n",
       " ' Vegetarian',\n",
       " 'Hara Bhara Kabab',\n",
       " ' Crispy Corn',\n",
       " ' Patiala Paneer',\n",
       " ' Panneer Butter Masala',\n",
       " ' Dum Biryani',\n",
       " ' Jal-jeera',\n",
       " ' Butter Naan',\n",
       " 'Waffles',\n",
       " ' Cup Cake',\n",
       " ' Chocolate Cake',\n",
       " 'Waffles',\n",
       " 'Momos',\n",
       " ' Burgers',\n",
       " ' Rolls',\n",
       " ' Sandwich',\n",
       " ' Hot Chocolate',\n",
       " ' Tea',\n",
       " ' Naga Thali',\n",
       " 'Freak Shake',\n",
       " ' Fries',\n",
       " ' Pasta Alfredo',\n",
       " 'Butter Chicken',\n",
       " ' Chicken Grill',\n",
       " ' Tandoori Chicken',\n",
       " ' Noodles',\n",
       " ' Biryani',\n",
       " ' Fried Rice Chicken',\n",
       " 'Pizza',\n",
       " ' Pasta',\n",
       " ' Nachos',\n",
       " ' Burgers',\n",
       " ' Sandwich',\n",
       " ' Tea',\n",
       " ' Cheese Balls',\n",
       " 'Masala Chai',\n",
       " ' Coffee',\n",
       " ' Masala Tea',\n",
       " ' Maggi',\n",
       " 'Pasta',\n",
       " ' Gelato',\n",
       " ' Garlic Bread',\n",
       " ' Mojito',\n",
       " ' Nachos',\n",
       " ' Paneer Pizza',\n",
       " ' Mocktails',\n",
       " 'Salad',\n",
       " ' Mocktails',\n",
       " ' Chocolava',\n",
       " ' Pesto Pasta',\n",
       " ' Momos',\n",
       " ' Jasmine Rice',\n",
       " ' Tom Yum Soup',\n",
       " 'Vada',\n",
       " ' Masala Dosa',\n",
       " ' Idli',\n",
       " 'Coffee',\n",
       " ' Masala Dosa',\n",
       " ' Vegetable Biryani',\n",
       " 'Pasta',\n",
       " ' Pizza',\n",
       " ' Burgers',\n",
       " ' Pancakes',\n",
       " ' Garlic Bread',\n",
       " 'Maggi',\n",
       " ' Pasta',\n",
       " ' Burgers',\n",
       " ' Sandwiches',\n",
       " ' Fries',\n",
       " 'Sea Food',\n",
       " ' Neer Dosa',\n",
       " 'Pizza',\n",
       " 'Brownie',\n",
       " ' Mojito',\n",
       " ' Prawn Ghee Roast',\n",
       " ' Corn Tikki',\n",
       " ' Mushroom Ghee Roast',\n",
       " ' Pinacolada',\n",
       " ' Biryani',\n",
       " 'Biryani',\n",
       " ' Thick Shakes',\n",
       " ' Fries',\n",
       " 'Vegetarian',\n",
       " 'Sweet Pongal',\n",
       " ' Curd Rice',\n",
       " 'Pesto Pizza',\n",
       " ' Buffalo Wings',\n",
       " ' Cocktails',\n",
       " ' Beer',\n",
       " ' Egg Ghee Roast',\n",
       " ' Brownie',\n",
       " ' Pepper Chicken',\n",
       " 'Waffles',\n",
       " ' Sandwiches',\n",
       " ' Maggi',\n",
       " ' Thick Shakes',\n",
       " ' Chocolate Sandwich',\n",
       " 'Honey Chilli Potatoes',\n",
       " ' Nachos',\n",
       " ' Lemonade',\n",
       " ' Hakka Noodles',\n",
       " ' Babycorn Manchurian',\n",
       " ' Mushroom Manchurian',\n",
       " ' Spring Roll',\n",
       " 'Manchow Soup',\n",
       " ' Momos',\n",
       " ' Wonton Soup',\n",
       " ' Chowmein',\n",
       " ' American Chopsuey',\n",
       " ' Chop Suey',\n",
       " ' Manchurian',\n",
       " 'Pasta',\n",
       " ' Pizza',\n",
       " ' Nachos',\n",
       " ' Gelato',\n",
       " ' Ravioli',\n",
       " ' Jalapeno Poppers',\n",
       " ' Cocktails',\n",
       " 'Masala Vada Pav',\n",
       " ' Cheese Vada Pav',\n",
       " ' Fries',\n",
       " 'Corn Augratin',\n",
       " ' Lasagne',\n",
       " ' Fries',\n",
       " ' Garlic Bread',\n",
       " ' Pili Pili Pizza',\n",
       " ' Mexican Rice',\n",
       " ' Ravioli',\n",
       " 'Salads',\n",
       " ' Sandwiches',\n",
       " ' Pasta',\n",
       " ' Mocktails',\n",
       " ' Corn Sandwich',\n",
       " ' Garden Salad',\n",
       " ' Miso Salad',\n",
       " 'Coffee',\n",
       " ' Thali',\n",
       " ' Kharabath',\n",
       " ' Masala Dosa',\n",
       " ' Idli Vada',\n",
       " ' Vanilla Ice Cream',\n",
       " ' Bisi Bele Bhaath',\n",
       " 'Veg Jaipuri',\n",
       " ' Neer Dosa',\n",
       " ' Kulcha',\n",
       " ' Pepper Chicken',\n",
       " ' Chilli Mushroom',\n",
       " ' Murgh Platter',\n",
       " ' Paneer Tikka',\n",
       " 'Pizza',\n",
       " ' Pasta Alfredo',\n",
       " ' Brownie',\n",
       " ' Garlic Bread',\n",
       " ' Sandwiches',\n",
       " ' Lemon Mojito',\n",
       " ' Mocha Fudge',\n",
       " 'Mocktails',\n",
       " ' Tomato Soup',\n",
       " ' Pasta',\n",
       " ...]"
      ]
     },
     "execution_count": 68,
     "metadata": {},
     "output_type": "execute_result"
    }
   ],
   "source": [
    "likes"
   ]
  },
  {
   "cell_type": "code",
   "execution_count": 69,
   "metadata": {},
   "outputs": [
    {
     "name": "stdout",
     "output_type": "stream",
     "text": [
      "Count of Most Liked dishes in Banglore\n"
     ]
    }
   ],
   "source": [
    "# Now count the no. of occurance\n",
    "print(\"Count of Most Liked dishes in Banglore\")\n",
    "favourite_items = pd.DataFrame(likes).value_counts()"
   ]
  },
  {
   "cell_type": "code",
   "execution_count": 70,
   "metadata": {},
   "outputs": [
    {
     "data": {
      "text/plain": [
       " Pasta              2685\n",
       " Pizza              1907\n",
       " Cocktails          1868\n",
       " Burgers            1732\n",
       " Mocktails          1613\n",
       " Biryani            1304\n",
       " Sandwiches         1286\n",
       "Burgers             1254\n",
       " Coffee             1184\n",
       " Nachos             1166\n",
       " Fish               1115\n",
       " Paratha            1106\n",
       " Salads             1052\n",
       " Chicken Biryani    1004\n",
       "Cocktails            887\n",
       " Fries               875\n",
       " Noodles             854\n",
       " Beer                835\n",
       " Mutton Biryani      832\n",
       " Tea                 817\n",
       "Coffee               801\n",
       " Sandwich            787\n",
       " Butter Chicken      782\n",
       " Thali               770\n",
       "Biryani              748\n",
       "dtype: int64"
      ]
     },
     "execution_count": 70,
     "metadata": {},
     "output_type": "execute_result"
    }
   ],
   "source": [
    "# Top 25 favourite food counts\n",
    "favourite_items.head(25)"
   ]
  },
  {
   "cell_type": "code",
   "execution_count": 71,
   "metadata": {},
   "outputs": [
    {
     "data": {
      "text/plain": [
       "<matplotlib.axes._subplots.AxesSubplot at 0x7fa8cdbbdba8>"
      ]
     },
     "execution_count": 71,
     "metadata": {},
     "output_type": "execute_result"
    },
    {
     "data": {
      "image/png": "[encoded data removed]",
      "text/plain": [
       "<Figure size 720x720 with 1 Axes>"
      ]
     },
     "metadata": {},
     "output_type": "display_data"
    }
   ],
   "source": [
    "plt.figure(figsize=(10,10))\n",
    "ax = favourite_items.nlargest(n=25,keep = \"first\")\n",
    "ax.plot(kind=\"bar\",title =\"Top 25 Favourite Food counts\", xlabel = \"Dishes\",ylabel = \"Counts\")\n",
    "\n"
   ]
  },
  {
   "cell_type": "markdown",
   "metadata": {},
   "source": [
    "We can infer from that analysis that the 5 most liked dishes are \n",
    "##### Pasta, Pizza, Cocktails, Burgers, Mocktails"
   ]
  },
  {
   "cell_type": "markdown",
   "metadata": {},
   "source": [
    "# Building Our Model\n",
    "Build an appropriate Machine Learning Model that will help various Zomato Restaurants to predict their respective Ratings based on certain features"
   ]
  },
  {
   "cell_type": "code",
   "execution_count": 72,
   "metadata": {},
   "outputs": [
    {
     "data": {
      "text/html": [
       "<div>\n",
       "<style scoped>\n",
       "    .dataframe tbody tr th:only-of-type {\n",
       "        vertical-align: middle;\n",
       "    }\n",
       "\n",
       "    .dataframe tbody tr th {\n",
       "        vertical-align: top;\n",
       "    }\n",
       "\n",
       "    .dataframe thead th {\n",
       "        text-align: right;\n",
       "    }\n",
       "</style>\n",
       "<table border=\"1\" class=\"dataframe\">\n",
       "  <thead>\n",
       "    <tr style=\"text-align: right;\">\n",
       "      <th></th>\n",
       "      <th>name</th>\n",
       "      <th>online_order</th>\n",
       "      <th>book_table</th>\n",
       "      <th>rate</th>\n",
       "      <th>votes</th>\n",
       "      <th>rest_type</th>\n",
       "      <th>dish_liked</th>\n",
       "      <th>cuisines</th>\n",
       "      <th>cost</th>\n",
       "      <th>Meal_type</th>\n",
       "      <th>city</th>\n",
       "    </tr>\n",
       "  </thead>\n",
       "  <tbody>\n",
       "    <tr>\n",
       "      <th>0</th>\n",
       "      <td>Jalsa</td>\n",
       "      <td>Yes</td>\n",
       "      <td>Yes</td>\n",
       "      <td>4.1</td>\n",
       "      <td>775</td>\n",
       "      <td>Casual Dining</td>\n",
       "      <td>Pasta, Lunch Buffet, Masala Papad, Paneer Laja...</td>\n",
       "      <td>North Indian, Mughlai, Chinese</td>\n",
       "      <td>800</td>\n",
       "      <td>Buffet</td>\n",
       "      <td>Banashankari</td>\n",
       "    </tr>\n",
       "    <tr>\n",
       "      <th>1</th>\n",
       "      <td>Spice Elephant</td>\n",
       "      <td>Yes</td>\n",
       "      <td>No</td>\n",
       "      <td>4.1</td>\n",
       "      <td>787</td>\n",
       "      <td>Casual Dining</td>\n",
       "      <td>Momos, Lunch Buffet, Chocolate Nirvana, Thai G...</td>\n",
       "      <td>Chinese, North Indian, Thai</td>\n",
       "      <td>800</td>\n",
       "      <td>Buffet</td>\n",
       "      <td>Banashankari</td>\n",
       "    </tr>\n",
       "    <tr>\n",
       "      <th>2</th>\n",
       "      <td>San Churro Cafe</td>\n",
       "      <td>Yes</td>\n",
       "      <td>No</td>\n",
       "      <td>3.8</td>\n",
       "      <td>918</td>\n",
       "      <td>Cafe, Casual Dining</td>\n",
       "      <td>Churros, Cannelloni, Minestrone Soup, Hot Choc...</td>\n",
       "      <td>Cafe, Mexican, Italian</td>\n",
       "      <td>800</td>\n",
       "      <td>Buffet</td>\n",
       "      <td>Banashankari</td>\n",
       "    </tr>\n",
       "    <tr>\n",
       "      <th>3</th>\n",
       "      <td>Addhuri Udupi Bhojana</td>\n",
       "      <td>No</td>\n",
       "      <td>No</td>\n",
       "      <td>3.7</td>\n",
       "      <td>88</td>\n",
       "      <td>Quick Bites</td>\n",
       "      <td>Masala Dosa</td>\n",
       "      <td>South Indian, North Indian</td>\n",
       "      <td>300</td>\n",
       "      <td>Buffet</td>\n",
       "      <td>Banashankari</td>\n",
       "    </tr>\n",
       "    <tr>\n",
       "      <th>4</th>\n",
       "      <td>Grand Village</td>\n",
       "      <td>No</td>\n",
       "      <td>No</td>\n",
       "      <td>3.8</td>\n",
       "      <td>166</td>\n",
       "      <td>Casual Dining</td>\n",
       "      <td>Panipuri, Gol Gappe</td>\n",
       "      <td>North Indian, Rajasthani</td>\n",
       "      <td>600</td>\n",
       "      <td>Buffet</td>\n",
       "      <td>Banashankari</td>\n",
       "    </tr>\n",
       "  </tbody>\n",
       "</table>\n",
       "</div>"
      ],
      "text/plain": [
       "                    name online_order book_table  rate  votes  \\\n",
       "0                  Jalsa          Yes        Yes   4.1    775   \n",
       "1         Spice Elephant          Yes         No   4.1    787   \n",
       "2        San Churro Cafe          Yes         No   3.8    918   \n",
       "3  Addhuri Udupi Bhojana           No         No   3.7     88   \n",
       "4          Grand Village           No         No   3.8    166   \n",
       "\n",
       "             rest_type                                         dish_liked  \\\n",
       "0        Casual Dining  Pasta, Lunch Buffet, Masala Papad, Paneer Laja...   \n",
       "1        Casual Dining  Momos, Lunch Buffet, Chocolate Nirvana, Thai G...   \n",
       "2  Cafe, Casual Dining  Churros, Cannelloni, Minestrone Soup, Hot Choc...   \n",
       "3          Quick Bites                                        Masala Dosa   \n",
       "4        Casual Dining                                Panipuri, Gol Gappe   \n",
       "\n",
       "                         cuisines  cost Meal_type          city  \n",
       "0  North Indian, Mughlai, Chinese   800    Buffet  Banashankari  \n",
       "1     Chinese, North Indian, Thai   800    Buffet  Banashankari  \n",
       "2          Cafe, Mexican, Italian   800    Buffet  Banashankari  \n",
       "3      South Indian, North Indian   300    Buffet  Banashankari  \n",
       "4        North Indian, Rajasthani   600    Buffet  Banashankari  "
      ]
     },
     "execution_count": 72,
     "metadata": {},
     "output_type": "execute_result"
    }
   ],
   "source": [
    "df.head()"
   ]
  },
  {
   "cell_type": "markdown",
   "metadata": {},
   "source": [
    "## Data Preprocessing\n",
    "#### Data Transformation\n",
    "* let's Convert categorical data into Numerical data using ---\"LabelEncoding\""
   ]
  },
  {
   "cell_type": "code",
   "execution_count": 73,
   "metadata": {
    "scrolled": true
   },
   "outputs": [],
   "source": [
    "# Now we drop Unwanted Columns\n",
    "df = df.drop(['dish_liked','Meal_type'],axis = 1)"
   ]
  },
  {
   "cell_type": "code",
   "execution_count": 74,
   "metadata": {},
   "outputs": [],
   "source": [
    "df = df.drop(['name'],axis=1)"
   ]
  },
  {
   "cell_type": "markdown",
   "metadata": {},
   "source": [
    "#### Label Encoder"
   ]
  },
  {
   "cell_type": "code",
   "execution_count": 75,
   "metadata": {},
   "outputs": [],
   "source": [
    "# import LabelEncoder\n",
    "from sklearn.preprocessing import LabelEncoder\n",
    "le = LabelEncoder()"
   ]
  },
  {
   "cell_type": "code",
   "execution_count": 76,
   "metadata": {},
   "outputs": [
    {
     "data": {
      "text/plain": [
       "Index(['online_order', 'book_table', 'rate', 'votes', 'rest_type', 'cuisines',\n",
       "       'cost', 'city'],\n",
       "      dtype='object')"
      ]
     },
     "execution_count": 76,
     "metadata": {},
     "output_type": "execute_result"
    }
   ],
   "source": [
    "df.columns"
   ]
  },
  {
   "cell_type": "code",
   "execution_count": 77,
   "metadata": {},
   "outputs": [],
   "source": [
    "l1 = ['online_order','book_table','rest_type','cuisines','city']\n",
    "for i in l1:\n",
    "    df[i] = le.fit_transform(df[i])"
   ]
  },
  {
   "cell_type": "code",
   "execution_count": 78,
   "metadata": {},
   "outputs": [
    {
     "data": {
      "text/html": [
       "<div>\n",
       "<style scoped>\n",
       "    .dataframe tbody tr th:only-of-type {\n",
       "        vertical-align: middle;\n",
       "    }\n",
       "\n",
       "    .dataframe tbody tr th {\n",
       "        vertical-align: top;\n",
       "    }\n",
       "\n",
       "    .dataframe thead th {\n",
       "        text-align: right;\n",
       "    }\n",
       "</style>\n",
       "<table border=\"1\" class=\"dataframe\">\n",
       "  <thead>\n",
       "    <tr style=\"text-align: right;\">\n",
       "      <th></th>\n",
       "      <th>online_order</th>\n",
       "      <th>book_table</th>\n",
       "      <th>rate</th>\n",
       "      <th>votes</th>\n",
       "      <th>rest_type</th>\n",
       "      <th>cuisines</th>\n",
       "      <th>cost</th>\n",
       "      <th>city</th>\n",
       "    </tr>\n",
       "  </thead>\n",
       "  <tbody>\n",
       "    <tr>\n",
       "      <th>0</th>\n",
       "      <td>1</td>\n",
       "      <td>1</td>\n",
       "      <td>4.1</td>\n",
       "      <td>775</td>\n",
       "      <td>20</td>\n",
       "      <td>1386</td>\n",
       "      <td>800</td>\n",
       "      <td>1</td>\n",
       "    </tr>\n",
       "    <tr>\n",
       "      <th>1</th>\n",
       "      <td>1</td>\n",
       "      <td>0</td>\n",
       "      <td>4.1</td>\n",
       "      <td>787</td>\n",
       "      <td>20</td>\n",
       "      <td>594</td>\n",
       "      <td>800</td>\n",
       "      <td>1</td>\n",
       "    </tr>\n",
       "    <tr>\n",
       "      <th>2</th>\n",
       "      <td>1</td>\n",
       "      <td>0</td>\n",
       "      <td>3.8</td>\n",
       "      <td>918</td>\n",
       "      <td>16</td>\n",
       "      <td>484</td>\n",
       "      <td>800</td>\n",
       "      <td>1</td>\n",
       "    </tr>\n",
       "    <tr>\n",
       "      <th>3</th>\n",
       "      <td>0</td>\n",
       "      <td>0</td>\n",
       "      <td>3.7</td>\n",
       "      <td>88</td>\n",
       "      <td>62</td>\n",
       "      <td>1587</td>\n",
       "      <td>300</td>\n",
       "      <td>1</td>\n",
       "    </tr>\n",
       "    <tr>\n",
       "      <th>4</th>\n",
       "      <td>0</td>\n",
       "      <td>0</td>\n",
       "      <td>3.8</td>\n",
       "      <td>166</td>\n",
       "      <td>20</td>\n",
       "      <td>1406</td>\n",
       "      <td>600</td>\n",
       "      <td>1</td>\n",
       "    </tr>\n",
       "  </tbody>\n",
       "</table>\n",
       "</div>"
      ],
      "text/plain": [
       "   online_order  book_table  rate  votes  rest_type  cuisines  cost  city\n",
       "0             1           1   4.1    775         20      1386   800     1\n",
       "1             1           0   4.1    787         20       594   800     1\n",
       "2             1           0   3.8    918         16       484   800     1\n",
       "3             0           0   3.7     88         62      1587   300     1\n",
       "4             0           0   3.8    166         20      1406   600     1"
      ]
     },
     "execution_count": 78,
     "metadata": {},
     "output_type": "execute_result"
    }
   ],
   "source": [
    "df.head()"
   ]
  },
  {
   "cell_type": "markdown",
   "metadata": {},
   "source": [
    "As we see that data in label encoder"
   ]
  },
  {
   "cell_type": "markdown",
   "metadata": {},
   "source": [
    "## Data Transformation\n",
    "#### Feature and label selection from data"
   ]
  },
  {
   "cell_type": "code",
   "execution_count": 79,
   "metadata": {},
   "outputs": [
    {
     "data": {
      "text/plain": [
       "(23218, 8)"
      ]
     },
     "execution_count": 79,
     "metadata": {},
     "output_type": "execute_result"
    }
   ],
   "source": [
    "df.shape"
   ]
  },
  {
   "cell_type": "code",
   "execution_count": 80,
   "metadata": {},
   "outputs": [
    {
     "data": {
      "text/plain": [
       "(23218, 8)"
      ]
     },
     "execution_count": 80,
     "metadata": {},
     "output_type": "execute_result"
    }
   ],
   "source": [
    "# drop null values\n",
    "df.dropna(how= \"any\",inplace= True)\n",
    "df.shape"
   ]
  },
  {
   "cell_type": "code",
   "execution_count": 81,
   "metadata": {},
   "outputs": [
    {
     "data": {
      "text/plain": [
       "(23218, 8)"
      ]
     },
     "execution_count": 81,
     "metadata": {},
     "output_type": "execute_result"
    }
   ],
   "source": [
    "# selection of the feature col\n",
    "features = df.drop([\"rate\"],axis=1)\n",
    "df.shape"
   ]
  },
  {
   "cell_type": "code",
   "execution_count": 82,
   "metadata": {},
   "outputs": [
    {
     "data": {
      "text/plain": [
       "online_order    int64\n",
       "book_table      int64\n",
       "votes           int32\n",
       "rest_type       int64\n",
       "cuisines        int64\n",
       "cost            int32\n",
       "city            int64\n",
       "dtype: object"
      ]
     },
     "execution_count": 82,
     "metadata": {},
     "output_type": "execute_result"
    }
   ],
   "source": [
    "features.dtypes   # now all data is convert into categorical -->integer"
   ]
  },
  {
   "cell_type": "code",
   "execution_count": 83,
   "metadata": {},
   "outputs": [
    {
     "data": {
      "text/plain": [
       "array([4.1, 3.8, 3.7, 4.6, 4. , 4.2, 3.9, 3. , 3.6, 2.8, 4.4, 3.1, 4.3,\n",
       "       2.6, 3.3, 3.5, 3.2, 4.5, 2.5, 2.9, 3.4, 2.7, 4.7, 2.4, 2.2, 2.3,\n",
       "       4.8, 4.9, 2.1, 2. , 1.8])"
      ]
     },
     "execution_count": 83,
     "metadata": {},
     "output_type": "execute_result"
    }
   ],
   "source": [
    "df['rate'].unique()"
   ]
  },
  {
   "cell_type": "code",
   "execution_count": 84,
   "metadata": {},
   "outputs": [
    {
     "data": {
      "text/plain": [
       "array([4.1, 4.1, 3.8, ..., 2.8, 2.5, 4.3])"
      ]
     },
     "execution_count": 84,
     "metadata": {},
     "output_type": "execute_result"
    }
   ],
   "source": [
    "# Selection of the label col \n",
    "label = df['rate'].values\n",
    "label"
   ]
  },
  {
   "cell_type": "markdown",
   "metadata": {},
   "source": [
    "In case data are vary far from each other so we can apply the \"StandardScaling\""
   ]
  },
  {
   "cell_type": "markdown",
   "metadata": {},
   "source": [
    "### Feature Scaling"
   ]
  },
  {
   "cell_type": "code",
   "execution_count": 85,
   "metadata": {},
   "outputs": [],
   "source": [
    "from sklearn.preprocessing import StandardScaler\n",
    "ss = StandardScaler()"
   ]
  },
  {
   "cell_type": "code",
   "execution_count": 86,
   "metadata": {},
   "outputs": [
    {
     "data": {
      "text/plain": [
       "array([[ 0.64765226,  1.68699436,  0.15341614, ...,  1.10625334,\n",
       "         0.09049271, -1.63320021],\n",
       "       [ 0.64765226, -0.59277021,  0.16420077, ..., -0.56601114,\n",
       "         0.09049271, -1.63320021],\n",
       "       [ 0.64765226, -0.59277021,  0.28193301, ..., -0.7982701 ,\n",
       "         0.09049271, -1.63320021],\n",
       "       ...,\n",
       "       [-1.54403847, -0.59277021, -0.39839757, ..., -0.68214062,\n",
       "         0.85950607,  1.79700039],\n",
       "       [-1.54403847, -0.59277021, -0.47029512, ..., -1.6512939 ,\n",
       "         0.09049271,  1.79700039],\n",
       "       [-1.54403847,  1.68699436, -0.33099361, ...,  0.03363925,\n",
       "         3.35879947,  1.79700039]])"
      ]
     },
     "execution_count": 86,
     "metadata": {},
     "output_type": "execute_result"
    }
   ],
   "source": [
    "features = StandardScaler().fit(features).transform(features)\n",
    "features"
   ]
  },
  {
   "cell_type": "markdown",
   "metadata": {},
   "source": [
    "### Spli the data\n",
    "*we splited the data into train and test set -- training(90%) and testing (10%) "
   ]
  },
  {
   "cell_type": "code",
   "execution_count": 87,
   "metadata": {},
   "outputs": [],
   "source": [
    "from sklearn.model_selection import train_test_split\n",
    "x_train, x_test, y_train,y_test = train_test_split(features,label, test_size = 0.10, random_state = 35 )"
   ]
  },
  {
   "cell_type": "code",
   "execution_count": 88,
   "metadata": {},
   "outputs": [
    {
     "data": {
      "text/plain": [
       "((20896, 7), (2322, 7), (20896,), (2322,))"
      ]
     },
     "execution_count": 88,
     "metadata": {},
     "output_type": "execute_result"
    }
   ],
   "source": [
    "#  check the shape of splitted data\n",
    "x_train.shape, x_test.shape,y_train.shape,y_test.shape"
   ]
  },
  {
   "cell_type": "markdown",
   "metadata": {},
   "source": [
    "### Apply Regression Model\n",
    "#### 1) Linear Regression"
   ]
  },
  {
   "cell_type": "code",
   "execution_count": 89,
   "metadata": {},
   "outputs": [
    {
     "data": {
      "text/plain": [
       "LinearRegression()"
      ]
     },
     "execution_count": 89,
     "metadata": {},
     "output_type": "execute_result"
    }
   ],
   "source": [
    "from sklearn.linear_model import LinearRegression\n",
    "lin_reg = LinearRegression()\n",
    "lin_reg"
   ]
  },
  {
   "cell_type": "markdown",
   "metadata": {},
   "source": [
    "* Train the model on train set"
   ]
  },
  {
   "cell_type": "code",
   "execution_count": 90,
   "metadata": {},
   "outputs": [
    {
     "data": {
      "text/plain": [
       "LinearRegression()"
      ]
     },
     "execution_count": 90,
     "metadata": {},
     "output_type": "execute_result"
    }
   ],
   "source": [
    "lin_reg.fit(x_train,y_train)"
   ]
  },
  {
   "cell_type": "markdown",
   "metadata": {},
   "source": [
    "* Checking the model score on train and test set"
   ]
  },
  {
   "cell_type": "code",
   "execution_count": 91,
   "metadata": {},
   "outputs": [
    {
     "name": "stdout",
     "output_type": "stream",
     "text": [
      "0.22255475780354128\n"
     ]
    }
   ],
   "source": [
    "print(lin_reg.score(x_train,y_train))"
   ]
  },
  {
   "cell_type": "code",
   "execution_count": 92,
   "metadata": {},
   "outputs": [
    {
     "name": "stdout",
     "output_type": "stream",
     "text": [
      "0.21590045880901287\n"
     ]
    }
   ],
   "source": [
    "print(lin_reg.score(x_test,y_test))"
   ]
  },
  {
   "cell_type": "markdown",
   "metadata": {},
   "source": [
    "it's good thing that both \"train and test\"  score is almost near to each other"
   ]
  },
  {
   "cell_type": "markdown",
   "metadata": {},
   "source": [
    "#### New Predict"
   ]
  },
  {
   "cell_type": "code",
   "execution_count": 93,
   "metadata": {},
   "outputs": [],
   "source": [
    "lin_reg_pred = lin_reg.predict(x_test)"
   ]
  },
  {
   "cell_type": "code",
   "execution_count": 94,
   "metadata": {},
   "outputs": [
    {
     "name": "stdout",
     "output_type": "stream",
     "text": [
      "Accuracy score for LR : 21.590045880901286\n"
     ]
    }
   ],
   "source": [
    "from sklearn.metrics import r2_score\n",
    "lin_reg_score = r2_score(y_test,lin_reg_pred)*100\n",
    "print(\"Accuracy score for LR :\",lin_reg_score)"
   ]
  },
  {
   "cell_type": "code",
   "execution_count": null,
   "metadata": {},
   "outputs": [],
   "source": []
  },
  {
   "cell_type": "markdown",
   "metadata": {},
   "source": [
    "#### 2) Ridge Regression"
   ]
  },
  {
   "cell_type": "code",
   "execution_count": 139,
   "metadata": {},
   "outputs": [],
   "source": [
    "from sklearn.linear_model import Ridge"
   ]
  },
  {
   "cell_type": "code",
   "execution_count": 140,
   "metadata": {},
   "outputs": [
    {
     "data": {
      "text/plain": [
       "Ridge()"
      ]
     },
     "execution_count": 140,
     "metadata": {},
     "output_type": "execute_result"
    }
   ],
   "source": [
    "rr = Ridge()\n",
    "rr"
   ]
  },
  {
   "cell_type": "code",
   "execution_count": 141,
   "metadata": {},
   "outputs": [
    {
     "data": {
      "text/plain": [
       "Ridge()"
      ]
     },
     "execution_count": 141,
     "metadata": {},
     "output_type": "execute_result"
    }
   ],
   "source": [
    "rr.fit(x_train, y_train)"
   ]
  },
  {
   "cell_type": "code",
   "execution_count": 142,
   "metadata": {},
   "outputs": [
    {
     "name": "stdout",
     "output_type": "stream",
     "text": [
      "0.2225547575636596\n",
      "0.21590031490006523\n"
     ]
    }
   ],
   "source": [
    "print(rr.score(x_train,y_train))\n",
    "print(rr.score(x_test,y_test))"
   ]
  },
  {
   "cell_type": "code",
   "execution_count": 143,
   "metadata": {},
   "outputs": [],
   "source": [
    "rr_pred = rr.predict(x_test)"
   ]
  },
  {
   "cell_type": "code",
   "execution_count": 144,
   "metadata": {},
   "outputs": [
    {
     "name": "stdout",
     "output_type": "stream",
     "text": [
      "Accuracy score for RidgeR :  Ridge()\n"
     ]
    }
   ],
   "source": [
    "from sklearn.metrics import r2_score\n",
    "rr_score = r2_score(y_test, rr_pred) * 100\n",
    "print(\"Accuracy score for RidgeR : \", rr_score)"
   ]
  },
  {
   "cell_type": "code",
   "execution_count": 145,
   "metadata": {},
   "outputs": [
    {
     "name": "stdout",
     "output_type": "stream",
     "text": [
      "shape\n",
      "x_test:  (2322, 7)\n",
      "y_test:  (2322,)\n",
      "rr_pred: (2322,)\n"
     ]
    }
   ],
   "source": [
    "# change the dimension of the x_test --> [ x_Test -> rr_pred ]\n",
    "print(\"shape\")\n",
    "print(\"x_test: \",x_test.shape)\n",
    "print(\"y_test: \",y_test.shape)\n",
    "print(\"rr_pred:\",rr_pred.shape)"
   ]
  },
  {
   "cell_type": "code",
   "execution_count": null,
   "metadata": {},
   "outputs": [],
   "source": [
    "\n"
   ]
  },
  {
   "cell_type": "markdown",
   "metadata": {},
   "source": [
    "#### 3) Lasso "
   ]
  },
  {
   "cell_type": "code",
   "execution_count": 102,
   "metadata": {},
   "outputs": [],
   "source": [
    "from sklearn.linear_model import Lasso"
   ]
  },
  {
   "cell_type": "code",
   "execution_count": 103,
   "metadata": {},
   "outputs": [
    {
     "data": {
      "text/plain": [
       "Lasso()"
      ]
     },
     "execution_count": 103,
     "metadata": {},
     "output_type": "execute_result"
    }
   ],
   "source": [
    "lr = Lasso()\n",
    "lr"
   ]
  },
  {
   "cell_type": "code",
   "execution_count": 104,
   "metadata": {},
   "outputs": [
    {
     "data": {
      "text/plain": [
       "Lasso()"
      ]
     },
     "execution_count": 104,
     "metadata": {},
     "output_type": "execute_result"
    }
   ],
   "source": [
    "lr.fit(x_train,y_train)"
   ]
  },
  {
   "cell_type": "code",
   "execution_count": 105,
   "metadata": {},
   "outputs": [
    {
     "name": "stdout",
     "output_type": "stream",
     "text": [
      "0.0\n",
      "-0.0013036158684518462\n"
     ]
    }
   ],
   "source": [
    "print(lr.score(x_train,y_train))\n",
    "print(lr.score(x_test,y_test))"
   ]
  },
  {
   "cell_type": "code",
   "execution_count": 106,
   "metadata": {},
   "outputs": [],
   "source": [
    "lr_pred = lr.predict(x_test)"
   ]
  },
  {
   "cell_type": "code",
   "execution_count": 107,
   "metadata": {},
   "outputs": [
    {
     "name": "stdout",
     "output_type": "stream",
     "text": [
      "Accuracy score for Lasso :  -0.0013036158684518462\n"
     ]
    }
   ],
   "source": [
    "from sklearn.metrics import r2_score\n",
    "lr_score = r2_score(y_test , lr_pred)\n",
    "print(\"Accuracy score for Lasso : \", lr_score)"
   ]
  },
  {
   "cell_type": "markdown",
   "metadata": {},
   "source": [
    "#### Note: \n",
    "*In practice, R2 will be negative whenever our model's predictions are worse than a constant function that always predicts the mean of the data."
   ]
  },
  {
   "cell_type": "code",
   "execution_count": 117,
   "metadata": {},
   "outputs": [],
   "source": [
    "from sklearn.ensemble import RandomForestRegressor"
   ]
  },
  {
   "cell_type": "markdown",
   "metadata": {},
   "source": [
    "### 4. Random Forest Regression"
   ]
  },
  {
   "cell_type": "code",
   "execution_count": 118,
   "metadata": {},
   "outputs": [
    {
     "data": {
      "text/plain": [
       "RandomForestRegressor()"
      ]
     },
     "execution_count": 118,
     "metadata": {},
     "output_type": "execute_result"
    }
   ],
   "source": [
    "rfr = RandomForestRegressor()\n",
    "rfr"
   ]
  },
  {
   "cell_type": "code",
   "execution_count": 119,
   "metadata": {},
   "outputs": [
    {
     "data": {
      "text/plain": [
       "RandomForestRegressor()"
      ]
     },
     "execution_count": 119,
     "metadata": {},
     "output_type": "execute_result"
    }
   ],
   "source": [
    "rfr.fit(x_train , y_train)"
   ]
  },
  {
   "cell_type": "code",
   "execution_count": 120,
   "metadata": {},
   "outputs": [
    {
     "name": "stdout",
     "output_type": "stream",
     "text": [
      "0.987767107221081\n",
      "0.912801952368894\n"
     ]
    }
   ],
   "source": [
    "print(rfr.score(x_train,y_train))\n",
    "print(rfr.score(x_test,y_test))"
   ]
  },
  {
   "cell_type": "code",
   "execution_count": 121,
   "metadata": {},
   "outputs": [],
   "source": [
    "rfr_pred = rfr.predict(x_test)"
   ]
  },
  {
   "cell_type": "code",
   "execution_count": 122,
   "metadata": {},
   "outputs": [
    {
     "name": "stdout",
     "output_type": "stream",
     "text": [
      "Accuracy score for the Random Forest Regressor model:  91.28019523688941\n"
     ]
    }
   ],
   "source": [
    "from sklearn.metrics import r2_score\n",
    "rfr_score = r2_score(y_test, rfr_pred)*100\n",
    "print(\"Accuracy score for the Random Forest Regressor model: \",rfr_score)"
   ]
  },
  {
   "cell_type": "code",
   "execution_count": null,
   "metadata": {},
   "outputs": [],
   "source": []
  },
  {
   "cell_type": "markdown",
   "metadata": {},
   "source": [
    "* This Model for the Random Forest with parameter passing"
   ]
  },
  {
   "cell_type": "code",
   "execution_count": 123,
   "metadata": {},
   "outputs": [
    {
     "data": {
      "text/plain": [
       "RandomForestRegressor(min_samples_leaf=0.0001, n_estimators=650,\n",
       "                      random_state=245)"
      ]
     },
     "execution_count": 123,
     "metadata": {},
     "output_type": "execute_result"
    }
   ],
   "source": [
    "RF_model = RandomForestRegressor(n_estimators=650,random_state=245, min_samples_leaf=0.0001)\n",
    "RF_model"
   ]
  },
  {
   "cell_type": "code",
   "execution_count": 124,
   "metadata": {},
   "outputs": [],
   "source": [
    "RF_model.fit(x_train,y_train)\n",
    "x_pred = RF_model.predict(x_test)"
   ]
  },
  {
   "cell_type": "code",
   "execution_count": 125,
   "metadata": {},
   "outputs": [
    {
     "name": "stdout",
     "output_type": "stream",
     "text": [
      "[3.6 3.9 3.9 ... 4.2 3.9 3. ]\n",
      "[3.39430277 3.90559055 3.74464732 ... 4.20163481 3.77817269 3.12959528]\n"
     ]
    }
   ],
   "source": [
    "print(y_test)\n",
    "print(x_pred)"
   ]
  },
  {
   "cell_type": "code",
   "execution_count": 126,
   "metadata": {},
   "outputs": [
    {
     "name": "stdout",
     "output_type": "stream",
     "text": [
      "(2322,)\n",
      "(2322,)\n"
     ]
    }
   ],
   "source": [
    "#y_test.dtype\n",
    "x_pred.dtype\n",
    "print(x_pred.shape)\n",
    "print(y_test.shape)"
   ]
  },
  {
   "cell_type": "code",
   "execution_count": 127,
   "metadata": {},
   "outputs": [],
   "source": [
    "x_pred = np.array(np.round(x_pred,1))\n",
    "#x_pred\n",
    "# y_test\n",
    "r2 = r2_score(y_test,x_pred)\n"
   ]
  },
  {
   "cell_type": "code",
   "execution_count": 128,
   "metadata": {},
   "outputs": [
    {
     "data": {
      "text/plain": [
       "0.8628912164377289"
      ]
     },
     "execution_count": 128,
     "metadata": {},
     "output_type": "execute_result"
    }
   ],
   "source": [
    "r2"
   ]
  },
  {
   "cell_type": "markdown",
   "metadata": {},
   "source": [
    "####  SVR -- (Support Vector Regression)"
   ]
  },
  {
   "cell_type": "code",
   "execution_count": 129,
   "metadata": {},
   "outputs": [],
   "source": [
    "from sklearn.svm import SVR"
   ]
  },
  {
   "cell_type": "code",
   "execution_count": 130,
   "metadata": {},
   "outputs": [
    {
     "data": {
      "text/plain": [
       "SVR()"
      ]
     },
     "execution_count": 130,
     "metadata": {},
     "output_type": "execute_result"
    }
   ],
   "source": [
    "svr = SVR()\n",
    "svr"
   ]
  },
  {
   "cell_type": "code",
   "execution_count": 131,
   "metadata": {},
   "outputs": [
    {
     "data": {
      "text/plain": [
       "SVR()"
      ]
     },
     "execution_count": 131,
     "metadata": {},
     "output_type": "execute_result"
    }
   ],
   "source": [
    "svr.fit(x_test,y_test)"
   ]
  },
  {
   "cell_type": "code",
   "execution_count": 132,
   "metadata": {},
   "outputs": [
    {
     "name": "stdout",
     "output_type": "stream",
     "text": [
      "0.2966930008878177\n",
      "0.3455365939558174\n"
     ]
    }
   ],
   "source": [
    "print(svr.score(x_train,y_train))\n",
    "print(svr.score(x_test,y_test))"
   ]
  },
  {
   "cell_type": "code",
   "execution_count": 133,
   "metadata": {},
   "outputs": [],
   "source": [
    "svr_pred = svr.predict(x_test)"
   ]
  },
  {
   "cell_type": "code",
   "execution_count": 134,
   "metadata": {},
   "outputs": [
    {
     "name": "stdout",
     "output_type": "stream",
     "text": [
      "Accuracy score for the LR :  34.55365939558174\n"
     ]
    }
   ],
   "source": [
    "from sklearn.metrics import r2_score\n",
    "svr_score = r2_score(y_test,svr_pred) * 100\n",
    "print(\"Accuracy score for the SVR : \",svr_score)"
   ]
  },
  {
   "cell_type": "code",
   "execution_count": null,
   "metadata": {},
   "outputs": [],
   "source": []
  },
  {
   "cell_type": "code",
   "execution_count": 147,
   "metadata": {},
   "outputs": [
    {
     "data": {
      "text/html": [
       "<div>\n",
       "<style scoped>\n",
       "    .dataframe tbody tr th:only-of-type {\n",
       "        vertical-align: middle;\n",
       "    }\n",
       "\n",
       "    .dataframe tbody tr th {\n",
       "        vertical-align: top;\n",
       "    }\n",
       "\n",
       "    .dataframe thead th {\n",
       "        text-align: right;\n",
       "    }\n",
       "</style>\n",
       "<table border=\"1\" class=\"dataframe\">\n",
       "  <thead>\n",
       "    <tr style=\"text-align: right;\">\n",
       "      <th></th>\n",
       "      <th>Model_Name</th>\n",
       "      <th>Accuracy Score</th>\n",
       "    </tr>\n",
       "  </thead>\n",
       "  <tbody>\n",
       "    <tr>\n",
       "      <th>0</th>\n",
       "      <td>Linear Regression</td>\n",
       "      <td>21.590046</td>\n",
       "    </tr>\n",
       "    <tr>\n",
       "      <th>1</th>\n",
       "      <td>Ridge Reg</td>\n",
       "      <td>21.590031</td>\n",
       "    </tr>\n",
       "    <tr>\n",
       "      <th>2</th>\n",
       "      <td>Lasso Reg</td>\n",
       "      <td>-0.001304</td>\n",
       "    </tr>\n",
       "    <tr>\n",
       "      <th>3</th>\n",
       "      <td>RandomForest Reg</td>\n",
       "      <td>91.280195</td>\n",
       "    </tr>\n",
       "    <tr>\n",
       "      <th>4</th>\n",
       "      <td>Support Vector Regression</td>\n",
       "      <td>34.553659</td>\n",
       "    </tr>\n",
       "  </tbody>\n",
       "</table>\n",
       "</div>"
      ],
      "text/plain": [
       "                  Model_Name  Accuracy Score \n",
       "0          Linear Regression        21.590046\n",
       "1                  Ridge Reg        21.590031\n",
       "2                  Lasso Reg        -0.001304\n",
       "3           RandomForest Reg        91.280195\n",
       "4  Support Vector Regression        34.553659"
      ]
     },
     "execution_count": 147,
     "metadata": {},
     "output_type": "execute_result"
    }
   ],
   "source": [
    "pd.DataFrame({\"Model_Name\" :['Linear Regression',\"Ridge Reg\", \"Lasso Reg\",\" RandomForest Reg\",\"Support Vector Regression\"], \"Accuracy Score \":[lin_reg_score, rr_score , lr_score,rfr_score,svr_score ]})"
   ]
  },
  {
   "cell_type": "markdown",
   "metadata": {},
   "source": [
    "#### Note :-\n",
    "* \" RandomForest Regressor\" give Highest Accuracy Score"
   ]
  },
  {
   "cell_type": "markdown",
   "metadata": {},
   "source": [
    "##### Predict the Rating with Random Forest Regressor Model"
   ]
  },
  {
   "cell_type": "code",
   "execution_count": 136,
   "metadata": {},
   "outputs": [
    {
     "data": {
      "text/plain": [
       "array([4.218])"
      ]
     },
     "execution_count": 136,
     "metadata": {},
     "output_type": "execute_result"
    }
   ],
   "source": [
    "rfr.predict([[0,0,88,62,1587,300,1]])"
   ]
  },
  {
   "cell_type": "markdown",
   "metadata": {},
   "source": [
    "* Compare Actual rating with Random Forest Regressor new prediciton Rating"
   ]
  },
  {
   "cell_type": "code",
   "execution_count": 137,
   "metadata": {},
   "outputs": [
    {
     "data": {
      "text/html": [
       "<div>\n",
       "<style scoped>\n",
       "    .dataframe tbody tr th:only-of-type {\n",
       "        vertical-align: middle;\n",
       "    }\n",
       "\n",
       "    .dataframe tbody tr th {\n",
       "        vertical-align: top;\n",
       "    }\n",
       "\n",
       "    .dataframe thead th {\n",
       "        text-align: right;\n",
       "    }\n",
       "</style>\n",
       "<table border=\"1\" class=\"dataframe\">\n",
       "  <thead>\n",
       "    <tr style=\"text-align: right;\">\n",
       "      <th></th>\n",
       "      <th>Actual Rating</th>\n",
       "      <th>Prediction Rating</th>\n",
       "    </tr>\n",
       "  </thead>\n",
       "  <tbody>\n",
       "    <tr>\n",
       "      <th>0</th>\n",
       "      <td>3.6</td>\n",
       "      <td>3.51</td>\n",
       "    </tr>\n",
       "    <tr>\n",
       "      <th>1</th>\n",
       "      <td>3.9</td>\n",
       "      <td>3.90</td>\n",
       "    </tr>\n",
       "    <tr>\n",
       "      <th>2</th>\n",
       "      <td>3.9</td>\n",
       "      <td>3.85</td>\n",
       "    </tr>\n",
       "    <tr>\n",
       "      <th>3</th>\n",
       "      <td>4.2</td>\n",
       "      <td>4.20</td>\n",
       "    </tr>\n",
       "    <tr>\n",
       "      <th>4</th>\n",
       "      <td>3.1</td>\n",
       "      <td>3.23</td>\n",
       "    </tr>\n",
       "    <tr>\n",
       "      <th>...</th>\n",
       "      <td>...</td>\n",
       "      <td>...</td>\n",
       "    </tr>\n",
       "    <tr>\n",
       "      <th>2317</th>\n",
       "      <td>4.1</td>\n",
       "      <td>3.98</td>\n",
       "    </tr>\n",
       "    <tr>\n",
       "      <th>2318</th>\n",
       "      <td>4.2</td>\n",
       "      <td>3.81</td>\n",
       "    </tr>\n",
       "    <tr>\n",
       "      <th>2319</th>\n",
       "      <td>4.2</td>\n",
       "      <td>4.20</td>\n",
       "    </tr>\n",
       "    <tr>\n",
       "      <th>2320</th>\n",
       "      <td>3.9</td>\n",
       "      <td>3.84</td>\n",
       "    </tr>\n",
       "    <tr>\n",
       "      <th>2321</th>\n",
       "      <td>3.0</td>\n",
       "      <td>3.02</td>\n",
       "    </tr>\n",
       "  </tbody>\n",
       "</table>\n",
       "<p>2322 rows × 2 columns</p>\n",
       "</div>"
      ],
      "text/plain": [
       "      Actual Rating  Prediction Rating\n",
       "0               3.6               3.51\n",
       "1               3.9               3.90\n",
       "2               3.9               3.85\n",
       "3               4.2               4.20\n",
       "4               3.1               3.23\n",
       "...             ...                ...\n",
       "2317            4.1               3.98\n",
       "2318            4.2               3.81\n",
       "2319            4.2               4.20\n",
       "2320            3.9               3.84\n",
       "2321            3.0               3.02\n",
       "\n",
       "[2322 rows x 2 columns]"
      ]
     },
     "execution_count": 137,
     "metadata": {},
     "output_type": "execute_result"
    }
   ],
   "source": [
    "pd.DataFrame({\"Actual Rating\": y_test, \"Prediction Rating\":np.round(rfr_pred,2)})"
   ]
  },
  {
   "cell_type": "code",
   "execution_count": 184,
   "metadata": {},
   "outputs": [],
   "source": [
    "# use pickle to save our model so that we can use it later\n",
    "import pickle\n",
    "# saving model to disk\n",
    "pickle.dump(rfr, open(\"zomato_best.pkl\",\"wb\"))\n",
    "model = pickle.load(open(\"zomato_best.pkl\",\"rb\"))"
   ]
  },
  {
   "cell_type": "code",
   "execution_count": 183,
   "metadata": {},
   "outputs": [],
   "source": [
    "df.to_csv(\"Zomato_ratingPrediction.csv\",index = False)"
   ]
  },
  {
   "cell_type": "code",
   "execution_count": null,
   "metadata": {},
   "outputs": [],
   "source": []
  }
 ],
 "metadata": {
  "kernelspec": {
   "display_name": "Python 3",
   "language": "python",
   "name": "python3"
  },
  "language_info": {
   "codemirror_mode": {
    "name": "ipython",
    "version": 3
   },
   "file_extension": ".py",
   "mimetype": "text/x-python",
   "name": "python",
   "nbconvert_exporter": "python",
   "pygments_lexer": "ipython3",
   "version": "3.6.10"
  }
 },
 "nbformat": 4,
 "nbformat_minor": 4
}
