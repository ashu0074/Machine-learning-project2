{
 "cells": [
  {
   "cell_type": "code",
   "execution_count": 2,
   "metadata": {},
   "outputs": [],
   "source": [
    "import quandl\n",
    "import pandas as pd"
   ]
  },
  {
   "cell_type": "code",
   "execution_count": 7,
   "metadata": {
    "scrolled": true
   },
   "outputs": [
    {
     "name": "stdout",
     "output_type": "stream",
     "text": [
      "              Open     High     Low    Last    Close  Total Trade Quantity  \\\n",
      "Date                                                                         \n",
      "2019-01-01  1896.0  1910.00  1885.0  1905.9  1902.80             1094883.0   \n",
      "2019-01-02  1905.0  1934.45  1900.0  1919.0  1923.30             2100463.0   \n",
      "2019-01-03  1919.0  1944.95  1893.1  1901.0  1899.95             2611668.0   \n",
      "2019-01-04  1900.0  1901.20  1841.0  1882.0  1876.85             4280862.0   \n",
      "\n",
      "            Turnover (Lacs)  \n",
      "Date                         \n",
      "2019-01-01         20800.34  \n",
      "2019-01-02         40389.86  \n",
      "2019-01-03         50061.78  \n",
      "2019-01-04         80017.42  \n"
     ]
    }
   ],
   "source": [
    "quandl.ApiConfig.api_key = \"x6fVzQf8o1joCSyhKBoY\"\n",
    "stock_data = quandl.get(\"NSE/TCS\",start_date = \"2019-01-01\",end_date='2019-01-31')\n",
    "print(stock_data)"
   ]
  },
  {
   "cell_type": "code",
   "execution_count": 9,
   "metadata": {},
   "outputs": [],
   "source": [
    "dataset = pd.DataFrame(stock_data)"
   ]
  },
  {
   "cell_type": "code",
   "execution_count": 10,
   "metadata": {},
   "outputs": [
    {
     "data": {
      "text/html": [
       "<div>\n",
       "<style scoped>\n",
       "    .dataframe tbody tr th:only-of-type {\n",
       "        vertical-align: middle;\n",
       "    }\n",
       "\n",
       "    .dataframe tbody tr th {\n",
       "        vertical-align: top;\n",
       "    }\n",
       "\n",
       "    .dataframe thead th {\n",
       "        text-align: right;\n",
       "    }\n",
       "</style>\n",
       "<table border=\"1\" class=\"dataframe\">\n",
       "  <thead>\n",
       "    <tr style=\"text-align: right;\">\n",
       "      <th></th>\n",
       "      <th>Open</th>\n",
       "      <th>High</th>\n",
       "      <th>Low</th>\n",
       "      <th>Last</th>\n",
       "      <th>Close</th>\n",
       "      <th>Total Trade Quantity</th>\n",
       "      <th>Turnover (Lacs)</th>\n",
       "    </tr>\n",
       "    <tr>\n",
       "      <th>Date</th>\n",
       "      <th></th>\n",
       "      <th></th>\n",
       "      <th></th>\n",
       "      <th></th>\n",
       "      <th></th>\n",
       "      <th></th>\n",
       "      <th></th>\n",
       "    </tr>\n",
       "  </thead>\n",
       "  <tbody>\n",
       "    <tr>\n",
       "      <th>2019-01-01</th>\n",
       "      <td>1896.0</td>\n",
       "      <td>1910.00</td>\n",
       "      <td>1885.0</td>\n",
       "      <td>1905.9</td>\n",
       "      <td>1902.80</td>\n",
       "      <td>1094883.0</td>\n",
       "      <td>20800.34</td>\n",
       "    </tr>\n",
       "    <tr>\n",
       "      <th>2019-01-02</th>\n",
       "      <td>1905.0</td>\n",
       "      <td>1934.45</td>\n",
       "      <td>1900.0</td>\n",
       "      <td>1919.0</td>\n",
       "      <td>1923.30</td>\n",
       "      <td>2100463.0</td>\n",
       "      <td>40389.86</td>\n",
       "    </tr>\n",
       "    <tr>\n",
       "      <th>2019-01-03</th>\n",
       "      <td>1919.0</td>\n",
       "      <td>1944.95</td>\n",
       "      <td>1893.1</td>\n",
       "      <td>1901.0</td>\n",
       "      <td>1899.95</td>\n",
       "      <td>2611668.0</td>\n",
       "      <td>50061.78</td>\n",
       "    </tr>\n",
       "    <tr>\n",
       "      <th>2019-01-04</th>\n",
       "      <td>1900.0</td>\n",
       "      <td>1901.20</td>\n",
       "      <td>1841.0</td>\n",
       "      <td>1882.0</td>\n",
       "      <td>1876.85</td>\n",
       "      <td>4280862.0</td>\n",
       "      <td>80017.42</td>\n",
       "    </tr>\n",
       "  </tbody>\n",
       "</table>\n",
       "</div>"
      ],
      "text/plain": [
       "              Open     High     Low    Last    Close  Total Trade Quantity  \\\n",
       "Date                                                                         \n",
       "2019-01-01  1896.0  1910.00  1885.0  1905.9  1902.80             1094883.0   \n",
       "2019-01-02  1905.0  1934.45  1900.0  1919.0  1923.30             2100463.0   \n",
       "2019-01-03  1919.0  1944.95  1893.1  1901.0  1899.95             2611668.0   \n",
       "2019-01-04  1900.0  1901.20  1841.0  1882.0  1876.85             4280862.0   \n",
       "\n",
       "            Turnover (Lacs)  \n",
       "Date                         \n",
       "2019-01-01         20800.34  \n",
       "2019-01-02         40389.86  \n",
       "2019-01-03         50061.78  \n",
       "2019-01-04         80017.42  "
      ]
     },
     "execution_count": 10,
     "metadata": {},
     "output_type": "execute_result"
    }
   ],
   "source": [
    "dataset.head()"
   ]
  },
  {
   "cell_type": "code",
   "execution_count": null,
   "metadata": {},
   "outputs": [],
   "source": []
  },
  {
   "cell_type": "code",
   "execution_count": null,
   "metadata": {},
   "outputs": [],
   "source": []
  },
  {
   "cell_type": "code",
   "execution_count": null,
   "metadata": {},
   "outputs": [],
   "source": []
  },
  {
   "cell_type": "code",
   "execution_count": null,
   "metadata": {},
   "outputs": [],
   "source": []
  },
  {
   "cell_type": "code",
   "execution_count": null,
   "metadata": {},
   "outputs": [],
   "source": []
  },
  {
   "cell_type": "code",
   "execution_count": 4,
   "metadata": {},
   "outputs": [
    {
     "name": "stdout",
     "output_type": "stream",
     "text": [
      "            Open   High    Low   Last  Close  Total Trade Quantity  \\\n",
      "Date                                                                 \n",
      "2019-01-01  47.6  48.05  47.00  47.35  47.45             5866161.0   \n",
      "2019-01-02  47.7  47.70  45.40  46.30  46.25             7802259.0   \n",
      "2019-01-03  46.3  46.50  45.15  45.35  45.35             5358817.0   \n",
      "2019-01-04  45.3  45.55  44.25  44.95  45.20             7126540.0   \n",
      "\n",
      "            Turnover (Lacs)  \n",
      "Date                         \n",
      "2019-01-01          2788.80  \n",
      "2019-01-02          3634.69  \n",
      "2019-01-03          2448.28  \n",
      "2019-01-04          3204.34  \n"
     ]
    }
   ],
   "source": [
    "quandl.ApiConfig.api_key = \"x6fVzQf8o1joCSyhKBoY\"\n",
    "stock_data1 = quandl.get(\"NSE/INFIBEAM\",start_date = \"2019-01-01\",end_date='2019-01-31')\n",
    "print(stock_data)"
   ]
  },
  {
   "cell_type": "code",
   "execution_count": 5,
   "metadata": {},
   "outputs": [],
   "source": [
    "dataset = pd.DataFrame(stock_data1)"
   ]
  },
  {
   "cell_type": "code",
   "execution_count": 6,
   "metadata": {},
   "outputs": [
    {
     "data": {
      "text/html": [
       "<div>\n",
       "<style scoped>\n",
       "    .dataframe tbody tr th:only-of-type {\n",
       "        vertical-align: middle;\n",
       "    }\n",
       "\n",
       "    .dataframe tbody tr th {\n",
       "        vertical-align: top;\n",
       "    }\n",
       "\n",
       "    .dataframe thead th {\n",
       "        text-align: right;\n",
       "    }\n",
       "</style>\n",
       "<table border=\"1\" class=\"dataframe\">\n",
       "  <thead>\n",
       "    <tr style=\"text-align: right;\">\n",
       "      <th></th>\n",
       "      <th>Open</th>\n",
       "      <th>High</th>\n",
       "      <th>Low</th>\n",
       "      <th>Last</th>\n",
       "      <th>Close</th>\n",
       "      <th>Total Trade Quantity</th>\n",
       "      <th>Turnover (Lacs)</th>\n",
       "    </tr>\n",
       "    <tr>\n",
       "      <th>Date</th>\n",
       "      <th></th>\n",
       "      <th></th>\n",
       "      <th></th>\n",
       "      <th></th>\n",
       "      <th></th>\n",
       "      <th></th>\n",
       "      <th></th>\n",
       "    </tr>\n",
       "  </thead>\n",
       "  <tbody>\n",
       "    <tr>\n",
       "      <th>2019-01-01</th>\n",
       "      <td>47.6</td>\n",
       "      <td>48.05</td>\n",
       "      <td>47.00</td>\n",
       "      <td>47.35</td>\n",
       "      <td>47.45</td>\n",
       "      <td>5866161.0</td>\n",
       "      <td>2788.80</td>\n",
       "    </tr>\n",
       "    <tr>\n",
       "      <th>2019-01-02</th>\n",
       "      <td>47.7</td>\n",
       "      <td>47.70</td>\n",
       "      <td>45.40</td>\n",
       "      <td>46.30</td>\n",
       "      <td>46.25</td>\n",
       "      <td>7802259.0</td>\n",
       "      <td>3634.69</td>\n",
       "    </tr>\n",
       "    <tr>\n",
       "      <th>2019-01-03</th>\n",
       "      <td>46.3</td>\n",
       "      <td>46.50</td>\n",
       "      <td>45.15</td>\n",
       "      <td>45.35</td>\n",
       "      <td>45.35</td>\n",
       "      <td>5358817.0</td>\n",
       "      <td>2448.28</td>\n",
       "    </tr>\n",
       "    <tr>\n",
       "      <th>2019-01-04</th>\n",
       "      <td>45.3</td>\n",
       "      <td>45.55</td>\n",
       "      <td>44.25</td>\n",
       "      <td>44.95</td>\n",
       "      <td>45.20</td>\n",
       "      <td>7126540.0</td>\n",
       "      <td>3204.34</td>\n",
       "    </tr>\n",
       "  </tbody>\n",
       "</table>\n",
       "</div>"
      ],
      "text/plain": [
       "            Open   High    Low   Last  Close  Total Trade Quantity  \\\n",
       "Date                                                                 \n",
       "2019-01-01  47.6  48.05  47.00  47.35  47.45             5866161.0   \n",
       "2019-01-02  47.7  47.70  45.40  46.30  46.25             7802259.0   \n",
       "2019-01-03  46.3  46.50  45.15  45.35  45.35             5358817.0   \n",
       "2019-01-04  45.3  45.55  44.25  44.95  45.20             7126540.0   \n",
       "\n",
       "            Turnover (Lacs)  \n",
       "Date                         \n",
       "2019-01-01          2788.80  \n",
       "2019-01-02          3634.69  \n",
       "2019-01-03          2448.28  \n",
       "2019-01-04          3204.34  "
      ]
     },
     "execution_count": 6,
     "metadata": {},
     "output_type": "execute_result"
    }
   ],
   "source": [
    "dataset.head()"
   ]
  },
  {
   "cell_type": "code",
   "execution_count": null,
   "metadata": {},
   "outputs": [],
   "source": []
  }
 ],
 "metadata": {
  "kernelspec": {
   "display_name": "Python 3",
   "language": "python",
   "name": "python3"
  },
  "language_info": {
   "codemirror_mode": {
    "name": "ipython",
    "version": 3
   },
   "file_extension": ".py",
   "mimetype": "text/x-python",
   "name": "python",
   "nbconvert_exporter": "python",
   "pygments_lexer": "ipython3",
   "version": "3.6.10"
  }
 },
 "nbformat": 4,
 "nbformat_minor": 4
}
