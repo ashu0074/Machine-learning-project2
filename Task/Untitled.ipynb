{
 "cells": [
  {
   "cell_type": "code",
   "execution_count": 1,
   "metadata": {},
   "outputs": [],
   "source": [
    "import pandas as pd\n",
    "import matplotlib.pyplot as plt\n",
    "import quandl\n",
    "from sklearn.linear_model import LinearRegression\n",
    "from pandas_profiling import ProfileReport\n",
    "import seaborn as sns"
   ]
  },
  {
   "cell_type": "code",
   "execution_count": 4,
   "metadata": {},
   "outputs": [
    {
     "ename": "SyntaxError",
     "evalue": "Invalid format used for Quandl database code.         The correct format is: `DATABASE_CODE/DATASET_CODE` (<string>)",
     "output_type": "error",
     "traceback": [
      "Traceback \u001b[0;36m(most recent call last)\u001b[0m:\n",
      "  File \u001b[1;32m\"/home/arcgate/anaconda3/lib/python3.6/site-packages/IPython/core/interactiveshell.py\"\u001b[0m, line \u001b[1;32m3331\u001b[0m, in \u001b[1;35mrun_code\u001b[0m\n    exec(code_obj, self.user_global_ns, self.user_ns)\n",
      "  File \u001b[1;32m\"<ipython-input-4-b343891a7e96>\"\u001b[0m, line \u001b[1;32m2\u001b[0m, in \u001b[1;35m<module>\u001b[0m\n    stock_data = quandl.get('ATUL AUTO LIMITED',start_date ='2018-12-01',end_date='2018-12-31')\n",
      "  File \u001b[1;32m\"/home/arcgate/anaconda3/lib/python3.6/site-packages/quandl/get.py\"\u001b[0m, line \u001b[1;32m48\u001b[0m, in \u001b[1;35mget\u001b[0m\n    data = Dataset(dataset_args['code']).data(params=kwargs, handle_column_not_found=True)\n",
      "\u001b[0;36m  File \u001b[0;32m\"/home/arcgate/anaconda3/lib/python3.6/site-packages/quandl/model/dataset.py\"\u001b[0;36m, line \u001b[0;32m28\u001b[0;36m, in \u001b[0;35m__init__\u001b[0;36m\u001b[0m\n\u001b[0;31m    raise SyntaxError(Message.ERROR_INVALID_DATABASE_CODE_FORMAT)\u001b[0m\n",
      "\u001b[0;36m  File \u001b[0;32m\"<string>\"\u001b[0;36m, line \u001b[0;32munknown\u001b[0m\n\u001b[0;31mSyntaxError\u001b[0m\u001b[0;31m:\u001b[0m Invalid format used for Quandl database code.         The correct format is: `DATABASE_CODE/DATASET_CODE`\n"
     ]
    }
   ],
   "source": [
    "quandl.ApiConfig.api_key = \"x6fVzQf8o1joCSyhKBoY\"\n",
    "stock_data = quandl.get('ATUL AUTO LIMITED',start_date ='2018-12-01',end_date='2018-12-31')\n",
    "# let's see the data\n",
    "print(stock_data)"
   ]
  },
  {
   "cell_type": "code",
   "execution_count": null,
   "metadata": {},
   "outputs": [],
   "source": []
  }
 ],
 "metadata": {
  "kernelspec": {
   "display_name": "Python 3",
   "language": "python",
   "name": "python3"
  },
  "language_info": {
   "codemirror_mode": {
    "name": "ipython",
    "version": 3
   },
   "file_extension": ".py",
   "mimetype": "text/x-python",
   "name": "python",
   "nbconvert_exporter": "python",
   "pygments_lexer": "ipython3",
   "version": "3.6.10"
  }
 },
 "nbformat": 4,
 "nbformat_minor": 4
}
