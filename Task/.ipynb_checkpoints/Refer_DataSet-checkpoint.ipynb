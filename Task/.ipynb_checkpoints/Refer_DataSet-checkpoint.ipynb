{
 "cells": [
  {
   "cell_type": "code",
   "execution_count": 8,
   "metadata": {},
   "outputs": [],
   "source": [
    "import quandl\n",
    "import pandas as pd"
   ]
  },
  {
   "cell_type": "code",
   "execution_count": 7,
   "metadata": {
    "scrolled": true
   },
   "outputs": [
    {
     "name": "stdout",
     "output_type": "stream",
     "text": [
      "              Open     High     Low    Last    Close  Total Trade Quantity  \\\n",
      "Date                                                                         \n",
      "2019-01-01  1896.0  1910.00  1885.0  1905.9  1902.80             1094883.0   \n",
      "2019-01-02  1905.0  1934.45  1900.0  1919.0  1923.30             2100463.0   \n",
      "2019-01-03  1919.0  1944.95  1893.1  1901.0  1899.95             2611668.0   \n",
      "2019-01-04  1900.0  1901.20  1841.0  1882.0  1876.85             4280862.0   \n",
      "\n",
      "            Turnover (Lacs)  \n",
      "Date                         \n",
      "2019-01-01         20800.34  \n",
      "2019-01-02         40389.86  \n",
      "2019-01-03         50061.78  \n",
      "2019-01-04         80017.42  \n"
     ]
    }
   ],
   "source": [
    "quandl.ApiConfig.api_key = \"x6fVzQf8o1joCSyhKBoY\"\n",
    "stock_data = quandl.get(\"NSE/TCS\",start_date = \"2019-01-01\",end_date='2019-01-31')\n",
    "print(stock_data)"
   ]
  },
  {
   "cell_type": "code",
   "execution_count": 9,
   "metadata": {},
   "outputs": [],
   "source": [
    "dataset = pd.DataFrame(stock_data)"
   ]
  },
  {
   "cell_type": "code",
   "execution_count": 10,
   "metadata": {},
   "outputs": [
    {
     "data": {
      "text/html": [
       "<div>\n",
       "<style scoped>\n",
       "    .dataframe tbody tr th:only-of-type {\n",
       "        vertical-align: middle;\n",
       "    }\n",
       "\n",
       "    .dataframe tbody tr th {\n",
       "        vertical-align: top;\n",
       "    }\n",
       "\n",
       "    .dataframe thead th {\n",
       "        text-align: right;\n",
       "    }\n",
       "</style>\n",
       "<table border=\"1\" class=\"dataframe\">\n",
       "  <thead>\n",
       "    <tr style=\"text-align: right;\">\n",
       "      <th></th>\n",
       "      <th>Open</th>\n",
       "      <th>High</th>\n",
       "      <th>Low</th>\n",
       "      <th>Last</th>\n",
       "      <th>Close</th>\n",
       "      <th>Total Trade Quantity</th>\n",
       "      <th>Turnover (Lacs)</th>\n",
       "    </tr>\n",
       "    <tr>\n",
       "      <th>Date</th>\n",
       "      <th></th>\n",
       "      <th></th>\n",
       "      <th></th>\n",
       "      <th></th>\n",
       "      <th></th>\n",
       "      <th></th>\n",
       "      <th></th>\n",
       "    </tr>\n",
       "  </thead>\n",
       "  <tbody>\n",
       "    <tr>\n",
       "      <th>2019-01-01</th>\n",
       "      <td>1896.0</td>\n",
       "      <td>1910.00</td>\n",
       "      <td>1885.0</td>\n",
       "      <td>1905.9</td>\n",
       "      <td>1902.80</td>\n",
       "      <td>1094883.0</td>\n",
       "      <td>20800.34</td>\n",
       "    </tr>\n",
       "    <tr>\n",
       "      <th>2019-01-02</th>\n",
       "      <td>1905.0</td>\n",
       "      <td>1934.45</td>\n",
       "      <td>1900.0</td>\n",
       "      <td>1919.0</td>\n",
       "      <td>1923.30</td>\n",
       "      <td>2100463.0</td>\n",
       "      <td>40389.86</td>\n",
       "    </tr>\n",
       "    <tr>\n",
       "      <th>2019-01-03</th>\n",
       "      <td>1919.0</td>\n",
       "      <td>1944.95</td>\n",
       "      <td>1893.1</td>\n",
       "      <td>1901.0</td>\n",
       "      <td>1899.95</td>\n",
       "      <td>2611668.0</td>\n",
       "      <td>50061.78</td>\n",
       "    </tr>\n",
       "    <tr>\n",
       "      <th>2019-01-04</th>\n",
       "      <td>1900.0</td>\n",
       "      <td>1901.20</td>\n",
       "      <td>1841.0</td>\n",
       "      <td>1882.0</td>\n",
       "      <td>1876.85</td>\n",
       "      <td>4280862.0</td>\n",
       "      <td>80017.42</td>\n",
       "    </tr>\n",
       "  </tbody>\n",
       "</table>\n",
       "</div>"
      ],
      "text/plain": [
       "              Open     High     Low    Last    Close  Total Trade Quantity  \\\n",
       "Date                                                                         \n",
       "2019-01-01  1896.0  1910.00  1885.0  1905.9  1902.80             1094883.0   \n",
       "2019-01-02  1905.0  1934.45  1900.0  1919.0  1923.30             2100463.0   \n",
       "2019-01-03  1919.0  1944.95  1893.1  1901.0  1899.95             2611668.0   \n",
       "2019-01-04  1900.0  1901.20  1841.0  1882.0  1876.85             4280862.0   \n",
       "\n",
       "            Turnover (Lacs)  \n",
       "Date                         \n",
       "2019-01-01         20800.34  \n",
       "2019-01-02         40389.86  \n",
       "2019-01-03         50061.78  \n",
       "2019-01-04         80017.42  "
      ]
     },
     "execution_count": 10,
     "metadata": {},
     "output_type": "execute_result"
    }
   ],
   "source": [
    "dataset.head()"
   ]
  },
  {
   "cell_type": "code",
   "execution_count": null,
   "metadata": {},
   "outputs": [],
   "source": []
  }
 ],
 "metadata": {
  "kernelspec": {
   "display_name": "Python 3",
   "language": "python",
   "name": "python3"
  },
  "language_info": {
   "codemirror_mode": {
    "name": "ipython",
    "version": 3
   },
   "file_extension": ".py",
   "mimetype": "text/x-python",
   "name": "python",
   "nbconvert_exporter": "python",
   "pygments_lexer": "ipython3",
   "version": "3.6.10"
  }
 },
 "nbformat": 4,
 "nbformat_minor": 4
}
