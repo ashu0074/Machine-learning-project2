{
 "cells": [
  {
   "cell_type": "code",
   "execution_count": 37,
   "metadata": {},
   "outputs": [],
   "source": [
    "import pandas as pd\n",
    "import numpy as np\n",
    "import quandl\n",
    "from sklearn.tree import DecisionTreeRegressor \n",
    "from pandas_profiling import ProfileReport"
   ]
  },
  {
   "cell_type": "markdown",
   "metadata": {},
   "source": [
    "* Here we use the DecisionTreeRegressor for perform the regression funtion"
   ]
  },
  {
   "cell_type": "code",
   "execution_count": 38,
   "metadata": {},
   "outputs": [
    {
     "name": "stdout",
     "output_type": "stream",
     "text": [
      "             Open   High    Low   Last  Close  Total Trade Quantity  \\\n",
      "Date                                                                  \n",
      "2018-12-03  44.50  49.25  44.10  48.20  47.85            26696990.0   \n",
      "2018-12-04  48.65  52.45  48.60  50.20  50.45            26100305.0   \n",
      "2018-12-05  50.40  50.65  46.15  47.95  47.25            18384298.0   \n",
      "2018-12-06  46.75  47.65  44.40  44.55  44.85            13268774.0   \n",
      "2018-12-07  45.95  46.50  43.10  44.40  44.45            13889470.0   \n",
      "2018-12-10  42.00  43.75  39.55  39.90  39.90            21824081.0   \n",
      "2018-12-11  37.25  42.25  37.20  42.00  41.65            24656308.0   \n",
      "2018-12-12  42.05  47.20  42.05  46.35  46.70            27910641.0   \n",
      "2018-12-13  47.20  50.50  45.50  46.70  47.15            40448139.0   \n",
      "2018-12-14  47.00  47.85  45.75  46.85  46.60            17975886.0   \n",
      "2018-12-17  46.90  49.55  46.90  48.35  48.65            21539853.0   \n",
      "2018-12-18  48.95  50.80  48.10  48.75  48.95            26753724.0   \n",
      "2018-12-19  49.40  49.70  47.55  48.00  48.05            12171546.0   \n",
      "2018-12-20  47.95  49.60  47.20  48.40  48.40            13581666.0   \n",
      "2018-12-21  50.00  51.40  48.20  49.25  49.10            25489538.0   \n",
      "2018-12-24  49.40  49.75  46.90  47.40  47.25            11654416.0   \n",
      "2018-12-26  46.70  46.90  44.30  46.00  46.00            17155618.0   \n",
      "2018-12-27  47.00  48.00  45.75  47.70  46.90            12671738.0   \n",
      "2018-12-28  47.50  48.35  46.70  47.70  47.85            11239352.0   \n",
      "2018-12-31  48.05  48.40  47.20  47.35  47.45             7480138.0   \n",
      "\n",
      "            Turnover (Lacs)  \n",
      "Date                         \n",
      "2018-12-03         12588.85  \n",
      "2018-12-04         13315.45  \n",
      "2018-12-05          8804.91  \n",
      "2018-12-06          6085.51  \n",
      "2018-12-07          6219.22  \n",
      "2018-12-10          8934.60  \n",
      "2018-12-11         10116.37  \n",
      "2018-12-12         12521.01  \n",
      "2018-12-13         19509.82  \n",
      "2018-12-14          8427.83  \n",
      "2018-12-17         10487.91  \n",
      "2018-12-18         13232.84  \n",
      "2018-12-19          5940.07  \n",
      "2018-12-20          6608.80  \n",
      "2018-12-21         12698.16  \n",
      "2018-12-24          5576.26  \n",
      "2018-12-26          7868.07  \n",
      "2018-12-27          5893.99  \n",
      "2018-12-28          5348.21  \n",
      "2018-12-31          3558.53  \n"
     ]
    }
   ],
   "source": [
    "quandl.ApiConfig.api_key = \"x6fVzQf8o1joCSyhKBoY\"\n",
    "stock_data = quandl.get('NSE/INFIBEAM', start_date='2018-12-01',end_date='2018-12-31')\n",
    "print(stock_data)"
   ]
  },
  {
   "cell_type": "markdown",
   "metadata": {},
   "source": [
    "#### Now convert the data into Dataframe and then save into csv file"
   ]
  },
  {
   "cell_type": "code",
   "execution_count": 39,
   "metadata": {},
   "outputs": [],
   "source": [
    "dataset = pd.DataFrame(stock_data)"
   ]
  },
  {
   "cell_type": "code",
   "execution_count": 40,
   "metadata": {},
   "outputs": [
    {
     "data": {
      "text/html": [
       "<div>\n",
       "<style scoped>\n",
       "    .dataframe tbody tr th:only-of-type {\n",
       "        vertical-align: middle;\n",
       "    }\n",
       "\n",
       "    .dataframe tbody tr th {\n",
       "        vertical-align: top;\n",
       "    }\n",
       "\n",
       "    .dataframe thead th {\n",
       "        text-align: right;\n",
       "    }\n",
       "</style>\n",
       "<table border=\"1\" class=\"dataframe\">\n",
       "  <thead>\n",
       "    <tr style=\"text-align: right;\">\n",
       "      <th></th>\n",
       "      <th>Open</th>\n",
       "      <th>High</th>\n",
       "      <th>Low</th>\n",
       "      <th>Last</th>\n",
       "      <th>Close</th>\n",
       "      <th>Total Trade Quantity</th>\n",
       "      <th>Turnover (Lacs)</th>\n",
       "    </tr>\n",
       "    <tr>\n",
       "      <th>Date</th>\n",
       "      <th></th>\n",
       "      <th></th>\n",
       "      <th></th>\n",
       "      <th></th>\n",
       "      <th></th>\n",
       "      <th></th>\n",
       "      <th></th>\n",
       "    </tr>\n",
       "  </thead>\n",
       "  <tbody>\n",
       "    <tr>\n",
       "      <th>2018-12-03</th>\n",
       "      <td>44.50</td>\n",
       "      <td>49.25</td>\n",
       "      <td>44.10</td>\n",
       "      <td>48.20</td>\n",
       "      <td>47.85</td>\n",
       "      <td>26696990.0</td>\n",
       "      <td>12588.85</td>\n",
       "    </tr>\n",
       "    <tr>\n",
       "      <th>2018-12-04</th>\n",
       "      <td>48.65</td>\n",
       "      <td>52.45</td>\n",
       "      <td>48.60</td>\n",
       "      <td>50.20</td>\n",
       "      <td>50.45</td>\n",
       "      <td>26100305.0</td>\n",
       "      <td>13315.45</td>\n",
       "    </tr>\n",
       "    <tr>\n",
       "      <th>2018-12-05</th>\n",
       "      <td>50.40</td>\n",
       "      <td>50.65</td>\n",
       "      <td>46.15</td>\n",
       "      <td>47.95</td>\n",
       "      <td>47.25</td>\n",
       "      <td>18384298.0</td>\n",
       "      <td>8804.91</td>\n",
       "    </tr>\n",
       "    <tr>\n",
       "      <th>2018-12-06</th>\n",
       "      <td>46.75</td>\n",
       "      <td>47.65</td>\n",
       "      <td>44.40</td>\n",
       "      <td>44.55</td>\n",
       "      <td>44.85</td>\n",
       "      <td>13268774.0</td>\n",
       "      <td>6085.51</td>\n",
       "    </tr>\n",
       "    <tr>\n",
       "      <th>2018-12-07</th>\n",
       "      <td>45.95</td>\n",
       "      <td>46.50</td>\n",
       "      <td>43.10</td>\n",
       "      <td>44.40</td>\n",
       "      <td>44.45</td>\n",
       "      <td>13889470.0</td>\n",
       "      <td>6219.22</td>\n",
       "    </tr>\n",
       "  </tbody>\n",
       "</table>\n",
       "</div>"
      ],
      "text/plain": [
       "             Open   High    Low   Last  Close  Total Trade Quantity  \\\n",
       "Date                                                                  \n",
       "2018-12-03  44.50  49.25  44.10  48.20  47.85            26696990.0   \n",
       "2018-12-04  48.65  52.45  48.60  50.20  50.45            26100305.0   \n",
       "2018-12-05  50.40  50.65  46.15  47.95  47.25            18384298.0   \n",
       "2018-12-06  46.75  47.65  44.40  44.55  44.85            13268774.0   \n",
       "2018-12-07  45.95  46.50  43.10  44.40  44.45            13889470.0   \n",
       "\n",
       "            Turnover (Lacs)  \n",
       "Date                         \n",
       "2018-12-03         12588.85  \n",
       "2018-12-04         13315.45  \n",
       "2018-12-05          8804.91  \n",
       "2018-12-06          6085.51  \n",
       "2018-12-07          6219.22  "
      ]
     },
     "execution_count": 40,
     "metadata": {},
     "output_type": "execute_result"
    }
   ],
   "source": [
    "dataset.head()"
   ]
  },
  {
   "cell_type": "code",
   "execution_count": 41,
   "metadata": {},
   "outputs": [],
   "source": [
    "dataset.to_csv(\"INFIBEAM.csv\")"
   ]
  },
  {
   "cell_type": "code",
   "execution_count": 42,
   "metadata": {},
   "outputs": [],
   "source": [
    "data = pd.read_csv(\"INFIBEAM.csv\")"
   ]
  },
  {
   "cell_type": "code",
   "execution_count": 43,
   "metadata": {},
   "outputs": [
    {
     "data": {
      "text/html": [
       "<div>\n",
       "<style scoped>\n",
       "    .dataframe tbody tr th:only-of-type {\n",
       "        vertical-align: middle;\n",
       "    }\n",
       "\n",
       "    .dataframe tbody tr th {\n",
       "        vertical-align: top;\n",
       "    }\n",
       "\n",
       "    .dataframe thead th {\n",
       "        text-align: right;\n",
       "    }\n",
       "</style>\n",
       "<table border=\"1\" class=\"dataframe\">\n",
       "  <thead>\n",
       "    <tr style=\"text-align: right;\">\n",
       "      <th></th>\n",
       "      <th>Date</th>\n",
       "      <th>Open</th>\n",
       "      <th>High</th>\n",
       "      <th>Low</th>\n",
       "      <th>Last</th>\n",
       "      <th>Close</th>\n",
       "      <th>Total Trade Quantity</th>\n",
       "      <th>Turnover (Lacs)</th>\n",
       "    </tr>\n",
       "  </thead>\n",
       "  <tbody>\n",
       "    <tr>\n",
       "      <th>0</th>\n",
       "      <td>2018-12-03</td>\n",
       "      <td>44.50</td>\n",
       "      <td>49.25</td>\n",
       "      <td>44.10</td>\n",
       "      <td>48.20</td>\n",
       "      <td>47.85</td>\n",
       "      <td>26696990.0</td>\n",
       "      <td>12588.85</td>\n",
       "    </tr>\n",
       "    <tr>\n",
       "      <th>1</th>\n",
       "      <td>2018-12-04</td>\n",
       "      <td>48.65</td>\n",
       "      <td>52.45</td>\n",
       "      <td>48.60</td>\n",
       "      <td>50.20</td>\n",
       "      <td>50.45</td>\n",
       "      <td>26100305.0</td>\n",
       "      <td>13315.45</td>\n",
       "    </tr>\n",
       "    <tr>\n",
       "      <th>2</th>\n",
       "      <td>2018-12-05</td>\n",
       "      <td>50.40</td>\n",
       "      <td>50.65</td>\n",
       "      <td>46.15</td>\n",
       "      <td>47.95</td>\n",
       "      <td>47.25</td>\n",
       "      <td>18384298.0</td>\n",
       "      <td>8804.91</td>\n",
       "    </tr>\n",
       "    <tr>\n",
       "      <th>3</th>\n",
       "      <td>2018-12-06</td>\n",
       "      <td>46.75</td>\n",
       "      <td>47.65</td>\n",
       "      <td>44.40</td>\n",
       "      <td>44.55</td>\n",
       "      <td>44.85</td>\n",
       "      <td>13268774.0</td>\n",
       "      <td>6085.51</td>\n",
       "    </tr>\n",
       "    <tr>\n",
       "      <th>4</th>\n",
       "      <td>2018-12-07</td>\n",
       "      <td>45.95</td>\n",
       "      <td>46.50</td>\n",
       "      <td>43.10</td>\n",
       "      <td>44.40</td>\n",
       "      <td>44.45</td>\n",
       "      <td>13889470.0</td>\n",
       "      <td>6219.22</td>\n",
       "    </tr>\n",
       "  </tbody>\n",
       "</table>\n",
       "</div>"
      ],
      "text/plain": [
       "         Date   Open   High    Low   Last  Close  Total Trade Quantity  \\\n",
       "0  2018-12-03  44.50  49.25  44.10  48.20  47.85            26696990.0   \n",
       "1  2018-12-04  48.65  52.45  48.60  50.20  50.45            26100305.0   \n",
       "2  2018-12-05  50.40  50.65  46.15  47.95  47.25            18384298.0   \n",
       "3  2018-12-06  46.75  47.65  44.40  44.55  44.85            13268774.0   \n",
       "4  2018-12-07  45.95  46.50  43.10  44.40  44.45            13889470.0   \n",
       "\n",
       "   Turnover (Lacs)  \n",
       "0         12588.85  \n",
       "1         13315.45  \n",
       "2          8804.91  \n",
       "3          6085.51  \n",
       "4          6219.22  "
      ]
     },
     "execution_count": 43,
     "metadata": {},
     "output_type": "execute_result"
    }
   ],
   "source": [
    "data.head()"
   ]
  },
  {
   "cell_type": "markdown",
   "metadata": {},
   "source": [
    "### Now checking the null value or using pandas profiling"
   ]
  },
  {
   "cell_type": "code",
   "execution_count": 44,
   "metadata": {},
   "outputs": [
    {
     "data": {
      "text/plain": [
       "Date                    0\n",
       "Open                    0\n",
       "High                    0\n",
       "Low                     0\n",
       "Last                    0\n",
       "Close                   0\n",
       "Total Trade Quantity    0\n",
       "Turnover (Lacs)         0\n",
       "dtype: int64"
      ]
     },
     "execution_count": 44,
     "metadata": {},
     "output_type": "execute_result"
    }
   ],
   "source": [
    "data.isnull().sum()"
   ]
  },
  {
   "cell_type": "code",
   "execution_count": 45,
   "metadata": {},
   "outputs": [
    {
     "data": {
      "application/vnd.jupyter.widget-view+json": {
       "model_id": "07b30d9cf7334cb080082bd06a31fc7c",
       "version_major": 2,
       "version_minor": 0
      },
      "text/plain": [
       "Tab(children=(HTML(value='<div id=\"overview-content\" class=\"row variable spacing\">\\n    <div class=\"row\">\\n   …"
      ]
     },
     "metadata": {},
     "output_type": "display_data"
    },
    {
     "data": {
      "text/html": [
       "Report generated with <a href=\"https://github.com/pandas-profiling/pandas-profiling\">pandas-profiling</a>."
      ],
      "text/plain": [
       "<IPython.core.display.HTML object>"
      ]
     },
     "metadata": {},
     "output_type": "display_data"
    },
    {
     "data": {
      "text/plain": []
     },
     "execution_count": 45,
     "metadata": {},
     "output_type": "execute_result"
    }
   ],
   "source": [
    "ProfileReport(data)"
   ]
  },
  {
   "cell_type": "markdown",
   "metadata": {},
   "source": [
    "### Note:\n",
    "* now divide the data in Dependent and Independent variable\n",
    "\n",
    "* we can see date columns in useful for our prediciton but for     simplicity we have to remove it because data format is not proper.\n",
    "\n",
    "* Now we have to predict open price so this columns is out dependent variable because open price on High,Low, Close, Last, Turnover etc\n"
   ]
  },
  {
   "cell_type": "code",
   "execution_count": 46,
   "metadata": {},
   "outputs": [
    {
     "data": {
      "text/html": [
       "<div>\n",
       "<style scoped>\n",
       "    .dataframe tbody tr th:only-of-type {\n",
       "        vertical-align: middle;\n",
       "    }\n",
       "\n",
       "    .dataframe tbody tr th {\n",
       "        vertical-align: top;\n",
       "    }\n",
       "\n",
       "    .dataframe thead th {\n",
       "        text-align: right;\n",
       "    }\n",
       "</style>\n",
       "<table border=\"1\" class=\"dataframe\">\n",
       "  <thead>\n",
       "    <tr style=\"text-align: right;\">\n",
       "      <th></th>\n",
       "      <th>Date</th>\n",
       "      <th>Open</th>\n",
       "      <th>High</th>\n",
       "      <th>Low</th>\n",
       "      <th>Last</th>\n",
       "      <th>Close</th>\n",
       "      <th>Total_Trade_Quantity</th>\n",
       "      <th>Turnover_(Lacs)</th>\n",
       "    </tr>\n",
       "  </thead>\n",
       "  <tbody>\n",
       "    <tr>\n",
       "      <th>0</th>\n",
       "      <td>2018-12-03</td>\n",
       "      <td>44.50</td>\n",
       "      <td>49.25</td>\n",
       "      <td>44.10</td>\n",
       "      <td>48.20</td>\n",
       "      <td>47.85</td>\n",
       "      <td>26696990.0</td>\n",
       "      <td>12588.85</td>\n",
       "    </tr>\n",
       "    <tr>\n",
       "      <th>1</th>\n",
       "      <td>2018-12-04</td>\n",
       "      <td>48.65</td>\n",
       "      <td>52.45</td>\n",
       "      <td>48.60</td>\n",
       "      <td>50.20</td>\n",
       "      <td>50.45</td>\n",
       "      <td>26100305.0</td>\n",
       "      <td>13315.45</td>\n",
       "    </tr>\n",
       "    <tr>\n",
       "      <th>2</th>\n",
       "      <td>2018-12-05</td>\n",
       "      <td>50.40</td>\n",
       "      <td>50.65</td>\n",
       "      <td>46.15</td>\n",
       "      <td>47.95</td>\n",
       "      <td>47.25</td>\n",
       "      <td>18384298.0</td>\n",
       "      <td>8804.91</td>\n",
       "    </tr>\n",
       "    <tr>\n",
       "      <th>3</th>\n",
       "      <td>2018-12-06</td>\n",
       "      <td>46.75</td>\n",
       "      <td>47.65</td>\n",
       "      <td>44.40</td>\n",
       "      <td>44.55</td>\n",
       "      <td>44.85</td>\n",
       "      <td>13268774.0</td>\n",
       "      <td>6085.51</td>\n",
       "    </tr>\n",
       "    <tr>\n",
       "      <th>4</th>\n",
       "      <td>2018-12-07</td>\n",
       "      <td>45.95</td>\n",
       "      <td>46.50</td>\n",
       "      <td>43.10</td>\n",
       "      <td>44.40</td>\n",
       "      <td>44.45</td>\n",
       "      <td>13889470.0</td>\n",
       "      <td>6219.22</td>\n",
       "    </tr>\n",
       "  </tbody>\n",
       "</table>\n",
       "</div>"
      ],
      "text/plain": [
       "         Date   Open   High    Low   Last  Close  Total_Trade_Quantity  \\\n",
       "0  2018-12-03  44.50  49.25  44.10  48.20  47.85            26696990.0   \n",
       "1  2018-12-04  48.65  52.45  48.60  50.20  50.45            26100305.0   \n",
       "2  2018-12-05  50.40  50.65  46.15  47.95  47.25            18384298.0   \n",
       "3  2018-12-06  46.75  47.65  44.40  44.55  44.85            13268774.0   \n",
       "4  2018-12-07  45.95  46.50  43.10  44.40  44.45            13889470.0   \n",
       "\n",
       "   Turnover_(Lacs)  \n",
       "0         12588.85  \n",
       "1         13315.45  \n",
       "2          8804.91  \n",
       "3          6085.51  \n",
       "4          6219.22  "
      ]
     },
     "execution_count": 46,
     "metadata": {},
     "output_type": "execute_result"
    }
   ],
   "source": [
    "data.head()"
   ]
  },
  {
   "cell_type": "code",
   "execution_count": 47,
   "metadata": {},
   "outputs": [],
   "source": [
    "# let's select our features\n",
    "x = data.loc[:,'High':'Turnover_(Lacs)']"
   ]
  },
  {
   "cell_type": "code",
   "execution_count": 48,
   "metadata": {},
   "outputs": [],
   "source": [
    "# select the label col\n",
    "y = data.loc[:,'Open']   # select all the row and \"open\" col only"
   ]
  },
  {
   "cell_type": "code",
   "execution_count": 49,
   "metadata": {},
   "outputs": [
    {
     "data": {
      "text/html": [
       "<div>\n",
       "<style scoped>\n",
       "    .dataframe tbody tr th:only-of-type {\n",
       "        vertical-align: middle;\n",
       "    }\n",
       "\n",
       "    .dataframe tbody tr th {\n",
       "        vertical-align: top;\n",
       "    }\n",
       "\n",
       "    .dataframe thead th {\n",
       "        text-align: right;\n",
       "    }\n",
       "</style>\n",
       "<table border=\"1\" class=\"dataframe\">\n",
       "  <thead>\n",
       "    <tr style=\"text-align: right;\">\n",
       "      <th></th>\n",
       "      <th>High</th>\n",
       "      <th>Low</th>\n",
       "      <th>Last</th>\n",
       "      <th>Close</th>\n",
       "      <th>Total_Trade_Quantity</th>\n",
       "      <th>Turnover_(Lacs)</th>\n",
       "    </tr>\n",
       "  </thead>\n",
       "  <tbody>\n",
       "    <tr>\n",
       "      <th>0</th>\n",
       "      <td>49.25</td>\n",
       "      <td>44.10</td>\n",
       "      <td>48.20</td>\n",
       "      <td>47.85</td>\n",
       "      <td>26696990.0</td>\n",
       "      <td>12588.85</td>\n",
       "    </tr>\n",
       "    <tr>\n",
       "      <th>1</th>\n",
       "      <td>52.45</td>\n",
       "      <td>48.60</td>\n",
       "      <td>50.20</td>\n",
       "      <td>50.45</td>\n",
       "      <td>26100305.0</td>\n",
       "      <td>13315.45</td>\n",
       "    </tr>\n",
       "    <tr>\n",
       "      <th>2</th>\n",
       "      <td>50.65</td>\n",
       "      <td>46.15</td>\n",
       "      <td>47.95</td>\n",
       "      <td>47.25</td>\n",
       "      <td>18384298.0</td>\n",
       "      <td>8804.91</td>\n",
       "    </tr>\n",
       "    <tr>\n",
       "      <th>3</th>\n",
       "      <td>47.65</td>\n",
       "      <td>44.40</td>\n",
       "      <td>44.55</td>\n",
       "      <td>44.85</td>\n",
       "      <td>13268774.0</td>\n",
       "      <td>6085.51</td>\n",
       "    </tr>\n",
       "    <tr>\n",
       "      <th>4</th>\n",
       "      <td>46.50</td>\n",
       "      <td>43.10</td>\n",
       "      <td>44.40</td>\n",
       "      <td>44.45</td>\n",
       "      <td>13889470.0</td>\n",
       "      <td>6219.22</td>\n",
       "    </tr>\n",
       "  </tbody>\n",
       "</table>\n",
       "</div>"
      ],
      "text/plain": [
       "    High    Low   Last  Close  Total_Trade_Quantity  Turnover_(Lacs)\n",
       "0  49.25  44.10  48.20  47.85            26696990.0         12588.85\n",
       "1  52.45  48.60  50.20  50.45            26100305.0         13315.45\n",
       "2  50.65  46.15  47.95  47.25            18384298.0          8804.91\n",
       "3  47.65  44.40  44.55  44.85            13268774.0          6085.51\n",
       "4  46.50  43.10  44.40  44.45            13889470.0          6219.22"
      ]
     },
     "execution_count": 49,
     "metadata": {},
     "output_type": "execute_result"
    }
   ],
   "source": [
    "x.head()"
   ]
  },
  {
   "cell_type": "code",
   "execution_count": 50,
   "metadata": {},
   "outputs": [
    {
     "data": {
      "text/plain": [
       "0    44.50\n",
       "1    48.65\n",
       "2    50.40\n",
       "3    46.75\n",
       "4    45.95\n",
       "Name: Open, dtype: float64"
      ]
     },
     "execution_count": 50,
     "metadata": {},
     "output_type": "execute_result"
    }
   ],
   "source": [
    "y.head()"
   ]
  },
  {
   "cell_type": "code",
   "execution_count": 51,
   "metadata": {},
   "outputs": [],
   "source": [
    "# Now split the data in training and testing\n",
    "\n",
    "from sklearn.model_selection import train_test_split\n",
    "x_train,x_test,y_train,y_test = train_test_split(x,y,test_size = 0.1,random_state = 0)"
   ]
  },
  {
   "cell_type": "markdown",
   "metadata": {},
   "source": [
    "##### Let's fit our DecisionTreeModel"
   ]
  },
  {
   "cell_type": "code",
   "execution_count": 52,
   "metadata": {},
   "outputs": [],
   "source": [
    "Regressor = DecisionTreeRegressor()"
   ]
  },
  {
   "cell_type": "markdown",
   "metadata": {},
   "source": [
    "##### Let;s Fit out Data"
   ]
  },
  {
   "cell_type": "code",
   "execution_count": 53,
   "metadata": {},
   "outputs": [
    {
     "data": {
      "text/plain": [
       "DecisionTreeRegressor(ccp_alpha=0.0, criterion='mse', max_depth=None,\n",
       "                      max_features=None, max_leaf_nodes=None,\n",
       "                      min_impurity_decrease=0.0, min_impurity_split=None,\n",
       "                      min_samples_leaf=1, min_samples_split=2,\n",
       "                      min_weight_fraction_leaf=0.0, presort='deprecated',\n",
       "                      random_state=None, splitter='best')"
      ]
     },
     "execution_count": 53,
     "metadata": {},
     "output_type": "execute_result"
    }
   ],
   "source": [
    "Regressor.fit(x_train,y_train)"
   ]
  },
  {
   "cell_type": "markdown",
   "metadata": {},
   "source": [
    "##### Let's make a prediciton on random day Data"
   ]
  },
  {
   "cell_type": "code",
   "execution_count": 54,
   "metadata": {},
   "outputs": [],
   "source": [
    "test1 = [[46.50 ,43.10 ,44.40, 44.45, 13889470.0 ,6219.22]]"
   ]
  },
  {
   "cell_type": "code",
   "execution_count": 55,
   "metadata": {},
   "outputs": [],
   "source": [
    "predicition = Regressor.predict(test1)"
   ]
  },
  {
   "cell_type": "code",
   "execution_count": 56,
   "metadata": {},
   "outputs": [
    {
     "data": {
      "text/plain": [
       "array([45.95])"
      ]
     },
     "execution_count": 56,
     "metadata": {},
     "output_type": "execute_result"
    }
   ],
   "source": [
    "predicition"
   ]
  },
  {
   "cell_type": "code",
   "execution_count": 57,
   "metadata": {},
   "outputs": [],
   "source": [
    "test2 = [[48.05,47.00,47.35,47.45,5866161.0,2788.80]]"
   ]
  },
  {
   "cell_type": "code",
   "execution_count": 58,
   "metadata": {},
   "outputs": [],
   "source": [
    "predicition = Regressor.predict(test2)"
   ]
  },
  {
   "cell_type": "code",
   "execution_count": 59,
   "metadata": {},
   "outputs": [
    {
     "data": {
      "text/plain": [
       "array([48.05])"
      ]
     },
     "execution_count": 59,
     "metadata": {},
     "output_type": "execute_result"
    }
   ],
   "source": [
    "predicition"
   ]
  },
  {
   "cell_type": "markdown",
   "metadata": {},
   "source": [
    "### Conclusion:- \n",
    "on that day INFIber was open at 47.6 and our predicited value is 48.05 so we are very close at real value"
   ]
  },
  {
   "cell_type": "code",
   "execution_count": 60,
   "metadata": {},
   "outputs": [],
   "source": [
    "test3 = [[46.50,45.15,45.35,45.35,5358817.0,2448.28]]"
   ]
  },
  {
   "cell_type": "code",
   "execution_count": 61,
   "metadata": {},
   "outputs": [],
   "source": [
    "predicition = Regressor.predict(test3)"
   ]
  },
  {
   "cell_type": "code",
   "execution_count": 62,
   "metadata": {},
   "outputs": [
    {
     "data": {
      "text/plain": [
       "array([46.7])"
      ]
     },
     "execution_count": 62,
     "metadata": {},
     "output_type": "execute_result"
    }
   ],
   "source": [
    "predicition"
   ]
  },
  {
   "cell_type": "code",
   "execution_count": null,
   "metadata": {},
   "outputs": [],
   "source": []
  }
 ],
 "metadata": {
  "kernelspec": {
   "display_name": "Python 3",
   "language": "python",
   "name": "python3"
  },
  "language_info": {
   "codemirror_mode": {
    "name": "ipython",
    "version": 3
   },
   "file_extension": ".py",
   "mimetype": "text/x-python",
   "name": "python",
   "nbconvert_exporter": "python",
   "pygments_lexer": "ipython3",
   "version": "3.6.10"
  }
 },
 "nbformat": 4,
 "nbformat_minor": 4
}
