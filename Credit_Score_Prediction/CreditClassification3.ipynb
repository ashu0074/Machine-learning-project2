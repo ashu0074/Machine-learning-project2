{
 "cells": [
  {
   "cell_type": "code",
   "execution_count": 60,
   "metadata": {
    "id": "uDK_qTBAiFsn"
   },
   "outputs": [],
   "source": [
    "import pandas as pd\n",
    "import numpy as np\n",
    "import matplotlib.pyplot as plt\n",
    "import seaborn as sns\n",
    "sns.set_style(\"whitegrid\",{'axes.grid' : False})\n",
    "\n",
    "# Environment settings: \n",
    "pd.set_option('display.float_format', lambda x: f'{x:.3f}')"
   ]
  },
  {
   "cell_type": "code",
   "execution_count": 61,
   "metadata": {
    "id": "sVg4mzVjjLJZ"
   },
   "outputs": [],
   "source": [
    "import warnings\n",
    "warnings.filterwarnings(\"ignore\")\n",
    "warnings.warn(\"this will not show\")"
   ]
  },
  {
   "cell_type": "code",
   "execution_count": 62,
   "metadata": {
    "id": "CC-kdvlpiRNp"
   },
   "outputs": [],
   "source": [
    "from scipy import stats\n",
    "import pandas_profiling as pf"
   ]
  },
  {
   "cell_type": "code",
   "execution_count": 63,
   "metadata": {
    "colab": {
     "base_uri": "https://localhost:8080/"
    },
    "id": "rAGnwiNQiS4C",
    "outputId": "ac66ee60-c0bd-44e9-fcf7-ebf2fec4ccbb"
   },
   "outputs": [
    {
     "data": {
      "text/plain": [
       "((100000, 28), (50000, 27))"
      ]
     },
     "execution_count": 63,
     "metadata": {},
     "output_type": "execute_result"
    }
   ],
   "source": [
    "df_train = pd.read_csv(\"train.csv\")\n",
    "df_test = pd.read_csv(\"test.csv\")\n",
    "\n",
    "df_train.shape , df_test.shape"
   ]
  },
  {
   "cell_type": "code",
   "execution_count": 64,
   "metadata": {
    "colab": {
     "base_uri": "https://localhost:8080/"
    },
    "id": "PB4QuSy2j1ku",
    "outputId": "03fa0f9c-9fc9-4d20-9daa-d0fdbfb32294"
   },
   "outputs": [
    {
     "data": {
      "text/plain": [
       "0"
      ]
     },
     "execution_count": 64,
     "metadata": {},
     "output_type": "execute_result"
    }
   ],
   "source": [
    "(df_train.columns[:-1]!=df_test.columns).sum()"
   ]
  },
  {
   "cell_type": "code",
   "execution_count": 65,
   "metadata": {
    "colab": {
     "base_uri": "https://localhost:8080/",
     "height": 835
    },
    "id": "tEpjuXrJmQkA",
    "outputId": "5148bb94-a474-41a8-8c36-474d73133e64"
   },
   "outputs": [
    {
     "data": {
      "text/html": [
       "\n",
       "  <div id=\"df-a84bb2aa-bff5-4e6f-9888-a174b746c62f\">\n",
       "    <div class=\"colab-df-container\">\n",
       "      <div>\n",
       "<style scoped>\n",
       "    .dataframe tbody tr th:only-of-type {\n",
       "        vertical-align: middle;\n",
       "    }\n",
       "\n",
       "    .dataframe tbody tr th {\n",
       "        vertical-align: top;\n",
       "    }\n",
       "\n",
       "    .dataframe thead th {\n",
       "        text-align: right;\n",
       "    }\n",
       "</style>\n",
       "<table border=\"1\" class=\"dataframe\">\n",
       "  <thead>\n",
       "    <tr style=\"text-align: right;\">\n",
       "      <th></th>\n",
       "      <th>ID</th>\n",
       "      <th>Customer_ID</th>\n",
       "      <th>Month</th>\n",
       "      <th>Name</th>\n",
       "      <th>Age</th>\n",
       "      <th>SSN</th>\n",
       "      <th>Occupation</th>\n",
       "      <th>Annual_Income</th>\n",
       "      <th>Monthly_Inhand_Salary</th>\n",
       "      <th>Num_Bank_Accounts</th>\n",
       "      <th>...</th>\n",
       "      <th>Credit_Mix</th>\n",
       "      <th>Outstanding_Debt</th>\n",
       "      <th>Credit_Utilization_Ratio</th>\n",
       "      <th>Credit_History_Age</th>\n",
       "      <th>Payment_of_Min_Amount</th>\n",
       "      <th>Total_EMI_per_month</th>\n",
       "      <th>Amount_invested_monthly</th>\n",
       "      <th>Payment_Behaviour</th>\n",
       "      <th>Monthly_Balance</th>\n",
       "      <th>Credit_Score</th>\n",
       "    </tr>\n",
       "  </thead>\n",
       "  <tbody>\n",
       "    <tr>\n",
       "      <th>0</th>\n",
       "      <td>0x1602</td>\n",
       "      <td>CUS_0xd40</td>\n",
       "      <td>January</td>\n",
       "      <td>Aaron Maashoh</td>\n",
       "      <td>23</td>\n",
       "      <td>821-00-0265</td>\n",
       "      <td>Scientist</td>\n",
       "      <td>19114.12</td>\n",
       "      <td>1824.843</td>\n",
       "      <td>3</td>\n",
       "      <td>...</td>\n",
       "      <td>NaN</td>\n",
       "      <td>809.98</td>\n",
       "      <td>26.823</td>\n",
       "      <td>22 Years and 1 Months</td>\n",
       "      <td>No</td>\n",
       "      <td>49.575</td>\n",
       "      <td>80.41529543900253</td>\n",
       "      <td>High_spent_Small_value_payments</td>\n",
       "      <td>312.49408867943663</td>\n",
       "      <td>Good</td>\n",
       "    </tr>\n",
       "    <tr>\n",
       "      <th>1</th>\n",
       "      <td>0x1603</td>\n",
       "      <td>CUS_0xd40</td>\n",
       "      <td>February</td>\n",
       "      <td>Aaron Maashoh</td>\n",
       "      <td>23</td>\n",
       "      <td>821-00-0265</td>\n",
       "      <td>Scientist</td>\n",
       "      <td>19114.12</td>\n",
       "      <td>NaN</td>\n",
       "      <td>3</td>\n",
       "      <td>...</td>\n",
       "      <td>Good</td>\n",
       "      <td>809.98</td>\n",
       "      <td>31.945</td>\n",
       "      <td>NaN</td>\n",
       "      <td>No</td>\n",
       "      <td>49.575</td>\n",
       "      <td>118.28022162236736</td>\n",
       "      <td>Low_spent_Large_value_payments</td>\n",
       "      <td>284.62916249607184</td>\n",
       "      <td>Good</td>\n",
       "    </tr>\n",
       "    <tr>\n",
       "      <th>2</th>\n",
       "      <td>0x1604</td>\n",
       "      <td>CUS_0xd40</td>\n",
       "      <td>March</td>\n",
       "      <td>Aaron Maashoh</td>\n",
       "      <td>-500</td>\n",
       "      <td>821-00-0265</td>\n",
       "      <td>Scientist</td>\n",
       "      <td>19114.12</td>\n",
       "      <td>NaN</td>\n",
       "      <td>3</td>\n",
       "      <td>...</td>\n",
       "      <td>Good</td>\n",
       "      <td>809.98</td>\n",
       "      <td>28.609</td>\n",
       "      <td>22 Years and 3 Months</td>\n",
       "      <td>No</td>\n",
       "      <td>49.575</td>\n",
       "      <td>81.699521264648</td>\n",
       "      <td>Low_spent_Medium_value_payments</td>\n",
       "      <td>331.2098628537912</td>\n",
       "      <td>Good</td>\n",
       "    </tr>\n",
       "    <tr>\n",
       "      <th>3</th>\n",
       "      <td>0x1605</td>\n",
       "      <td>CUS_0xd40</td>\n",
       "      <td>April</td>\n",
       "      <td>Aaron Maashoh</td>\n",
       "      <td>23</td>\n",
       "      <td>821-00-0265</td>\n",
       "      <td>Scientist</td>\n",
       "      <td>19114.12</td>\n",
       "      <td>NaN</td>\n",
       "      <td>3</td>\n",
       "      <td>...</td>\n",
       "      <td>Good</td>\n",
       "      <td>809.98</td>\n",
       "      <td>31.378</td>\n",
       "      <td>22 Years and 4 Months</td>\n",
       "      <td>No</td>\n",
       "      <td>49.575</td>\n",
       "      <td>199.4580743910713</td>\n",
       "      <td>Low_spent_Small_value_payments</td>\n",
       "      <td>223.45130972736786</td>\n",
       "      <td>Good</td>\n",
       "    </tr>\n",
       "    <tr>\n",
       "      <th>4</th>\n",
       "      <td>0x1606</td>\n",
       "      <td>CUS_0xd40</td>\n",
       "      <td>May</td>\n",
       "      <td>Aaron Maashoh</td>\n",
       "      <td>23</td>\n",
       "      <td>821-00-0265</td>\n",
       "      <td>Scientist</td>\n",
       "      <td>19114.12</td>\n",
       "      <td>1824.843</td>\n",
       "      <td>3</td>\n",
       "      <td>...</td>\n",
       "      <td>Good</td>\n",
       "      <td>809.98</td>\n",
       "      <td>24.797</td>\n",
       "      <td>22 Years and 5 Months</td>\n",
       "      <td>No</td>\n",
       "      <td>49.575</td>\n",
       "      <td>41.420153086217326</td>\n",
       "      <td>High_spent_Medium_value_payments</td>\n",
       "      <td>341.48923103222177</td>\n",
       "      <td>Good</td>\n",
       "    </tr>\n",
       "    <tr>\n",
       "      <th>...</th>\n",
       "      <td>...</td>\n",
       "      <td>...</td>\n",
       "      <td>...</td>\n",
       "      <td>...</td>\n",
       "      <td>...</td>\n",
       "      <td>...</td>\n",
       "      <td>...</td>\n",
       "      <td>...</td>\n",
       "      <td>...</td>\n",
       "      <td>...</td>\n",
       "      <td>...</td>\n",
       "      <td>...</td>\n",
       "      <td>...</td>\n",
       "      <td>...</td>\n",
       "      <td>...</td>\n",
       "      <td>...</td>\n",
       "      <td>...</td>\n",
       "      <td>...</td>\n",
       "      <td>...</td>\n",
       "      <td>...</td>\n",
       "      <td>...</td>\n",
       "    </tr>\n",
       "    <tr>\n",
       "      <th>149995</th>\n",
       "      <td>0x25fe5</td>\n",
       "      <td>CUS_0x8600</td>\n",
       "      <td>December</td>\n",
       "      <td>Sarah McBridec</td>\n",
       "      <td>4975</td>\n",
       "      <td>031-35-0942</td>\n",
       "      <td>Architect</td>\n",
       "      <td>20002.88</td>\n",
       "      <td>1929.907</td>\n",
       "      <td>10</td>\n",
       "      <td>...</td>\n",
       "      <td>NaN</td>\n",
       "      <td>3571.7</td>\n",
       "      <td>34.781</td>\n",
       "      <td>NaN</td>\n",
       "      <td>Yes</td>\n",
       "      <td>60.965</td>\n",
       "      <td>146.48632477751087</td>\n",
       "      <td>Low_spent_Small_value_payments</td>\n",
       "      <td>275.53956951573343</td>\n",
       "      <td>NaN</td>\n",
       "    </tr>\n",
       "    <tr>\n",
       "      <th>149996</th>\n",
       "      <td>0x25fee</td>\n",
       "      <td>CUS_0x942c</td>\n",
       "      <td>September</td>\n",
       "      <td>Nicks</td>\n",
       "      <td>25</td>\n",
       "      <td>078-73-5990</td>\n",
       "      <td>Mechanic</td>\n",
       "      <td>39628.99</td>\n",
       "      <td>NaN</td>\n",
       "      <td>4</td>\n",
       "      <td>...</td>\n",
       "      <td>Good</td>\n",
       "      <td>502.38</td>\n",
       "      <td>27.759</td>\n",
       "      <td>31 Years and 11 Months</td>\n",
       "      <td>NM</td>\n",
       "      <td>35.104</td>\n",
       "      <td>181.44299902757518</td>\n",
       "      <td>Low_spent_Small_value_payments</td>\n",
       "      <td>409.39456169535066</td>\n",
       "      <td>NaN</td>\n",
       "    </tr>\n",
       "    <tr>\n",
       "      <th>149997</th>\n",
       "      <td>0x25fef</td>\n",
       "      <td>CUS_0x942c</td>\n",
       "      <td>October</td>\n",
       "      <td>Nicks</td>\n",
       "      <td>25</td>\n",
       "      <td>078-73-5990</td>\n",
       "      <td>Mechanic</td>\n",
       "      <td>39628.99</td>\n",
       "      <td>3359.416</td>\n",
       "      <td>4</td>\n",
       "      <td>...</td>\n",
       "      <td>Good</td>\n",
       "      <td>502.38</td>\n",
       "      <td>36.859</td>\n",
       "      <td>32 Years and 0 Months</td>\n",
       "      <td>No</td>\n",
       "      <td>35.104</td>\n",
       "      <td>10000</td>\n",
       "      <td>Low_spent_Large_value_payments</td>\n",
       "      <td>349.7263321025098</td>\n",
       "      <td>NaN</td>\n",
       "    </tr>\n",
       "    <tr>\n",
       "      <th>149998</th>\n",
       "      <td>0x25ff0</td>\n",
       "      <td>CUS_0x942c</td>\n",
       "      <td>November</td>\n",
       "      <td>Nicks</td>\n",
       "      <td>25</td>\n",
       "      <td>078-73-5990</td>\n",
       "      <td>Mechanic</td>\n",
       "      <td>39628.99</td>\n",
       "      <td>NaN</td>\n",
       "      <td>4</td>\n",
       "      <td>...</td>\n",
       "      <td>Good</td>\n",
       "      <td>502.38</td>\n",
       "      <td>39.140</td>\n",
       "      <td>32 Years and 1 Months</td>\n",
       "      <td>No</td>\n",
       "      <td>35.104</td>\n",
       "      <td>97.59857973344877</td>\n",
       "      <td>High_spent_Small_value_payments</td>\n",
       "      <td>463.23898098947717</td>\n",
       "      <td>NaN</td>\n",
       "    </tr>\n",
       "    <tr>\n",
       "      <th>149999</th>\n",
       "      <td>0x25ff1</td>\n",
       "      <td>CUS_0x942c</td>\n",
       "      <td>December</td>\n",
       "      <td>Nicks</td>\n",
       "      <td>25</td>\n",
       "      <td>078-73-5990</td>\n",
       "      <td>Mechanic</td>\n",
       "      <td>39628.99</td>\n",
       "      <td>3359.416</td>\n",
       "      <td>4</td>\n",
       "      <td>...</td>\n",
       "      <td>NaN</td>\n",
       "      <td>502.38</td>\n",
       "      <td>34.109</td>\n",
       "      <td>32 Years and 2 Months</td>\n",
       "      <td>No</td>\n",
       "      <td>35.104</td>\n",
       "      <td>220.45787812168732</td>\n",
       "      <td>Low_spent_Medium_value_payments</td>\n",
       "      <td>360.37968260123847</td>\n",
       "      <td>NaN</td>\n",
       "    </tr>\n",
       "  </tbody>\n",
       "</table>\n",
       "<p>150000 rows × 28 columns</p>\n",
       "</div>\n",
       "      <button class=\"colab-df-convert\" onclick=\"convertToInteractive('df-a84bb2aa-bff5-4e6f-9888-a174b746c62f')\"\n",
       "              title=\"Convert this dataframe to an interactive table.\"\n",
       "              style=\"display:none;\">\n",
       "        \n",
       "  <svg xmlns=\"http://www.w3.org/2000/svg\" height=\"24px\"viewBox=\"0 0 24 24\"\n",
       "       width=\"24px\">\n",
       "    <path d=\"M0 0h24v24H0V0z\" fill=\"none\"/>\n",
       "    <path d=\"M18.56 5.44l.94 2.06.94-2.06 2.06-.94-2.06-.94-.94-2.06-.94 2.06-2.06.94zm-11 1L8.5 8.5l.94-2.06 2.06-.94-2.06-.94L8.5 2.5l-.94 2.06-2.06.94zm10 10l.94 2.06.94-2.06 2.06-.94-2.06-.94-.94-2.06-.94 2.06-2.06.94z\"/><path d=\"M17.41 7.96l-1.37-1.37c-.4-.4-.92-.59-1.43-.59-.52 0-1.04.2-1.43.59L10.3 9.45l-7.72 7.72c-.78.78-.78 2.05 0 2.83L4 21.41c.39.39.9.59 1.41.59.51 0 1.02-.2 1.41-.59l7.78-7.78 2.81-2.81c.8-.78.8-2.07 0-2.86zM5.41 20L4 18.59l7.72-7.72 1.47 1.35L5.41 20z\"/>\n",
       "  </svg>\n",
       "      </button>\n",
       "      \n",
       "  <style>\n",
       "    .colab-df-container {\n",
       "      display:flex;\n",
       "      flex-wrap:wrap;\n",
       "      gap: 12px;\n",
       "    }\n",
       "\n",
       "    .colab-df-convert {\n",
       "      background-color: #E8F0FE;\n",
       "      border: none;\n",
       "      border-radius: 50%;\n",
       "      cursor: pointer;\n",
       "      display: none;\n",
       "      fill: #1967D2;\n",
       "      height: 32px;\n",
       "      padding: 0 0 0 0;\n",
       "      width: 32px;\n",
       "    }\n",
       "\n",
       "    .colab-df-convert:hover {\n",
       "      background-color: #E2EBFA;\n",
       "      box-shadow: 0px 1px 2px rgba(60, 64, 67, 0.3), 0px 1px 3px 1px rgba(60, 64, 67, 0.15);\n",
       "      fill: #174EA6;\n",
       "    }\n",
       "\n",
       "    [theme=dark] .colab-df-convert {\n",
       "      background-color: #3B4455;\n",
       "      fill: #D2E3FC;\n",
       "    }\n",
       "\n",
       "    [theme=dark] .colab-df-convert:hover {\n",
       "      background-color: #434B5C;\n",
       "      box-shadow: 0px 1px 3px 1px rgba(0, 0, 0, 0.15);\n",
       "      filter: drop-shadow(0px 1px 2px rgba(0, 0, 0, 0.3));\n",
       "      fill: #FFFFFF;\n",
       "    }\n",
       "  </style>\n",
       "\n",
       "      <script>\n",
       "        const buttonEl =\n",
       "          document.querySelector('#df-a84bb2aa-bff5-4e6f-9888-a174b746c62f button.colab-df-convert');\n",
       "        buttonEl.style.display =\n",
       "          google.colab.kernel.accessAllowed ? 'block' : 'none';\n",
       "\n",
       "        async function convertToInteractive(key) {\n",
       "          const element = document.querySelector('#df-a84bb2aa-bff5-4e6f-9888-a174b746c62f');\n",
       "          const dataTable =\n",
       "            await google.colab.kernel.invokeFunction('convertToInteractive',\n",
       "                                                     [key], {});\n",
       "          if (!dataTable) return;\n",
       "\n",
       "          const docLinkHtml = 'Like what you see? Visit the ' +\n",
       "            '<a target=\"_blank\" href=https://colab.research.google.com/notebooks/data_table.ipynb>data table notebook</a>'\n",
       "            + ' to learn more about interactive tables.';\n",
       "          element.innerHTML = '';\n",
       "          dataTable['output_type'] = 'display_data';\n",
       "          await google.colab.output.renderOutput(dataTable, element);\n",
       "          const docLink = document.createElement('div');\n",
       "          docLink.innerHTML = docLinkHtml;\n",
       "          element.appendChild(docLink);\n",
       "        }\n",
       "      </script>\n",
       "    </div>\n",
       "  </div>\n",
       "  "
      ],
      "text/plain": [
       "             ID Customer_ID      Month            Name   Age          SSN  \\\n",
       "0        0x1602   CUS_0xd40    January   Aaron Maashoh    23  821-00-0265   \n",
       "1        0x1603   CUS_0xd40   February   Aaron Maashoh    23  821-00-0265   \n",
       "2        0x1604   CUS_0xd40      March   Aaron Maashoh  -500  821-00-0265   \n",
       "3        0x1605   CUS_0xd40      April   Aaron Maashoh    23  821-00-0265   \n",
       "4        0x1606   CUS_0xd40        May   Aaron Maashoh    23  821-00-0265   \n",
       "...         ...         ...        ...             ...   ...          ...   \n",
       "149995  0x25fe5  CUS_0x8600   December  Sarah McBridec  4975  031-35-0942   \n",
       "149996  0x25fee  CUS_0x942c  September           Nicks    25  078-73-5990   \n",
       "149997  0x25fef  CUS_0x942c    October           Nicks    25  078-73-5990   \n",
       "149998  0x25ff0  CUS_0x942c   November           Nicks    25  078-73-5990   \n",
       "149999  0x25ff1  CUS_0x942c   December           Nicks    25  078-73-5990   \n",
       "\n",
       "       Occupation Annual_Income  Monthly_Inhand_Salary  Num_Bank_Accounts  \\\n",
       "0       Scientist      19114.12               1824.843                  3   \n",
       "1       Scientist      19114.12                    NaN                  3   \n",
       "2       Scientist      19114.12                    NaN                  3   \n",
       "3       Scientist      19114.12                    NaN                  3   \n",
       "4       Scientist      19114.12               1824.843                  3   \n",
       "...           ...           ...                    ...                ...   \n",
       "149995  Architect      20002.88               1929.907                 10   \n",
       "149996   Mechanic      39628.99                    NaN                  4   \n",
       "149997   Mechanic      39628.99               3359.416                  4   \n",
       "149998   Mechanic      39628.99                    NaN                  4   \n",
       "149999   Mechanic      39628.99               3359.416                  4   \n",
       "\n",
       "        ...  Credit_Mix  Outstanding_Debt Credit_Utilization_Ratio  \\\n",
       "0       ...         NaN            809.98                   26.823   \n",
       "1       ...        Good            809.98                   31.945   \n",
       "2       ...        Good            809.98                   28.609   \n",
       "3       ...        Good            809.98                   31.378   \n",
       "4       ...        Good            809.98                   24.797   \n",
       "...     ...         ...               ...                      ...   \n",
       "149995  ...         NaN            3571.7                   34.781   \n",
       "149996  ...        Good            502.38                   27.759   \n",
       "149997  ...        Good            502.38                   36.859   \n",
       "149998  ...        Good            502.38                   39.140   \n",
       "149999  ...         NaN            502.38                   34.109   \n",
       "\n",
       "            Credit_History_Age  Payment_of_Min_Amount Total_EMI_per_month  \\\n",
       "0        22 Years and 1 Months                     No              49.575   \n",
       "1                          NaN                     No              49.575   \n",
       "2        22 Years and 3 Months                     No              49.575   \n",
       "3        22 Years and 4 Months                     No              49.575   \n",
       "4        22 Years and 5 Months                     No              49.575   \n",
       "...                        ...                    ...                 ...   \n",
       "149995                     NaN                    Yes              60.965   \n",
       "149996  31 Years and 11 Months                     NM              35.104   \n",
       "149997   32 Years and 0 Months                     No              35.104   \n",
       "149998   32 Years and 1 Months                     No              35.104   \n",
       "149999   32 Years and 2 Months                     No              35.104   \n",
       "\n",
       "       Amount_invested_monthly                 Payment_Behaviour  \\\n",
       "0            80.41529543900253   High_spent_Small_value_payments   \n",
       "1           118.28022162236736    Low_spent_Large_value_payments   \n",
       "2              81.699521264648   Low_spent_Medium_value_payments   \n",
       "3            199.4580743910713    Low_spent_Small_value_payments   \n",
       "4           41.420153086217326  High_spent_Medium_value_payments   \n",
       "...                        ...                               ...   \n",
       "149995      146.48632477751087    Low_spent_Small_value_payments   \n",
       "149996      181.44299902757518    Low_spent_Small_value_payments   \n",
       "149997                   10000    Low_spent_Large_value_payments   \n",
       "149998       97.59857973344877   High_spent_Small_value_payments   \n",
       "149999      220.45787812168732   Low_spent_Medium_value_payments   \n",
       "\n",
       "           Monthly_Balance Credit_Score  \n",
       "0       312.49408867943663         Good  \n",
       "1       284.62916249607184         Good  \n",
       "2        331.2098628537912         Good  \n",
       "3       223.45130972736786         Good  \n",
       "4       341.48923103222177         Good  \n",
       "...                    ...          ...  \n",
       "149995  275.53956951573343          NaN  \n",
       "149996  409.39456169535066          NaN  \n",
       "149997   349.7263321025098          NaN  \n",
       "149998  463.23898098947717          NaN  \n",
       "149999  360.37968260123847          NaN  \n",
       "\n",
       "[150000 rows x 28 columns]"
      ]
     },
     "execution_count": 65,
     "metadata": {},
     "output_type": "execute_result"
    }
   ],
   "source": [
    "df = pd.concat([df_train, df_test], ignore_index=True)\n",
    "df = df.applymap(lambda x: x if x is np.NaN or not isinstance(x, str) else str(x).strip('_ ,\"')\n",
    "                      ).replace(' and', '').replace(['', 'nan', '!@9#%8', '#F%$D@*&8'], np.NaN)\n",
    "df"
   ]
  },
  {
   "cell_type": "code",
   "execution_count": 65,
   "metadata": {
    "id": "baz4fecZmToP"
   },
   "outputs": [],
   "source": []
  },
  {
   "cell_type": "markdown",
   "metadata": {
    "id": "SiFetMy3mZsz"
   },
   "source": [
    "**EDA**"
   ]
  },
  {
   "cell_type": "code",
   "execution_count": 66,
   "metadata": {
    "colab": {
     "base_uri": "https://localhost:8080/"
    },
    "id": "ZqZc5eQtmdW7",
    "outputId": "456487d9-19d1-47b1-d74a-91b34bd07c82"
   },
   "outputs": [
    {
     "data": {
      "text/plain": [
       "ID                         150000\n",
       "Customer_ID                 12500\n",
       "Month                          12\n",
       "Name                        10128\n",
       "Age                          2444\n",
       "SSN                         12500\n",
       "Occupation                     15\n",
       "Annual_Income               13988\n",
       "Num_of_Loan                   600\n",
       "Type_of_Loan                 6260\n",
       "Num_of_Delayed_Payment       1014\n",
       "Changed_Credit_Limit         4604\n",
       "Credit_Mix                      3\n",
       "Outstanding_Debt            12203\n",
       "Credit_History_Age            408\n",
       "Payment_of_Min_Amount           3\n",
       "Amount_invested_monthly    136497\n",
       "Payment_Behaviour               6\n",
       "Monthly_Balance            148224\n",
       "Credit_Score                    3\n",
       "dtype: int64"
      ]
     },
     "execution_count": 66,
     "metadata": {},
     "output_type": "execute_result"
    }
   ],
   "source": [
    "df.select_dtypes(include='O').nunique()"
   ]
  },
  {
   "cell_type": "code",
   "execution_count": 67,
   "metadata": {
    "colab": {
     "base_uri": "https://localhost:8080/"
    },
    "id": "-rJ5G-HrmipF",
    "outputId": "6d75ddd6-b863-4c3a-9fee-2f04a9e03c43"
   },
   "outputs": [
    {
     "data": {
      "text/plain": [
       "<matplotlib.axes._subplots.AxesSubplot at 0x7f8e1e5fc0d0>"
      ]
     },
     "execution_count": 67,
     "metadata": {},
     "output_type": "execute_result"
    }
   ],
   "source": [
    "df.groupby('Month')['Customer_ID'].count().to_frame('count_Customer_ID').plot(kind =\"bar\")"
   ]
  },
  {
   "cell_type": "code",
   "execution_count": 68,
   "metadata": {
    "id": "HHvtCFmVmmKf"
   },
   "outputs": [],
   "source": [
    "# Drop the Columns we not use in model\n",
    "df.drop(columns=['ID', 'Month', 'Name', 'SSN'], inplace=True)"
   ]
  },
  {
   "cell_type": "code",
   "execution_count": 69,
   "metadata": {
    "colab": {
     "base_uri": "https://localhost:8080/"
    },
    "id": "bU0QnFVRmonL",
    "outputId": "0b38744d-9bfb-4c64-d4b1-a47610b0b877"
   },
   "outputs": [
    {
     "data": {
      "text/plain": [
       "Customer_ID                    0\n",
       "Age                            0\n",
       "Occupation                 10500\n",
       "Annual_Income                  0\n",
       "Num_of_Loan                    0\n",
       "Type_of_Loan               17112\n",
       "Num_of_Delayed_Payment     10500\n",
       "Changed_Credit_Limit        3150\n",
       "Credit_Mix                 30000\n",
       "Outstanding_Debt               0\n",
       "Credit_History_Age         13500\n",
       "Payment_of_Min_Amount          0\n",
       "Amount_invested_monthly     6750\n",
       "Payment_Behaviour          11400\n",
       "Monthly_Balance             1762\n",
       "Credit_Score               50000\n",
       "dtype: int64"
      ]
     },
     "execution_count": 69,
     "metadata": {},
     "output_type": "execute_result"
    }
   ],
   "source": [
    "df.select_dtypes(include='O').isna().sum()"
   ]
  },
  {
   "cell_type": "code",
   "execution_count": 69,
   "metadata": {
    "id": "NyDsazCmmqN7"
   },
   "outputs": [],
   "source": []
  },
  {
   "cell_type": "markdown",
   "metadata": {
    "id": "74Xo370smtud"
   },
   "source": [
    "**Assign Object Type to Numeric Types**"
   ]
  },
  {
   "cell_type": "code",
   "execution_count": 70,
   "metadata": {
    "colab": {
     "base_uri": "https://localhost:8080/",
     "height": 551
    },
    "id": "4vK4B1zGmzS2",
    "outputId": "7be1dc67-6228-4f65-ee8c-9cad4d3bb02f"
   },
   "outputs": [
    {
     "data": {
      "text/html": [
       "\n",
       "  <div id=\"df-f91c84fb-2b8b-4d7d-8cb4-d54cd6c242d9\">\n",
       "    <div class=\"colab-df-container\">\n",
       "      <div>\n",
       "<style scoped>\n",
       "    .dataframe tbody tr th:only-of-type {\n",
       "        vertical-align: middle;\n",
       "    }\n",
       "\n",
       "    .dataframe tbody tr th {\n",
       "        vertical-align: top;\n",
       "    }\n",
       "\n",
       "    .dataframe thead th {\n",
       "        text-align: right;\n",
       "    }\n",
       "</style>\n",
       "<table border=\"1\" class=\"dataframe\">\n",
       "  <thead>\n",
       "    <tr style=\"text-align: right;\">\n",
       "      <th></th>\n",
       "      <th>count</th>\n",
       "      <th>unique</th>\n",
       "      <th>top</th>\n",
       "      <th>freq</th>\n",
       "    </tr>\n",
       "  </thead>\n",
       "  <tbody>\n",
       "    <tr>\n",
       "      <th>Customer_ID</th>\n",
       "      <td>150000</td>\n",
       "      <td>12500</td>\n",
       "      <td>CUS_0xd40</td>\n",
       "      <td>12</td>\n",
       "    </tr>\n",
       "    <tr>\n",
       "      <th>Age</th>\n",
       "      <td>150000</td>\n",
       "      <td>2444</td>\n",
       "      <td>39</td>\n",
       "      <td>4416</td>\n",
       "    </tr>\n",
       "    <tr>\n",
       "      <th>Occupation</th>\n",
       "      <td>139500</td>\n",
       "      <td>15</td>\n",
       "      <td>Lawyer</td>\n",
       "      <td>9899</td>\n",
       "    </tr>\n",
       "    <tr>\n",
       "      <th>Annual_Income</th>\n",
       "      <td>150000</td>\n",
       "      <td>13988</td>\n",
       "      <td>109945.32</td>\n",
       "      <td>24</td>\n",
       "    </tr>\n",
       "    <tr>\n",
       "      <th>Num_of_Loan</th>\n",
       "      <td>150000</td>\n",
       "      <td>600</td>\n",
       "      <td>3</td>\n",
       "      <td>22618</td>\n",
       "    </tr>\n",
       "    <tr>\n",
       "      <th>Type_of_Loan</th>\n",
       "      <td>132888</td>\n",
       "      <td>6260</td>\n",
       "      <td>Not Specified</td>\n",
       "      <td>2112</td>\n",
       "    </tr>\n",
       "    <tr>\n",
       "      <th>Num_of_Delayed_Payment</th>\n",
       "      <td>139500</td>\n",
       "      <td>1014</td>\n",
       "      <td>19</td>\n",
       "      <td>8188</td>\n",
       "    </tr>\n",
       "    <tr>\n",
       "      <th>Changed_Credit_Limit</th>\n",
       "      <td>146850</td>\n",
       "      <td>4604</td>\n",
       "      <td>11.5</td>\n",
       "      <td>197</td>\n",
       "    </tr>\n",
       "    <tr>\n",
       "      <th>Credit_Mix</th>\n",
       "      <td>120000</td>\n",
       "      <td>3</td>\n",
       "      <td>Standard</td>\n",
       "      <td>54858</td>\n",
       "    </tr>\n",
       "    <tr>\n",
       "      <th>Outstanding_Debt</th>\n",
       "      <td>150000</td>\n",
       "      <td>12203</td>\n",
       "      <td>1109.03</td>\n",
       "      <td>36</td>\n",
       "    </tr>\n",
       "    <tr>\n",
       "      <th>Credit_History_Age</th>\n",
       "      <td>136500</td>\n",
       "      <td>408</td>\n",
       "      <td>17 Years and 11 Months</td>\n",
       "      <td>628</td>\n",
       "    </tr>\n",
       "    <tr>\n",
       "      <th>Payment_of_Min_Amount</th>\n",
       "      <td>150000</td>\n",
       "      <td>3</td>\n",
       "      <td>Yes</td>\n",
       "      <td>78484</td>\n",
       "    </tr>\n",
       "    <tr>\n",
       "      <th>Amount_invested_monthly</th>\n",
       "      <td>143250</td>\n",
       "      <td>136497</td>\n",
       "      <td>10000</td>\n",
       "      <td>6480</td>\n",
       "    </tr>\n",
       "    <tr>\n",
       "      <th>Payment_Behaviour</th>\n",
       "      <td>138600</td>\n",
       "      <td>6</td>\n",
       "      <td>Low_spent_Small_value_payments</td>\n",
       "      <td>38207</td>\n",
       "    </tr>\n",
       "    <tr>\n",
       "      <th>Monthly_Balance</th>\n",
       "      <td>148238</td>\n",
       "      <td>148224</td>\n",
       "      <td>-333333333333333333333333333</td>\n",
       "      <td>15</td>\n",
       "    </tr>\n",
       "    <tr>\n",
       "      <th>Credit_Score</th>\n",
       "      <td>100000</td>\n",
       "      <td>3</td>\n",
       "      <td>Standard</td>\n",
       "      <td>53174</td>\n",
       "    </tr>\n",
       "  </tbody>\n",
       "</table>\n",
       "</div>\n",
       "      <button class=\"colab-df-convert\" onclick=\"convertToInteractive('df-f91c84fb-2b8b-4d7d-8cb4-d54cd6c242d9')\"\n",
       "              title=\"Convert this dataframe to an interactive table.\"\n",
       "              style=\"display:none;\">\n",
       "        \n",
       "  <svg xmlns=\"http://www.w3.org/2000/svg\" height=\"24px\"viewBox=\"0 0 24 24\"\n",
       "       width=\"24px\">\n",
       "    <path d=\"M0 0h24v24H0V0z\" fill=\"none\"/>\n",
       "    <path d=\"M18.56 5.44l.94 2.06.94-2.06 2.06-.94-2.06-.94-.94-2.06-.94 2.06-2.06.94zm-11 1L8.5 8.5l.94-2.06 2.06-.94-2.06-.94L8.5 2.5l-.94 2.06-2.06.94zm10 10l.94 2.06.94-2.06 2.06-.94-2.06-.94-.94-2.06-.94 2.06-2.06.94z\"/><path d=\"M17.41 7.96l-1.37-1.37c-.4-.4-.92-.59-1.43-.59-.52 0-1.04.2-1.43.59L10.3 9.45l-7.72 7.72c-.78.78-.78 2.05 0 2.83L4 21.41c.39.39.9.59 1.41.59.51 0 1.02-.2 1.41-.59l7.78-7.78 2.81-2.81c.8-.78.8-2.07 0-2.86zM5.41 20L4 18.59l7.72-7.72 1.47 1.35L5.41 20z\"/>\n",
       "  </svg>\n",
       "      </button>\n",
       "      \n",
       "  <style>\n",
       "    .colab-df-container {\n",
       "      display:flex;\n",
       "      flex-wrap:wrap;\n",
       "      gap: 12px;\n",
       "    }\n",
       "\n",
       "    .colab-df-convert {\n",
       "      background-color: #E8F0FE;\n",
       "      border: none;\n",
       "      border-radius: 50%;\n",
       "      cursor: pointer;\n",
       "      display: none;\n",
       "      fill: #1967D2;\n",
       "      height: 32px;\n",
       "      padding: 0 0 0 0;\n",
       "      width: 32px;\n",
       "    }\n",
       "\n",
       "    .colab-df-convert:hover {\n",
       "      background-color: #E2EBFA;\n",
       "      box-shadow: 0px 1px 2px rgba(60, 64, 67, 0.3), 0px 1px 3px 1px rgba(60, 64, 67, 0.15);\n",
       "      fill: #174EA6;\n",
       "    }\n",
       "\n",
       "    [theme=dark] .colab-df-convert {\n",
       "      background-color: #3B4455;\n",
       "      fill: #D2E3FC;\n",
       "    }\n",
       "\n",
       "    [theme=dark] .colab-df-convert:hover {\n",
       "      background-color: #434B5C;\n",
       "      box-shadow: 0px 1px 3px 1px rgba(0, 0, 0, 0.15);\n",
       "      filter: drop-shadow(0px 1px 2px rgba(0, 0, 0, 0.3));\n",
       "      fill: #FFFFFF;\n",
       "    }\n",
       "  </style>\n",
       "\n",
       "      <script>\n",
       "        const buttonEl =\n",
       "          document.querySelector('#df-f91c84fb-2b8b-4d7d-8cb4-d54cd6c242d9 button.colab-df-convert');\n",
       "        buttonEl.style.display =\n",
       "          google.colab.kernel.accessAllowed ? 'block' : 'none';\n",
       "\n",
       "        async function convertToInteractive(key) {\n",
       "          const element = document.querySelector('#df-f91c84fb-2b8b-4d7d-8cb4-d54cd6c242d9');\n",
       "          const dataTable =\n",
       "            await google.colab.kernel.invokeFunction('convertToInteractive',\n",
       "                                                     [key], {});\n",
       "          if (!dataTable) return;\n",
       "\n",
       "          const docLinkHtml = 'Like what you see? Visit the ' +\n",
       "            '<a target=\"_blank\" href=https://colab.research.google.com/notebooks/data_table.ipynb>data table notebook</a>'\n",
       "            + ' to learn more about interactive tables.';\n",
       "          element.innerHTML = '';\n",
       "          dataTable['output_type'] = 'display_data';\n",
       "          await google.colab.output.renderOutput(dataTable, element);\n",
       "          const docLink = document.createElement('div');\n",
       "          docLink.innerHTML = docLinkHtml;\n",
       "          element.appendChild(docLink);\n",
       "        }\n",
       "      </script>\n",
       "    </div>\n",
       "  </div>\n",
       "  "
      ],
      "text/plain": [
       "                          count  unique                             top   freq\n",
       "Customer_ID              150000   12500                       CUS_0xd40     12\n",
       "Age                      150000    2444                              39   4416\n",
       "Occupation               139500      15                          Lawyer   9899\n",
       "Annual_Income            150000   13988                       109945.32     24\n",
       "Num_of_Loan              150000     600                               3  22618\n",
       "Type_of_Loan             132888    6260                   Not Specified   2112\n",
       "Num_of_Delayed_Payment   139500    1014                              19   8188\n",
       "Changed_Credit_Limit     146850    4604                            11.5    197\n",
       "Credit_Mix               120000       3                        Standard  54858\n",
       "Outstanding_Debt         150000   12203                         1109.03     36\n",
       "Credit_History_Age       136500     408          17 Years and 11 Months    628\n",
       "Payment_of_Min_Amount    150000       3                             Yes  78484\n",
       "Amount_invested_monthly  143250  136497                           10000   6480\n",
       "Payment_Behaviour        138600       6  Low_spent_Small_value_payments  38207\n",
       "Monthly_Balance          148238  148224    -333333333333333333333333333     15\n",
       "Credit_Score             100000       3                        Standard  53174"
      ]
     },
     "execution_count": 70,
     "metadata": {},
     "output_type": "execute_result"
    }
   ],
   "source": [
    "df.describe(include='O').T"
   ]
  },
  {
   "cell_type": "code",
   "execution_count": 71,
   "metadata": {
    "id": "PWDfSO-mm20u"
   },
   "outputs": [],
   "source": [
    "df['Customer_ID'] = df.Customer_ID.apply(lambda x: int(x[4:], 16))\n",
    "df['Age'] = df.Age.astype(int)        \n",
    "df['Annual_Income'] = df.Annual_Income.astype(float)\n",
    "df['Num_of_Loan'] = df.Num_of_Loan.astype(int) \n",
    "df['Num_of_Delayed_Payment'] = df.Num_of_Delayed_Payment.astype(float)\n",
    "df['Changed_Credit_Limit'] = df.Changed_Credit_Limit.astype(float)\n",
    "df['Outstanding_Debt'] = df.Outstanding_Debt.astype(float)\n",
    "df['Amount_invested_monthly'] = df.Amount_invested_monthly.astype(float)\n",
    "df['Monthly_Balance'] = df.Monthly_Balance.astype(float)"
   ]
  },
  {
   "cell_type": "markdown",
   "metadata": {
    "id": "kJYV_nAfm6TD"
   },
   "source": [
    "Combining Object Columns"
   ]
  },
  {
   "cell_type": "code",
   "execution_count": 72,
   "metadata": {
    "id": "O6caS1lom5Iy"
   },
   "outputs": [],
   "source": [
    "def Month_Converter(x):\n",
    "    if pd.notnull(x):\n",
    "        num1 = int(x.split(' ')[0])\n",
    "        num2 = int(x.split(' ')[3])\n",
    "      \n",
    "        return (num1*12)+num2\n",
    "    else:\n",
    "        return x"
   ]
  },
  {
   "cell_type": "code",
   "execution_count": 73,
   "metadata": {
    "id": "0_TJoJEUnDNO"
   },
   "outputs": [],
   "source": [
    "df['Credit_History_Age'] = df.Credit_History_Age.apply(lambda x: Month_Converter(x)).astype(float)"
   ]
  },
  {
   "cell_type": "code",
   "execution_count": 74,
   "metadata": {
    "colab": {
     "base_uri": "https://localhost:8080/"
    },
    "id": "nl0DMBzpnHDL",
    "outputId": "d64b4007-9e58-4738-aa0e-7afa8233a81d"
   },
   "outputs": [
    {
     "data": {
      "text/plain": [
       "0        265.000\n",
       "1            NaN\n",
       "2        267.000\n",
       "3        268.000\n",
       "4        269.000\n",
       "           ...  \n",
       "149995       NaN\n",
       "149996   383.000\n",
       "149997   384.000\n",
       "149998   385.000\n",
       "149999   386.000\n",
       "Name: Credit_History_Age, Length: 150000, dtype: float64"
      ]
     },
     "execution_count": 74,
     "metadata": {},
     "output_type": "execute_result"
    }
   ],
   "source": [
    "df[\"Credit_History_Age\"]"
   ]
  },
  {
   "cell_type": "code",
   "execution_count": 75,
   "metadata": {
    "id": "fYIFXelLnTJt"
   },
   "outputs": [],
   "source": [
    "def get_Diff_Values_Colum(df_column, diff_value = []):   \n",
    "    column = df_column.dropna()\n",
    "    for i in column:\n",
    "        if ',' not in i and i not in diff_value:\n",
    "            diff_value.append(i)\n",
    "        else:\n",
    "            for data in map(lambda x:x.strip(), i.replace('and','').split(',')):\n",
    "                if not data in diff_value:\n",
    "                    diff_value.append(data)\n",
    "    return dict(enumerate(sorted(diff_value)))"
   ]
  },
  {
   "cell_type": "code",
   "execution_count": 76,
   "metadata": {
    "colab": {
     "base_uri": "https://localhost:8080/"
    },
    "id": "wRMscYZynWyH",
    "outputId": "3eb537a2-0026-42f5-f5ed-9ce4a0f9bf07"
   },
   "outputs": [
    {
     "data": {
      "text/plain": [
       "{0: 'Auto Loan',\n",
       " 1: 'Credit-Builder Loan',\n",
       " 2: 'Debt Consolidation Loan',\n",
       " 3: 'Home Equity Loan',\n",
       " 4: 'Mortgage Loan',\n",
       " 5: 'Not Specified',\n",
       " 6: 'Payday Loan',\n",
       " 7: 'Personal Loan',\n",
       " 8: 'Student Loan'}"
      ]
     },
     "execution_count": 76,
     "metadata": {},
     "output_type": "execute_result"
    }
   ],
   "source": [
    "get_Diff_Values_Colum(df['Type_of_Loan'])"
   ]
  },
  {
   "cell_type": "markdown",
   "metadata": {
    "id": "XXBp38lbncgN"
   },
   "source": [
    "**Detect Group NAN Values and Fill Group Mode**"
   ]
  },
  {
   "cell_type": "code",
   "execution_count": 77,
   "metadata": {
    "colab": {
     "base_uri": "https://localhost:8080/"
    },
    "id": "55bsS_ACnYWf",
    "outputId": "74438228-accd-4fcb-9e7a-7f098131a92c"
   },
   "outputs": [
    {
     "name": "stdout",
     "output_type": "stream",
     "text": [
      "<class 'pandas.core.frame.DataFrame'>\n",
      "RangeIndex: 150000 entries, 0 to 149999\n",
      "Data columns (total 24 columns):\n",
      " #   Column                    Non-Null Count   Dtype  \n",
      "---  ------                    --------------   -----  \n",
      " 0   Customer_ID               150000 non-null  int64  \n",
      " 1   Age                       150000 non-null  int64  \n",
      " 2   Occupation                139500 non-null  object \n",
      " 3   Annual_Income             150000 non-null  float64\n",
      " 4   Monthly_Inhand_Salary     127500 non-null  float64\n",
      " 5   Num_Bank_Accounts         150000 non-null  int64  \n",
      " 6   Num_Credit_Card           150000 non-null  int64  \n",
      " 7   Interest_Rate             150000 non-null  int64  \n",
      " 8   Num_of_Loan               150000 non-null  int64  \n",
      " 9   Type_of_Loan              132888 non-null  object \n",
      " 10  Delay_from_due_date       150000 non-null  int64  \n",
      " 11  Num_of_Delayed_Payment    139500 non-null  float64\n",
      " 12  Changed_Credit_Limit      146850 non-null  float64\n",
      " 13  Num_Credit_Inquiries      147000 non-null  float64\n",
      " 14  Credit_Mix                120000 non-null  object \n",
      " 15  Outstanding_Debt          150000 non-null  float64\n",
      " 16  Credit_Utilization_Ratio  150000 non-null  float64\n",
      " 17  Credit_History_Age        136500 non-null  float64\n",
      " 18  Payment_of_Min_Amount     150000 non-null  object \n",
      " 19  Total_EMI_per_month       150000 non-null  float64\n",
      " 20  Amount_invested_monthly   143250 non-null  float64\n",
      " 21  Payment_Behaviour         138600 non-null  object \n",
      " 22  Monthly_Balance           148238 non-null  float64\n",
      " 23  Credit_Score              100000 non-null  object \n",
      "dtypes: float64(11), int64(7), object(6)\n",
      "memory usage: 27.5+ MB\n"
     ]
    }
   ],
   "source": [
    "df.info()"
   ]
  },
  {
   "cell_type": "markdown",
   "metadata": {
    "id": "LVj6CTx5nnMO"
   },
   "source": [
    "Object Columns : Get Group Mode and Reassign NaN values"
   ]
  },
  {
   "cell_type": "code",
   "execution_count": 78,
   "metadata": {
    "id": "W4TjFboLnkyL"
   },
   "outputs": [],
   "source": [
    "# Reassign and Show Function\n",
    "def Reassign_Group_Object_NaN_Values(df, groupby, column, inplace=True):      \n",
    "    import scipy.stats as stats\n",
    "    # Assigning Wrong values Make Simple Function\n",
    "    def make_NaN_and_fill_mode(df, groupby, column, inplace=True):\n",
    "        # Assign None to np.NaN\n",
    "        if df[column].isin([None]).sum():\n",
    "            df[column][df[column].isin([None])] = np.NaN\n",
    "            \n",
    "        # fill with local mode\n",
    "        result = df.groupby(groupby)[column].transform(lambda x: x.fillna(stats.mode(x)[0][0]))\n",
    "\n",
    "        # inplace\n",
    "        if inplace:\n",
    "            df[column]=result\n",
    "        else:\n",
    "            return result\n",
    "    \n",
    "    # Run and show some info     \n",
    "    if inplace:  \n",
    "        # Before Assigning Wrong values      \n",
    "        x = df[column].value_counts(dropna=False).head(1)\n",
    "        print(f'\\nBefore Assigning NaN {column}:', [x if x.index[0] is np.NaN or x.index[0] is None else 'No NaN Value'] , end='\\n')\n",
    "        a = df.groupby(groupby)[column].apply(list) \n",
    "        print(f'\\nBefore Assigning Example {column}:\\n', *a.head().values, sep='\\n', end='\\n')\n",
    "        \n",
    "        # Assigning\n",
    "        make_NaN_and_fill_mode(df, groupby, column, inplace)\n",
    "        \n",
    "        # After Assigning Wrong values\n",
    "        y = df[column].value_counts(dropna=False).head(1)\n",
    "        print(f'\\nAfter Assigning NaN {column}:', [y if y.index[0] is np.NaN or x.index[0] is None else 'No NaN Value'] , end='\\n')\n",
    "        b = df.groupby(groupby)[column].apply(list)\n",
    "        print(f'\\nAfter Assigning Example {column}:\\n', *b.head().values, sep='\\n', end='\\n')\n",
    "    else:   \n",
    "        # Show\n",
    "        return make_NaN_and_fill_mode(df, groupby, column, inplace)\n"
   ]
  },
  {
   "cell_type": "code",
   "execution_count": 79,
   "metadata": {
    "colab": {
     "base_uri": "https://localhost:8080/",
     "height": 238
    },
    "id": "LeUQn0B1n5n6",
    "outputId": "215e32f9-678d-416d-a303-b3677f3b54b4"
   },
   "outputs": [
    {
     "data": {
      "text/html": [
       "\n",
       "  <div id=\"df-4d961155-19ea-4850-a2c3-cb4fc3e2bf65\">\n",
       "    <div class=\"colab-df-container\">\n",
       "      <div>\n",
       "<style scoped>\n",
       "    .dataframe tbody tr th:only-of-type {\n",
       "        vertical-align: middle;\n",
       "    }\n",
       "\n",
       "    .dataframe tbody tr th {\n",
       "        vertical-align: top;\n",
       "    }\n",
       "\n",
       "    .dataframe thead th {\n",
       "        text-align: right;\n",
       "    }\n",
       "</style>\n",
       "<table border=\"1\" class=\"dataframe\">\n",
       "  <thead>\n",
       "    <tr style=\"text-align: right;\">\n",
       "      <th></th>\n",
       "      <th>count</th>\n",
       "      <th>unique</th>\n",
       "      <th>top</th>\n",
       "      <th>freq</th>\n",
       "    </tr>\n",
       "  </thead>\n",
       "  <tbody>\n",
       "    <tr>\n",
       "      <th>Occupation</th>\n",
       "      <td>139500</td>\n",
       "      <td>15</td>\n",
       "      <td>Lawyer</td>\n",
       "      <td>9899</td>\n",
       "    </tr>\n",
       "    <tr>\n",
       "      <th>Type_of_Loan</th>\n",
       "      <td>132888</td>\n",
       "      <td>6260</td>\n",
       "      <td>Not Specified</td>\n",
       "      <td>2112</td>\n",
       "    </tr>\n",
       "    <tr>\n",
       "      <th>Credit_Mix</th>\n",
       "      <td>120000</td>\n",
       "      <td>3</td>\n",
       "      <td>Standard</td>\n",
       "      <td>54858</td>\n",
       "    </tr>\n",
       "    <tr>\n",
       "      <th>Payment_of_Min_Amount</th>\n",
       "      <td>150000</td>\n",
       "      <td>3</td>\n",
       "      <td>Yes</td>\n",
       "      <td>78484</td>\n",
       "    </tr>\n",
       "    <tr>\n",
       "      <th>Payment_Behaviour</th>\n",
       "      <td>138600</td>\n",
       "      <td>6</td>\n",
       "      <td>Low_spent_Small_value_payments</td>\n",
       "      <td>38207</td>\n",
       "    </tr>\n",
       "    <tr>\n",
       "      <th>Credit_Score</th>\n",
       "      <td>100000</td>\n",
       "      <td>3</td>\n",
       "      <td>Standard</td>\n",
       "      <td>53174</td>\n",
       "    </tr>\n",
       "  </tbody>\n",
       "</table>\n",
       "</div>\n",
       "      <button class=\"colab-df-convert\" onclick=\"convertToInteractive('df-4d961155-19ea-4850-a2c3-cb4fc3e2bf65')\"\n",
       "              title=\"Convert this dataframe to an interactive table.\"\n",
       "              style=\"display:none;\">\n",
       "        \n",
       "  <svg xmlns=\"http://www.w3.org/2000/svg\" height=\"24px\"viewBox=\"0 0 24 24\"\n",
       "       width=\"24px\">\n",
       "    <path d=\"M0 0h24v24H0V0z\" fill=\"none\"/>\n",
       "    <path d=\"M18.56 5.44l.94 2.06.94-2.06 2.06-.94-2.06-.94-.94-2.06-.94 2.06-2.06.94zm-11 1L8.5 8.5l.94-2.06 2.06-.94-2.06-.94L8.5 2.5l-.94 2.06-2.06.94zm10 10l.94 2.06.94-2.06 2.06-.94-2.06-.94-.94-2.06-.94 2.06-2.06.94z\"/><path d=\"M17.41 7.96l-1.37-1.37c-.4-.4-.92-.59-1.43-.59-.52 0-1.04.2-1.43.59L10.3 9.45l-7.72 7.72c-.78.78-.78 2.05 0 2.83L4 21.41c.39.39.9.59 1.41.59.51 0 1.02-.2 1.41-.59l7.78-7.78 2.81-2.81c.8-.78.8-2.07 0-2.86zM5.41 20L4 18.59l7.72-7.72 1.47 1.35L5.41 20z\"/>\n",
       "  </svg>\n",
       "      </button>\n",
       "      \n",
       "  <style>\n",
       "    .colab-df-container {\n",
       "      display:flex;\n",
       "      flex-wrap:wrap;\n",
       "      gap: 12px;\n",
       "    }\n",
       "\n",
       "    .colab-df-convert {\n",
       "      background-color: #E8F0FE;\n",
       "      border: none;\n",
       "      border-radius: 50%;\n",
       "      cursor: pointer;\n",
       "      display: none;\n",
       "      fill: #1967D2;\n",
       "      height: 32px;\n",
       "      padding: 0 0 0 0;\n",
       "      width: 32px;\n",
       "    }\n",
       "\n",
       "    .colab-df-convert:hover {\n",
       "      background-color: #E2EBFA;\n",
       "      box-shadow: 0px 1px 2px rgba(60, 64, 67, 0.3), 0px 1px 3px 1px rgba(60, 64, 67, 0.15);\n",
       "      fill: #174EA6;\n",
       "    }\n",
       "\n",
       "    [theme=dark] .colab-df-convert {\n",
       "      background-color: #3B4455;\n",
       "      fill: #D2E3FC;\n",
       "    }\n",
       "\n",
       "    [theme=dark] .colab-df-convert:hover {\n",
       "      background-color: #434B5C;\n",
       "      box-shadow: 0px 1px 3px 1px rgba(0, 0, 0, 0.15);\n",
       "      filter: drop-shadow(0px 1px 2px rgba(0, 0, 0, 0.3));\n",
       "      fill: #FFFFFF;\n",
       "    }\n",
       "  </style>\n",
       "\n",
       "      <script>\n",
       "        const buttonEl =\n",
       "          document.querySelector('#df-4d961155-19ea-4850-a2c3-cb4fc3e2bf65 button.colab-df-convert');\n",
       "        buttonEl.style.display =\n",
       "          google.colab.kernel.accessAllowed ? 'block' : 'none';\n",
       "\n",
       "        async function convertToInteractive(key) {\n",
       "          const element = document.querySelector('#df-4d961155-19ea-4850-a2c3-cb4fc3e2bf65');\n",
       "          const dataTable =\n",
       "            await google.colab.kernel.invokeFunction('convertToInteractive',\n",
       "                                                     [key], {});\n",
       "          if (!dataTable) return;\n",
       "\n",
       "          const docLinkHtml = 'Like what you see? Visit the ' +\n",
       "            '<a target=\"_blank\" href=https://colab.research.google.com/notebooks/data_table.ipynb>data table notebook</a>'\n",
       "            + ' to learn more about interactive tables.';\n",
       "          element.innerHTML = '';\n",
       "          dataTable['output_type'] = 'display_data';\n",
       "          await google.colab.output.renderOutput(dataTable, element);\n",
       "          const docLink = document.createElement('div');\n",
       "          docLink.innerHTML = docLinkHtml;\n",
       "          element.appendChild(docLink);\n",
       "        }\n",
       "      </script>\n",
       "    </div>\n",
       "  </div>\n",
       "  "
      ],
      "text/plain": [
       "                        count unique                             top   freq\n",
       "Occupation             139500     15                          Lawyer   9899\n",
       "Type_of_Loan           132888   6260                   Not Specified   2112\n",
       "Credit_Mix             120000      3                        Standard  54858\n",
       "Payment_of_Min_Amount  150000      3                             Yes  78484\n",
       "Payment_Behaviour      138600      6  Low_spent_Small_value_payments  38207\n",
       "Credit_Score           100000      3                        Standard  53174"
      ]
     },
     "execution_count": 79,
     "metadata": {},
     "output_type": "execute_result"
    }
   ],
   "source": [
    "df.describe(include='O').T"
   ]
  },
  {
   "cell_type": "code",
   "execution_count": 80,
   "metadata": {
    "colab": {
     "base_uri": "https://localhost:8080/"
    },
    "id": "Bxd6T7mon8IR",
    "outputId": "0ff08577-c2c6-4c78-bf2f-02e155b405ec"
   },
   "outputs": [
    {
     "name": "stdout",
     "output_type": "stream",
     "text": [
      "\n",
      "Before Assigning NaN Occupation: [NaN    10500\n",
      "Name: Occupation, dtype: int64]\n",
      "\n",
      "Before Assigning Example Occupation:\n",
      "\n",
      "['Journalist', 'Journalist', 'Journalist', 'Journalist', 'Journalist', nan, 'Journalist', 'Journalist', 'Journalist', 'Journalist', 'Journalist', 'Journalist']\n",
      "['Manager', 'Manager', nan, 'Manager', 'Manager', 'Manager', 'Manager', 'Manager', 'Manager', 'Manager', 'Manager', 'Manager']\n",
      "['Developer', 'Developer', 'Developer', 'Developer', 'Developer', 'Developer', 'Developer', 'Developer', 'Developer', 'Developer', 'Developer', 'Developer']\n",
      "['Accountant', nan, 'Accountant', 'Accountant', 'Accountant', 'Accountant', 'Accountant', 'Accountant', 'Accountant', nan, 'Accountant', 'Accountant']\n",
      "['Writer', 'Writer', 'Writer', 'Writer', nan, 'Writer', 'Writer', 'Writer', nan, 'Writer', 'Writer', 'Writer']\n",
      "\n",
      "After Assigning NaN Occupation: ['No NaN Value']\n",
      "\n",
      "After Assigning Example Occupation:\n",
      "\n",
      "['Journalist', 'Journalist', 'Journalist', 'Journalist', 'Journalist', 'Journalist', 'Journalist', 'Journalist', 'Journalist', 'Journalist', 'Journalist', 'Journalist']\n",
      "['Manager', 'Manager', 'Manager', 'Manager', 'Manager', 'Manager', 'Manager', 'Manager', 'Manager', 'Manager', 'Manager', 'Manager']\n",
      "['Developer', 'Developer', 'Developer', 'Developer', 'Developer', 'Developer', 'Developer', 'Developer', 'Developer', 'Developer', 'Developer', 'Developer']\n",
      "['Accountant', 'Accountant', 'Accountant', 'Accountant', 'Accountant', 'Accountant', 'Accountant', 'Accountant', 'Accountant', 'Accountant', 'Accountant', 'Accountant']\n",
      "['Writer', 'Writer', 'Writer', 'Writer', 'Writer', 'Writer', 'Writer', 'Writer', 'Writer', 'Writer', 'Writer', 'Writer']\n",
      "\n",
      "Before Assigning NaN Credit_Mix: ['No NaN Value']\n",
      "\n",
      "Before Assigning Example Credit_Mix:\n",
      "\n",
      "['Standard', 'Standard', 'Standard', 'Standard', 'Standard', nan, 'Standard', 'Standard', 'Standard', 'Standard', 'Standard', 'Standard']\n",
      "[nan, 'Standard', 'Standard', 'Standard', nan, 'Standard', nan, 'Standard', 'Standard', 'Standard', 'Standard', 'Standard']\n",
      "[nan, 'Standard', 'Standard', nan, 'Standard', 'Standard', 'Standard', 'Standard', 'Standard', 'Standard', 'Standard', 'Standard']\n",
      "['Standard', nan, 'Standard', 'Standard', 'Standard', 'Standard', 'Standard', 'Standard', 'Standard', nan, 'Standard', 'Standard']\n",
      "[nan, nan, 'Standard', 'Standard', 'Standard', 'Standard', 'Standard', 'Standard', 'Standard', 'Standard', 'Standard', 'Standard']\n",
      "\n",
      "After Assigning NaN Credit_Mix: ['No NaN Value']\n",
      "\n",
      "After Assigning Example Credit_Mix:\n",
      "\n",
      "['Standard', 'Standard', 'Standard', 'Standard', 'Standard', 'Standard', 'Standard', 'Standard', 'Standard', 'Standard', 'Standard', 'Standard']\n",
      "['Standard', 'Standard', 'Standard', 'Standard', 'Standard', 'Standard', 'Standard', 'Standard', 'Standard', 'Standard', 'Standard', 'Standard']\n",
      "['Standard', 'Standard', 'Standard', 'Standard', 'Standard', 'Standard', 'Standard', 'Standard', 'Standard', 'Standard', 'Standard', 'Standard']\n",
      "['Standard', 'Standard', 'Standard', 'Standard', 'Standard', 'Standard', 'Standard', 'Standard', 'Standard', 'Standard', 'Standard', 'Standard']\n",
      "['Standard', 'Standard', 'Standard', 'Standard', 'Standard', 'Standard', 'Standard', 'Standard', 'Standard', 'Standard', 'Standard', 'Standard']\n",
      "\n",
      "Before Assigning NaN Payment_Behaviour: ['No NaN Value']\n",
      "\n",
      "Before Assigning Example Payment_Behaviour:\n",
      "\n",
      "['High_spent_Medium_value_payments', 'Low_spent_Medium_value_payments', 'Low_spent_Small_value_payments', 'High_spent_Small_value_payments', 'Low_spent_Large_value_payments', nan, 'Low_spent_Large_value_payments', 'Low_spent_Small_value_payments', 'Low_spent_Small_value_payments', 'Low_spent_Medium_value_payments', 'Low_spent_Small_value_payments', 'Low_spent_Small_value_payments']\n",
      "['High_spent_Medium_value_payments', 'High_spent_Medium_value_payments', 'Low_spent_Small_value_payments', 'High_spent_Medium_value_payments', 'Low_spent_Small_value_payments', nan, 'Low_spent_Small_value_payments', 'Low_spent_Small_value_payments', 'Low_spent_Medium_value_payments', 'Low_spent_Large_value_payments', 'Low_spent_Small_value_payments', 'Low_spent_Small_value_payments']\n",
      "['High_spent_Small_value_payments', 'Low_spent_Large_value_payments', 'Low_spent_Small_value_payments', 'High_spent_Small_value_payments', 'High_spent_Medium_value_payments', 'High_spent_Small_value_payments', 'Low_spent_Large_value_payments', 'Low_spent_Large_value_payments', 'High_spent_Small_value_payments', 'High_spent_Small_value_payments', 'Low_spent_Small_value_payments', 'High_spent_Medium_value_payments']\n",
      "['High_spent_Medium_value_payments', 'High_spent_Large_value_payments', 'High_spent_Medium_value_payments', 'Low_spent_Large_value_payments', 'Low_spent_Medium_value_payments', 'Low_spent_Large_value_payments', nan, 'High_spent_Large_value_payments', 'Low_spent_Medium_value_payments', 'High_spent_Large_value_payments', 'High_spent_Medium_value_payments', 'High_spent_Medium_value_payments']\n",
      "['High_spent_Small_value_payments', 'Low_spent_Small_value_payments', 'High_spent_Medium_value_payments', 'Low_spent_Large_value_payments', 'Low_spent_Medium_value_payments', 'Low_spent_Small_value_payments', 'High_spent_Large_value_payments', 'Low_spent_Medium_value_payments', 'Low_spent_Large_value_payments', 'Low_spent_Medium_value_payments', 'High_spent_Large_value_payments', nan]\n",
      "\n",
      "After Assigning NaN Payment_Behaviour: ['No NaN Value']\n",
      "\n",
      "After Assigning Example Payment_Behaviour:\n",
      "\n",
      "['High_spent_Medium_value_payments', 'Low_spent_Medium_value_payments', 'Low_spent_Small_value_payments', 'High_spent_Small_value_payments', 'Low_spent_Large_value_payments', 'Low_spent_Small_value_payments', 'Low_spent_Large_value_payments', 'Low_spent_Small_value_payments', 'Low_spent_Small_value_payments', 'Low_spent_Medium_value_payments', 'Low_spent_Small_value_payments', 'Low_spent_Small_value_payments']\n",
      "['High_spent_Medium_value_payments', 'High_spent_Medium_value_payments', 'Low_spent_Small_value_payments', 'High_spent_Medium_value_payments', 'Low_spent_Small_value_payments', 'Low_spent_Small_value_payments', 'Low_spent_Small_value_payments', 'Low_spent_Small_value_payments', 'Low_spent_Medium_value_payments', 'Low_spent_Large_value_payments', 'Low_spent_Small_value_payments', 'Low_spent_Small_value_payments']\n",
      "['High_spent_Small_value_payments', 'Low_spent_Large_value_payments', 'Low_spent_Small_value_payments', 'High_spent_Small_value_payments', 'High_spent_Medium_value_payments', 'High_spent_Small_value_payments', 'Low_spent_Large_value_payments', 'Low_spent_Large_value_payments', 'High_spent_Small_value_payments', 'High_spent_Small_value_payments', 'Low_spent_Small_value_payments', 'High_spent_Medium_value_payments']\n",
      "['High_spent_Medium_value_payments', 'High_spent_Large_value_payments', 'High_spent_Medium_value_payments', 'Low_spent_Large_value_payments', 'Low_spent_Medium_value_payments', 'Low_spent_Large_value_payments', 'High_spent_Medium_value_payments', 'High_spent_Large_value_payments', 'Low_spent_Medium_value_payments', 'High_spent_Large_value_payments', 'High_spent_Medium_value_payments', 'High_spent_Medium_value_payments']\n",
      "['High_spent_Small_value_payments', 'Low_spent_Small_value_payments', 'High_spent_Medium_value_payments', 'Low_spent_Large_value_payments', 'Low_spent_Medium_value_payments', 'Low_spent_Small_value_payments', 'High_spent_Large_value_payments', 'Low_spent_Medium_value_payments', 'Low_spent_Large_value_payments', 'Low_spent_Medium_value_payments', 'High_spent_Large_value_payments', 'Low_spent_Medium_value_payments']\n"
     ]
    }
   ],
   "source": [
    "Reassign_Group_Object_NaN_Values(df, 'Customer_ID', 'Occupation')\n",
    "Reassign_Group_Object_NaN_Values(df, 'Customer_ID', 'Credit_Mix')\n",
    "Reassign_Group_Object_NaN_Values(df, 'Customer_ID', 'Payment_Behaviour')"
   ]
  },
  {
   "cell_type": "code",
   "execution_count": 81,
   "metadata": {
    "colab": {
     "base_uri": "https://localhost:8080/"
    },
    "id": "YL3nZIiln-89",
    "outputId": "1f26a883-661c-47d9-97b6-aaad11dec61c"
   },
   "outputs": [
    {
     "data": {
      "text/plain": [
       "34144     NaN\n",
       "34145     NaN\n",
       "34146     NaN\n",
       "34147     NaN\n",
       "34148     NaN\n",
       "34149     NaN\n",
       "34150     NaN\n",
       "34151     NaN\n",
       "117072    NaN\n",
       "117073    NaN\n",
       "117074    NaN\n",
       "117075    NaN\n",
       "Name: Type_of_Loan, dtype: object"
      ]
     },
     "execution_count": 81,
     "metadata": {},
     "output_type": "execute_result"
    }
   ],
   "source": [
    "df[df['Customer_ID']==1008]['Type_of_Loan']"
   ]
  },
  {
   "cell_type": "code",
   "execution_count": 82,
   "metadata": {
    "id": "5rEbWT2NoDgo"
   },
   "outputs": [],
   "source": [
    "df['Type_of_Loan'] = df['Type_of_Loan'].replace([', and ', ', '], ',', regex=True)"
   ]
  },
  {
   "cell_type": "markdown",
   "metadata": {
    "id": "4djiWUQtoHsS"
   },
   "source": [
    "Numeric Columns : Get Group Min-Max Detect Outlier - Wrong Values and Reassign NaN values"
   ]
  },
  {
   "cell_type": "code",
   "execution_count": 83,
   "metadata": {
    "id": "yQ53ZsERoGvO"
   },
   "outputs": [],
   "source": [
    "# Reassign Wrong Values and Show Function\n",
    "def Reassign_Group_Numeric_Wrong_Values(df, groupby, column, inplace=True):      \n",
    "    import scipy.stats as stats \n",
    "\n",
    "    # Identify Wrong values Range\n",
    "    def get_group_min_max(df, groupby, column):            \n",
    "        cur = df[df[column].notna()].groupby(groupby)[column].apply(list)\n",
    "        x, y = cur.apply(lambda x: stats.mode(x)).apply([min, max])\n",
    "        return x[0][0], y[0][0]\n",
    "    \n",
    "    # Assigning Wrong values\n",
    "    def make_group_NaN_and_fill_mode(df, groupby, column, inplace=True):\n",
    "        df_dropped = df[df[column].notna()].groupby(groupby)[column].apply(list)\n",
    "        x, y = df_dropped.apply(lambda x: stats.mode(x)).apply([min, max])\n",
    "        mini, maxi = x[0][0], y[0][0]\n",
    "\n",
    "        # assign Wrong Values to NaN\n",
    "        col = df[column].apply(lambda x: np.NaN if ((x<mini)|(x>maxi)) else x)\n",
    "\n",
    "        # fill with local mode\n",
    "        mode_by_group = df.groupby(groupby)[column].transform(lambda x: x.mode()[0] if not x.mode().empty else np.NaN)\n",
    "        result = col.fillna(mode_by_group)\n",
    "\n",
    "        # inplace\n",
    "        if inplace:\n",
    "            df[column]=result\n",
    "        else:\n",
    "            return result\n",
    "        \n",
    "    \n",
    "    # Run      \n",
    "    if inplace:   \n",
    "        print(\"\\nExisting Min, Max Values:\", df[column].apply([min, max]), sep='\\n', end='\\n')       \n",
    "        mini, maxi = get_group_min_max(df, groupby, column)        \n",
    "        print(f\"\\nGroupby by {groupby}'s Actual min, max Values:\", f'min:\\t{mini},\\nmax:\\t{ maxi}', sep='\\n', end='\\n')\n",
    "        \n",
    "        # Before Assigning Wrong values      \n",
    "        x = df[column].value_counts(dropna=False).head(1)\n",
    "        print(f'\\nBefore Assigning Min, Max {column}:', [x if x.index[0] is np.NaN or x.index[0] is None else 'No NaN Value'] , end='\\n')\n",
    "        \n",
    "        a = df.groupby(groupby)[column].apply(list) \n",
    "        print(f'\\nBefore Assigning Example {column}:\\n', *a.head().values, sep='\\n', end='\\n')\n",
    "        \n",
    "        # Assigning\n",
    "        make_group_NaN_and_fill_mode(df, groupby, column, inplace)\n",
    "        \n",
    "        # After Assigning Wrong values\n",
    "        y = df[column].value_counts(dropna=False).head(1)\n",
    "        print(f'\\nAfter Assigning  Min, Max {column}:', [y if y.index[0] is np.NaN or x.index[0] is None else 'No NaN Value'] , end='\\n')\n",
    "        \n",
    "        b = df.groupby(groupby)[column].apply(list)\n",
    "        print(f'\\nAfter Assigning Example {column}:\\n', *b.head().values, sep='\\n', end='\\n')\n",
    "    else:   \n",
    "        # Show\n",
    "        return make_group_NaN_and_fill_mode(df, groupby, column, inplace)\n"
   ]
  },
  {
   "cell_type": "code",
   "execution_count": 84,
   "metadata": {
    "colab": {
     "base_uri": "https://localhost:8080/",
     "height": 678
    },
    "id": "jU4Ikkzjocuf",
    "outputId": "d875b949-a90c-4438-d6cf-b52cd7785ed2"
   },
   "outputs": [
    {
     "data": {
      "text/html": [
       "\n",
       "  <div id=\"df-ad5120d5-0090-4bb4-8f60-cc3ca755de63\">\n",
       "    <div class=\"colab-df-container\">\n",
       "      <div>\n",
       "<style scoped>\n",
       "    .dataframe tbody tr th:only-of-type {\n",
       "        vertical-align: middle;\n",
       "    }\n",
       "\n",
       "    .dataframe tbody tr th {\n",
       "        vertical-align: top;\n",
       "    }\n",
       "\n",
       "    .dataframe thead th {\n",
       "        text-align: right;\n",
       "    }\n",
       "</style>\n",
       "<table border=\"1\" class=\"dataframe\">\n",
       "  <thead>\n",
       "    <tr style=\"text-align: right;\">\n",
       "      <th></th>\n",
       "      <th>count</th>\n",
       "      <th>mean</th>\n",
       "      <th>std</th>\n",
       "      <th>min</th>\n",
       "      <th>25%</th>\n",
       "      <th>50%</th>\n",
       "      <th>75%</th>\n",
       "      <th>max</th>\n",
       "    </tr>\n",
       "  </thead>\n",
       "  <tbody>\n",
       "    <tr>\n",
       "      <th>Customer_ID</th>\n",
       "      <td>150000.000</td>\n",
       "      <td>25982.667</td>\n",
       "      <td>14340.519</td>\n",
       "      <td>1006.000</td>\n",
       "      <td>13664.500</td>\n",
       "      <td>25777.000</td>\n",
       "      <td>38385.000</td>\n",
       "      <td>50999.000</td>\n",
       "    </tr>\n",
       "    <tr>\n",
       "      <th>Age</th>\n",
       "      <td>150000.000</td>\n",
       "      <td>110.338</td>\n",
       "      <td>684.067</td>\n",
       "      <td>-500.000</td>\n",
       "      <td>25.000</td>\n",
       "      <td>33.000</td>\n",
       "      <td>42.000</td>\n",
       "      <td>8698.000</td>\n",
       "    </tr>\n",
       "    <tr>\n",
       "      <th>Annual_Income</th>\n",
       "      <td>150000.000</td>\n",
       "      <td>173055.203</td>\n",
       "      <td>1404214.603</td>\n",
       "      <td>7005.930</td>\n",
       "      <td>19455.490</td>\n",
       "      <td>37578.610</td>\n",
       "      <td>72796.905</td>\n",
       "      <td>24198062.000</td>\n",
       "    </tr>\n",
       "    <tr>\n",
       "      <th>Monthly_Inhand_Salary</th>\n",
       "      <td>127500.000</td>\n",
       "      <td>4190.115</td>\n",
       "      <td>3180.490</td>\n",
       "      <td>303.645</td>\n",
       "      <td>1625.266</td>\n",
       "      <td>3091.000</td>\n",
       "      <td>5948.455</td>\n",
       "      <td>15204.633</td>\n",
       "    </tr>\n",
       "    <tr>\n",
       "      <th>Num_Bank_Accounts</th>\n",
       "      <td>150000.000</td>\n",
       "      <td>17.007</td>\n",
       "      <td>117.069</td>\n",
       "      <td>-1.000</td>\n",
       "      <td>3.000</td>\n",
       "      <td>6.000</td>\n",
       "      <td>7.000</td>\n",
       "      <td>1798.000</td>\n",
       "    </tr>\n",
       "    <tr>\n",
       "      <th>Num_Credit_Card</th>\n",
       "      <td>150000.000</td>\n",
       "      <td>22.623</td>\n",
       "      <td>129.143</td>\n",
       "      <td>0.000</td>\n",
       "      <td>4.000</td>\n",
       "      <td>5.000</td>\n",
       "      <td>7.000</td>\n",
       "      <td>1499.000</td>\n",
       "    </tr>\n",
       "    <tr>\n",
       "      <th>Interest_Rate</th>\n",
       "      <td>150000.000</td>\n",
       "      <td>71.235</td>\n",
       "      <td>461.537</td>\n",
       "      <td>1.000</td>\n",
       "      <td>8.000</td>\n",
       "      <td>13.000</td>\n",
       "      <td>20.000</td>\n",
       "      <td>5799.000</td>\n",
       "    </tr>\n",
       "    <tr>\n",
       "      <th>Num_of_Loan</th>\n",
       "      <td>150000.000</td>\n",
       "      <td>3.141</td>\n",
       "      <td>63.911</td>\n",
       "      <td>-100.000</td>\n",
       "      <td>1.000</td>\n",
       "      <td>3.000</td>\n",
       "      <td>5.000</td>\n",
       "      <td>1496.000</td>\n",
       "    </tr>\n",
       "    <tr>\n",
       "      <th>Delay_from_due_date</th>\n",
       "      <td>150000.000</td>\n",
       "      <td>21.063</td>\n",
       "      <td>14.860</td>\n",
       "      <td>-5.000</td>\n",
       "      <td>10.000</td>\n",
       "      <td>18.000</td>\n",
       "      <td>28.000</td>\n",
       "      <td>67.000</td>\n",
       "    </tr>\n",
       "    <tr>\n",
       "      <th>Num_of_Delayed_Payment</th>\n",
       "      <td>139500.000</td>\n",
       "      <td>30.912</td>\n",
       "      <td>224.534</td>\n",
       "      <td>-3.000</td>\n",
       "      <td>9.000</td>\n",
       "      <td>14.000</td>\n",
       "      <td>18.000</td>\n",
       "      <td>4399.000</td>\n",
       "    </tr>\n",
       "    <tr>\n",
       "      <th>Changed_Credit_Limit</th>\n",
       "      <td>146850.000</td>\n",
       "      <td>10.384</td>\n",
       "      <td>6.787</td>\n",
       "      <td>-6.490</td>\n",
       "      <td>5.330</td>\n",
       "      <td>9.410</td>\n",
       "      <td>14.840</td>\n",
       "      <td>36.970</td>\n",
       "    </tr>\n",
       "    <tr>\n",
       "      <th>Num_Credit_Inquiries</th>\n",
       "      <td>147000.000</td>\n",
       "      <td>28.529</td>\n",
       "      <td>194.456</td>\n",
       "      <td>0.000</td>\n",
       "      <td>3.000</td>\n",
       "      <td>6.000</td>\n",
       "      <td>9.000</td>\n",
       "      <td>2597.000</td>\n",
       "    </tr>\n",
       "    <tr>\n",
       "      <th>Outstanding_Debt</th>\n",
       "      <td>150000.000</td>\n",
       "      <td>1426.220</td>\n",
       "      <td>1155.127</td>\n",
       "      <td>0.230</td>\n",
       "      <td>566.072</td>\n",
       "      <td>1166.155</td>\n",
       "      <td>1945.963</td>\n",
       "      <td>4998.070</td>\n",
       "    </tr>\n",
       "    <tr>\n",
       "      <th>Credit_Utilization_Ratio</th>\n",
       "      <td>150000.000</td>\n",
       "      <td>32.283</td>\n",
       "      <td>5.113</td>\n",
       "      <td>20.000</td>\n",
       "      <td>28.055</td>\n",
       "      <td>32.297</td>\n",
       "      <td>36.488</td>\n",
       "      <td>50.000</td>\n",
       "    </tr>\n",
       "    <tr>\n",
       "      <th>Credit_History_Age</th>\n",
       "      <td>136500.000</td>\n",
       "      <td>223.215</td>\n",
       "      <td>99.720</td>\n",
       "      <td>1.000</td>\n",
       "      <td>146.000</td>\n",
       "      <td>222.000</td>\n",
       "      <td>304.000</td>\n",
       "      <td>408.000</td>\n",
       "    </tr>\n",
       "    <tr>\n",
       "      <th>Total_EMI_per_month</th>\n",
       "      <td>150000.000</td>\n",
       "      <td>1432.514</td>\n",
       "      <td>8403.760</td>\n",
       "      <td>0.000</td>\n",
       "      <td>30.948</td>\n",
       "      <td>71.280</td>\n",
       "      <td>166.280</td>\n",
       "      <td>82398.000</td>\n",
       "    </tr>\n",
       "    <tr>\n",
       "      <th>Amount_invested_monthly</th>\n",
       "      <td>143250.000</td>\n",
       "      <td>638.826</td>\n",
       "      <td>2046.843</td>\n",
       "      <td>0.000</td>\n",
       "      <td>74.534</td>\n",
       "      <td>135.791</td>\n",
       "      <td>266.111</td>\n",
       "      <td>10000.000</td>\n",
       "    </tr>\n",
       "    <tr>\n",
       "      <th>Monthly_Balance</th>\n",
       "      <td>148238.000</td>\n",
       "      <td>-33729543032150998122496.000</td>\n",
       "      <td>3352926955206791212826624.000</td>\n",
       "      <td>-333333333333333314856026112.000</td>\n",
       "      <td>270.230</td>\n",
       "      <td>336.799</td>\n",
       "      <td>470.455</td>\n",
       "      <td>1606.518</td>\n",
       "    </tr>\n",
       "  </tbody>\n",
       "</table>\n",
       "</div>\n",
       "      <button class=\"colab-df-convert\" onclick=\"convertToInteractive('df-ad5120d5-0090-4bb4-8f60-cc3ca755de63')\"\n",
       "              title=\"Convert this dataframe to an interactive table.\"\n",
       "              style=\"display:none;\">\n",
       "        \n",
       "  <svg xmlns=\"http://www.w3.org/2000/svg\" height=\"24px\"viewBox=\"0 0 24 24\"\n",
       "       width=\"24px\">\n",
       "    <path d=\"M0 0h24v24H0V0z\" fill=\"none\"/>\n",
       "    <path d=\"M18.56 5.44l.94 2.06.94-2.06 2.06-.94-2.06-.94-.94-2.06-.94 2.06-2.06.94zm-11 1L8.5 8.5l.94-2.06 2.06-.94-2.06-.94L8.5 2.5l-.94 2.06-2.06.94zm10 10l.94 2.06.94-2.06 2.06-.94-2.06-.94-.94-2.06-.94 2.06-2.06.94z\"/><path d=\"M17.41 7.96l-1.37-1.37c-.4-.4-.92-.59-1.43-.59-.52 0-1.04.2-1.43.59L10.3 9.45l-7.72 7.72c-.78.78-.78 2.05 0 2.83L4 21.41c.39.39.9.59 1.41.59.51 0 1.02-.2 1.41-.59l7.78-7.78 2.81-2.81c.8-.78.8-2.07 0-2.86zM5.41 20L4 18.59l7.72-7.72 1.47 1.35L5.41 20z\"/>\n",
       "  </svg>\n",
       "      </button>\n",
       "      \n",
       "  <style>\n",
       "    .colab-df-container {\n",
       "      display:flex;\n",
       "      flex-wrap:wrap;\n",
       "      gap: 12px;\n",
       "    }\n",
       "\n",
       "    .colab-df-convert {\n",
       "      background-color: #E8F0FE;\n",
       "      border: none;\n",
       "      border-radius: 50%;\n",
       "      cursor: pointer;\n",
       "      display: none;\n",
       "      fill: #1967D2;\n",
       "      height: 32px;\n",
       "      padding: 0 0 0 0;\n",
       "      width: 32px;\n",
       "    }\n",
       "\n",
       "    .colab-df-convert:hover {\n",
       "      background-color: #E2EBFA;\n",
       "      box-shadow: 0px 1px 2px rgba(60, 64, 67, 0.3), 0px 1px 3px 1px rgba(60, 64, 67, 0.15);\n",
       "      fill: #174EA6;\n",
       "    }\n",
       "\n",
       "    [theme=dark] .colab-df-convert {\n",
       "      background-color: #3B4455;\n",
       "      fill: #D2E3FC;\n",
       "    }\n",
       "\n",
       "    [theme=dark] .colab-df-convert:hover {\n",
       "      background-color: #434B5C;\n",
       "      box-shadow: 0px 1px 3px 1px rgba(0, 0, 0, 0.15);\n",
       "      filter: drop-shadow(0px 1px 2px rgba(0, 0, 0, 0.3));\n",
       "      fill: #FFFFFF;\n",
       "    }\n",
       "  </style>\n",
       "\n",
       "      <script>\n",
       "        const buttonEl =\n",
       "          document.querySelector('#df-ad5120d5-0090-4bb4-8f60-cc3ca755de63 button.colab-df-convert');\n",
       "        buttonEl.style.display =\n",
       "          google.colab.kernel.accessAllowed ? 'block' : 'none';\n",
       "\n",
       "        async function convertToInteractive(key) {\n",
       "          const element = document.querySelector('#df-ad5120d5-0090-4bb4-8f60-cc3ca755de63');\n",
       "          const dataTable =\n",
       "            await google.colab.kernel.invokeFunction('convertToInteractive',\n",
       "                                                     [key], {});\n",
       "          if (!dataTable) return;\n",
       "\n",
       "          const docLinkHtml = 'Like what you see? Visit the ' +\n",
       "            '<a target=\"_blank\" href=https://colab.research.google.com/notebooks/data_table.ipynb>data table notebook</a>'\n",
       "            + ' to learn more about interactive tables.';\n",
       "          element.innerHTML = '';\n",
       "          dataTable['output_type'] = 'display_data';\n",
       "          await google.colab.output.renderOutput(dataTable, element);\n",
       "          const docLink = document.createElement('div');\n",
       "          docLink.innerHTML = docLinkHtml;\n",
       "          element.appendChild(docLink);\n",
       "        }\n",
       "      </script>\n",
       "    </div>\n",
       "  </div>\n",
       "  "
      ],
      "text/plain": [
       "                              count                         mean  \\\n",
       "Customer_ID              150000.000                    25982.667   \n",
       "Age                      150000.000                      110.338   \n",
       "Annual_Income            150000.000                   173055.203   \n",
       "Monthly_Inhand_Salary    127500.000                     4190.115   \n",
       "Num_Bank_Accounts        150000.000                       17.007   \n",
       "Num_Credit_Card          150000.000                       22.623   \n",
       "Interest_Rate            150000.000                       71.235   \n",
       "Num_of_Loan              150000.000                        3.141   \n",
       "Delay_from_due_date      150000.000                       21.063   \n",
       "Num_of_Delayed_Payment   139500.000                       30.912   \n",
       "Changed_Credit_Limit     146850.000                       10.384   \n",
       "Num_Credit_Inquiries     147000.000                       28.529   \n",
       "Outstanding_Debt         150000.000                     1426.220   \n",
       "Credit_Utilization_Ratio 150000.000                       32.283   \n",
       "Credit_History_Age       136500.000                      223.215   \n",
       "Total_EMI_per_month      150000.000                     1432.514   \n",
       "Amount_invested_monthly  143250.000                      638.826   \n",
       "Monthly_Balance          148238.000 -33729543032150998122496.000   \n",
       "\n",
       "                                                   std  \\\n",
       "Customer_ID                                  14340.519   \n",
       "Age                                            684.067   \n",
       "Annual_Income                              1404214.603   \n",
       "Monthly_Inhand_Salary                         3180.490   \n",
       "Num_Bank_Accounts                              117.069   \n",
       "Num_Credit_Card                                129.143   \n",
       "Interest_Rate                                  461.537   \n",
       "Num_of_Loan                                     63.911   \n",
       "Delay_from_due_date                             14.860   \n",
       "Num_of_Delayed_Payment                         224.534   \n",
       "Changed_Credit_Limit                             6.787   \n",
       "Num_Credit_Inquiries                           194.456   \n",
       "Outstanding_Debt                              1155.127   \n",
       "Credit_Utilization_Ratio                         5.113   \n",
       "Credit_History_Age                              99.720   \n",
       "Total_EMI_per_month                           8403.760   \n",
       "Amount_invested_monthly                       2046.843   \n",
       "Monthly_Balance          3352926955206791212826624.000   \n",
       "\n",
       "                                                      min       25%       50%  \\\n",
       "Customer_ID                                      1006.000 13664.500 25777.000   \n",
       "Age                                              -500.000    25.000    33.000   \n",
       "Annual_Income                                    7005.930 19455.490 37578.610   \n",
       "Monthly_Inhand_Salary                             303.645  1625.266  3091.000   \n",
       "Num_Bank_Accounts                                  -1.000     3.000     6.000   \n",
       "Num_Credit_Card                                     0.000     4.000     5.000   \n",
       "Interest_Rate                                       1.000     8.000    13.000   \n",
       "Num_of_Loan                                      -100.000     1.000     3.000   \n",
       "Delay_from_due_date                                -5.000    10.000    18.000   \n",
       "Num_of_Delayed_Payment                             -3.000     9.000    14.000   \n",
       "Changed_Credit_Limit                               -6.490     5.330     9.410   \n",
       "Num_Credit_Inquiries                                0.000     3.000     6.000   \n",
       "Outstanding_Debt                                    0.230   566.072  1166.155   \n",
       "Credit_Utilization_Ratio                           20.000    28.055    32.297   \n",
       "Credit_History_Age                                  1.000   146.000   222.000   \n",
       "Total_EMI_per_month                                 0.000    30.948    71.280   \n",
       "Amount_invested_monthly                             0.000    74.534   135.791   \n",
       "Monthly_Balance          -333333333333333314856026112.000   270.230   336.799   \n",
       "\n",
       "                               75%          max  \n",
       "Customer_ID              38385.000    50999.000  \n",
       "Age                         42.000     8698.000  \n",
       "Annual_Income            72796.905 24198062.000  \n",
       "Monthly_Inhand_Salary     5948.455    15204.633  \n",
       "Num_Bank_Accounts            7.000     1798.000  \n",
       "Num_Credit_Card              7.000     1499.000  \n",
       "Interest_Rate               20.000     5799.000  \n",
       "Num_of_Loan                  5.000     1496.000  \n",
       "Delay_from_due_date         28.000       67.000  \n",
       "Num_of_Delayed_Payment      18.000     4399.000  \n",
       "Changed_Credit_Limit        14.840       36.970  \n",
       "Num_Credit_Inquiries         9.000     2597.000  \n",
       "Outstanding_Debt          1945.963     4998.070  \n",
       "Credit_Utilization_Ratio    36.488       50.000  \n",
       "Credit_History_Age         304.000      408.000  \n",
       "Total_EMI_per_month        166.280    82398.000  \n",
       "Amount_invested_monthly    266.111    10000.000  \n",
       "Monthly_Balance            470.455     1606.518  "
      ]
     },
     "execution_count": 84,
     "metadata": {},
     "output_type": "execute_result"
    }
   ],
   "source": [
    "df.describe().T"
   ]
  },
  {
   "cell_type": "code",
   "execution_count": 85,
   "metadata": {
    "colab": {
     "base_uri": "https://localhost:8080/"
    },
    "id": "Vd9IDp8yoh7u",
    "outputId": "37df9f74-f54a-496e-9227-159e3b9c6294"
   },
   "outputs": [
    {
     "data": {
      "text/plain": [
       "Customer_ID                     0\n",
       "Age                             0\n",
       "Annual_Income                   0\n",
       "Monthly_Inhand_Salary       22500\n",
       "Num_Bank_Accounts               0\n",
       "Num_Credit_Card                 0\n",
       "Interest_Rate                   0\n",
       "Num_of_Loan                     0\n",
       "Delay_from_due_date             0\n",
       "Num_of_Delayed_Payment      10500\n",
       "Changed_Credit_Limit         3150\n",
       "Num_Credit_Inquiries         3000\n",
       "Outstanding_Debt                0\n",
       "Credit_Utilization_Ratio        0\n",
       "Credit_History_Age          13500\n",
       "Total_EMI_per_month             0\n",
       "Amount_invested_monthly      6750\n",
       "Monthly_Balance              1762\n",
       "dtype: int64"
      ]
     },
     "execution_count": 85,
     "metadata": {},
     "output_type": "execute_result"
    }
   ],
   "source": [
    "df.select_dtypes(include='number').isna().sum()"
   ]
  },
  {
   "cell_type": "code",
   "execution_count": 86,
   "metadata": {
    "colab": {
     "base_uri": "https://localhost:8080/"
    },
    "id": "FFn2Z_PEokvU",
    "outputId": "5d30cf1b-69ec-4960-9c71-3fa2997ca17a"
   },
   "outputs": [
    {
     "name": "stdout",
     "output_type": "stream",
     "text": [
      "\n",
      "Existing Min, Max Values:\n",
      "min    -500\n",
      "max    8698\n",
      "Name: Age, dtype: int64\n",
      "\n",
      "Groupby by Customer_ID's Actual min, max Values:\n",
      "min:\t14,\n",
      "max:\t56\n",
      "\n",
      "Before Assigning Min, Max Age: ['No NaN Value']\n",
      "\n",
      "Before Assigning Example Age:\n",
      "\n",
      "[37, 38, 38, 8153, 38, 38, 38, 38, 38, 38, 38, 38]\n",
      "[48, 48, 48, 48, 48, 48, 48, 48, 48, 48, 48, 49]\n",
      "[3452, 37, 37, 37, 37, 37, 37, 37, 37, 37, 37, 37]\n",
      "[22, 22, 22, 22, 22, 22, 22, 23, 23, 23, 23, 23]\n",
      "[43, 44, 44, 44, 44, 44, 44, 44, 44, 44, 44, 44]\n",
      "\n",
      "After Assigning  Min, Max Age: ['No NaN Value']\n",
      "\n",
      "After Assigning Example Age:\n",
      "\n",
      "[37.0, 38.0, 38.0, 38.0, 38.0, 38.0, 38.0, 38.0, 38.0, 38.0, 38.0, 38.0]\n",
      "[48.0, 48.0, 48.0, 48.0, 48.0, 48.0, 48.0, 48.0, 48.0, 48.0, 48.0, 49.0]\n",
      "[37.0, 37.0, 37.0, 37.0, 37.0, 37.0, 37.0, 37.0, 37.0, 37.0, 37.0, 37.0]\n",
      "[22.0, 22.0, 22.0, 22.0, 22.0, 22.0, 22.0, 23.0, 23.0, 23.0, 23.0, 23.0]\n",
      "[43.0, 44.0, 44.0, 44.0, 44.0, 44.0, 44.0, 44.0, 44.0, 44.0, 44.0, 44.0]\n",
      "\n",
      "Existing Min, Max Values:\n",
      "min       7005.930\n",
      "max   24198062.000\n",
      "Name: Annual_Income, dtype: float64\n",
      "\n",
      "Groupby by Customer_ID's Actual min, max Values:\n",
      "min:\t7005.93,\n",
      "max:\t179987.28\n",
      "\n",
      "Before Assigning Min, Max Annual_Income: ['No NaN Value']\n",
      "\n",
      "Before Assigning Example Annual_Income:\n",
      "\n",
      "[16756.18, 16756.18, 16756.18, 16756.18, 16756.18, 16756.18, 16756.18, 16756.18, 16756.18, 16756.18, 16756.18, 16756.18]\n",
      "[21212.91, 21212.91, 21212.91, 21212.91, 21212.91, 21212.91, 21212.91, 21212.91, 21212.91, 21212.91, 21212.91, 21212.91]\n",
      "[33540.43, 33540.43, 33540.43, 33540.43, 33540.43, 33540.43, 33540.43, 33540.43, 33540.43, 33540.43, 33540.43, 33540.43]\n",
      "[80983.64, 80983.64, 80983.64, 80983.64, 80983.64, 80983.64, 80983.64, 80983.64, 80983.64, 80983.64, 80983.64, 80983.64]\n",
      "[104142.56, 104142.56, 104142.56, 104142.56, 104142.56, 104142.56, 104142.56, 104142.56, 104142.56, 104142.56, 104142.56, 104142.56]\n",
      "\n",
      "After Assigning  Min, Max Annual_Income: ['No NaN Value']\n",
      "\n",
      "After Assigning Example Annual_Income:\n",
      "\n",
      "[16756.18, 16756.18, 16756.18, 16756.18, 16756.18, 16756.18, 16756.18, 16756.18, 16756.18, 16756.18, 16756.18, 16756.18]\n",
      "[21212.91, 21212.91, 21212.91, 21212.91, 21212.91, 21212.91, 21212.91, 21212.91, 21212.91, 21212.91, 21212.91, 21212.91]\n",
      "[33540.43, 33540.43, 33540.43, 33540.43, 33540.43, 33540.43, 33540.43, 33540.43, 33540.43, 33540.43, 33540.43, 33540.43]\n",
      "[80983.64, 80983.64, 80983.64, 80983.64, 80983.64, 80983.64, 80983.64, 80983.64, 80983.64, 80983.64, 80983.64, 80983.64]\n",
      "[104142.56, 104142.56, 104142.56, 104142.56, 104142.56, 104142.56, 104142.56, 104142.56, 104142.56, 104142.56, 104142.56, 104142.56]\n",
      "\n",
      "Existing Min, Max Values:\n",
      "min     303.645\n",
      "max   15204.633\n",
      "Name: Monthly_Inhand_Salary, dtype: float64\n",
      "\n",
      "Groupby by Customer_ID's Actual min, max Values:\n",
      "min:\t303.6454166666666,\n",
      "max:\t15204.633333333331\n",
      "\n",
      "Before Assigning Min, Max Monthly_Inhand_Salary: ['No NaN Value']\n",
      "\n",
      "Before Assigning Example Monthly_Inhand_Salary:\n",
      "\n",
      "[1331.3483333333334, 1331.3483333333334, 1331.3483333333334, 1331.3483333333334, 1331.3483333333334, 1331.3483333333334, 1331.3483333333334, 1331.3483333333334, 1331.3483333333334, 1331.3483333333334, nan, 1331.3483333333334]\n",
      "[1496.7425, 1496.7425, 1496.7425, 1496.7425, nan, 1496.7425, 1496.7425, 1496.7425, 1496.7425, 1496.7425, 1496.7425, 1496.7425]\n",
      "[2655.035833333333, 2655.035833333333, 2655.035833333333, 2655.035833333333, 2655.035833333333, 2655.035833333333, 2655.035833333333, 2655.035833333333, 2655.035833333333, 2655.035833333333, 2655.035833333333, 2655.035833333333]\n",
      "[6692.636666666666, 6692.636666666666, 6692.636666666666, 6692.636666666666, 6692.636666666666, 6692.636666666666, 6692.636666666666, 6692.636666666666, 6692.636666666666, 6692.636666666666, 6692.636666666666, 6692.636666666666]\n",
      "[8433.546666666667, 8433.546666666667, 8433.546666666667, 8433.546666666667, 8433.546666666667, 8433.546666666667, 8433.546666666667, nan, 8433.546666666667, 8433.546666666667, 8433.546666666667, nan]\n",
      "\n",
      "After Assigning  Min, Max Monthly_Inhand_Salary: ['No NaN Value']\n",
      "\n",
      "After Assigning Example Monthly_Inhand_Salary:\n",
      "\n",
      "[1331.3483333333334, 1331.3483333333334, 1331.3483333333334, 1331.3483333333334, 1331.3483333333334, 1331.3483333333334, 1331.3483333333334, 1331.3483333333334, 1331.3483333333334, 1331.3483333333334, 1331.3483333333334, 1331.3483333333334]\n",
      "[1496.7425, 1496.7425, 1496.7425, 1496.7425, 1496.7425, 1496.7425, 1496.7425, 1496.7425, 1496.7425, 1496.7425, 1496.7425, 1496.7425]\n",
      "[2655.035833333333, 2655.035833333333, 2655.035833333333, 2655.035833333333, 2655.035833333333, 2655.035833333333, 2655.035833333333, 2655.035833333333, 2655.035833333333, 2655.035833333333, 2655.035833333333, 2655.035833333333]\n",
      "[6692.636666666666, 6692.636666666666, 6692.636666666666, 6692.636666666666, 6692.636666666666, 6692.636666666666, 6692.636666666666, 6692.636666666666, 6692.636666666666, 6692.636666666666, 6692.636666666666, 6692.636666666666]\n",
      "[8433.546666666667, 8433.546666666667, 8433.546666666667, 8433.546666666667, 8433.546666666667, 8433.546666666667, 8433.546666666667, 8433.546666666667, 8433.546666666667, 8433.546666666667, 8433.546666666667, 8433.546666666667]\n",
      "\n",
      "Existing Min, Max Values:\n",
      "min      -1\n",
      "max    1798\n",
      "Name: Num_Bank_Accounts, dtype: int64\n",
      "\n",
      "Groupby by Customer_ID's Actual min, max Values:\n",
      "min:\t-1,\n",
      "max:\t11\n",
      "\n",
      "Before Assigning Min, Max Num_Bank_Accounts: ['No NaN Value']\n",
      "\n",
      "Before Assigning Example Num_Bank_Accounts:\n",
      "\n",
      "[9, 9, 9, 9, 9, 9, 9, 9, 9, 9, 9, 9]\n",
      "[3, 3, 3, 1174, 3, 3, 3, 3, 3, 3, 3, 3]\n",
      "[6, 6, 6, 6, 6, 6, 6, 6, 6, 6, 6, 6]\n",
      "[6, 6, 6, 6, 6, 6, 6, 6, 6, 6, 6, 6]\n",
      "[3, 3, 3, 3, 3, 3, 3, 3, 3, 3, 3, 3]\n",
      "\n",
      "After Assigning  Min, Max Num_Bank_Accounts: ['No NaN Value']\n",
      "\n",
      "After Assigning Example Num_Bank_Accounts:\n",
      "\n",
      "[9.0, 9.0, 9.0, 9.0, 9.0, 9.0, 9.0, 9.0, 9.0, 9.0, 9.0, 9.0]\n",
      "[3.0, 3.0, 3.0, 3.0, 3.0, 3.0, 3.0, 3.0, 3.0, 3.0, 3.0, 3.0]\n",
      "[6.0, 6.0, 6.0, 6.0, 6.0, 6.0, 6.0, 6.0, 6.0, 6.0, 6.0, 6.0]\n",
      "[6.0, 6.0, 6.0, 6.0, 6.0, 6.0, 6.0, 6.0, 6.0, 6.0, 6.0, 6.0]\n",
      "[3.0, 3.0, 3.0, 3.0, 3.0, 3.0, 3.0, 3.0, 3.0, 3.0, 3.0, 3.0]\n",
      "\n",
      "Existing Min, Max Values:\n",
      "min       0\n",
      "max    1499\n",
      "Name: Num_Credit_Card, dtype: int64\n",
      "\n",
      "Groupby by Customer_ID's Actual min, max Values:\n",
      "min:\t0,\n",
      "max:\t11\n",
      "\n",
      "Before Assigning Min, Max Num_Credit_Card: ['No NaN Value']\n",
      "\n",
      "Before Assigning Example Num_Credit_Card:\n",
      "\n",
      "[6, 6, 6, 6, 6, 6, 6, 6, 6, 6, 6, 750]\n",
      "[4, 4, 4, 4, 4, 4, 4, 888, 4, 4, 4, 4]\n",
      "[3, 3, 3, 3, 3, 3, 3, 3, 3, 3, 3, 112]\n",
      "[3, 3, 3, 3, 725, 3, 3, 3, 3, 3, 3, 3]\n",
      "[5, 5, 5, 5, 5, 5, 5, 5, 5, 5, 5, 5]\n",
      "\n",
      "After Assigning  Min, Max Num_Credit_Card: ['No NaN Value']\n",
      "\n",
      "After Assigning Example Num_Credit_Card:\n",
      "\n",
      "[6.0, 6.0, 6.0, 6.0, 6.0, 6.0, 6.0, 6.0, 6.0, 6.0, 6.0, 6.0]\n",
      "[4.0, 4.0, 4.0, 4.0, 4.0, 4.0, 4.0, 4.0, 4.0, 4.0, 4.0, 4.0]\n",
      "[3.0, 3.0, 3.0, 3.0, 3.0, 3.0, 3.0, 3.0, 3.0, 3.0, 3.0, 3.0]\n",
      "[3.0, 3.0, 3.0, 3.0, 3.0, 3.0, 3.0, 3.0, 3.0, 3.0, 3.0, 3.0]\n",
      "[5.0, 5.0, 5.0, 5.0, 5.0, 5.0, 5.0, 5.0, 5.0, 5.0, 5.0, 5.0]\n",
      "\n",
      "Existing Min, Max Values:\n",
      "min       1\n",
      "max    5799\n",
      "Name: Interest_Rate, dtype: int64\n",
      "\n",
      "Groupby by Customer_ID's Actual min, max Values:\n",
      "min:\t1,\n",
      "max:\t34\n",
      "\n",
      "Before Assigning Min, Max Interest_Rate: ['No NaN Value']\n",
      "\n",
      "Before Assigning Example Interest_Rate:\n",
      "\n",
      "[22, 22, 22, 22, 22, 22, 22, 22, 22, 22, 22, 22]\n",
      "[10, 10, 10, 10, 10, 10, 10, 10, 10, 10, 10, 10]\n",
      "[17, 17, 17, 17, 17, 17, 17, 17, 17, 17, 17, 17]\n",
      "[15, 15, 15, 15, 15, 15, 15, 15, 15, 15, 15, 15]\n",
      "[5, 5, 5, 5, 5, 5, 5, 5, 5, 5, 5, 5]\n",
      "\n",
      "After Assigning  Min, Max Interest_Rate: ['No NaN Value']\n",
      "\n",
      "After Assigning Example Interest_Rate:\n",
      "\n",
      "[22.0, 22.0, 22.0, 22.0, 22.0, 22.0, 22.0, 22.0, 22.0, 22.0, 22.0, 22.0]\n",
      "[10.0, 10.0, 10.0, 10.0, 10.0, 10.0, 10.0, 10.0, 10.0, 10.0, 10.0, 10.0]\n",
      "[17.0, 17.0, 17.0, 17.0, 17.0, 17.0, 17.0, 17.0, 17.0, 17.0, 17.0, 17.0]\n",
      "[15.0, 15.0, 15.0, 15.0, 15.0, 15.0, 15.0, 15.0, 15.0, 15.0, 15.0, 15.0]\n",
      "[5.0, 5.0, 5.0, 5.0, 5.0, 5.0, 5.0, 5.0, 5.0, 5.0, 5.0, 5.0]\n",
      "\n",
      "Existing Min, Max Values:\n",
      "min    -100\n",
      "max    1496\n",
      "Name: Num_of_Loan, dtype: int64\n",
      "\n",
      "Groupby by Customer_ID's Actual min, max Values:\n",
      "min:\t0,\n",
      "max:\t9\n",
      "\n",
      "Before Assigning Min, Max Num_of_Loan: ['No NaN Value']\n",
      "\n",
      "Before Assigning Example Num_of_Loan:\n",
      "\n",
      "[2, 2, 2, 2, 2, 2, 2, 2, 2, 2, 2, -100]\n",
      "[3, 3, 3, 3, -100, 3, 3, 3, 3, 3, 3, 3]\n",
      "[0, 0, 0, 0, 0, 0, 0, 0, 0, 0, 0, 0]\n",
      "[4, 4, 4, 4, 4, 4, 4, 4, 4, 4, 4, 4]\n",
      "[3, 3, 3, 3, 3, 3, 3, 3, 3, 3, 3, 3]\n",
      "\n",
      "After Assigning  Min, Max Num_of_Loan: ['No NaN Value']\n",
      "\n",
      "After Assigning Example Num_of_Loan:\n",
      "\n",
      "[2.0, 2.0, 2.0, 2.0, 2.0, 2.0, 2.0, 2.0, 2.0, 2.0, 2.0, 2.0]\n",
      "[3.0, 3.0, 3.0, 3.0, 3.0, 3.0, 3.0, 3.0, 3.0, 3.0, 3.0, 3.0]\n",
      "[0.0, 0.0, 0.0, 0.0, 0.0, 0.0, 0.0, 0.0, 0.0, 0.0, 0.0, 0.0]\n",
      "[4.0, 4.0, 4.0, 4.0, 4.0, 4.0, 4.0, 4.0, 4.0, 4.0, 4.0, 4.0]\n",
      "[3.0, 3.0, 3.0, 3.0, 3.0, 3.0, 3.0, 3.0, 3.0, 3.0, 3.0, 3.0]\n",
      "\n",
      "Existing Min, Max Values:\n",
      "min    -5\n",
      "max    67\n",
      "Name: Delay_from_due_date, dtype: int64\n",
      "\n",
      "Groupby by Customer_ID's Actual min, max Values:\n",
      "min:\t-1,\n",
      "max:\t62\n",
      "\n",
      "Before Assigning Min, Max Delay_from_due_date: ['No NaN Value']\n",
      "\n",
      "Before Assigning Example Delay_from_due_date:\n",
      "\n",
      "[48, 48, 48, 48, 48, 48, 48, 48, 48, 50, 48, 53]\n",
      "[19, 19, 19, 19, 19, 19, 19, 16, 20, 19, 15, 19]\n",
      "[25, 28, 22, 26, 26, 26, 26, 26, 26, 26, 21, 26]\n",
      "[19, 19, 19, 19, 19, 19, 19, 19, 19, 18, 21, 19]\n",
      "[15, 15, 20, 16, 20, 20, 20, 24, 25, 20, 20, 20]\n",
      "\n",
      "After Assigning  Min, Max Delay_from_due_date: ['No NaN Value']\n",
      "\n",
      "After Assigning Example Delay_from_due_date:\n",
      "\n",
      "[48.0, 48.0, 48.0, 48.0, 48.0, 48.0, 48.0, 48.0, 48.0, 50.0, 48.0, 53.0]\n",
      "[19.0, 19.0, 19.0, 19.0, 19.0, 19.0, 19.0, 16.0, 20.0, 19.0, 15.0, 19.0]\n",
      "[25.0, 28.0, 22.0, 26.0, 26.0, 26.0, 26.0, 26.0, 26.0, 26.0, 21.0, 26.0]\n",
      "[19.0, 19.0, 19.0, 19.0, 19.0, 19.0, 19.0, 19.0, 19.0, 18.0, 21.0, 19.0]\n",
      "[15.0, 15.0, 20.0, 16.0, 20.0, 20.0, 20.0, 24.0, 25.0, 20.0, 20.0, 20.0]\n",
      "\n",
      "Existing Min, Max Values:\n",
      "min     -3.000\n",
      "max   4399.000\n",
      "Name: Num_of_Delayed_Payment, dtype: float64\n",
      "\n",
      "Groupby by Customer_ID's Actual min, max Values:\n",
      "min:\t-2.0,\n",
      "max:\t25.0\n",
      "\n",
      "Before Assigning Min, Max Num_of_Delayed_Payment: ['No NaN Value']\n",
      "\n",
      "Before Assigning Example Num_of_Delayed_Payment:\n",
      "\n",
      "[10.0, 12.0, 12.0, 13.0, nan, 12.0, 11.0, 12.0, 12.0, 12.0, 11.0, 12.0]\n",
      "[19.0, 19.0, 19.0, 19.0, 19.0, 21.0, 20.0, 19.0, 19.0, 18.0, 19.0, 20.0]\n",
      "[11.0, 11.0, 11.0, nan, 11.0, nan, 11.0, 13.0, 12.0, 11.0, 13.0, 11.0]\n",
      "[18.0, 18.0, 18.0, 18.0, 18.0, nan, 20.0, 18.0, 18.0, 18.0, nan, nan]\n",
      "[17.0, 16.0, 14.0, nan, 17.0, 14.0, 11.0, 14.0, 14.0, 14.0, 17.0, 12.0]\n",
      "\n",
      "After Assigning  Min, Max Num_of_Delayed_Payment: ['No NaN Value']\n",
      "\n",
      "After Assigning Example Num_of_Delayed_Payment:\n",
      "\n",
      "[10.0, 12.0, 12.0, 13.0, 12.0, 12.0, 11.0, 12.0, 12.0, 12.0, 11.0, 12.0]\n",
      "[19.0, 19.0, 19.0, 19.0, 19.0, 21.0, 20.0, 19.0, 19.0, 18.0, 19.0, 20.0]\n",
      "[11.0, 11.0, 11.0, 11.0, 11.0, 11.0, 11.0, 13.0, 12.0, 11.0, 13.0, 11.0]\n",
      "[18.0, 18.0, 18.0, 18.0, 18.0, 18.0, 20.0, 18.0, 18.0, 18.0, 18.0, 18.0]\n",
      "[17.0, 16.0, 14.0, 14.0, 17.0, 14.0, 11.0, 14.0, 14.0, 14.0, 17.0, 12.0]\n",
      "\n",
      "Existing Min, Max Values:\n",
      "min   -6.490\n",
      "max   36.970\n",
      "Name: Changed_Credit_Limit, dtype: float64\n",
      "\n",
      "Groupby by Customer_ID's Actual min, max Values:\n",
      "min:\t0.5,\n",
      "max:\t29.98\n",
      "\n",
      "Before Assigning Min, Max Changed_Credit_Limit: ['No NaN Value']\n",
      "\n",
      "Before Assigning Example Changed_Credit_Limit:\n",
      "\n",
      "[10.66, 10.66, 10.66, 10.66, 10.66, 10.66, 10.66, 10.66, 10.66, 10.66, 17.66, 10.66]\n",
      "[12.13, 5.13, 5.13, 5.13, 5.13, 2.13, 5.13, 5.13, 5.13, 5.13, 5.13, 5.13]\n",
      "[14.11, 14.11, 14.11, 14.11, 14.11, 14.11, 14.11, 14.11, 14.11, 14.11, 14.11, 14.11]\n",
      "[16.91, 16.91, 16.91, 16.91, 16.91, 16.91, 19.91, 16.91, 19.91, 16.91, 16.91, 16.91]\n",
      "[15.28, 15.28, 15.28, 15.28, 19.28, 15.28, 15.28, 15.28, 15.28, 15.28, 15.28, 15.28]\n",
      "\n",
      "After Assigning  Min, Max Changed_Credit_Limit: ['No NaN Value']\n",
      "\n",
      "After Assigning Example Changed_Credit_Limit:\n",
      "\n",
      "[10.66, 10.66, 10.66, 10.66, 10.66, 10.66, 10.66, 10.66, 10.66, 10.66, 17.66, 10.66]\n",
      "[12.13, 5.13, 5.13, 5.13, 5.13, 2.13, 5.13, 5.13, 5.13, 5.13, 5.13, 5.13]\n",
      "[14.11, 14.11, 14.11, 14.11, 14.11, 14.11, 14.11, 14.11, 14.11, 14.11, 14.11, 14.11]\n",
      "[16.91, 16.91, 16.91, 16.91, 16.91, 16.91, 19.91, 16.91, 19.91, 16.91, 16.91, 16.91]\n",
      "[15.28, 15.28, 15.28, 15.28, 19.28, 15.28, 15.28, 15.28, 15.28, 15.28, 15.28, 15.28]\n",
      "\n",
      "Existing Min, Max Values:\n",
      "min      0.000\n",
      "max   2597.000\n",
      "Name: Num_Credit_Inquiries, dtype: float64\n",
      "\n",
      "Groupby by Customer_ID's Actual min, max Values:\n",
      "min:\t0.0,\n",
      "max:\t17.0\n",
      "\n",
      "Before Assigning Min, Max Num_Credit_Inquiries: ['No NaN Value']\n",
      "\n",
      "Before Assigning Example Num_Credit_Inquiries:\n",
      "\n",
      "[nan, 8.0, 8.0, 8.0, 8.0, 8.0, 8.0, 8.0, 13.0, 13.0, 13.0, 13.0]\n",
      "[1.0, 1.0, 1.0, 1.0, 1196.0, 1.0, 1.0, 1.0, 1.0, 5.0, 5.0, 5.0]\n",
      "[6.0, 10.0, 10.0, 10.0, 10.0, 10.0, 10.0, 10.0, 10.0, 10.0, 10.0, 848.0]\n",
      "[7.0, 7.0, 7.0, 7.0, 7.0, 7.0, 7.0, 7.0, 11.0, 11.0, 11.0, 11.0]\n",
      "[6.0, 6.0, 6.0, 6.0, 6.0, 6.0, 6.0, 692.0, 10.0, 10.0, 10.0, 10.0]\n",
      "\n",
      "After Assigning  Min, Max Num_Credit_Inquiries: ['No NaN Value']\n",
      "\n",
      "After Assigning Example Num_Credit_Inquiries:\n",
      "\n",
      "[8.0, 8.0, 8.0, 8.0, 8.0, 8.0, 8.0, 8.0, 13.0, 13.0, 13.0, 13.0]\n",
      "[1.0, 1.0, 1.0, 1.0, 1.0, 1.0, 1.0, 1.0, 1.0, 5.0, 5.0, 5.0]\n",
      "[6.0, 10.0, 10.0, 10.0, 10.0, 10.0, 10.0, 10.0, 10.0, 10.0, 10.0, 10.0]\n",
      "[7.0, 7.0, 7.0, 7.0, 7.0, 7.0, 7.0, 7.0, 11.0, 11.0, 11.0, 11.0]\n",
      "[6.0, 6.0, 6.0, 6.0, 6.0, 6.0, 6.0, 6.0, 10.0, 10.0, 10.0, 10.0]\n",
      "\n",
      "Existing Min, Max Values:\n",
      "min      0.230\n",
      "max   4998.070\n",
      "Name: Outstanding_Debt, dtype: float64\n",
      "\n",
      "Groupby by Customer_ID's Actual min, max Values:\n",
      "min:\t0.23,\n",
      "max:\t4998.07\n",
      "\n",
      "Before Assigning Min, Max Outstanding_Debt: ['No NaN Value']\n",
      "\n",
      "Before Assigning Example Outstanding_Debt:\n",
      "\n",
      "[1941.73, 1941.73, 1941.73, 1941.73, 1941.73, 1941.73, 1941.73, 1941.73, 1941.73, 1941.73, 1941.73, 1941.73]\n",
      "[993.15, 993.15, 993.15, 993.15, 993.15, 993.15, 993.15, 993.15, 993.15, 993.15, 993.15, 993.15]\n",
      "[1138.97, 1138.97, 1138.97, 1138.97, 1138.97, 1138.97, 1138.97, 1138.97, 1138.97, 1138.97, 1138.97, 1138.97]\n",
      "[982.44, 982.44, 982.44, 982.44, 982.44, 982.44, 982.44, 982.44, 982.44, 982.44, 982.44, 982.44]\n",
      "[1371.8, 1371.8, 1371.8, 1371.8, 1371.8, 1371.8, 1371.8, 1371.8, 1371.8, 1371.8, 1371.8, 1371.8]\n",
      "\n",
      "After Assigning  Min, Max Outstanding_Debt: ['No NaN Value']\n",
      "\n",
      "After Assigning Example Outstanding_Debt:\n",
      "\n",
      "[1941.73, 1941.73, 1941.73, 1941.73, 1941.73, 1941.73, 1941.73, 1941.73, 1941.73, 1941.73, 1941.73, 1941.73]\n",
      "[993.15, 993.15, 993.15, 993.15, 993.15, 993.15, 993.15, 993.15, 993.15, 993.15, 993.15, 993.15]\n",
      "[1138.97, 1138.97, 1138.97, 1138.97, 1138.97, 1138.97, 1138.97, 1138.97, 1138.97, 1138.97, 1138.97, 1138.97]\n",
      "[982.44, 982.44, 982.44, 982.44, 982.44, 982.44, 982.44, 982.44, 982.44, 982.44, 982.44, 982.44]\n",
      "[1371.8, 1371.8, 1371.8, 1371.8, 1371.8, 1371.8, 1371.8, 1371.8, 1371.8, 1371.8, 1371.8, 1371.8]\n",
      "\n",
      "Existing Min, Max Values:\n",
      "min       0.000\n",
      "max   82398.000\n",
      "Name: Total_EMI_per_month, dtype: float64\n",
      "\n",
      "Groupby by Customer_ID's Actual min, max Values:\n",
      "min:\t0.0,\n",
      "max:\t1779.1032538262775\n",
      "\n",
      "Before Assigning Min, Max Total_EMI_per_month: ['No NaN Value']\n",
      "\n",
      "Before Assigning Example Total_EMI_per_month:\n",
      "\n",
      "[27.44208910654816, 27.44208910654816, 27.44208910654816, 27.44208910654816, 27.44208910654816, 27.44208910654816, 27.44208910654816, 32972.0, 27.44208910654816, 27.44208910654816, 27.44208910654816, 27.44208910654816]\n",
      "[45.74570037068675, 45.74570037068675, 45.74570037068675, 45.74570037068675, 45.74570037068675, 45.74570037068675, 45.74570037068675, 45.74570037068675, 45.74570037068675, 45.74570037068675, 45.74570037068675, 45.74570037068675]\n",
      "[0.0, 0.0, 0.0, 0.0, 0.0, 0.0, 0.0, 0.0, 0.0, 0.0, 0.0, 0.0]\n",
      "[188.45659522353543, 188.45659522353543, 188.45659522353543, 188.45659522353543, 188.45659522353543, 188.45659522353543, 188.45659522353543, 188.45659522353543, 188.45659522353543, 188.45659522353543, 188.45659522353543, 188.45659522353543]\n",
      "[257.7386460249556, 257.7386460249556, 257.7386460249556, 257.7386460249556, 257.7386460249556, 257.7386460249556, 257.7386460249556, 257.7386460249556, 257.7386460249556, 257.7386460249556, 257.7386460249556, 257.7386460249556]\n",
      "\n",
      "After Assigning  Min, Max Total_EMI_per_month: ['No NaN Value']\n",
      "\n",
      "After Assigning Example Total_EMI_per_month:\n",
      "\n",
      "[27.44208910654816, 27.44208910654816, 27.44208910654816, 27.44208910654816, 27.44208910654816, 27.44208910654816, 27.44208910654816, 27.44208910654816, 27.44208910654816, 27.44208910654816, 27.44208910654816, 27.44208910654816]\n",
      "[45.74570037068675, 45.74570037068675, 45.74570037068675, 45.74570037068675, 45.74570037068675, 45.74570037068675, 45.74570037068675, 45.74570037068675, 45.74570037068675, 45.74570037068675, 45.74570037068675, 45.74570037068675]\n",
      "[0.0, 0.0, 0.0, 0.0, 0.0, 0.0, 0.0, 0.0, 0.0, 0.0, 0.0, 0.0]\n",
      "[188.45659522353543, 188.45659522353543, 188.45659522353543, 188.45659522353543, 188.45659522353543, 188.45659522353543, 188.45659522353543, 188.45659522353543, 188.45659522353543, 188.45659522353543, 188.45659522353543, 188.45659522353543]\n",
      "[257.7386460249556, 257.7386460249556, 257.7386460249556, 257.7386460249556, 257.7386460249556, 257.7386460249556, 257.7386460249556, 257.7386460249556, 257.7386460249556, 257.7386460249556, 257.7386460249556, 257.7386460249556]\n",
      "\n",
      "Existing Min, Max Values:\n",
      "min       0.000\n",
      "max   10000.000\n",
      "Name: Amount_invested_monthly, dtype: float64\n",
      "\n",
      "Groupby by Customer_ID's Actual min, max Values:\n",
      "min:\t0.0,\n",
      "max:\t10000.0\n",
      "\n",
      "Before Assigning Min, Max Amount_invested_monthly: ['No NaN Value']\n",
      "\n",
      "Before Assigning Example Amount_invested_monthly:\n",
      "\n",
      "[45.30106826949194, 90.07842318605292, 61.73271462991577, 56.4949816634165, 51.726244263612, 60.82828780912217, 95.6486475869488, 66.71824831147686, 116.54410553197071, 79.08087443658461, 93.81567846791012, 168.43584020560507]\n",
      "[30.373471914127194, 44.31995483866171, nan, 62.81248610216079, 148.30956484525, 10000.0, 59.30896122323683, 118.54244614778156, 104.33987358576769, 55.45176127748453, nan, nan]\n",
      "[118.8806978910128, nan, 337.1997406214716, 170.8689598433119, 74.1980692925824, 105.4573791889266, 197.85037247610126, 165.20443547590202, 50.930150099663045, 86.4414839594447, 351.92301846584564, 55.62866930298164]\n",
      "[149.37725143584314, 146.97809602243544, 101.12020124815511, 492.3974911743151, 264.1791118544216, 261.69017894140734, 200.64143588981403, 126.07161584554541, 684.6651624547051, 103.13758327637464, 110.66061982791805, 161.67162412887268]\n",
      "[292.2127037381353, nan, 187.59489650806347, 275.635709774446, 487.8062062008502, nan, 124.29952362711306, 481.7990883470461, 631.9932676909148, 772.3790958015891, 102.48803392235304, 474.3649639513685]\n",
      "\n",
      "After Assigning  Min, Max Amount_invested_monthly: ['No NaN Value']\n",
      "\n",
      "After Assigning Example Amount_invested_monthly:\n",
      "\n",
      "[45.30106826949194, 90.07842318605292, 61.73271462991577, 56.4949816634165, 51.726244263612, 60.82828780912217, 95.6486475869488, 66.71824831147686, 116.54410553197071, 79.08087443658461, 93.81567846791012, 168.43584020560507]\n",
      "[30.373471914127194, 44.31995483866171, 30.373471914127194, 62.81248610216079, 148.30956484525, 10000.0, 59.30896122323683, 118.54244614778156, 104.33987358576769, 55.45176127748453, 30.373471914127194, 30.373471914127194]\n",
      "[118.8806978910128, 50.930150099663045, 337.1997406214716, 170.8689598433119, 74.1980692925824, 105.4573791889266, 197.85037247610126, 165.20443547590202, 50.930150099663045, 86.4414839594447, 351.92301846584564, 55.62866930298164]\n",
      "[149.37725143584314, 146.97809602243544, 101.12020124815511, 492.3974911743151, 264.1791118544216, 261.69017894140734, 200.64143588981403, 126.07161584554541, 684.6651624547051, 103.13758327637464, 110.66061982791805, 161.67162412887268]\n",
      "[292.2127037381353, 102.48803392235304, 187.59489650806347, 275.635709774446, 487.8062062008502, 102.48803392235304, 124.29952362711306, 481.7990883470461, 631.9932676909148, 772.3790958015891, 102.48803392235304, 474.3649639513685]\n",
      "\n",
      "Existing Min, Max Values:\n",
      "min   -333333333333333314856026112.000\n",
      "max                           1606.518\n",
      "Name: Monthly_Balance, dtype: float64\n",
      "\n",
      "Groupby by Customer_ID's Actual min, max Values:\n",
      "min:\t-3.333333333333333e+26,\n",
      "max:\t1183.9306960885192\n",
      "\n",
      "Before Assigning Min, Max Monthly_Balance: ['No NaN Value']\n",
      "\n",
      "Before Assigning Example Monthly_Balance:\n",
      "\n",
      "[310.39167595729333, 295.61432104073225, 333.9600295968694, 309.1977625633686, 323.9664999631732, 334.864456417663, 280.04409663983637, 328.97449591530835, 279.14863869481445, 306.61186979020056, 301.87706575887506, 227.25690402118008]\n",
      "[323.5550777151861, 309.6085947906515, 265.4874646531188, 291.11606352715245, 245.61898478406326, 239.46481499922072, 334.61958840607645, 275.3861034815317, 279.58867604354555, 318.4767883518287, 260.7342254927612, 307.57591763672826]\n",
      "[406.62288544232047, 350.39351957834924, 218.30384271186168, 354.63462349002145, 441.30551404075095, 420.04620414440666, 337.6532108572321, 370.2991478574313, 474.5734332336703, 439.0620993738886, 203.58056486748768, 459.8749140303517]\n",
      "[581.4298200072883, 573.8289754206959, 629.6868701949761, 258.40958026881617, 496.6279595887097, 489.116892501724, 560.1656355533173, 594.7354555975859, 76.14190898842622, 617.6694881667568, 620.1464516152132, 569.1354473142586]\n",
      "[553.4033169035758, 228.71773015063442, 648.0211241336477, 579.9803108672652, 377.809814440861, nan, 701.3164970145981, 383.81693229466515, 223.62275295079644, 93.23692484012213, 723.1279867193582, 401.2510566903428]\n",
      "\n",
      "After Assigning  Min, Max Monthly_Balance: ['No NaN Value']\n",
      "\n",
      "After Assigning Example Monthly_Balance:\n",
      "\n",
      "[310.39167595729333, 295.61432104073225, 333.9600295968694, 309.1977625633686, 323.9664999631732, 334.864456417663, 280.04409663983637, 328.97449591530835, 279.14863869481445, 306.61186979020056, 301.87706575887506, 227.25690402118008]\n",
      "[323.5550777151861, 309.6085947906515, 265.4874646531188, 291.11606352715245, 245.61898478406326, 239.46481499922072, 334.61958840607645, 275.3861034815317, 279.58867604354555, 318.4767883518287, 260.7342254927612, 307.57591763672826]\n",
      "[406.62288544232047, 350.39351957834924, 218.30384271186168, 354.63462349002145, 441.30551404075095, 420.04620414440666, 337.6532108572321, 370.2991478574313, 474.5734332336703, 439.0620993738886, 203.58056486748768, 459.8749140303517]\n",
      "[581.4298200072883, 573.8289754206959, 629.6868701949761, 258.40958026881617, 496.6279595887097, 489.116892501724, 560.1656355533173, 594.7354555975859, 76.14190898842622, 617.6694881667568, 620.1464516152132, 569.1354473142586]\n",
      "[553.4033169035758, 228.71773015063442, 648.0211241336477, 579.9803108672652, 377.809814440861, 93.23692484012213, 701.3164970145981, 383.81693229466515, 223.62275295079644, 93.23692484012213, 723.1279867193582, 401.2510566903428]\n"
     ]
    }
   ],
   "source": [
    "# reassign Group nan and Wrong-outlier values\n",
    "Reassign_Group_Numeric_Wrong_Values(df, 'Customer_ID', 'Age')\n",
    "Reassign_Group_Numeric_Wrong_Values(df, 'Customer_ID', 'Annual_Income')\n",
    "Reassign_Group_Numeric_Wrong_Values(df, 'Customer_ID', 'Monthly_Inhand_Salary')\n",
    "Reassign_Group_Numeric_Wrong_Values(df, 'Customer_ID', 'Num_Bank_Accounts')\n",
    "Reassign_Group_Numeric_Wrong_Values(df, 'Customer_ID', 'Num_Credit_Card')\n",
    "Reassign_Group_Numeric_Wrong_Values(df, 'Customer_ID', 'Interest_Rate')\n",
    "Reassign_Group_Numeric_Wrong_Values(df, 'Customer_ID', 'Num_of_Loan')\n",
    "Reassign_Group_Numeric_Wrong_Values(df, 'Customer_ID', 'Delay_from_due_date')\n",
    "Reassign_Group_Numeric_Wrong_Values(df, 'Customer_ID', 'Num_of_Delayed_Payment')\n",
    "Reassign_Group_Numeric_Wrong_Values(df, 'Customer_ID', 'Changed_Credit_Limit')\n",
    "Reassign_Group_Numeric_Wrong_Values(df, 'Customer_ID', 'Num_Credit_Inquiries')\n",
    "Reassign_Group_Numeric_Wrong_Values(df, 'Customer_ID', 'Outstanding_Debt')\n",
    "df['Credit_Utilization_Ratio'] = df.groupby('Customer_ID')['Credit_Utilization_Ratio'].apply(lambda x: x.interpolate().bfill().ffill())\n",
    "df['Credit_History_Age'] = df.groupby('Customer_ID')['Credit_History_Age'].apply(lambda x: x.interpolate().bfill().ffill())\n",
    "Reassign_Group_Numeric_Wrong_Values(df, 'Customer_ID', 'Total_EMI_per_month')\n",
    "Reassign_Group_Numeric_Wrong_Values(df, 'Customer_ID', 'Amount_invested_monthly')\n",
    "Reassign_Group_Numeric_Wrong_Values(df, 'Customer_ID', 'Monthly_Balance')"
   ]
  },
  {
   "cell_type": "code",
   "execution_count": 87,
   "metadata": {
    "colab": {
     "base_uri": "https://localhost:8080/"
    },
    "id": "Zm1Nw2YNonih",
    "outputId": "c6ff6099-ab95-43c8-d8da-a79af5c4da46"
   },
   "outputs": [
    {
     "data": {
      "text/plain": [
       "5545     -333333333333333314856026112.000\n",
       "26177    -333333333333333314856026112.000\n",
       "29158    -333333333333333314856026112.000\n",
       "35570    -333333333333333314856026112.000\n",
       "38622    -333333333333333314856026112.000\n",
       "41828    -333333333333333314856026112.000\n",
       "60009    -333333333333333314856026112.000\n",
       "75251    -333333333333333314856026112.000\n",
       "82918    -333333333333333314856026112.000\n",
       "83255    -333333333333333314856026112.000\n",
       "111363   -333333333333333314856026112.000\n",
       "117036   -333333333333333314856026112.000\n",
       "120915   -333333333333333314856026112.000\n",
       "136273   -333333333333333314856026112.000\n",
       "141458   -333333333333333314856026112.000\n",
       "144055   -333333333333333314856026112.000\n",
       "149501   -333333333333333314856026112.000\n",
       "Name: Monthly_Balance, dtype: float64"
      ]
     },
     "execution_count": 87,
     "metadata": {},
     "output_type": "execute_result"
    }
   ],
   "source": [
    "df['Monthly_Balance'][df['Monthly_Balance']<0]"
   ]
  },
  {
   "cell_type": "code",
   "execution_count": 88,
   "metadata": {
    "id": "Bm-kM7Kmosy6"
   },
   "outputs": [],
   "source": [
    "df.loc[df['Monthly_Balance']<0, 'Monthly_Balance'] = None"
   ]
  },
  {
   "cell_type": "code",
   "execution_count": 89,
   "metadata": {
    "colab": {
     "base_uri": "https://localhost:8080/"
    },
    "id": "b3jcDDIyox5e",
    "outputId": "7beeeca6-6197-4771-cfb9-4a656919ddca"
   },
   "outputs": [
    {
     "name": "stdout",
     "output_type": "stream",
     "text": [
      "\n",
      "Existing Min, Max Values:\n",
      "min      0.008\n",
      "max   1183.931\n",
      "Name: Monthly_Balance, dtype: float64\n",
      "\n",
      "Groupby by Customer_ID's Actual min, max Values:\n",
      "min:\t0.007759664775335295,\n",
      "max:\t1183.9306960885192\n",
      "\n",
      "Before Assigning Min, Max Monthly_Balance: ['No NaN Value']\n",
      "\n",
      "Before Assigning Example Monthly_Balance:\n",
      "\n",
      "[310.39167595729333, 295.61432104073225, 333.9600295968694, 309.1977625633686, 323.9664999631732, 334.864456417663, 280.04409663983637, 328.97449591530835, 279.14863869481445, 306.61186979020056, 301.87706575887506, 227.25690402118008]\n",
      "[323.5550777151861, 309.6085947906515, 265.4874646531188, 291.11606352715245, 245.61898478406326, 239.46481499922072, 334.61958840607645, 275.3861034815317, 279.58867604354555, 318.4767883518287, 260.7342254927612, 307.57591763672826]\n",
      "[406.62288544232047, 350.39351957834924, 218.30384271186168, 354.63462349002145, 441.30551404075095, 420.04620414440666, 337.6532108572321, 370.2991478574313, 474.5734332336703, 439.0620993738886, 203.58056486748768, 459.8749140303517]\n",
      "[581.4298200072883, 573.8289754206959, 629.6868701949761, 258.40958026881617, 496.6279595887097, 489.116892501724, 560.1656355533173, 594.7354555975859, 76.14190898842622, 617.6694881667568, 620.1464516152132, 569.1354473142586]\n",
      "[553.4033169035758, 228.71773015063442, 648.0211241336477, 579.9803108672652, 377.809814440861, 93.23692484012213, 701.3164970145981, 383.81693229466515, 223.62275295079644, 93.23692484012213, 723.1279867193582, 401.2510566903428]\n",
      "\n",
      "After Assigning  Min, Max Monthly_Balance: ['No NaN Value']\n",
      "\n",
      "After Assigning Example Monthly_Balance:\n",
      "\n",
      "[310.39167595729333, 295.61432104073225, 333.9600295968694, 309.1977625633686, 323.9664999631732, 334.864456417663, 280.04409663983637, 328.97449591530835, 279.14863869481445, 306.61186979020056, 301.87706575887506, 227.25690402118008]\n",
      "[323.5550777151861, 309.6085947906515, 265.4874646531188, 291.11606352715245, 245.61898478406326, 239.46481499922072, 334.61958840607645, 275.3861034815317, 279.58867604354555, 318.4767883518287, 260.7342254927612, 307.57591763672826]\n",
      "[406.62288544232047, 350.39351957834924, 218.30384271186168, 354.63462349002145, 441.30551404075095, 420.04620414440666, 337.6532108572321, 370.2991478574313, 474.5734332336703, 439.0620993738886, 203.58056486748768, 459.8749140303517]\n",
      "[581.4298200072883, 573.8289754206959, 629.6868701949761, 258.40958026881617, 496.6279595887097, 489.116892501724, 560.1656355533173, 594.7354555975859, 76.14190898842622, 617.6694881667568, 620.1464516152132, 569.1354473142586]\n",
      "[553.4033169035758, 228.71773015063442, 648.0211241336477, 579.9803108672652, 377.809814440861, 93.23692484012213, 701.3164970145981, 383.81693229466515, 223.62275295079644, 93.23692484012213, 723.1279867193582, 401.2510566903428]\n"
     ]
    }
   ],
   "source": [
    "Reassign_Group_Numeric_Wrong_Values(df, 'Customer_ID', 'Monthly_Balance')"
   ]
  },
  {
   "cell_type": "code",
   "execution_count": 90,
   "metadata": {
    "colab": {
     "base_uri": "https://localhost:8080/"
    },
    "id": "ru_tyPHVo2cs",
    "outputId": "6544518a-cc96-4db3-e43a-1aec773dc67a"
   },
   "outputs": [
    {
     "data": {
      "text/plain": [
       "Customer_ID                     0\n",
       "Age                             0\n",
       "Occupation                      0\n",
       "Annual_Income                   0\n",
       "Monthly_Inhand_Salary           0\n",
       "Num_Bank_Accounts               0\n",
       "Num_Credit_Card                 0\n",
       "Interest_Rate                   0\n",
       "Num_of_Loan                     0\n",
       "Type_of_Loan                17112\n",
       "Delay_from_due_date             0\n",
       "Num_of_Delayed_Payment          0\n",
       "Changed_Credit_Limit            0\n",
       "Num_Credit_Inquiries            0\n",
       "Credit_Mix                      0\n",
       "Outstanding_Debt                0\n",
       "Credit_Utilization_Ratio        0\n",
       "Credit_History_Age              0\n",
       "Payment_of_Min_Amount           0\n",
       "Total_EMI_per_month             0\n",
       "Amount_invested_monthly         0\n",
       "Payment_Behaviour               0\n",
       "Monthly_Balance                 0\n",
       "Credit_Score                50000\n",
       "dtype: int64"
      ]
     },
     "execution_count": 90,
     "metadata": {},
     "output_type": "execute_result"
    }
   ],
   "source": [
    "df.isna().sum()"
   ]
  },
  {
   "cell_type": "code",
   "execution_count": 91,
   "metadata": {
    "id": "7C7NVuwto4x3"
   },
   "outputs": [],
   "source": [
    "\n",
    "# Drop the Columns we not use in model\n",
    "df.drop(columns=['Customer_ID'], inplace=True)"
   ]
  },
  {
   "cell_type": "code",
   "execution_count": 92,
   "metadata": {
    "colab": {
     "base_uri": "https://localhost:8080/"
    },
    "id": "f6nW101eo7aD",
    "outputId": "087d6cb7-aaa0-4d18-c7f3-d634aab2f3e0"
   },
   "outputs": [
    {
     "data": {
      "text/plain": [
       "(100000, 23)"
      ]
     },
     "execution_count": 92,
     "metadata": {},
     "output_type": "execute_result"
    }
   ],
   "source": [
    "# Drop the Rows we can not use in model\n",
    "df = df[df['Credit_Score'].notna()]\n",
    "df.shape"
   ]
  },
  {
   "cell_type": "code",
   "execution_count": 93,
   "metadata": {
    "colab": {
     "base_uri": "https://localhost:8080/"
    },
    "id": "KuyIH45Do9Jm",
    "outputId": "c363a0dd-aff1-43b4-bea4-b99b2cfd2b87"
   },
   "outputs": [
    {
     "data": {
      "text/plain": [
       "<matplotlib.axes._subplots.AxesSubplot at 0x7f8e1e281150>"
      ]
     },
     "execution_count": 93,
     "metadata": {},
     "output_type": "execute_result"
    }
   ],
   "source": [
    "# Correlation between Numerical features\n",
    "plt.figure(figsize=(14,8))\n",
    "sns.heatmap(\n",
    "    df.corr(), \n",
    "    mask=np.triu(np.ones_like(df.corr(), dtype=bool)), \n",
    "    annot=True, vmin=-1, vmax=1, cmap=\"PiYG\"\n",
    ")"
   ]
  },
  {
   "cell_type": "markdown",
   "metadata": {
    "id": "FFd7xQe-ySuy"
   },
   "source": [
    "Classification "
   ]
  },
  {
   "cell_type": "code",
   "execution_count": 94,
   "metadata": {
    "id": "E7rRu-FupB0O"
   },
   "outputs": [],
   "source": [
    "# import libraries\n",
    "from sklearn.model_selection import train_test_split\n",
    "from sklearn.preprocessing import OneHotEncoder, OrdinalEncoder, LabelEncoder\n",
    "from sklearn.preprocessing import StandardScaler, MinMaxScaler, RobustScaler\n",
    "from sklearn.pipeline import Pipeline\n",
    "\n",
    "# Superviseed Classifier\n",
    "from sklearn.svm import LinearSVC, SVC\n",
    "from sklearn.linear_model import LogisticRegression\n",
    "from sklearn.ensemble import BaggingClassifier, RandomForestClassifier\n",
    "\n",
    "from xgboost import XGBClassifier\n",
    "\n",
    "# Supervised Classifier- metrix\n",
    "from  sklearn.metrics import accuracy_score, recall_score, make_scorer, precision_score, f1_score,log_loss\n",
    "from sklearn.metrics import classification_report, plot_confusion_matrix,confusion_matrix\n",
    "from sklearn.metrics import plot_roc_curve, roc_curve, roc_auc_score, auc\n",
    "from sklearn.metrics import plot_precision_recall_curve, precision_recall_curve,average_precision_score"
   ]
  },
  {
   "cell_type": "code",
   "execution_count": 95,
   "metadata": {
    "id": "niL1SZ3nx7o8"
   },
   "outputs": [],
   "source": [
    "# supervised-Cross_validation-GridSearchCV\n",
    "from sklearn.model_selection import cross_validate, cross_val_score\n",
    "from sklearn.model_selection import KFold\n",
    "from sklearn.model_selection import GridSearchCV"
   ]
  },
  {
   "cell_type": "code",
   "execution_count": 96,
   "metadata": {
    "id": "nieUEGyPypAX"
   },
   "outputs": [],
   "source": [
    "import pickle\n",
    "random_state = 42"
   ]
  },
  {
   "cell_type": "code",
   "execution_count": 100,
   "metadata": {
    "id": "oZDFtRLcysQ3"
   },
   "outputs": [],
   "source": [
    "df1 = df.copy()"
   ]
  },
  {
   "cell_type": "code",
   "execution_count": 101,
   "metadata": {
    "colab": {
     "base_uri": "https://localhost:8080/"
    },
    "id": "ssJ9gWkvyv2t",
    "outputId": "bfc9ee0f-8c93-4582-bee3-4b44b58d3dcf"
   },
   "outputs": [
    {
     "name": "stdout",
     "output_type": "stream",
     "text": [
      "<class 'pandas.core.frame.DataFrame'>\n",
      "Int64Index: 100000 entries, 0 to 99999\n",
      "Data columns (total 23 columns):\n",
      " #   Column                    Non-Null Count   Dtype  \n",
      "---  ------                    --------------   -----  \n",
      " 0   Age                       100000 non-null  float64\n",
      " 1   Occupation                100000 non-null  object \n",
      " 2   Annual_Income             100000 non-null  float64\n",
      " 3   Monthly_Inhand_Salary     100000 non-null  float64\n",
      " 4   Num_Bank_Accounts         100000 non-null  float64\n",
      " 5   Num_Credit_Card           100000 non-null  float64\n",
      " 6   Interest_Rate             100000 non-null  float64\n",
      " 7   Num_of_Loan               100000 non-null  float64\n",
      " 8   Type_of_Loan              88592 non-null   object \n",
      " 9   Delay_from_due_date       100000 non-null  float64\n",
      " 10  Num_of_Delayed_Payment    100000 non-null  float64\n",
      " 11  Changed_Credit_Limit      100000 non-null  float64\n",
      " 12  Num_Credit_Inquiries      100000 non-null  float64\n",
      " 13  Credit_Mix                100000 non-null  object \n",
      " 14  Outstanding_Debt          100000 non-null  float64\n",
      " 15  Credit_Utilization_Ratio  100000 non-null  float64\n",
      " 16  Credit_History_Age        100000 non-null  float64\n",
      " 17  Payment_of_Min_Amount     100000 non-null  object \n",
      " 18  Total_EMI_per_month       100000 non-null  float64\n",
      " 19  Amount_invested_monthly   100000 non-null  float64\n",
      " 20  Payment_Behaviour         100000 non-null  object \n",
      " 21  Monthly_Balance           100000 non-null  float64\n",
      " 22  Credit_Score              100000 non-null  object \n",
      "dtypes: float64(17), object(6)\n",
      "memory usage: 18.3+ MB\n"
     ]
    }
   ],
   "source": [
    "df.info()"
   ]
  },
  {
   "cell_type": "markdown",
   "metadata": {
    "id": "voXO-qkO1AGT"
   },
   "source": [
    "Train | Test split"
   ]
  },
  {
   "cell_type": "code",
   "execution_count": 102,
   "metadata": {
    "colab": {
     "base_uri": "https://localhost:8080/"
    },
    "id": "bE28T103yxu7",
    "outputId": "af27c725-b7c5-4453-bc75-c6884c10a6dd"
   },
   "outputs": [
    {
     "data": {
      "text/plain": [
       "((80000, 22), (20000, 22), (80000,))"
      ]
     },
     "execution_count": 102,
     "metadata": {},
     "output_type": "execute_result"
    }
   ],
   "source": [
    "X = df.drop(columns=\"Credit_Score\")\n",
    "y = df['Credit_Score']\n",
    "\n",
    "X_train, X_test, y_train, y_test = train_test_split(X, y, test_size=0.2, random_state=random_state)\n",
    "\n",
    "X_train.shape, X_test.shape, y_train.shape, "
   ]
  },
  {
   "cell_type": "markdown",
   "metadata": {
    "id": "jVuagV5f1FyU"
   },
   "source": [
    "Dummy Operation"
   ]
  },
  {
   "cell_type": "code",
   "execution_count": 103,
   "metadata": {
    "colab": {
     "base_uri": "https://localhost:8080/"
    },
    "id": "hJ9EyoW20928",
    "outputId": "dddfe73c-4317-4eac-94e2-2a845fdfa1ff"
   },
   "outputs": [
    {
     "data": {
      "text/plain": [
       "((80000, 30), (20000, 30))"
      ]
     },
     "execution_count": 103,
     "metadata": {},
     "output_type": "execute_result"
    }
   ],
   "source": [
    "X_train = X_train.join(X_train[\"Type_of_Loan\"].str.get_dummies(sep = \",\").add_prefix(\"tol_\"))\n",
    "X_test = X_test.join(X_test[\"Type_of_Loan\"].str.get_dummies(sep = \",\").add_prefix(\"tol_\"))\n",
    "X_test = X_test.reindex(columns = X_train.columns, fill_value=0) # \"0\"\n",
    "\n",
    "X_train.drop(columns=[\"Type_of_Loan\"], inplace = True)\n",
    "X_test.drop(columns=[\"Type_of_Loan\"], inplace = True)\n",
    "\n",
    "X_train.shape, X_test.shape"
   ]
  },
  {
   "cell_type": "markdown",
   "metadata": {
    "id": "t6osSmBC1Pnf"
   },
   "source": [
    "OneHotEncoder and LabelEncoder"
   ]
  },
  {
   "cell_type": "code",
   "execution_count": 104,
   "metadata": {
    "colab": {
     "base_uri": "https://localhost:8080/"
    },
    "id": "44GMKddE1LJn",
    "outputId": "75156d60-d1df-483c-e21a-1a2fbd127ec7"
   },
   "outputs": [
    {
     "data": {
      "text/plain": [
       "((80000, 53), (20000, 53))"
      ]
     },
     "execution_count": 104,
     "metadata": {},
     "output_type": "execute_result"
    }
   ],
   "source": [
    "from sklearn.preprocessing import OneHotEncoder\n",
    "\n",
    "cat = X_train.select_dtypes(exclude=\"number\").columns.to_list()    \n",
    "enc = OneHotEncoder(handle_unknown=\"ignore\", sparse=False)\n",
    "\n",
    "X_train_cat = pd.DataFrame(\n",
    "    enc.fit_transform(X_train[cat]), index = X_train.index, \n",
    "    columns = enc.get_feature_names_out(cat)\n",
    ")    \n",
    "X_test_cat  = pd.DataFrame(\n",
    "    enc.transform(X_test[cat]), index = X_test.index, \n",
    "    columns = enc.get_feature_names_out(cat)\n",
    ")    \n",
    "X_train_enc = X_train_cat.join(X_train.select_dtypes(\"number\"))\n",
    "X_test_enc = X_test_cat.join(X_test.select_dtypes(\"number\"))\n",
    "\n",
    "X_train_enc.shape, X_test_enc.shape"
   ]
  },
  {
   "cell_type": "code",
   "execution_count": 105,
   "metadata": {
    "colab": {
     "base_uri": "https://localhost:8080/"
    },
    "id": "ZGUGEX0B1ZI5",
    "outputId": "fbb82f45-977f-4de4-cb54-a4c1cdcd4e13"
   },
   "outputs": [
    {
     "data": {
      "text/plain": [
       "Index(['Occupation_Accountant', 'Occupation_Architect', 'Occupation_Developer',\n",
       "       'Occupation_Doctor', 'Occupation_Engineer', 'Occupation_Entrepreneur',\n",
       "       'Occupation_Journalist', 'Occupation_Lawyer', 'Occupation_Manager',\n",
       "       'Occupation_Mechanic', 'Occupation_Media_Manager',\n",
       "       'Occupation_Musician', 'Occupation_Scientist', 'Occupation_Teacher',\n",
       "       'Occupation_Writer', 'Credit_Mix_Bad', 'Credit_Mix_Good',\n",
       "       'Credit_Mix_Standard', 'Payment_of_Min_Amount_NM',\n",
       "       'Payment_of_Min_Amount_No', 'Payment_of_Min_Amount_Yes',\n",
       "       'Payment_Behaviour_High_spent_Large_value_payments',\n",
       "       'Payment_Behaviour_High_spent_Medium_value_payments',\n",
       "       'Payment_Behaviour_High_spent_Small_value_payments',\n",
       "       'Payment_Behaviour_Low_spent_Large_value_payments',\n",
       "       'Payment_Behaviour_Low_spent_Medium_value_payments',\n",
       "       'Payment_Behaviour_Low_spent_Small_value_payments', 'Age',\n",
       "       'Annual_Income', 'Monthly_Inhand_Salary', 'Num_Bank_Accounts',\n",
       "       'Num_Credit_Card', 'Interest_Rate', 'Num_of_Loan',\n",
       "       'Delay_from_due_date', 'Num_of_Delayed_Payment', 'Changed_Credit_Limit',\n",
       "       'Num_Credit_Inquiries', 'Outstanding_Debt', 'Credit_Utilization_Ratio',\n",
       "       'Credit_History_Age', 'Total_EMI_per_month', 'Amount_invested_monthly',\n",
       "       'Monthly_Balance', 'tol_Auto Loan', 'tol_Credit-Builder Loan',\n",
       "       'tol_Debt Consolidation Loan', 'tol_Home Equity Loan',\n",
       "       'tol_Mortgage Loan', 'tol_Not Specified', 'tol_Payday Loan',\n",
       "       'tol_Personal Loan', 'tol_Student Loan'],\n",
       "      dtype='object')"
      ]
     },
     "execution_count": 105,
     "metadata": {},
     "output_type": "execute_result"
    }
   ],
   "source": [
    "X_train_enc.columns"
   ]
  },
  {
   "cell_type": "code",
   "execution_count": 106,
   "metadata": {
    "colab": {
     "base_uri": "https://localhost:8080/"
    },
    "id": "KzgM7Y7D1ccj",
    "outputId": "9da41fad-86a3-42e3-fb5e-4dbca7388f85"
   },
   "outputs": [
    {
     "data": {
      "text/plain": [
       "0    14301\n",
       "1    23124\n",
       "2    42575\n",
       "dtype: int64"
      ]
     },
     "execution_count": 106,
     "metadata": {},
     "output_type": "execute_result"
    }
   ],
   "source": [
    "from sklearn.preprocessing import LabelEncoder\n",
    "le = LabelEncoder()\n",
    "y_train = le.fit_transform(y_train)\n",
    "y_test  = le.transform(y_test)\n",
    "\n",
    "pd.DataFrame(y_train).value_counts().sort_index()"
   ]
  },
  {
   "cell_type": "markdown",
   "metadata": {
    "id": "1PsR7S871iTS"
   },
   "source": [
    "Scale data"
   ]
  },
  {
   "cell_type": "code",
   "execution_count": 107,
   "metadata": {
    "id": "kR0fTdFG1f74"
   },
   "outputs": [],
   "source": [
    "scaler = MinMaxScaler()\n",
    "\n",
    "X_train_scaled = pd.DataFrame(scaler.fit_transform(X_train_enc), columns=X_train_enc.columns)\n",
    "X_test_scaled  = pd.DataFrame(scaler.transform(X_test_enc), columns=X_test_enc.columns)"
   ]
  },
  {
   "cell_type": "markdown",
   "metadata": {
    "id": "a1_LYQIS1niB"
   },
   "source": [
    "Now Data is ready to apply algorithm (classification)"
   ]
  },
  {
   "cell_type": "markdown",
   "metadata": {
    "id": "RmG3EO1-1vFY"
   },
   "source": [
    "1) Implement Logistic Regression Model"
   ]
  },
  {
   "cell_type": "code",
   "execution_count": 108,
   "metadata": {
    "id": "fOsyEDr11ltq"
   },
   "outputs": [],
   "source": [
    "log_model = LogisticRegression(\n",
    "    class_weight = \"balanced\",\n",
    "    random_state=random_state\n",
    ")"
   ]
  },
  {
   "cell_type": "code",
   "execution_count": 109,
   "metadata": {
    "colab": {
     "base_uri": "https://localhost:8080/"
    },
    "id": "CQ8REhIJ14Yh",
    "outputId": "f0301486-79db-4f08-8ced-cd8a70efa5c0"
   },
   "outputs": [
    {
     "data": {
      "text/plain": [
       "LogisticRegression(class_weight='balanced', random_state=42)"
      ]
     },
     "execution_count": 109,
     "metadata": {},
     "output_type": "execute_result"
    }
   ],
   "source": [
    "log_model.fit(X_train_scaled, y_train)"
   ]
  },
  {
   "cell_type": "code",
   "execution_count": 110,
   "metadata": {
    "colab": {
     "base_uri": "https://localhost:8080/"
    },
    "id": "sb0FVVjm16Vi",
    "outputId": "26cc7eb2-ab60-440b-a53a-9be47f90a809"
   },
   "outputs": [
    {
     "name": "stdout",
     "output_type": "stream",
     "text": [
      "              precision    recall  f1-score   support\n",
      "\n",
      "           0       0.50      0.84      0.62     14301\n",
      "           1       0.64      0.68      0.66     23124\n",
      "           2       0.82      0.60      0.69     42575\n",
      "\n",
      "    accuracy                           0.67     80000\n",
      "   macro avg       0.65      0.71      0.66     80000\n",
      "weighted avg       0.71      0.67      0.67     80000\n",
      "\n",
      "              precision    recall  f1-score   support\n",
      "\n",
      "           0       0.50      0.83      0.62      3527\n",
      "           1       0.64      0.69      0.66      5874\n",
      "           2       0.81      0.60      0.69     10599\n",
      "\n",
      "    accuracy                           0.67     20000\n",
      "   macro avg       0.65      0.71      0.66     20000\n",
      "weighted avg       0.71      0.67      0.67     20000\n",
      "\n"
     ]
    }
   ],
   "source": [
    "y_pred_train = log_model.predict(X_train_scaled)\n",
    "y_pred_test  = log_model.predict(X_test_scaled)\n",
    "\n",
    "print(classification_report(y_train, y_pred_train))\n",
    "print(classification_report(y_test, y_pred_test))"
   ]
  },
  {
   "cell_type": "markdown",
   "metadata": {
    "id": "JASHEzyu2D9M"
   },
   "source": [
    "Best Parameters (GridSearchCV)"
   ]
  },
  {
   "cell_type": "code",
   "execution_count": 111,
   "metadata": {
    "id": "qpUxUdNd1-Kn"
   },
   "outputs": [],
   "source": [
    "from sklearn.model_selection import GridSearchCV\n",
    "from sklearn.metrics import make_scorer\n",
    "\n",
    "model = LogisticRegression(    \n",
    "    class_weight = \"balanced\",\n",
    "    max_iter=10000,\n",
    "    random_state=random_state\n",
    ")\n",
    "param_grid = {\n",
    "    \"penalty\" : ['l1'],\n",
    "    \"C\" : [0.1],\n",
    "    \"solver\" : ['saga'], # 'liblinear', \n",
    "}\n",
    "# Identify people with low credit scores\n",
    "recall_poor = make_scorer(recall_score, average = None, labels=[1])\n",
    "grid_model_log = GridSearchCV(\n",
    "    estimator=model,\n",
    "    param_grid = param_grid, \n",
    "    scoring=recall_poor, \n",
    "    error_score=\"raise\",\n",
    "    n_jobs=-1,\n",
    "    cv=5\n",
    ") \n"
   ]
  },
  {
   "cell_type": "code",
   "execution_count": 112,
   "metadata": {
    "colab": {
     "base_uri": "https://localhost:8080/"
    },
    "id": "d4kZyrxn2Pmz",
    "outputId": "99d51af4-8adf-4045-bee7-042e13134088"
   },
   "outputs": [
    {
     "name": "stdout",
     "output_type": "stream",
     "text": [
      "CPU times: user 4.33 s, sys: 110 ms, total: 4.44 s\n",
      "Wall time: 20.5 s\n"
     ]
    },
    {
     "data": {
      "text/plain": [
       "GridSearchCV(cv=5, error_score='raise',\n",
       "             estimator=LogisticRegression(class_weight='balanced',\n",
       "                                          max_iter=10000, random_state=42),\n",
       "             n_jobs=-1,\n",
       "             param_grid={'C': [0.1], 'penalty': ['l1'], 'solver': ['saga']},\n",
       "             scoring=make_scorer(recall_score, average=None, labels=[1]))"
      ]
     },
     "execution_count": 112,
     "metadata": {},
     "output_type": "execute_result"
    }
   ],
   "source": [
    "%%time\n",
    "grid_model_log.fit(X_train_scaled, y_train)"
   ]
  },
  {
   "cell_type": "code",
   "execution_count": 113,
   "metadata": {
    "colab": {
     "base_uri": "https://localhost:8080/"
    },
    "id": "NS5G6-Nv2UMh",
    "outputId": "c7f6de66-df8e-45aa-8f35-cbd17ee8a2d6"
   },
   "outputs": [
    {
     "data": {
      "text/plain": [
       "{'C': 0.1, 'penalty': 'l1', 'solver': 'saga'}"
      ]
     },
     "execution_count": 113,
     "metadata": {},
     "output_type": "execute_result"
    }
   ],
   "source": [
    "grid_model_log.best_params_"
   ]
  },
  {
   "cell_type": "code",
   "execution_count": 114,
   "metadata": {
    "colab": {
     "base_uri": "https://localhost:8080/"
    },
    "id": "ZU7R0bZq2fIr",
    "outputId": "ee885645-7bec-4a8e-a318-4e100554ab28"
   },
   "outputs": [
    {
     "data": {
      "text/plain": [
       "0.6803752735434396"
      ]
     },
     "execution_count": 114,
     "metadata": {},
     "output_type": "execute_result"
    }
   ],
   "source": [
    "grid_model_log.best_score_"
   ]
  },
  {
   "cell_type": "code",
   "execution_count": 115,
   "metadata": {
    "colab": {
     "base_uri": "https://localhost:8080/"
    },
    "id": "EhUen4AV2h2v",
    "outputId": "2fb11b82-5fc1-4749-f787-f03601a582d6"
   },
   "outputs": [
    {
     "name": "stdout",
     "output_type": "stream",
     "text": [
      "              precision    recall  f1-score   support\n",
      "\n",
      "           0       0.49      0.84      0.62     14301\n",
      "           1       0.64      0.68      0.66     23124\n",
      "           2       0.82      0.60      0.69     42575\n",
      "\n",
      "    accuracy                           0.67     80000\n",
      "   macro avg       0.65      0.71      0.66     80000\n",
      "weighted avg       0.71      0.67      0.67     80000\n",
      "\n",
      "              precision    recall  f1-score   support\n",
      "\n",
      "           0       0.50      0.83      0.62      3527\n",
      "           1       0.64      0.69      0.66      5874\n",
      "           2       0.81      0.60      0.69     10599\n",
      "\n",
      "    accuracy                           0.67     20000\n",
      "   macro avg       0.65      0.71      0.66     20000\n",
      "weighted avg       0.71      0.67      0.67     20000\n",
      "\n"
     ]
    }
   ],
   "source": [
    "y_pred_train = grid_model_log.predict(X_train_scaled)\n",
    "y_pred_test  = grid_model_log.predict(X_test_scaled)\n",
    "\n",
    "print(classification_report(y_train, y_pred_train))\n",
    "print(classification_report(y_test, y_pred_test))"
   ]
  },
  {
   "cell_type": "markdown",
   "metadata": {
    "id": "5iDYi0B_2oX7"
   },
   "source": [
    "2) Random Forest Classifier Model"
   ]
  },
  {
   "cell_type": "markdown",
   "metadata": {
    "id": "xOwDI-y92vap"
   },
   "source": [
    "*OrdinalEncoder*"
   ]
  },
  {
   "cell_type": "code",
   "execution_count": 116,
   "metadata": {
    "colab": {
     "base_uri": "https://localhost:8080/"
    },
    "id": "YWvdKc7S2l3R",
    "outputId": "9d639888-8190-4d2b-8a10-614fbfb02269"
   },
   "outputs": [
    {
     "data": {
      "text/plain": [
       "((80000, 30), (20000, 30))"
      ]
     },
     "execution_count": 116,
     "metadata": {},
     "output_type": "execute_result"
    }
   ],
   "source": [
    "from sklearn.preprocessing import OrdinalEncoder\n",
    "\n",
    "cat = X_train.select_dtypes(exclude=\"number\").columns.to_list()    \n",
    "enc = OrdinalEncoder(handle_unknown='use_encoded_value', unknown_value=-1)\n",
    "\n",
    "X_train[cat] = enc.fit_transform(X_train[cat])\n",
    "X_test[cat] = enc.transform(X_test[cat])\n",
    "\n",
    "X_train.shape, X_test.shape"
   ]
  },
  {
   "cell_type": "markdown",
   "metadata": {
    "id": "nU6oZ5Wc22LE"
   },
   "source": [
    "*RandomForestClassifier*"
   ]
  },
  {
   "cell_type": "code",
   "execution_count": 117,
   "metadata": {
    "id": "zlBJPlLc20TQ"
   },
   "outputs": [],
   "source": [
    "from sklearn.ensemble import RandomForestClassifier\n",
    "\n",
    "rfc_model = RandomForestClassifier(\n",
    "    class_weight = 'balanced',\n",
    "    random_state=random_state\n",
    ")"
   ]
  },
  {
   "cell_type": "code",
   "execution_count": 118,
   "metadata": {
    "colab": {
     "base_uri": "https://localhost:8080/"
    },
    "id": "96Y0Y5Md28IU",
    "outputId": "2075f753-ba76-49cc-c7de-ab18702ca2c7"
   },
   "outputs": [
    {
     "name": "stdout",
     "output_type": "stream",
     "text": [
      "CPU times: user 33.2 s, sys: 205 ms, total: 33.4 s\n",
      "Wall time: 35.1 s\n"
     ]
    },
    {
     "data": {
      "text/plain": [
       "RandomForestClassifier(class_weight='balanced', random_state=42)"
      ]
     },
     "execution_count": 118,
     "metadata": {},
     "output_type": "execute_result"
    }
   ],
   "source": [
    "%%time\n",
    "rfc_model.fit(X_train, y_train)"
   ]
  },
  {
   "cell_type": "code",
   "execution_count": 119,
   "metadata": {
    "colab": {
     "base_uri": "https://localhost:8080/"
    },
    "id": "OVEG5m_t29gd",
    "outputId": "c45fe51d-6322-4a26-de64-789d401561d0"
   },
   "outputs": [
    {
     "name": "stdout",
     "output_type": "stream",
     "text": [
      "              precision    recall  f1-score   support\n",
      "\n",
      "           0       1.00      1.00      1.00     14301\n",
      "           1       1.00      1.00      1.00     23124\n",
      "           2       1.00      1.00      1.00     42575\n",
      "\n",
      "    accuracy                           1.00     80000\n",
      "   macro avg       1.00      1.00      1.00     80000\n",
      "weighted avg       1.00      1.00      1.00     80000\n",
      "\n",
      "              precision    recall  f1-score   support\n",
      "\n",
      "           0       0.79      0.76      0.77      3527\n",
      "           1       0.80      0.84      0.82      5874\n",
      "           2       0.83      0.82      0.83     10599\n",
      "\n",
      "    accuracy                           0.82     20000\n",
      "   macro avg       0.81      0.81      0.81     20000\n",
      "weighted avg       0.82      0.82      0.82     20000\n",
      "\n"
     ]
    }
   ],
   "source": [
    "y_pred_train = rfc_model.predict(X_train)\n",
    "y_pred_test  = rfc_model.predict(X_test)\n",
    "\n",
    "print(classification_report(y_train, y_pred_train))\n",
    "print(classification_report(y_test, y_pred_test))"
   ]
  },
  {
   "cell_type": "markdown",
   "metadata": {
    "id": "NummmkF43BCh"
   },
   "source": [
    "GridsearchCV"
   ]
  },
  {
   "cell_type": "code",
   "execution_count": 120,
   "metadata": {
    "id": "e93kiHtA2_xn"
   },
   "outputs": [],
   "source": [
    "from sklearn.model_selection import GridSearchCV\n",
    "\n",
    "model = RandomForestClassifier(\n",
    "    class_weight = 'balanced',\n",
    "    random_state=random_state\n",
    ")\n",
    "param_grid = {\n",
    "    'max_depth': [3], \n",
    "    'n_estimators': [10],\n",
    "    'max_features': [None],\n",
    "}\n",
    "# Identify people with low credit scores\n",
    "recall_poor = make_scorer(recall_score, average = None, labels=[1])\n",
    "grid_model_rfc = GridSearchCV(\n",
    "    estimator=model,\n",
    "    param_grid = param_grid, \n",
    "    error_score=\"raise\",\n",
    "    scoring=recall_poor,\n",
    "    refit=True,\n",
    "#     verbose=2,\n",
    "    n_jobs=-1,\n",
    "    cv=5,\n",
    ")"
   ]
  },
  {
   "cell_type": "code",
   "execution_count": 121,
   "metadata": {
    "colab": {
     "base_uri": "https://localhost:8080/"
    },
    "id": "SQpvWMHc3IfG",
    "outputId": "9fd25841-c8b9-4ac0-a95c-61132878b76a"
   },
   "outputs": [
    {
     "name": "stdout",
     "output_type": "stream",
     "text": [
      "CPU times: user 2.98 s, sys: 39 ms, total: 3.02 s\n",
      "Wall time: 13.7 s\n"
     ]
    },
    {
     "data": {
      "text/plain": [
       "GridSearchCV(cv=5, error_score='raise',\n",
       "             estimator=RandomForestClassifier(class_weight='balanced',\n",
       "                                              random_state=42),\n",
       "             n_jobs=-1,\n",
       "             param_grid={'max_depth': [3], 'max_features': [None],\n",
       "                         'n_estimators': [10]},\n",
       "             scoring=make_scorer(recall_score, average=None, labels=[1]))"
      ]
     },
     "execution_count": 121,
     "metadata": {},
     "output_type": "execute_result"
    }
   ],
   "source": [
    "%%time\n",
    "grid_model_rfc.fit(X_train, y_train)"
   ]
  },
  {
   "cell_type": "code",
   "execution_count": 122,
   "metadata": {
    "colab": {
     "base_uri": "https://localhost:8080/"
    },
    "id": "nhU8PlT53OgD",
    "outputId": "9cf55143-bca5-4e9a-e3f3-aec74c6c4168"
   },
   "outputs": [
    {
     "data": {
      "text/plain": [
       "{'max_depth': 3, 'max_features': None, 'n_estimators': 10}"
      ]
     },
     "execution_count": 122,
     "metadata": {},
     "output_type": "execute_result"
    }
   ],
   "source": [
    "grid_model_rfc.best_params_"
   ]
  },
  {
   "cell_type": "code",
   "execution_count": 123,
   "metadata": {
    "colab": {
     "base_uri": "https://localhost:8080/"
    },
    "id": "OZ8xQvsA3Q4w",
    "outputId": "d8fe39c5-4314-49ad-c4d9-809376326c16"
   },
   "outputs": [
    {
     "data": {
      "text/plain": [
       "0.8050509959786776"
      ]
     },
     "execution_count": 123,
     "metadata": {},
     "output_type": "execute_result"
    }
   ],
   "source": [
    "grid_model_rfc.best_score_"
   ]
  },
  {
   "cell_type": "code",
   "execution_count": 124,
   "metadata": {
    "colab": {
     "base_uri": "https://localhost:8080/"
    },
    "id": "K3nBCMxu3ST4",
    "outputId": "10bdd069-af8d-444a-9ffa-34a236ed6d17"
   },
   "outputs": [
    {
     "name": "stdout",
     "output_type": "stream",
     "text": [
      "              precision    recall  f1-score   support\n",
      "\n",
      "           0       0.52      0.75      0.62     14301\n",
      "           1       0.61      0.80      0.69     23124\n",
      "           2       0.85      0.57      0.69     42575\n",
      "\n",
      "    accuracy                           0.67     80000\n",
      "   macro avg       0.66      0.71      0.67     80000\n",
      "weighted avg       0.72      0.67      0.68     80000\n",
      "\n",
      "              precision    recall  f1-score   support\n",
      "\n",
      "           0       0.52      0.75      0.61      3527\n",
      "           1       0.61      0.80      0.69      5874\n",
      "           2       0.85      0.57      0.68     10599\n",
      "\n",
      "    accuracy                           0.67     20000\n",
      "   macro avg       0.66      0.71      0.66     20000\n",
      "weighted avg       0.72      0.67      0.67     20000\n",
      "\n"
     ]
    }
   ],
   "source": [
    "y_pred_train = grid_model_rfc.predict(X_train)\n",
    "y_pred_test  = grid_model_rfc.predict(X_test)\n",
    "\n",
    "print(classification_report(y_train, y_pred_train))\n",
    "print(classification_report(y_test, y_pred_test))"
   ]
  },
  {
   "cell_type": "markdown",
   "metadata": {
    "id": "KAiBsrZ03XIP"
   },
   "source": [
    "XGBoost Classifier"
   ]
  },
  {
   "cell_type": "code",
   "execution_count": 125,
   "metadata": {
    "id": "vMPPZn893T3K"
   },
   "outputs": [],
   "source": [
    "from xgboost import XGBClassifier\n",
    "\n",
    "xgb_model = XGBClassifier(\n",
    "    random_state=random_state,\n",
    ")\n"
   ]
  },
  {
   "cell_type": "code",
   "execution_count": 126,
   "metadata": {
    "colab": {
     "base_uri": "https://localhost:8080/"
    },
    "id": "njGnw_-l3egX",
    "outputId": "fe4524de-9e62-4464-aeba-63ff5edb8240"
   },
   "outputs": [
    {
     "data": {
      "text/plain": [
       "array([0.62634566, 1.86467147, 1.86467147, ..., 0.62634566, 0.62634566,\n",
       "       1.15320302])"
      ]
     },
     "execution_count": 126,
     "metadata": {},
     "output_type": "execute_result"
    }
   ],
   "source": [
    "from sklearn.utils import class_weight\n",
    "classes_weights = class_weight.compute_sample_weight(class_weight='balanced', y=y_train)\n",
    "classes_weights"
   ]
  },
  {
   "cell_type": "code",
   "execution_count": 127,
   "metadata": {
    "colab": {
     "base_uri": "https://localhost:8080/"
    },
    "id": "rN4rbdPu3f3d",
    "outputId": "38f587f1-18eb-4f8b-f4a2-6d04a169974f"
   },
   "outputs": [
    {
     "data": {
      "text/plain": [
       "label  0    \n",
       "0      1.865    14301\n",
       "1      1.153    23124\n",
       "2      0.626    42575\n",
       "Name: 0, dtype: int64"
      ]
     },
     "execution_count": 127,
     "metadata": {},
     "output_type": "execute_result"
    }
   ],
   "source": [
    "\n",
    "comp = pd.DataFrame(classes_weights)\n",
    "\n",
    "comp[\"label\"] = pd.DataFrame(y_train).reset_index(drop=True)\n",
    "comp.groupby(\"label\")[0].value_counts()"
   ]
  },
  {
   "cell_type": "code",
   "execution_count": 128,
   "metadata": {
    "colab": {
     "base_uri": "https://localhost:8080/"
    },
    "id": "EGBg7zc13hGP",
    "outputId": "2645867d-d74f-4674-8cb1-1d0f1912b7c1"
   },
   "outputs": [
    {
     "name": "stdout",
     "output_type": "stream",
     "text": [
      "CPU times: user 31.3 s, sys: 91.3 ms, total: 31.4 s\n",
      "Wall time: 36.5 s\n"
     ]
    },
    {
     "data": {
      "text/plain": [
       "XGBClassifier(objective='multi:softprob', random_state=42)"
      ]
     },
     "execution_count": 128,
     "metadata": {},
     "output_type": "execute_result"
    }
   ],
   "source": [
    "%%time\n",
    "xgb_model.fit(\n",
    "    X_train, y_train, \n",
    "    sample_weight=classes_weights\n",
    ")\n",
    "# weight parameter in XGBoost is per instance not per class."
   ]
  },
  {
   "cell_type": "code",
   "execution_count": 129,
   "metadata": {
    "colab": {
     "base_uri": "https://localhost:8080/"
    },
    "id": "AirX9ZLZ3oaC",
    "outputId": "29594ec7-d9a1-4512-93a5-f08df3840e1a"
   },
   "outputs": [
    {
     "name": "stdout",
     "output_type": "stream",
     "text": [
      "              precision    recall  f1-score   support\n",
      "\n",
      "           0       0.51      0.85      0.64     14301\n",
      "           1       0.65      0.78      0.71     23124\n",
      "           2       0.86      0.58      0.69     42575\n",
      "\n",
      "    accuracy                           0.68     80000\n",
      "   macro avg       0.67      0.73      0.68     80000\n",
      "weighted avg       0.74      0.68      0.69     80000\n",
      "\n",
      "              precision    recall  f1-score   support\n",
      "\n",
      "           0       0.51      0.84      0.64      3527\n",
      "           1       0.64      0.77      0.70      5874\n",
      "           2       0.85      0.57      0.69     10599\n",
      "\n",
      "    accuracy                           0.68     20000\n",
      "   macro avg       0.67      0.73      0.68     20000\n",
      "weighted avg       0.73      0.68      0.68     20000\n",
      "\n"
     ]
    }
   ],
   "source": [
    "y_pred_train = xgb_model.predict(X_train)\n",
    "y_pred_test  = xgb_model.predict(X_test)\n",
    "\n",
    "print(classification_report(y_train, y_pred_train))\n",
    "print(classification_report(y_test, y_pred_test))"
   ]
  },
  {
   "cell_type": "markdown",
   "metadata": {
    "id": "2_Nv1Yvx3sss"
   },
   "source": [
    "With Best Parameters (GridsearchCV)"
   ]
  },
  {
   "cell_type": "code",
   "execution_count": 130,
   "metadata": {
    "id": "m2wKUxaQ3rln"
   },
   "outputs": [],
   "source": [
    "from sklearn.model_selection import GridSearchCV\n",
    "\n",
    "model = XGBClassifier(\n",
    "    random_state=random_state\n",
    ")\n",
    "param_grid = {\n",
    "    'n_estimators':[50, 100],\n",
    "}\n",
    "# Identify people with low credit scores\n",
    "recall_poor = make_scorer(recall_score, average = None, labels=[1])\n",
    "grid_model_xgb = GridSearchCV(\n",
    "    estimator=model,\n",
    "    param_grid = param_grid, \n",
    "    error_score=\"raise\",\n",
    "    scoring=recall_poor,\n",
    "    refit=True,\n",
    "    n_jobs=-1\n",
    ")"
   ]
  },
  {
   "cell_type": "code",
   "execution_count": 131,
   "metadata": {
    "colab": {
     "base_uri": "https://localhost:8080/"
    },
    "id": "mvVgTncQ3zox",
    "outputId": "24644776-d483-4820-c8ab-bd4f9f9de7b5"
   },
   "outputs": [
    {
     "name": "stdout",
     "output_type": "stream",
     "text": [
      "CPU times: user 25.9 s, sys: 188 ms, total: 26.1 s\n",
      "Wall time: 2min 46s\n"
     ]
    },
    {
     "data": {
      "text/plain": [
       "GridSearchCV(error_score='raise', estimator=XGBClassifier(random_state=42),\n",
       "             n_jobs=-1, param_grid={'n_estimators': [50, 100]},\n",
       "             scoring=make_scorer(recall_score, average=None, labels=[1]))"
      ]
     },
     "execution_count": 131,
     "metadata": {},
     "output_type": "execute_result"
    }
   ],
   "source": [
    "%%time\n",
    "grid_model_xgb.fit(\n",
    "    X_train, y_train, \n",
    "    sample_weight=classes_weights\n",
    ")"
   ]
  },
  {
   "cell_type": "code",
   "execution_count": 132,
   "metadata": {
    "colab": {
     "base_uri": "https://localhost:8080/"
    },
    "id": "QnhqrsEt33vp",
    "outputId": "794aa2a6-a16d-4973-e245-62499aff8705"
   },
   "outputs": [
    {
     "data": {
      "text/plain": [
       "{'n_estimators': 100}"
      ]
     },
     "execution_count": 132,
     "metadata": {},
     "output_type": "execute_result"
    }
   ],
   "source": [
    "grid_model_xgb.best_params_"
   ]
  },
  {
   "cell_type": "code",
   "execution_count": 133,
   "metadata": {
    "colab": {
     "base_uri": "https://localhost:8080/"
    },
    "id": "Fvoqto5p37OI",
    "outputId": "91c03fb6-3a8e-4e29-d429-dfc66d81cfd1"
   },
   "outputs": [
    {
     "data": {
      "text/plain": [
       "0.7736982231366314"
      ]
     },
     "execution_count": 133,
     "metadata": {},
     "output_type": "execute_result"
    }
   ],
   "source": [
    "grid_model_xgb.best_score_\n"
   ]
  },
  {
   "cell_type": "code",
   "execution_count": 134,
   "metadata": {
    "colab": {
     "base_uri": "https://localhost:8080/"
    },
    "id": "Z6YrSaFO39WW",
    "outputId": "4bb57ee0-7ee5-4d30-e69b-c196f78e4240"
   },
   "outputs": [
    {
     "name": "stdout",
     "output_type": "stream",
     "text": [
      "              precision    recall  f1-score   support\n",
      "\n",
      "           0       0.51      0.85      0.64     14301\n",
      "           1       0.65      0.78      0.71     23124\n",
      "           2       0.86      0.58      0.69     42575\n",
      "\n",
      "    accuracy                           0.68     80000\n",
      "   macro avg       0.67      0.73      0.68     80000\n",
      "weighted avg       0.74      0.68      0.69     80000\n",
      "\n",
      "              precision    recall  f1-score   support\n",
      "\n",
      "           0       0.51      0.84      0.64      3527\n",
      "           1       0.64      0.77      0.70      5874\n",
      "           2       0.85      0.57      0.69     10599\n",
      "\n",
      "    accuracy                           0.68     20000\n",
      "   macro avg       0.67      0.73      0.68     20000\n",
      "weighted avg       0.73      0.68      0.68     20000\n",
      "\n"
     ]
    }
   ],
   "source": [
    "y_pred_train = grid_model_xgb.predict(X_train)\n",
    "y_pred_test  = grid_model_xgb.predict(X_test)\n",
    "\n",
    "print(classification_report(y_train, y_pred_train))\n",
    "print(classification_report(y_test, y_pred_test))"
   ]
  },
  {
   "cell_type": "markdown",
   "metadata": {
    "id": "-HvWfhT740pQ"
   },
   "source": [
    "**Future Importance XGBoost**\n",
    "* Permutation Based Feature importance(with Scikit-learn)"
   ]
  },
  {
   "cell_type": "code",
   "execution_count": 135,
   "metadata": {
    "colab": {
     "base_uri": "https://localhost:8080/"
    },
    "id": "cF82XyIX3_NF",
    "outputId": "1fd74fda-406b-4452-d12c-c14606805e6a"
   },
   "outputs": [
    {
     "data": {
      "text/plain": [
       "array([0.003919  , 0.00322602, 0.00684318, 0.00843683, 0.03316756,\n",
       "       0.0387332 , 0.256837  , 0.01020552, 0.03400452, 0.01831861,\n",
       "       0.02862972, 0.02900105, 0.23457249, 0.19550367, 0.00102424,\n",
       "       0.01087553, 0.01708607, 0.01842079, 0.00925704, 0.01271737,\n",
       "       0.00597547, 0.        , 0.00443327, 0.        , 0.00337085,\n",
       "       0.00370014, 0.00159707, 0.00280818, 0.00733562, 0.        ],\n",
       "      dtype=float32)"
      ]
     },
     "execution_count": 135,
     "metadata": {},
     "output_type": "execute_result"
    }
   ],
   "source": [
    "# xgb_model has best scorer default parameters\n",
    "xgb_model.feature_importances_"
   ]
  },
  {
   "cell_type": "code",
   "execution_count": 136,
   "metadata": {
    "colab": {
     "base_uri": "https://localhost:8080/"
    },
    "id": "gERMd0h95FPW",
    "outputId": "503b57e1-0739-4640-9e4b-ca17871fa52f"
   },
   "outputs": [
    {
     "data": {
      "text/plain": [
       "<BarContainer object of 30 artists>"
      ]
     },
     "execution_count": 136,
     "metadata": {},
     "output_type": "execute_result"
    }
   ],
   "source": [
    "plt.figure(figsize=(14,8))\n",
    "plt.barh(X_test.columns, xgb_model.feature_importances_)"
   ]
  },
  {
   "cell_type": "code",
   "execution_count": 137,
   "metadata": {
    "colab": {
     "base_uri": "https://localhost:8080/"
    },
    "id": "EdDdf7rw5Hqy",
    "outputId": "efc726de-eab5-4c4d-f306-44405f8d02c1"
   },
   "outputs": [
    {
     "data": {
      "text/plain": [
       "{'importances_mean': array([ 6.0000e-05,  2.3000e-04,  7.6000e-04,  1.1900e-03,  4.7300e-03,\n",
       "         1.2400e-03,  9.0820e-02,  4.0000e-04,  2.4110e-02,  4.1200e-03,\n",
       "         1.3700e-03,  1.3300e-03,  1.6342e-01,  4.5150e-02, -2.0000e-05,\n",
       "        -5.1000e-04, -3.0000e-05,  8.6200e-03, -1.5000e-04, -5.2000e-04,\n",
       "         1.8000e-04,  0.0000e+00,  0.0000e+00,  0.0000e+00,  1.9000e-04,\n",
       "         0.0000e+00,  4.0000e-05,  0.0000e+00,  2.7000e-04,  0.0000e+00]),\n",
       " 'importances_std': array([1.24096736e-04, 7.48331477e-05, 2.13072758e-04, 1.82756669e-04,\n",
       "        3.54400903e-04, 4.32897216e-04, 9.72419662e-04, 2.23606798e-04,\n",
       "        5.32353266e-04, 4.86415460e-04, 1.63095064e-04, 4.34281015e-04,\n",
       "        1.94128823e-03, 6.98569968e-04, 4.00000000e-05, 3.65239647e-04,\n",
       "        7.48331477e-05, 7.99124521e-04, 2.23606798e-04, 3.41467422e-04,\n",
       "        9.79795897e-05, 0.00000000e+00, 0.00000000e+00, 0.00000000e+00,\n",
       "        6.63324958e-05, 0.00000000e+00, 5.83095189e-05, 0.00000000e+00,\n",
       "        5.09901951e-05, 0.00000000e+00]),\n",
       " 'importances': array([[ 5.0000e-05, -5.0000e-05,  0.0000e+00,  3.0000e-04,  0.0000e+00],\n",
       "        [ 3.0000e-04,  2.0000e-04,  1.0000e-04,  3.0000e-04,  2.5000e-04],\n",
       "        [ 8.0000e-04,  1.0500e-03,  9.0000e-04,  4.5000e-04,  6.0000e-04],\n",
       "        [ 1.2500e-03,  1.5000e-03,  1.1500e-03,  9.5000e-04,  1.1000e-03],\n",
       "        [ 4.3500e-03,  5.0000e-03,  4.8000e-03,  5.2000e-03,  4.3000e-03],\n",
       "        [ 1.4000e-03,  1.9500e-03,  9.0000e-04,  1.2500e-03,  7.0000e-04],\n",
       "        [ 9.2200e-02,  9.1800e-02,  9.0100e-02,  9.0000e-02,  9.0000e-02],\n",
       "        [ 4.5000e-04,  2.5000e-04,  1.5000e-04,  3.5000e-04,  8.0000e-04],\n",
       "        [ 2.3450e-02,  2.3700e-02,  2.5000e-02,  2.4150e-02,  2.4250e-02],\n",
       "        [ 3.5500e-03,  4.5000e-03,  4.5500e-03,  4.5000e-03,  3.5000e-03],\n",
       "        [ 1.6000e-03,  1.1000e-03,  1.3500e-03,  1.3500e-03,  1.4500e-03],\n",
       "        [ 1.8000e-03,  1.2500e-03,  6.0000e-04,  1.2500e-03,  1.7500e-03],\n",
       "        [ 1.6400e-01,  1.6555e-01,  1.5980e-01,  1.6340e-01,  1.6435e-01],\n",
       "        [ 4.6300e-02,  4.4450e-02,  4.4600e-02,  4.5600e-02,  4.4800e-02],\n",
       "        [-5.0000e-05,  0.0000e+00,  5.0000e-05, -5.0000e-05, -5.0000e-05],\n",
       "        [-2.0000e-04, -2.5000e-04, -1.2000e-03, -5.5000e-04, -3.5000e-04],\n",
       "        [ 1.0000e-04, -1.0000e-04,  0.0000e+00, -5.0000e-05, -1.0000e-04],\n",
       "        [ 7.6500e-03,  8.4000e-03,  1.0000e-02,  8.9000e-03,  8.1500e-03],\n",
       "        [ 5.0000e-05,  1.0000e-04, -5.0000e-04, -3.0000e-04, -1.0000e-04],\n",
       "        [-3.0000e-04, -8.0000e-04, -1.0500e-03, -2.5000e-04, -2.0000e-04],\n",
       "        [ 1.5000e-04,  5.0000e-05,  2.0000e-04,  3.5000e-04,  1.5000e-04],\n",
       "        [ 0.0000e+00,  0.0000e+00,  0.0000e+00,  0.0000e+00,  0.0000e+00],\n",
       "        [ 0.0000e+00,  0.0000e+00,  0.0000e+00,  0.0000e+00,  0.0000e+00],\n",
       "        [ 0.0000e+00,  0.0000e+00,  0.0000e+00,  0.0000e+00,  0.0000e+00],\n",
       "        [ 1.5000e-04,  3.0000e-04,  2.0000e-04,  2.0000e-04,  1.0000e-04],\n",
       "        [ 0.0000e+00,  0.0000e+00,  0.0000e+00,  0.0000e+00,  0.0000e+00],\n",
       "        [ 1.0000e-04,  5.0000e-05, -5.0000e-05,  1.0000e-04,  0.0000e+00],\n",
       "        [ 0.0000e+00,  0.0000e+00,  0.0000e+00,  0.0000e+00,  0.0000e+00],\n",
       "        [ 2.0000e-04,  3.5000e-04,  2.5000e-04,  2.5000e-04,  3.0000e-04],\n",
       "        [ 0.0000e+00,  0.0000e+00,  0.0000e+00,  0.0000e+00,  0.0000e+00]])}"
      ]
     },
     "execution_count": 137,
     "metadata": {},
     "output_type": "execute_result"
    }
   ],
   "source": [
    "from sklearn.inspection import permutation_importance\n",
    "\n",
    "perm_importance = permutation_importance(xgb_model, X_test, y_test)\n",
    "perm_importance"
   ]
  },
  {
   "cell_type": "code",
   "execution_count": 138,
   "metadata": {
    "colab": {
     "base_uri": "https://localhost:8080/"
    },
    "id": "n5Jsam4n5KmN",
    "outputId": "351dbaa5-92cb-499b-8fd5-66ef2b7ae468"
   },
   "outputs": [
    {
     "data": {
      "text/plain": [
       "Text(0.5, 0, 'Permutation Importance')"
      ]
     },
     "execution_count": 138,
     "metadata": {},
     "output_type": "execute_result"
    }
   ],
   "source": [
    "sorted_idx = perm_importance.importances_mean.argsort()\n",
    "plt.figure(figsize=(14,8))\n",
    "plt.barh(X_test.columns[sorted_idx], perm_importance.importances_mean[sorted_idx])\n",
    "plt.xlabel(\"Permutation Importance\")"
   ]
  },
  {
   "cell_type": "code",
   "execution_count": 139,
   "metadata": {
    "colab": {
     "base_uri": "https://localhost:8080/"
    },
    "id": "np8uJ9iy5VJP",
    "outputId": "2d88acb9-457e-43b7-80d0-f69bea3cd81c"
   },
   "outputs": [
    {
     "data": {
      "text/plain": [
       "Index(['Age', 'Occupation', 'Annual_Income', 'Monthly_Inhand_Salary',\n",
       "       'Num_Bank_Accounts', 'Num_Credit_Card', 'Interest_Rate', 'Num_of_Loan',\n",
       "       'Delay_from_due_date', 'Num_of_Delayed_Payment', 'Changed_Credit_Limit',\n",
       "       'Num_Credit_Inquiries', 'Credit_Mix', 'Outstanding_Debt',\n",
       "       'Credit_Utilization_Ratio', 'Credit_History_Age',\n",
       "       'Payment_of_Min_Amount', 'Total_EMI_per_month',\n",
       "       'Amount_invested_monthly', 'Payment_Behaviour', 'Monthly_Balance',\n",
       "       'tol_Auto Loan', 'tol_Credit-Builder Loan',\n",
       "       'tol_Debt Consolidation Loan', 'tol_Home Equity Loan',\n",
       "       'tol_Mortgage Loan', 'tol_Not Specified', 'tol_Payday Loan',\n",
       "       'tol_Personal Loan', 'tol_Student Loan'],\n",
       "      dtype='object')"
      ]
     },
     "execution_count": 139,
     "metadata": {},
     "output_type": "execute_result"
    }
   ],
   "source": [
    "X_test.columns"
   ]
  },
  {
   "cell_type": "markdown",
   "metadata": {
    "id": "DRv2u2475Zzc"
   },
   "source": [
    "Final Model"
   ]
  },
  {
   "cell_type": "code",
   "execution_count": 141,
   "metadata": {
    "colab": {
     "base_uri": "https://localhost:8080/",
     "height": 488
    },
    "id": "NQqZM9Lh5XZp",
    "outputId": "623d3db7-715e-4365-ef97-97112930a049"
   },
   "outputs": [
    {
     "data": {
      "text/html": [
       "\n",
       "  <div id=\"df-e8a825ab-e48b-44e9-8bd4-ac2960f6a5dd\">\n",
       "    <div class=\"colab-df-container\">\n",
       "      <div>\n",
       "<style scoped>\n",
       "    .dataframe tbody tr th:only-of-type {\n",
       "        vertical-align: middle;\n",
       "    }\n",
       "\n",
       "    .dataframe tbody tr th {\n",
       "        vertical-align: top;\n",
       "    }\n",
       "\n",
       "    .dataframe thead th {\n",
       "        text-align: right;\n",
       "    }\n",
       "</style>\n",
       "<table border=\"1\" class=\"dataframe\">\n",
       "  <thead>\n",
       "    <tr style=\"text-align: right;\">\n",
       "      <th></th>\n",
       "      <th>Credit_Mix</th>\n",
       "      <th>Interest_Rate</th>\n",
       "      <th>Outstanding_Debt</th>\n",
       "      <th>Delay_from_due_date</th>\n",
       "      <th>Total_EMI_per_month</th>\n",
       "      <th>Changed_Credit_Limit</th>\n",
       "      <th>Monthly_Inhand_Salary</th>\n",
       "      <th>Annual_Income</th>\n",
       "      <th>Credit_Score</th>\n",
       "    </tr>\n",
       "  </thead>\n",
       "  <tbody>\n",
       "    <tr>\n",
       "      <th>0</th>\n",
       "      <td>Good</td>\n",
       "      <td>3.000</td>\n",
       "      <td>809.980</td>\n",
       "      <td>3.000</td>\n",
       "      <td>49.575</td>\n",
       "      <td>11.270</td>\n",
       "      <td>1824.843</td>\n",
       "      <td>19114.120</td>\n",
       "      <td>Good</td>\n",
       "    </tr>\n",
       "    <tr>\n",
       "      <th>1</th>\n",
       "      <td>Good</td>\n",
       "      <td>3.000</td>\n",
       "      <td>809.980</td>\n",
       "      <td>-1.000</td>\n",
       "      <td>49.575</td>\n",
       "      <td>11.270</td>\n",
       "      <td>1824.843</td>\n",
       "      <td>19114.120</td>\n",
       "      <td>Good</td>\n",
       "    </tr>\n",
       "    <tr>\n",
       "      <th>2</th>\n",
       "      <td>Good</td>\n",
       "      <td>3.000</td>\n",
       "      <td>809.980</td>\n",
       "      <td>3.000</td>\n",
       "      <td>49.575</td>\n",
       "      <td>11.270</td>\n",
       "      <td>1824.843</td>\n",
       "      <td>19114.120</td>\n",
       "      <td>Good</td>\n",
       "    </tr>\n",
       "    <tr>\n",
       "      <th>3</th>\n",
       "      <td>Good</td>\n",
       "      <td>3.000</td>\n",
       "      <td>809.980</td>\n",
       "      <td>5.000</td>\n",
       "      <td>49.575</td>\n",
       "      <td>6.270</td>\n",
       "      <td>1824.843</td>\n",
       "      <td>19114.120</td>\n",
       "      <td>Good</td>\n",
       "    </tr>\n",
       "    <tr>\n",
       "      <th>4</th>\n",
       "      <td>Good</td>\n",
       "      <td>3.000</td>\n",
       "      <td>809.980</td>\n",
       "      <td>6.000</td>\n",
       "      <td>49.575</td>\n",
       "      <td>11.270</td>\n",
       "      <td>1824.843</td>\n",
       "      <td>19114.120</td>\n",
       "      <td>Good</td>\n",
       "    </tr>\n",
       "    <tr>\n",
       "      <th>...</th>\n",
       "      <td>...</td>\n",
       "      <td>...</td>\n",
       "      <td>...</td>\n",
       "      <td>...</td>\n",
       "      <td>...</td>\n",
       "      <td>...</td>\n",
       "      <td>...</td>\n",
       "      <td>...</td>\n",
       "      <td>...</td>\n",
       "    </tr>\n",
       "    <tr>\n",
       "      <th>99995</th>\n",
       "      <td>Good</td>\n",
       "      <td>7.000</td>\n",
       "      <td>502.380</td>\n",
       "      <td>23.000</td>\n",
       "      <td>35.104</td>\n",
       "      <td>11.500</td>\n",
       "      <td>3359.416</td>\n",
       "      <td>39628.990</td>\n",
       "      <td>Poor</td>\n",
       "    </tr>\n",
       "    <tr>\n",
       "      <th>99996</th>\n",
       "      <td>Good</td>\n",
       "      <td>7.000</td>\n",
       "      <td>502.380</td>\n",
       "      <td>18.000</td>\n",
       "      <td>35.104</td>\n",
       "      <td>11.500</td>\n",
       "      <td>3359.416</td>\n",
       "      <td>39628.990</td>\n",
       "      <td>Poor</td>\n",
       "    </tr>\n",
       "    <tr>\n",
       "      <th>99997</th>\n",
       "      <td>Good</td>\n",
       "      <td>7.000</td>\n",
       "      <td>502.380</td>\n",
       "      <td>27.000</td>\n",
       "      <td>35.104</td>\n",
       "      <td>11.500</td>\n",
       "      <td>3359.416</td>\n",
       "      <td>39628.990</td>\n",
       "      <td>Poor</td>\n",
       "    </tr>\n",
       "    <tr>\n",
       "      <th>99998</th>\n",
       "      <td>Good</td>\n",
       "      <td>7.000</td>\n",
       "      <td>502.380</td>\n",
       "      <td>20.000</td>\n",
       "      <td>35.104</td>\n",
       "      <td>11.500</td>\n",
       "      <td>3359.416</td>\n",
       "      <td>39628.990</td>\n",
       "      <td>Standard</td>\n",
       "    </tr>\n",
       "    <tr>\n",
       "      <th>99999</th>\n",
       "      <td>Good</td>\n",
       "      <td>7.000</td>\n",
       "      <td>502.380</td>\n",
       "      <td>18.000</td>\n",
       "      <td>35.104</td>\n",
       "      <td>11.500</td>\n",
       "      <td>3359.416</td>\n",
       "      <td>39628.990</td>\n",
       "      <td>Poor</td>\n",
       "    </tr>\n",
       "  </tbody>\n",
       "</table>\n",
       "<p>100000 rows × 9 columns</p>\n",
       "</div>\n",
       "      <button class=\"colab-df-convert\" onclick=\"convertToInteractive('df-e8a825ab-e48b-44e9-8bd4-ac2960f6a5dd')\"\n",
       "              title=\"Convert this dataframe to an interactive table.\"\n",
       "              style=\"display:none;\">\n",
       "        \n",
       "  <svg xmlns=\"http://www.w3.org/2000/svg\" height=\"24px\"viewBox=\"0 0 24 24\"\n",
       "       width=\"24px\">\n",
       "    <path d=\"M0 0h24v24H0V0z\" fill=\"none\"/>\n",
       "    <path d=\"M18.56 5.44l.94 2.06.94-2.06 2.06-.94-2.06-.94-.94-2.06-.94 2.06-2.06.94zm-11 1L8.5 8.5l.94-2.06 2.06-.94-2.06-.94L8.5 2.5l-.94 2.06-2.06.94zm10 10l.94 2.06.94-2.06 2.06-.94-2.06-.94-.94-2.06-.94 2.06-2.06.94z\"/><path d=\"M17.41 7.96l-1.37-1.37c-.4-.4-.92-.59-1.43-.59-.52 0-1.04.2-1.43.59L10.3 9.45l-7.72 7.72c-.78.78-.78 2.05 0 2.83L4 21.41c.39.39.9.59 1.41.59.51 0 1.02-.2 1.41-.59l7.78-7.78 2.81-2.81c.8-.78.8-2.07 0-2.86zM5.41 20L4 18.59l7.72-7.72 1.47 1.35L5.41 20z\"/>\n",
       "  </svg>\n",
       "      </button>\n",
       "      \n",
       "  <style>\n",
       "    .colab-df-container {\n",
       "      display:flex;\n",
       "      flex-wrap:wrap;\n",
       "      gap: 12px;\n",
       "    }\n",
       "\n",
       "    .colab-df-convert {\n",
       "      background-color: #E8F0FE;\n",
       "      border: none;\n",
       "      border-radius: 50%;\n",
       "      cursor: pointer;\n",
       "      display: none;\n",
       "      fill: #1967D2;\n",
       "      height: 32px;\n",
       "      padding: 0 0 0 0;\n",
       "      width: 32px;\n",
       "    }\n",
       "\n",
       "    .colab-df-convert:hover {\n",
       "      background-color: #E2EBFA;\n",
       "      box-shadow: 0px 1px 2px rgba(60, 64, 67, 0.3), 0px 1px 3px 1px rgba(60, 64, 67, 0.15);\n",
       "      fill: #174EA6;\n",
       "    }\n",
       "\n",
       "    [theme=dark] .colab-df-convert {\n",
       "      background-color: #3B4455;\n",
       "      fill: #D2E3FC;\n",
       "    }\n",
       "\n",
       "    [theme=dark] .colab-df-convert:hover {\n",
       "      background-color: #434B5C;\n",
       "      box-shadow: 0px 1px 3px 1px rgba(0, 0, 0, 0.15);\n",
       "      filter: drop-shadow(0px 1px 2px rgba(0, 0, 0, 0.3));\n",
       "      fill: #FFFFFF;\n",
       "    }\n",
       "  </style>\n",
       "\n",
       "      <script>\n",
       "        const buttonEl =\n",
       "          document.querySelector('#df-e8a825ab-e48b-44e9-8bd4-ac2960f6a5dd button.colab-df-convert');\n",
       "        buttonEl.style.display =\n",
       "          google.colab.kernel.accessAllowed ? 'block' : 'none';\n",
       "\n",
       "        async function convertToInteractive(key) {\n",
       "          const element = document.querySelector('#df-e8a825ab-e48b-44e9-8bd4-ac2960f6a5dd');\n",
       "          const dataTable =\n",
       "            await google.colab.kernel.invokeFunction('convertToInteractive',\n",
       "                                                     [key], {});\n",
       "          if (!dataTable) return;\n",
       "\n",
       "          const docLinkHtml = 'Like what you see? Visit the ' +\n",
       "            '<a target=\"_blank\" href=https://colab.research.google.com/notebooks/data_table.ipynb>data table notebook</a>'\n",
       "            + ' to learn more about interactive tables.';\n",
       "          element.innerHTML = '';\n",
       "          dataTable['output_type'] = 'display_data';\n",
       "          await google.colab.output.renderOutput(dataTable, element);\n",
       "          const docLink = document.createElement('div');\n",
       "          docLink.innerHTML = docLinkHtml;\n",
       "          element.appendChild(docLink);\n",
       "        }\n",
       "      </script>\n",
       "    </div>\n",
       "  </div>\n",
       "  "
      ],
      "text/plain": [
       "      Credit_Mix  Interest_Rate  Outstanding_Debt  Delay_from_due_date  \\\n",
       "0           Good          3.000           809.980                3.000   \n",
       "1           Good          3.000           809.980               -1.000   \n",
       "2           Good          3.000           809.980                3.000   \n",
       "3           Good          3.000           809.980                5.000   \n",
       "4           Good          3.000           809.980                6.000   \n",
       "...          ...            ...               ...                  ...   \n",
       "99995       Good          7.000           502.380               23.000   \n",
       "99996       Good          7.000           502.380               18.000   \n",
       "99997       Good          7.000           502.380               27.000   \n",
       "99998       Good          7.000           502.380               20.000   \n",
       "99999       Good          7.000           502.380               18.000   \n",
       "\n",
       "       Total_EMI_per_month  Changed_Credit_Limit  Monthly_Inhand_Salary  \\\n",
       "0                   49.575                11.270               1824.843   \n",
       "1                   49.575                11.270               1824.843   \n",
       "2                   49.575                11.270               1824.843   \n",
       "3                   49.575                 6.270               1824.843   \n",
       "4                   49.575                11.270               1824.843   \n",
       "...                    ...                   ...                    ...   \n",
       "99995               35.104                11.500               3359.416   \n",
       "99996               35.104                11.500               3359.416   \n",
       "99997               35.104                11.500               3359.416   \n",
       "99998               35.104                11.500               3359.416   \n",
       "99999               35.104                11.500               3359.416   \n",
       "\n",
       "       Annual_Income Credit_Score  \n",
       "0          19114.120         Good  \n",
       "1          19114.120         Good  \n",
       "2          19114.120         Good  \n",
       "3          19114.120         Good  \n",
       "4          19114.120         Good  \n",
       "...              ...          ...  \n",
       "99995      39628.990         Poor  \n",
       "99996      39628.990         Poor  \n",
       "99997      39628.990         Poor  \n",
       "99998      39628.990     Standard  \n",
       "99999      39628.990         Poor  \n",
       "\n",
       "[100000 rows x 9 columns]"
      ]
     },
     "execution_count": 141,
     "metadata": {},
     "output_type": "execute_result"
    }
   ],
   "source": [
    "# we selected 8 features for final model prediciton\n",
    "df_final = df[[\n",
    "    'Credit_Mix', 'Interest_Rate', 'Outstanding_Debt', 'Delay_from_due_date', \n",
    "    'Total_EMI_per_month', 'Changed_Credit_Limit', 'Monthly_Inhand_Salary', 'Annual_Income',\n",
    "    'Credit_Score'\n",
    "]]\n",
    "df_final"
   ]
  },
  {
   "cell_type": "code",
   "execution_count": 142,
   "metadata": {
    "id": "2VM96PN75eez"
   },
   "outputs": [],
   "source": [
    "X = df_final.drop(columns='Credit_Score')\n",
    "y = df_final['Credit_Score']"
   ]
  },
  {
   "cell_type": "code",
   "execution_count": 143,
   "metadata": {
    "colab": {
     "base_uri": "https://localhost:8080/"
    },
    "id": "oCNpaf8K5kqS",
    "outputId": "025d5b8f-71fa-4824-8da2-9a2dfdb330bd"
   },
   "outputs": [
    {
     "data": {
      "text/plain": [
       "(100000, 8)"
      ]
     },
     "execution_count": 143,
     "metadata": {},
     "output_type": "execute_result"
    }
   ],
   "source": [
    "cat = X.select_dtypes(exclude=\"number\").columns.to_list()    \n",
    "enc = OrdinalEncoder(handle_unknown='use_encoded_value', unknown_value=-1)\n",
    "\n",
    "X[cat] = enc.fit_transform(X[cat])\n",
    "\n",
    "X.shape"
   ]
  },
  {
   "cell_type": "code",
   "execution_count": 144,
   "metadata": {
    "id": "aCvSiEW35mNe"
   },
   "outputs": [],
   "source": [
    "le = LabelEncoder()\n",
    "y = le.fit_transform(y)"
   ]
  },
  {
   "cell_type": "code",
   "execution_count": 145,
   "metadata": {
    "colab": {
     "base_uri": "https://localhost:8080/"
    },
    "id": "Bc5vLkby5nza",
    "outputId": "8160a6c6-be9b-4152-8641-7468c4b91065"
   },
   "outputs": [
    {
     "data": {
      "text/plain": [
       "array([1.86971805, 1.86971805, 1.86971805, ..., 1.14950456, 0.62687278,\n",
       "       1.14950456])"
      ]
     },
     "execution_count": 145,
     "metadata": {},
     "output_type": "execute_result"
    }
   ],
   "source": [
    "classes_weights = class_weight.compute_sample_weight(class_weight='balanced', y=y)\n",
    "classes_weights"
   ]
  },
  {
   "cell_type": "code",
   "execution_count": 146,
   "metadata": {
    "id": "IEiqCWe35pRE"
   },
   "outputs": [],
   "source": [
    "final_model = XGBClassifier(\n",
    "    random_state=random_state,\n",
    ")"
   ]
  },
  {
   "cell_type": "code",
   "execution_count": 147,
   "metadata": {
    "colab": {
     "base_uri": "https://localhost:8080/"
    },
    "id": "oRoiRey55q_w",
    "outputId": "ad268447-f732-44bb-d66d-8eefc464a4ee"
   },
   "outputs": [
    {
     "name": "stdout",
     "output_type": "stream",
     "text": [
      "CPU times: user 13 s, sys: 27.1 ms, total: 13 s\n",
      "Wall time: 13 s\n"
     ]
    },
    {
     "data": {
      "text/plain": [
       "XGBClassifier(objective='multi:softprob', random_state=42)"
      ]
     },
     "execution_count": 147,
     "metadata": {},
     "output_type": "execute_result"
    }
   ],
   "source": [
    "%%time\n",
    "final_model.fit(\n",
    "    X, y, \n",
    "    sample_weight=classes_weights\n",
    ")"
   ]
  },
  {
   "cell_type": "code",
   "execution_count": 148,
   "metadata": {
    "colab": {
     "base_uri": "https://localhost:8080/"
    },
    "id": "Sv4YRqyk5s1_",
    "outputId": "0fada20d-1c7f-4250-b162-df6cfca93ad0"
   },
   "outputs": [
    {
     "name": "stdout",
     "output_type": "stream",
     "text": [
      "              precision    recall  f1-score   support\n",
      "\n",
      "           0       0.50      0.85      0.63     17828\n",
      "           1       0.65      0.75      0.69     28998\n",
      "           2       0.86      0.58      0.69     53174\n",
      "\n",
      "    accuracy                           0.68    100000\n",
      "   macro avg       0.67      0.73      0.67    100000\n",
      "weighted avg       0.73      0.68      0.68    100000\n",
      "\n"
     ]
    }
   ],
   "source": [
    "y_pred = final_model.predict(X)\n",
    "\n",
    "print(classification_report(y, y_pred))"
   ]
  },
  {
   "cell_type": "code",
   "execution_count": 149,
   "metadata": {
    "colab": {
     "base_uri": "https://localhost:8080/",
     "height": 145
    },
    "id": "6gtQE5-f5wyX",
    "outputId": "1304876b-517d-4f49-d339-cff0c4f1c715"
   },
   "outputs": [
    {
     "data": {
      "text/html": [
       "\n",
       "  <div id=\"df-e12f55ff-c078-4745-a6a9-a52e240a3ce1\">\n",
       "    <div class=\"colab-df-container\">\n",
       "      <div>\n",
       "<style scoped>\n",
       "    .dataframe tbody tr th:only-of-type {\n",
       "        vertical-align: middle;\n",
       "    }\n",
       "\n",
       "    .dataframe tbody tr th {\n",
       "        vertical-align: top;\n",
       "    }\n",
       "\n",
       "    .dataframe thead th {\n",
       "        text-align: right;\n",
       "    }\n",
       "</style>\n",
       "<table border=\"1\" class=\"dataframe\">\n",
       "  <thead>\n",
       "    <tr style=\"text-align: right;\">\n",
       "      <th></th>\n",
       "      <th>Credit_Mix</th>\n",
       "      <th>Interest_Rate</th>\n",
       "      <th>Outstanding_Debt</th>\n",
       "      <th>Delay_from_due_date</th>\n",
       "      <th>Total_EMI_per_month</th>\n",
       "      <th>Changed_Credit_Limit</th>\n",
       "      <th>Monthly_Inhand_Salary</th>\n",
       "      <th>Annual_Income</th>\n",
       "    </tr>\n",
       "  </thead>\n",
       "  <tbody>\n",
       "    <tr>\n",
       "      <th>0</th>\n",
       "      <td>2.000</td>\n",
       "      <td>15</td>\n",
       "      <td>1526</td>\n",
       "      <td>12</td>\n",
       "      <td>81</td>\n",
       "      <td>5</td>\n",
       "      <td>6200</td>\n",
       "      <td>68000</td>\n",
       "    </tr>\n",
       "  </tbody>\n",
       "</table>\n",
       "</div>\n",
       "      <button class=\"colab-df-convert\" onclick=\"convertToInteractive('df-e12f55ff-c078-4745-a6a9-a52e240a3ce1')\"\n",
       "              title=\"Convert this dataframe to an interactive table.\"\n",
       "              style=\"display:none;\">\n",
       "        \n",
       "  <svg xmlns=\"http://www.w3.org/2000/svg\" height=\"24px\"viewBox=\"0 0 24 24\"\n",
       "       width=\"24px\">\n",
       "    <path d=\"M0 0h24v24H0V0z\" fill=\"none\"/>\n",
       "    <path d=\"M18.56 5.44l.94 2.06.94-2.06 2.06-.94-2.06-.94-.94-2.06-.94 2.06-2.06.94zm-11 1L8.5 8.5l.94-2.06 2.06-.94-2.06-.94L8.5 2.5l-.94 2.06-2.06.94zm10 10l.94 2.06.94-2.06 2.06-.94-2.06-.94-.94-2.06-.94 2.06-2.06.94z\"/><path d=\"M17.41 7.96l-1.37-1.37c-.4-.4-.92-.59-1.43-.59-.52 0-1.04.2-1.43.59L10.3 9.45l-7.72 7.72c-.78.78-.78 2.05 0 2.83L4 21.41c.39.39.9.59 1.41.59.51 0 1.02-.2 1.41-.59l7.78-7.78 2.81-2.81c.8-.78.8-2.07 0-2.86zM5.41 20L4 18.59l7.72-7.72 1.47 1.35L5.41 20z\"/>\n",
       "  </svg>\n",
       "      </button>\n",
       "      \n",
       "  <style>\n",
       "    .colab-df-container {\n",
       "      display:flex;\n",
       "      flex-wrap:wrap;\n",
       "      gap: 12px;\n",
       "    }\n",
       "\n",
       "    .colab-df-convert {\n",
       "      background-color: #E8F0FE;\n",
       "      border: none;\n",
       "      border-radius: 50%;\n",
       "      cursor: pointer;\n",
       "      display: none;\n",
       "      fill: #1967D2;\n",
       "      height: 32px;\n",
       "      padding: 0 0 0 0;\n",
       "      width: 32px;\n",
       "    }\n",
       "\n",
       "    .colab-df-convert:hover {\n",
       "      background-color: #E2EBFA;\n",
       "      box-shadow: 0px 1px 2px rgba(60, 64, 67, 0.3), 0px 1px 3px 1px rgba(60, 64, 67, 0.15);\n",
       "      fill: #174EA6;\n",
       "    }\n",
       "\n",
       "    [theme=dark] .colab-df-convert {\n",
       "      background-color: #3B4455;\n",
       "      fill: #D2E3FC;\n",
       "    }\n",
       "\n",
       "    [theme=dark] .colab-df-convert:hover {\n",
       "      background-color: #434B5C;\n",
       "      box-shadow: 0px 1px 3px 1px rgba(0, 0, 0, 0.15);\n",
       "      filter: drop-shadow(0px 1px 2px rgba(0, 0, 0, 0.3));\n",
       "      fill: #FFFFFF;\n",
       "    }\n",
       "  </style>\n",
       "\n",
       "      <script>\n",
       "        const buttonEl =\n",
       "          document.querySelector('#df-e12f55ff-c078-4745-a6a9-a52e240a3ce1 button.colab-df-convert');\n",
       "        buttonEl.style.display =\n",
       "          google.colab.kernel.accessAllowed ? 'block' : 'none';\n",
       "\n",
       "        async function convertToInteractive(key) {\n",
       "          const element = document.querySelector('#df-e12f55ff-c078-4745-a6a9-a52e240a3ce1');\n",
       "          const dataTable =\n",
       "            await google.colab.kernel.invokeFunction('convertToInteractive',\n",
       "                                                     [key], {});\n",
       "          if (!dataTable) return;\n",
       "\n",
       "          const docLinkHtml = 'Like what you see? Visit the ' +\n",
       "            '<a target=\"_blank\" href=https://colab.research.google.com/notebooks/data_table.ipynb>data table notebook</a>'\n",
       "            + ' to learn more about interactive tables.';\n",
       "          element.innerHTML = '';\n",
       "          dataTable['output_type'] = 'display_data';\n",
       "          await google.colab.output.renderOutput(dataTable, element);\n",
       "          const docLink = document.createElement('div');\n",
       "          docLink.innerHTML = docLinkHtml;\n",
       "          element.appendChild(docLink);\n",
       "        }\n",
       "      </script>\n",
       "    </div>\n",
       "  </div>\n",
       "  "
      ],
      "text/plain": [
       "   Credit_Mix  Interest_Rate  Outstanding_Debt  Delay_from_due_date  \\\n",
       "0       2.000             15              1526                   12   \n",
       "\n",
       "   Total_EMI_per_month  Changed_Credit_Limit  Monthly_Inhand_Salary  \\\n",
       "0                   81                     5                   6200   \n",
       "\n",
       "   Annual_Income  \n",
       "0          68000  "
      ]
     },
     "execution_count": 149,
     "metadata": {},
     "output_type": "execute_result"
    }
   ],
   "source": [
    "human_entry = {\n",
    " 'Credit_Mix': 'Standard',\n",
    " 'Interest_Rate': 15,\n",
    " 'Outstanding_Debt': 1526,\n",
    " 'Delay_from_due_date': 12,\n",
    " 'Total_EMI_per_month': 81,\n",
    " 'Changed_Credit_Limit': 5,\n",
    " 'Monthly_Inhand_Salary': 6200,\n",
    " 'Annual_Income': 68000,\n",
    "}\n",
    "human_entry = pd.DataFrame([human_entry])\n",
    "human_entry[cat] = enc.transform(human_entry[cat])\n",
    "human_entry"
   ]
  },
  {
   "cell_type": "code",
   "execution_count": 152,
   "metadata": {
    "colab": {
     "base_uri": "https://localhost:8080/"
    },
    "id": "tIso1k-z6P3f",
    "outputId": "135dc44c-88ab-4573-9bd4-38a8042bb1ce"
   },
   "outputs": [
    {
     "data": {
      "text/plain": [
       "(array([1]), array(['Poor'], dtype=object))"
      ]
     },
     "execution_count": 152,
     "metadata": {},
     "output_type": "execute_result"
    }
   ],
   "source": [
    "predict = final_model.predict(human_entry)\n",
    "predict, le.inverse_transform(predict)"
   ]
  },
  {
   "cell_type": "markdown",
   "metadata": {
    "id": "ZJA-DoHn6dhp"
   },
   "source": [
    "Prepare Model Deployment"
   ]
  },
  {
   "cell_type": "code",
   "execution_count": 153,
   "metadata": {
    "id": "IA8Ajyrc6UJj"
   },
   "outputs": [],
   "source": [
    "import pickle\n",
    "pickle.dump(final_model, open(\"final_model_credit_score_pred\", 'wb'))"
   ]
  },
  {
   "cell_type": "code",
   "execution_count": null,
   "metadata": {
    "id": "TYxQUkcX6kOn"
   },
   "outputs": [],
   "source": []
  }
 ],
 "metadata": {
  "colab": {
   "provenance": []
  },
  "kernelspec": {
   "display_name": "Python 3",
   "language": "python",
   "name": "python3"
  },
  "language_info": {
   "codemirror_mode": {
    "name": "ipython",
    "version": 3
   },
   "file_extension": ".py",
   "mimetype": "text/x-python",
   "name": "python",
   "nbconvert_exporter": "python",
   "pygments_lexer": "ipython3",
   "version": "3.6.10"
  }
 },
 "nbformat": 4,
 "nbformat_minor": 1
}
