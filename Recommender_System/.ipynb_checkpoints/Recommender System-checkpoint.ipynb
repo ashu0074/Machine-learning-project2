{
 "cells": [
  {
   "cell_type": "markdown",
   "metadata": {},
   "source": [
    "### Recommender System \n",
    "##### 3 Types\n",
    "* * content \n",
    "* * collaborative filtering\n",
    "* * Hybrid"
   ]
  },
  {
   "cell_type": "markdown",
   "metadata": {},
   "source": [
    "##### Content Filtering:- \n",
    "* In this Filtering is based on the taste/ choise of the person \n",
    "* In this it depend on the person \n",
    "* eg :- if person like to watch action movie so ott platform give them more action movie suggestion/ recommendation.\n",
    "* eg -- if person like to read sport news and bussiness news so all the bussiness news and sport news suggested "
   ]
  },
  {
   "cell_type": "markdown",
   "metadata": {},
   "source": [
    "####  Collaborative Filtering:-\n",
    "* In this Filtering occurs on the basis of  person to person .\n",
    "* If two person have same like test so they try to recommended the other person list .\n",
    "* eg:- me and my friend have same taste of music and movie so algo try to suggest me his/her movies and music list "
   ]
  },
  {
   "cell_type": "markdown",
   "metadata": {},
   "source": [
    "##### Hybrid:-\n",
    "* It is collabration of both \"Content Filtering\" and \"Collaborative Filtering\"\n"
   ]
  },
  {
   "cell_type": "code",
   "execution_count": null,
   "metadata": {},
   "outputs": [],
   "source": []
  },
  {
   "cell_type": "code",
   "execution_count": null,
   "metadata": {},
   "outputs": [],
   "source": []
  },
  {
   "cell_type": "code",
   "execution_count": null,
   "metadata": {},
   "outputs": [],
   "source": []
  }
 ],
 "metadata": {
  "kernelspec": {
   "display_name": "Python 3",
   "language": "python",
   "name": "python3"
  },
  "language_info": {
   "codemirror_mode": {
    "name": "ipython",
    "version": 3
   },
   "file_extension": ".py",
   "mimetype": "text/x-python",
   "name": "python",
   "nbconvert_exporter": "python",
   "pygments_lexer": "ipython3",
   "version": "3.6.10"
  }
 },
 "nbformat": 4,
 "nbformat_minor": 4
}
