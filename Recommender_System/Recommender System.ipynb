{
 "cells": [
  {
   "cell_type": "markdown",
   "metadata": {},
   "source": [
    "### Recommender System \n",
    "##### 3 Types\n",
    "* * content \n",
    "* * collaborative filtering\n",
    "* * Hybrid\n",
    "* * Popularity based"
   ]
  },
  {
   "cell_type": "markdown",
   "metadata": {},
   "source": [
    "**Content Filtering**:- \n",
    "* In this Filtering is based on the taste/ choise of the person \n",
    "* In this it depend on the person \n",
    "* eg :- if person like to watch action movie so ott platform give them more action movie suggestion/ recommendation.\n",
    "* eg -- if person like to read sport news and bussiness news so all the bussiness news and sport news suggested "
   ]
  },
  {
   "cell_type": "markdown",
   "metadata": {},
   "source": [
    "**Collaborative Filtering**:-\n",
    "* In this Filtering occurs on the basis of  person to person .\n",
    "* If two person have same like test so they try to recommended the other person list .\n",
    "* In case User ne iteam so kitna rate kiya unke bases per apne recommendation kerte h \n",
    "* eg:- me and my friend have same taste of music and movie so algo try to suggest me his/her movies and music list \n",
    "* **vector data --> find the distance b/w vector**\n",
    "* less distance --- high simillarity\n",
    "* large distance --- less simillarity"
   ]
  },
  {
   "cell_type": "markdown",
   "metadata": {},
   "source": [
    "**Hybrid**:-\n",
    "* It is collabration of all **\"Content Filtering\"**, **Popularity based**, and **\"Collaborative Filtering\"**\n",
    "* merge the result -> 3 ouput merge and find out final result\n"
   ]
  },
  {
   "cell_type": "markdown",
   "metadata": {},
   "source": [
    "**Popularity Based**\n",
    "* Patform per best or popular thing ko surface per lana taki sabhi usse dekh paye\n",
    "* based on the **Formula**\n",
    "* eg:- Trending\n",
    "* IMDb - top 250 movies"
   ]
  },
  {
   "cell_type": "code",
   "execution_count": null,
   "metadata": {},
   "outputs": [],
   "source": []
  },
  {
   "cell_type": "code",
   "execution_count": null,
   "metadata": {},
   "outputs": [],
   "source": []
  }
 ],
 "metadata": {
  "kernelspec": {
   "display_name": "Python 3",
   "language": "python",
   "name": "python3"
  },
  "language_info": {
   "codemirror_mode": {
    "name": "ipython",
    "version": 3
   },
   "file_extension": ".py",
   "mimetype": "text/x-python",
   "name": "python",
   "nbconvert_exporter": "python",
   "pygments_lexer": "ipython3",
   "version": "3.6.10"
  }
 },
 "nbformat": 4,
 "nbformat_minor": 4
}
